{
 "cells": [
  {
   "cell_type": "code",
   "execution_count": 1,
   "metadata": {},
   "outputs": [],
   "source": [
    "import pandas as pd \n",
    "import numpy as np\n",
    "import matplotlib.pyplot as plt\n",
    "import seaborn as sns\n",
    "import warnings"
   ]
  },
  {
   "cell_type": "code",
   "execution_count": 2,
   "metadata": {},
   "outputs": [],
   "source": [
    "def disable_pandas_warnings():\n",
    "    warnings.resetwarnings()  # Maybe somebody else is messing with the warnings system?\n",
    "    warnings.filterwarnings('ignore')  # Ignore everything\n",
    "    # ignore everything does not work: ignore specific messages, using regex\n",
    "    warnings.filterwarnings('ignore', '.A value is trying to be set on a copy of a slice from a DataFrame.')\n",
    "    warnings.filterwarnings('ignore', '.indexing past lexsort depth may impact performance')\n",
    "disable_pandas_warnings()"
   ]
  },
  {
   "cell_type": "code",
   "execution_count": 3,
   "metadata": {},
   "outputs": [
    {
     "data": {
      "text/html": [
       "<div>\n",
       "<style scoped>\n",
       "    .dataframe tbody tr th:only-of-type {\n",
       "        vertical-align: middle;\n",
       "    }\n",
       "\n",
       "    .dataframe tbody tr th {\n",
       "        vertical-align: top;\n",
       "    }\n",
       "\n",
       "    .dataframe thead th {\n",
       "        text-align: right;\n",
       "    }\n",
       "</style>\n",
       "<table border=\"1\" class=\"dataframe\">\n",
       "  <thead>\n",
       "    <tr style=\"text-align: right;\">\n",
       "      <th></th>\n",
       "      <th>Unnamed: 0</th>\n",
       "      <th>Year</th>\n",
       "      <th>Disaster Subgroup</th>\n",
       "      <th>Disaster Type</th>\n",
       "      <th>Country</th>\n",
       "      <th>ISO</th>\n",
       "      <th>Region</th>\n",
       "      <th>Start Year</th>\n",
       "      <th>Start Month</th>\n",
       "      <th>Start Day</th>\n",
       "      <th>End Year</th>\n",
       "      <th>End Month</th>\n",
       "      <th>End Day</th>\n",
       "      <th>Total Affected</th>\n",
       "    </tr>\n",
       "  </thead>\n",
       "  <tbody>\n",
       "    <tr>\n",
       "      <th>0</th>\n",
       "      <td>0</td>\n",
       "      <td>1990</td>\n",
       "      <td>Meteorological</td>\n",
       "      <td>Storm</td>\n",
       "      <td>Austria</td>\n",
       "      <td>AUT</td>\n",
       "      <td>Western Europe</td>\n",
       "      <td>1990</td>\n",
       "      <td>5.0</td>\n",
       "      <td>22.0</td>\n",
       "      <td>1990</td>\n",
       "      <td>5.0</td>\n",
       "      <td>22.0</td>\n",
       "      <td>NaN</td>\n",
       "    </tr>\n",
       "    <tr>\n",
       "      <th>1</th>\n",
       "      <td>1</td>\n",
       "      <td>1990</td>\n",
       "      <td>Meteorological</td>\n",
       "      <td>Storm</td>\n",
       "      <td>Austria</td>\n",
       "      <td>AUT</td>\n",
       "      <td>Western Europe</td>\n",
       "      <td>1990</td>\n",
       "      <td>7.0</td>\n",
       "      <td>1.0</td>\n",
       "      <td>1990</td>\n",
       "      <td>7.0</td>\n",
       "      <td>1.0</td>\n",
       "      <td>NaN</td>\n",
       "    </tr>\n",
       "    <tr>\n",
       "      <th>2</th>\n",
       "      <td>2</td>\n",
       "      <td>1990</td>\n",
       "      <td>Meteorological</td>\n",
       "      <td>Storm</td>\n",
       "      <td>Austria</td>\n",
       "      <td>AUT</td>\n",
       "      <td>Western Europe</td>\n",
       "      <td>1990</td>\n",
       "      <td>2.0</td>\n",
       "      <td>13.0</td>\n",
       "      <td>1990</td>\n",
       "      <td>2.0</td>\n",
       "      <td>15.0</td>\n",
       "      <td>NaN</td>\n",
       "    </tr>\n",
       "    <tr>\n",
       "      <th>3</th>\n",
       "      <td>3</td>\n",
       "      <td>1990</td>\n",
       "      <td>Meteorological</td>\n",
       "      <td>Storm</td>\n",
       "      <td>Austria</td>\n",
       "      <td>AUT</td>\n",
       "      <td>Western Europe</td>\n",
       "      <td>1990</td>\n",
       "      <td>2.0</td>\n",
       "      <td>25.0</td>\n",
       "      <td>1990</td>\n",
       "      <td>2.0</td>\n",
       "      <td>27.0</td>\n",
       "      <td>NaN</td>\n",
       "    </tr>\n",
       "    <tr>\n",
       "      <th>4</th>\n",
       "      <td>4</td>\n",
       "      <td>1990</td>\n",
       "      <td>Meteorological</td>\n",
       "      <td>Storm</td>\n",
       "      <td>Austria</td>\n",
       "      <td>AUT</td>\n",
       "      <td>Western Europe</td>\n",
       "      <td>1990</td>\n",
       "      <td>2.0</td>\n",
       "      <td>28.0</td>\n",
       "      <td>1990</td>\n",
       "      <td>3.0</td>\n",
       "      <td>1.0</td>\n",
       "      <td>NaN</td>\n",
       "    </tr>\n",
       "  </tbody>\n",
       "</table>\n",
       "</div>"
      ],
      "text/plain": [
       "   Unnamed: 0  Year Disaster Subgroup Disaster Type  Country  ISO  \\\n",
       "0           0  1990    Meteorological         Storm  Austria  AUT   \n",
       "1           1  1990    Meteorological         Storm  Austria  AUT   \n",
       "2           2  1990    Meteorological         Storm  Austria  AUT   \n",
       "3           3  1990    Meteorological         Storm  Austria  AUT   \n",
       "4           4  1990    Meteorological         Storm  Austria  AUT   \n",
       "\n",
       "           Region  Start Year  Start Month  Start Day  End Year  End Month  \\\n",
       "0  Western Europe        1990          5.0       22.0      1990        5.0   \n",
       "1  Western Europe        1990          7.0        1.0      1990        7.0   \n",
       "2  Western Europe        1990          2.0       13.0      1990        2.0   \n",
       "3  Western Europe        1990          2.0       25.0      1990        2.0   \n",
       "4  Western Europe        1990          2.0       28.0      1990        3.0   \n",
       "\n",
       "   End Day  Total Affected  \n",
       "0     22.0             NaN  \n",
       "1      1.0             NaN  \n",
       "2     15.0             NaN  \n",
       "3     27.0             NaN  \n",
       "4      1.0             NaN  "
      ]
     },
     "execution_count": 3,
     "metadata": {},
     "output_type": "execute_result"
    }
   ],
   "source": [
    "disasters = pd.read_csv('dataSets\\\\disasters.csv')\n",
    "disasters.head()"
   ]
  },
  {
   "cell_type": "code",
   "execution_count": 4,
   "metadata": {},
   "outputs": [],
   "source": [
    "disasters.drop('Unnamed: 0', axis=1, inplace=True)"
   ]
  },
  {
   "cell_type": "code",
   "execution_count": 5,
   "metadata": {},
   "outputs": [
    {
     "name": "stdout",
     "output_type": "stream",
     "text": [
      "<class 'pandas.core.frame.DataFrame'>\n",
      "RangeIndex: 12853 entries, 0 to 12852\n",
      "Data columns (total 13 columns):\n",
      " #   Column             Non-Null Count  Dtype  \n",
      "---  ------             --------------  -----  \n",
      " 0   Year               12853 non-null  int64  \n",
      " 1   Disaster Subgroup  12853 non-null  object \n",
      " 2   Disaster Type      12853 non-null  object \n",
      " 3   Country            12853 non-null  object \n",
      " 4   ISO                12853 non-null  object \n",
      " 5   Region             12853 non-null  object \n",
      " 6   Start Year         12853 non-null  int64  \n",
      " 7   Start Month        12746 non-null  float64\n",
      " 8   Start Day          10878 non-null  float64\n",
      " 9   End Year           12853 non-null  int64  \n",
      " 10  End Month          12564 non-null  float64\n",
      " 11  End Day            10951 non-null  float64\n",
      " 12  Total Affected     9916 non-null   float64\n",
      "dtypes: float64(5), int64(3), object(5)\n",
      "memory usage: 1.3+ MB\n"
     ]
    }
   ],
   "source": [
    "disasters.info()"
   ]
  },
  {
   "cell_type": "markdown",
   "metadata": {},
   "source": [
    "### ELiminamos espacios en blanco de los nombres de las columnas y las pasamos a minúscula"
   ]
  },
  {
   "cell_type": "code",
   "execution_count": 6,
   "metadata": {},
   "outputs": [],
   "source": [
    "disasters.columns = disasters.columns.str.replace(' ', '_').str.lower()"
   ]
  },
  {
   "cell_type": "markdown",
   "metadata": {},
   "source": [
    "Eliminamos todos los datos posteriores al 2020, dado que sobrepasan el scope de nuestro trabajo y no todos los datasets los tienen."
   ]
  },
  {
   "cell_type": "code",
   "execution_count": 7,
   "metadata": {},
   "outputs": [],
   "source": [
    "disasters = disasters[disasters['year']< 2021]\n",
    "disasters = disasters[disasters['end_year']< 2021]\n",
    "disasters = disasters[disasters['start_year']<2021]"
   ]
  },
  {
   "cell_type": "code",
   "execution_count": 8,
   "metadata": {},
   "outputs": [
    {
     "data": {
      "text/plain": [
       "array(['Western Europe', 'Eastern Europe', 'Northern Europe',\n",
       "       'Southern Europe', 'Russian Federation', 'Southern Asia',\n",
       "       'Eastern Asia', 'Western Asia', 'South-Eastern Asia',\n",
       "       'Central Asia', 'Australia and New Zealand', 'Polynesia',\n",
       "       'Melanesia', 'Micronesia', 'South America', 'Caribbean',\n",
       "       'Central America', 'Northern America', 'Middle Africa',\n",
       "       'Western Africa', 'Southern Africa', 'Eastern Africa',\n",
       "       'Northern Africa'], dtype=object)"
      ]
     },
     "execution_count": 8,
     "metadata": {},
     "output_type": "execute_result"
    }
   ],
   "source": [
    "disasters.region.unique()"
   ]
  },
  {
   "cell_type": "code",
   "execution_count": 9,
   "metadata": {},
   "outputs": [
    {
     "name": "stdout",
     "output_type": "stream",
     "text": [
      "<class 'pandas.core.frame.DataFrame'>\n",
      "Int64Index: 12388 entries, 0 to 12850\n",
      "Data columns (total 13 columns):\n",
      " #   Column             Non-Null Count  Dtype  \n",
      "---  ------             --------------  -----  \n",
      " 0   year               12388 non-null  int64  \n",
      " 1   disaster_subgroup  12388 non-null  object \n",
      " 2   disaster_type      12388 non-null  object \n",
      " 3   country            12388 non-null  object \n",
      " 4   iso                12388 non-null  object \n",
      " 5   region             12388 non-null  object \n",
      " 6   start_year         12388 non-null  int64  \n",
      " 7   start_month        12285 non-null  float64\n",
      " 8   start_day          10446 non-null  float64\n",
      " 9   end_year           12388 non-null  int64  \n",
      " 10  end_month          12099 non-null  float64\n",
      " 11  end_day            10515 non-null  float64\n",
      " 12  total_affected     9519 non-null   float64\n",
      "dtypes: float64(5), int64(3), object(5)\n",
      "memory usage: 1.3+ MB\n"
     ]
    }
   ],
   "source": [
    "disasters.info()"
   ]
  },
  {
   "cell_type": "code",
   "execution_count": 10,
   "metadata": {},
   "outputs": [
    {
     "data": {
      "text/plain": [
       "15.119470455279302"
      ]
     },
     "execution_count": 10,
     "metadata": {},
     "output_type": "execute_result"
    }
   ],
   "source": [
    "disasters.end_day.isna().mean()*100"
   ]
  },
  {
   "cell_type": "markdown",
   "metadata": {},
   "source": [
    "### Rellenamos progesivamente los valores nulos de las columnas 'end_day', 'start_day', 'end_month' y 'start_month'"
   ]
  },
  {
   "cell_type": "markdown",
   "metadata": {},
   "source": [
    "**Para 'end_day', primero filtramos por region, subgrupo de desaste y mes de finalización y le aplicamos el promedio de los datos existentes de 'end_day' que responden a esos filtros.**"
   ]
  },
  {
   "cell_type": "code",
   "execution_count": 11,
   "metadata": {},
   "outputs": [],
   "source": [
    "disasters['end_day'] = disasters.groupby(['region', 'disaster_subgroup', 'end_month'],sort=False)['end_day'].apply(lambda x: x.fillna(x.mean()))"
   ]
  },
  {
   "cell_type": "code",
   "execution_count": 12,
   "metadata": {},
   "outputs": [
    {
     "data": {
      "text/plain": [
       "3.9070067807555695"
      ]
     },
     "execution_count": 12,
     "metadata": {},
     "output_type": "execute_result"
    }
   ],
   "source": [
    "disasters.end_day.isna().mean()*100"
   ]
  },
  {
   "cell_type": "markdown",
   "metadata": {},
   "source": [
    "**Hacemos lo mismo para la columna 'start_day'**"
   ]
  },
  {
   "cell_type": "code",
   "execution_count": 13,
   "metadata": {},
   "outputs": [],
   "source": [
    "disasters['start_day'] = disasters.groupby(['region', 'disaster_subgroup', 'start_month'],sort=False)['start_day'].apply(lambda x: x.fillna(x.mean()))"
   ]
  },
  {
   "cell_type": "code",
   "execution_count": 14,
   "metadata": {},
   "outputs": [
    {
     "data": {
      "text/plain": [
       "3.672909267032612"
      ]
     },
     "execution_count": 14,
     "metadata": {},
     "output_type": "execute_result"
    }
   ],
   "source": [
    "disasters.start_day.isna().mean()*100"
   ]
  },
  {
   "cell_type": "markdown",
   "metadata": {},
   "source": [
    "**Ahora, para los nulos restantes en la columna 'end_year', imputamos la media de los valores existentes en esa columna filtrados por año y subgrupo de desastre**"
   ]
  },
  {
   "cell_type": "code",
   "execution_count": 15,
   "metadata": {},
   "outputs": [],
   "source": [
    "disasters['end_day'] = disasters.groupby(['end_year', 'disaster_subgroup'],sort=False)['end_day'].apply(lambda x: x.fillna(x.mean()))"
   ]
  },
  {
   "cell_type": "markdown",
   "metadata": {},
   "source": [
    "**Lo mismo hacemos para los valores faltantes de la columna 'end_month'**"
   ]
  },
  {
   "cell_type": "code",
   "execution_count": 16,
   "metadata": {},
   "outputs": [],
   "source": [
    "disasters['end_month'] = disasters.groupby(['end_year', 'disaster_subgroup'],sort=False)['end_month'].apply(lambda x: x.fillna(x.mean()))"
   ]
  },
  {
   "cell_type": "code",
   "execution_count": 17,
   "metadata": {},
   "outputs": [
    {
     "name": "stdout",
     "output_type": "stream",
     "text": [
      "<class 'pandas.core.frame.DataFrame'>\n",
      "Int64Index: 12388 entries, 0 to 12850\n",
      "Data columns (total 13 columns):\n",
      " #   Column             Non-Null Count  Dtype  \n",
      "---  ------             --------------  -----  \n",
      " 0   year               12388 non-null  int64  \n",
      " 1   disaster_subgroup  12388 non-null  object \n",
      " 2   disaster_type      12388 non-null  object \n",
      " 3   country            12388 non-null  object \n",
      " 4   iso                12388 non-null  object \n",
      " 5   region             12388 non-null  object \n",
      " 6   start_year         12388 non-null  int64  \n",
      " 7   start_month        12285 non-null  float64\n",
      " 8   start_day          11933 non-null  float64\n",
      " 9   end_year           12388 non-null  int64  \n",
      " 10  end_month          12388 non-null  float64\n",
      " 11  end_day            12388 non-null  float64\n",
      " 12  total_affected     9519 non-null   float64\n",
      "dtypes: float64(5), int64(3), object(5)\n",
      "memory usage: 1.3+ MB\n"
     ]
    }
   ],
   "source": [
    "disasters.info()"
   ]
  },
  {
   "cell_type": "markdown",
   "metadata": {},
   "source": [
    "**Y ahora con la columna 'start_day'**"
   ]
  },
  {
   "cell_type": "code",
   "execution_count": 18,
   "metadata": {},
   "outputs": [],
   "source": [
    "disasters['start_day'] = disasters.groupby(['start_year', 'disaster_subgroup'],sort=False)['start_day'].apply(lambda x: x.fillna(x.mean()))"
   ]
  },
  {
   "cell_type": "code",
   "execution_count": 19,
   "metadata": {},
   "outputs": [
    {
     "name": "stdout",
     "output_type": "stream",
     "text": [
      "<class 'pandas.core.frame.DataFrame'>\n",
      "Int64Index: 12388 entries, 0 to 12850\n",
      "Data columns (total 13 columns):\n",
      " #   Column             Non-Null Count  Dtype  \n",
      "---  ------             --------------  -----  \n",
      " 0   year               12388 non-null  int64  \n",
      " 1   disaster_subgroup  12388 non-null  object \n",
      " 2   disaster_type      12388 non-null  object \n",
      " 3   country            12388 non-null  object \n",
      " 4   iso                12388 non-null  object \n",
      " 5   region             12388 non-null  object \n",
      " 6   start_year         12388 non-null  int64  \n",
      " 7   start_month        12285 non-null  float64\n",
      " 8   start_day          12388 non-null  float64\n",
      " 9   end_year           12388 non-null  int64  \n",
      " 10  end_month          12388 non-null  float64\n",
      " 11  end_day            12388 non-null  float64\n",
      " 12  total_affected     9519 non-null   float64\n",
      "dtypes: float64(5), int64(3), object(5)\n",
      "memory usage: 1.3+ MB\n"
     ]
    }
   ],
   "source": [
    "disasters.info()"
   ]
  },
  {
   "cell_type": "code",
   "execution_count": 20,
   "metadata": {},
   "outputs": [],
   "source": [
    "disasters['start_month'] = disasters.groupby(['start_year', 'disaster_subgroup'],sort=False)['start_month'].apply(lambda x: x.fillna(x.mean()))"
   ]
  },
  {
   "cell_type": "code",
   "execution_count": 21,
   "metadata": {},
   "outputs": [
    {
     "name": "stdout",
     "output_type": "stream",
     "text": [
      "<class 'pandas.core.frame.DataFrame'>\n",
      "Int64Index: 12388 entries, 0 to 12850\n",
      "Data columns (total 13 columns):\n",
      " #   Column             Non-Null Count  Dtype  \n",
      "---  ------             --------------  -----  \n",
      " 0   year               12388 non-null  int64  \n",
      " 1   disaster_subgroup  12388 non-null  object \n",
      " 2   disaster_type      12388 non-null  object \n",
      " 3   country            12388 non-null  object \n",
      " 4   iso                12388 non-null  object \n",
      " 5   region             12388 non-null  object \n",
      " 6   start_year         12388 non-null  int64  \n",
      " 7   start_month        12388 non-null  float64\n",
      " 8   start_day          12388 non-null  float64\n",
      " 9   end_year           12388 non-null  int64  \n",
      " 10  end_month          12388 non-null  float64\n",
      " 11  end_day            12388 non-null  float64\n",
      " 12  total_affected     9519 non-null   float64\n",
      "dtypes: float64(5), int64(3), object(5)\n",
      "memory usage: 1.3+ MB\n"
     ]
    }
   ],
   "source": [
    "disasters.info()"
   ]
  },
  {
   "cell_type": "code",
   "execution_count": 22,
   "metadata": {},
   "outputs": [
    {
     "data": {
      "text/plain": [
       "23.159509202453986"
      ]
     },
     "execution_count": 22,
     "metadata": {},
     "output_type": "execute_result"
    }
   ],
   "source": [
    "disasters.total_affected.isna().mean()*100"
   ]
  },
  {
   "cell_type": "markdown",
   "metadata": {},
   "source": [
    "**Para completar los nulos de la columna de total de afectados, filtramos por región y por subgrupo de desastre e imputamos la mediana del total de afectados existente** "
   ]
  },
  {
   "cell_type": "code",
   "execution_count": 23,
   "metadata": {},
   "outputs": [],
   "source": [
    "disasters['total_affected'] = disasters.groupby(['region', 'disaster_subgroup'],sort=False)['total_affected'].apply(lambda x: x.fillna(x.median()))"
   ]
  },
  {
   "cell_type": "code",
   "execution_count": 24,
   "metadata": {},
   "outputs": [
    {
     "name": "stdout",
     "output_type": "stream",
     "text": [
      "<class 'pandas.core.frame.DataFrame'>\n",
      "Int64Index: 12388 entries, 0 to 12850\n",
      "Data columns (total 13 columns):\n",
      " #   Column             Non-Null Count  Dtype  \n",
      "---  ------             --------------  -----  \n",
      " 0   year               12388 non-null  int64  \n",
      " 1   disaster_subgroup  12388 non-null  object \n",
      " 2   disaster_type      12388 non-null  object \n",
      " 3   country            12388 non-null  object \n",
      " 4   iso                12388 non-null  object \n",
      " 5   region             12388 non-null  object \n",
      " 6   start_year         12388 non-null  int64  \n",
      " 7   start_month        12388 non-null  float64\n",
      " 8   start_day          12388 non-null  float64\n",
      " 9   end_year           12388 non-null  int64  \n",
      " 10  end_month          12388 non-null  float64\n",
      " 11  end_day            12388 non-null  float64\n",
      " 12  total_affected     12378 non-null  float64\n",
      "dtypes: float64(5), int64(3), object(5)\n",
      "memory usage: 1.3+ MB\n"
     ]
    }
   ],
   "source": [
    "disasters.info()"
   ]
  },
  {
   "cell_type": "code",
   "execution_count": 25,
   "metadata": {},
   "outputs": [
    {
     "data": {
      "text/plain": [
       "0.08072328059412334"
      ]
     },
     "execution_count": 25,
     "metadata": {},
     "output_type": "execute_result"
    }
   ],
   "source": [
    "disasters.total_affected.isna().mean()*100"
   ]
  },
  {
   "cell_type": "markdown",
   "metadata": {},
   "source": [
    "**Para terminar, imputamos la mediana del subgrupo de desastre correspondiente**"
   ]
  },
  {
   "cell_type": "code",
   "execution_count": 26,
   "metadata": {},
   "outputs": [],
   "source": [
    "disasters['total_affected'] = disasters.groupby( 'disaster_subgroup',sort=False)['total_affected'].apply(lambda x: x.fillna(x.median()))"
   ]
  },
  {
   "cell_type": "code",
   "execution_count": 27,
   "metadata": {},
   "outputs": [
    {
     "name": "stdout",
     "output_type": "stream",
     "text": [
      "<class 'pandas.core.frame.DataFrame'>\n",
      "Int64Index: 12388 entries, 0 to 12850\n",
      "Data columns (total 13 columns):\n",
      " #   Column             Non-Null Count  Dtype  \n",
      "---  ------             --------------  -----  \n",
      " 0   year               12388 non-null  int64  \n",
      " 1   disaster_subgroup  12388 non-null  object \n",
      " 2   disaster_type      12388 non-null  object \n",
      " 3   country            12388 non-null  object \n",
      " 4   iso                12388 non-null  object \n",
      " 5   region             12388 non-null  object \n",
      " 6   start_year         12388 non-null  int64  \n",
      " 7   start_month        12388 non-null  float64\n",
      " 8   start_day          12388 non-null  float64\n",
      " 9   end_year           12388 non-null  int64  \n",
      " 10  end_month          12388 non-null  float64\n",
      " 11  end_day            12388 non-null  float64\n",
      " 12  total_affected     12388 non-null  float64\n",
      "dtypes: float64(5), int64(3), object(5)\n",
      "memory usage: 1.3+ MB\n"
     ]
    }
   ],
   "source": [
    "disasters.info()"
   ]
  },
  {
   "cell_type": "markdown",
   "metadata": {},
   "source": [
    "**Creamos las columnas 'start_date' y 'end_date' en formato datetime a partir de las columnas 'start_day', 'start_month', 'end_day', 'end_month', 'start_year', 'end_year'. Previamente, convetimos en integer las que eran de tipo float.**"
   ]
  },
  {
   "cell_type": "code",
   "execution_count": 28,
   "metadata": {},
   "outputs": [],
   "source": [
    "disasters[['start_day', 'start_month', 'end_day', 'end_month']] = disasters[['start_day', 'start_month', 'end_day', 'end_month']].astype(int)"
   ]
  },
  {
   "cell_type": "code",
   "execution_count": 29,
   "metadata": {},
   "outputs": [
    {
     "data": {
      "text/html": [
       "<div>\n",
       "<style scoped>\n",
       "    .dataframe tbody tr th:only-of-type {\n",
       "        vertical-align: middle;\n",
       "    }\n",
       "\n",
       "    .dataframe tbody tr th {\n",
       "        vertical-align: top;\n",
       "    }\n",
       "\n",
       "    .dataframe thead th {\n",
       "        text-align: right;\n",
       "    }\n",
       "</style>\n",
       "<table border=\"1\" class=\"dataframe\">\n",
       "  <thead>\n",
       "    <tr style=\"text-align: right;\">\n",
       "      <th></th>\n",
       "      <th>year</th>\n",
       "      <th>disaster_subgroup</th>\n",
       "      <th>disaster_type</th>\n",
       "      <th>country</th>\n",
       "      <th>iso</th>\n",
       "      <th>region</th>\n",
       "      <th>start_year</th>\n",
       "      <th>start_month</th>\n",
       "      <th>start_day</th>\n",
       "      <th>end_year</th>\n",
       "      <th>end_month</th>\n",
       "      <th>end_day</th>\n",
       "      <th>total_affected</th>\n",
       "    </tr>\n",
       "  </thead>\n",
       "  <tbody>\n",
       "    <tr>\n",
       "      <th>0</th>\n",
       "      <td>1990</td>\n",
       "      <td>Meteorological</td>\n",
       "      <td>Storm</td>\n",
       "      <td>Austria</td>\n",
       "      <td>AUT</td>\n",
       "      <td>Western Europe</td>\n",
       "      <td>1990</td>\n",
       "      <td>5</td>\n",
       "      <td>22</td>\n",
       "      <td>1990</td>\n",
       "      <td>5</td>\n",
       "      <td>22</td>\n",
       "      <td>130.0</td>\n",
       "    </tr>\n",
       "    <tr>\n",
       "      <th>1</th>\n",
       "      <td>1990</td>\n",
       "      <td>Meteorological</td>\n",
       "      <td>Storm</td>\n",
       "      <td>Austria</td>\n",
       "      <td>AUT</td>\n",
       "      <td>Western Europe</td>\n",
       "      <td>1990</td>\n",
       "      <td>7</td>\n",
       "      <td>1</td>\n",
       "      <td>1990</td>\n",
       "      <td>7</td>\n",
       "      <td>1</td>\n",
       "      <td>130.0</td>\n",
       "    </tr>\n",
       "    <tr>\n",
       "      <th>2</th>\n",
       "      <td>1990</td>\n",
       "      <td>Meteorological</td>\n",
       "      <td>Storm</td>\n",
       "      <td>Austria</td>\n",
       "      <td>AUT</td>\n",
       "      <td>Western Europe</td>\n",
       "      <td>1990</td>\n",
       "      <td>2</td>\n",
       "      <td>13</td>\n",
       "      <td>1990</td>\n",
       "      <td>2</td>\n",
       "      <td>15</td>\n",
       "      <td>130.0</td>\n",
       "    </tr>\n",
       "    <tr>\n",
       "      <th>3</th>\n",
       "      <td>1990</td>\n",
       "      <td>Meteorological</td>\n",
       "      <td>Storm</td>\n",
       "      <td>Austria</td>\n",
       "      <td>AUT</td>\n",
       "      <td>Western Europe</td>\n",
       "      <td>1990</td>\n",
       "      <td>2</td>\n",
       "      <td>25</td>\n",
       "      <td>1990</td>\n",
       "      <td>2</td>\n",
       "      <td>27</td>\n",
       "      <td>130.0</td>\n",
       "    </tr>\n",
       "    <tr>\n",
       "      <th>4</th>\n",
       "      <td>1990</td>\n",
       "      <td>Meteorological</td>\n",
       "      <td>Storm</td>\n",
       "      <td>Austria</td>\n",
       "      <td>AUT</td>\n",
       "      <td>Western Europe</td>\n",
       "      <td>1990</td>\n",
       "      <td>2</td>\n",
       "      <td>28</td>\n",
       "      <td>1990</td>\n",
       "      <td>3</td>\n",
       "      <td>1</td>\n",
       "      <td>130.0</td>\n",
       "    </tr>\n",
       "  </tbody>\n",
       "</table>\n",
       "</div>"
      ],
      "text/plain": [
       "   year disaster_subgroup disaster_type  country  iso          region  \\\n",
       "0  1990    Meteorological         Storm  Austria  AUT  Western Europe   \n",
       "1  1990    Meteorological         Storm  Austria  AUT  Western Europe   \n",
       "2  1990    Meteorological         Storm  Austria  AUT  Western Europe   \n",
       "3  1990    Meteorological         Storm  Austria  AUT  Western Europe   \n",
       "4  1990    Meteorological         Storm  Austria  AUT  Western Europe   \n",
       "\n",
       "   start_year  start_month  start_day  end_year  end_month  end_day  \\\n",
       "0        1990            5         22      1990          5       22   \n",
       "1        1990            7          1      1990          7        1   \n",
       "2        1990            2         13      1990          2       15   \n",
       "3        1990            2         25      1990          2       27   \n",
       "4        1990            2         28      1990          3        1   \n",
       "\n",
       "   total_affected  \n",
       "0           130.0  \n",
       "1           130.0  \n",
       "2           130.0  \n",
       "3           130.0  \n",
       "4           130.0  "
      ]
     },
     "execution_count": 29,
     "metadata": {},
     "output_type": "execute_result"
    }
   ],
   "source": [
    "disasters.head()"
   ]
  },
  {
   "cell_type": "code",
   "execution_count": 30,
   "metadata": {},
   "outputs": [
    {
     "data": {
      "text/html": [
       "<div>\n",
       "<style scoped>\n",
       "    .dataframe tbody tr th:only-of-type {\n",
       "        vertical-align: middle;\n",
       "    }\n",
       "\n",
       "    .dataframe tbody tr th {\n",
       "        vertical-align: top;\n",
       "    }\n",
       "\n",
       "    .dataframe thead th {\n",
       "        text-align: right;\n",
       "    }\n",
       "</style>\n",
       "<table border=\"1\" class=\"dataframe\">\n",
       "  <thead>\n",
       "    <tr style=\"text-align: right;\">\n",
       "      <th></th>\n",
       "      <th>year</th>\n",
       "      <th>disaster_subgroup</th>\n",
       "      <th>disaster_type</th>\n",
       "      <th>country</th>\n",
       "      <th>iso</th>\n",
       "      <th>region</th>\n",
       "      <th>start_year</th>\n",
       "      <th>start_month</th>\n",
       "      <th>start_day</th>\n",
       "      <th>end_year</th>\n",
       "      <th>end_month</th>\n",
       "      <th>end_day</th>\n",
       "      <th>total_affected</th>\n",
       "    </tr>\n",
       "  </thead>\n",
       "  <tbody>\n",
       "    <tr>\n",
       "      <th>12820</th>\n",
       "      <td>2020</td>\n",
       "      <td>Hydrological</td>\n",
       "      <td>Flood</td>\n",
       "      <td>Zambia</td>\n",
       "      <td>ZMB</td>\n",
       "      <td>Eastern Africa</td>\n",
       "      <td>2020</td>\n",
       "      <td>1</td>\n",
       "      <td>13</td>\n",
       "      <td>2020</td>\n",
       "      <td>1</td>\n",
       "      <td>17</td>\n",
       "      <td>1500.0</td>\n",
       "    </tr>\n",
       "    <tr>\n",
       "      <th>12821</th>\n",
       "      <td>2020</td>\n",
       "      <td>Hydrological</td>\n",
       "      <td>Flood</td>\n",
       "      <td>Zambia</td>\n",
       "      <td>ZMB</td>\n",
       "      <td>Eastern Africa</td>\n",
       "      <td>2020</td>\n",
       "      <td>3</td>\n",
       "      <td>20</td>\n",
       "      <td>2020</td>\n",
       "      <td>3</td>\n",
       "      <td>26</td>\n",
       "      <td>700000.0</td>\n",
       "    </tr>\n",
       "    <tr>\n",
       "      <th>12822</th>\n",
       "      <td>2020</td>\n",
       "      <td>Hydrological</td>\n",
       "      <td>Flood</td>\n",
       "      <td>South Sudan</td>\n",
       "      <td>SSD</td>\n",
       "      <td>Northern Africa</td>\n",
       "      <td>2020</td>\n",
       "      <td>7</td>\n",
       "      <td>13</td>\n",
       "      <td>2020</td>\n",
       "      <td>12</td>\n",
       "      <td>17</td>\n",
       "      <td>1042000.0</td>\n",
       "    </tr>\n",
       "    <tr>\n",
       "      <th>12849</th>\n",
       "      <td>2019</td>\n",
       "      <td>Biological</td>\n",
       "      <td>Epidemic</td>\n",
       "      <td>Sudan (the)</td>\n",
       "      <td>SDN</td>\n",
       "      <td>Northern Africa</td>\n",
       "      <td>2019</td>\n",
       "      <td>4</td>\n",
       "      <td>10</td>\n",
       "      <td>2019</td>\n",
       "      <td>12</td>\n",
       "      <td>11</td>\n",
       "      <td>2098.0</td>\n",
       "    </tr>\n",
       "    <tr>\n",
       "      <th>12850</th>\n",
       "      <td>2020</td>\n",
       "      <td>Biological</td>\n",
       "      <td>Epidemic</td>\n",
       "      <td>Sudan (the)</td>\n",
       "      <td>SDN</td>\n",
       "      <td>Northern Africa</td>\n",
       "      <td>2020</td>\n",
       "      <td>3</td>\n",
       "      <td>9</td>\n",
       "      <td>2020</td>\n",
       "      <td>12</td>\n",
       "      <td>11</td>\n",
       "      <td>2137.0</td>\n",
       "    </tr>\n",
       "  </tbody>\n",
       "</table>\n",
       "</div>"
      ],
      "text/plain": [
       "       year disaster_subgroup disaster_type      country  iso  \\\n",
       "12820  2020      Hydrological         Flood       Zambia  ZMB   \n",
       "12821  2020      Hydrological         Flood       Zambia  ZMB   \n",
       "12822  2020      Hydrological         Flood  South Sudan  SSD   \n",
       "12849  2019        Biological      Epidemic  Sudan (the)  SDN   \n",
       "12850  2020        Biological      Epidemic  Sudan (the)  SDN   \n",
       "\n",
       "                region  start_year  start_month  start_day  end_year  \\\n",
       "12820   Eastern Africa        2020            1         13      2020   \n",
       "12821   Eastern Africa        2020            3         20      2020   \n",
       "12822  Northern Africa        2020            7         13      2020   \n",
       "12849  Northern Africa        2019            4         10      2019   \n",
       "12850  Northern Africa        2020            3          9      2020   \n",
       "\n",
       "       end_month  end_day  total_affected  \n",
       "12820          1       17          1500.0  \n",
       "12821          3       26        700000.0  \n",
       "12822         12       17       1042000.0  \n",
       "12849         12       11          2098.0  \n",
       "12850         12       11          2137.0  "
      ]
     },
     "execution_count": 30,
     "metadata": {},
     "output_type": "execute_result"
    }
   ],
   "source": [
    "disasters.tail()"
   ]
  },
  {
   "cell_type": "code",
   "execution_count": 31,
   "metadata": {},
   "outputs": [],
   "source": [
    "disasters.rename(columns={'start_year':'Year', 'start_month':'month', 'start_day':'day'}, inplace=True)"
   ]
  },
  {
   "cell_type": "code",
   "execution_count": 32,
   "metadata": {},
   "outputs": [
    {
     "name": "stdout",
     "output_type": "stream",
     "text": [
      "<class 'pandas.core.frame.DataFrame'>\n",
      "Int64Index: 12388 entries, 0 to 12850\n",
      "Data columns (total 14 columns):\n",
      " #   Column             Non-Null Count  Dtype         \n",
      "---  ------             --------------  -----         \n",
      " 0   year               12388 non-null  int64         \n",
      " 1   disaster_subgroup  12388 non-null  object        \n",
      " 2   disaster_type      12388 non-null  object        \n",
      " 3   country            12388 non-null  object        \n",
      " 4   iso                12388 non-null  object        \n",
      " 5   region             12388 non-null  object        \n",
      " 6   Year               12388 non-null  int64         \n",
      " 7   month              12388 non-null  int32         \n",
      " 8   day                12388 non-null  int32         \n",
      " 9   end_year           12388 non-null  int64         \n",
      " 10  end_month          12388 non-null  int32         \n",
      " 11  end_day            12388 non-null  int32         \n",
      " 12  total_affected     12388 non-null  float64       \n",
      " 13  start_date         12388 non-null  datetime64[ns]\n",
      "dtypes: datetime64[ns](1), float64(1), int32(4), int64(3), object(5)\n",
      "memory usage: 1.2+ MB\n"
     ]
    }
   ],
   "source": [
    "disasters['start_date'] = pd.to_datetime(disasters[['day','month','Year']])\n",
    "disasters.info()"
   ]
  },
  {
   "cell_type": "code",
   "execution_count": 33,
   "metadata": {},
   "outputs": [],
   "source": [
    "disasters.rename(columns={'Year':'start_year', 'month':'start_month', 'day':'start_day'}, inplace=True)"
   ]
  },
  {
   "cell_type": "code",
   "execution_count": 34,
   "metadata": {},
   "outputs": [],
   "source": [
    "disasters.rename(columns={'end_year':'Year', 'end_month':'month', 'end_day':'day'}, inplace=True)"
   ]
  },
  {
   "cell_type": "code",
   "execution_count": 35,
   "metadata": {},
   "outputs": [
    {
     "name": "stdout",
     "output_type": "stream",
     "text": [
      "<class 'pandas.core.frame.DataFrame'>\n",
      "Int64Index: 12388 entries, 0 to 12850\n",
      "Data columns (total 15 columns):\n",
      " #   Column             Non-Null Count  Dtype         \n",
      "---  ------             --------------  -----         \n",
      " 0   year               12388 non-null  int64         \n",
      " 1   disaster_subgroup  12388 non-null  object        \n",
      " 2   disaster_type      12388 non-null  object        \n",
      " 3   country            12388 non-null  object        \n",
      " 4   iso                12388 non-null  object        \n",
      " 5   region             12388 non-null  object        \n",
      " 6   start_year         12388 non-null  int64         \n",
      " 7   start_month        12388 non-null  int32         \n",
      " 8   start_day          12388 non-null  int32         \n",
      " 9   Year               12388 non-null  int64         \n",
      " 10  month              12388 non-null  int32         \n",
      " 11  day                12388 non-null  int32         \n",
      " 12  total_affected     12388 non-null  float64       \n",
      " 13  start_date         12388 non-null  datetime64[ns]\n",
      " 14  end_date           12388 non-null  datetime64[ns]\n",
      "dtypes: datetime64[ns](2), float64(1), int32(4), int64(3), object(5)\n",
      "memory usage: 1.3+ MB\n"
     ]
    }
   ],
   "source": [
    "disasters['end_date'] = pd.to_datetime(disasters[['Year','month','day']])\n",
    "disasters.info()"
   ]
  },
  {
   "cell_type": "code",
   "execution_count": 36,
   "metadata": {},
   "outputs": [],
   "source": [
    "disasters.rename(columns={'Year':'end_year', 'month':'end_month', 'day':'end_day'}, inplace=True)\n"
   ]
  },
  {
   "cell_type": "code",
   "execution_count": 37,
   "metadata": {},
   "outputs": [],
   "source": [
    "correlation = disasters.corr(numeric_only=True)"
   ]
  },
  {
   "cell_type": "code",
   "execution_count": 38,
   "metadata": {},
   "outputs": [
    {
     "data": {
      "image/png": "[encoded data removed]",
      "text/plain": [
       "<Figure size 1200x800 with 2 Axes>"
      ]
     },
     "metadata": {},
     "output_type": "display_data"
    }
   ],
   "source": [
    "fig, ax = plt.subplots(figsize=(12, 8))\n",
    "\n",
    "sns.heatmap(correlation, annot=True, annot_kws={'size' : 10}, ax=ax)\n",
    "\n",
    "plt.show()"
   ]
  },
  {
   "cell_type": "markdown",
   "metadata": {},
   "source": [
    "## Normalización de los datos"
   ]
  },
  {
   "cell_type": "markdown",
   "metadata": {},
   "source": [
    "#### Se eliminan las columnas correspondientes a los años, los meses y los dias de comienzo y finalización de los desastres y la columna de fecha de inicio de dichos desastres, ya que sólo se medirá cómo afecta la de fecja de finalización."
   ]
  },
  {
   "cell_type": "code",
   "execution_count": 39,
   "metadata": {},
   "outputs": [],
   "source": [
    "disasters.drop(['start_year', 'start_month', 'start_day', 'end_year', 'end_month', 'end_day', 'start_date'],axis=1, inplace=True)"
   ]
  },
  {
   "cell_type": "code",
   "execution_count": 40,
   "metadata": {},
   "outputs": [
    {
     "data": {
      "text/plain": [
       "224"
      ]
     },
     "execution_count": 40,
     "metadata": {},
     "output_type": "execute_result"
    }
   ],
   "source": [
    "len(disasters['country'].unique())"
   ]
  },
  {
   "cell_type": "code",
   "execution_count": 41,
   "metadata": {},
   "outputs": [
    {
     "name": "stdout",
     "output_type": "stream",
     "text": [
      "<class 'pandas.core.frame.DataFrame'>\n",
      "Int64Index: 12388 entries, 0 to 12850\n",
      "Data columns (total 8 columns):\n",
      " #   Column             Non-Null Count  Dtype         \n",
      "---  ------             --------------  -----         \n",
      " 0   year               12388 non-null  int64         \n",
      " 1   disaster_subgroup  12388 non-null  object        \n",
      " 2   disaster_type      12388 non-null  object        \n",
      " 3   country            12388 non-null  object        \n",
      " 4   iso                12388 non-null  object        \n",
      " 5   region             12388 non-null  object        \n",
      " 6   total_affected     12388 non-null  float64       \n",
      " 7   end_date           12388 non-null  datetime64[ns]\n",
      "dtypes: datetime64[ns](1), float64(1), int64(1), object(5)\n",
      "memory usage: 871.0+ KB\n"
     ]
    }
   ],
   "source": [
    "disasters.info()"
   ]
  },
  {
   "cell_type": "markdown",
   "metadata": {},
   "source": [
    "#### Cambiar el tipo de dato de la columna"
   ]
  },
  {
   "cell_type": "code",
   "execution_count": 42,
   "metadata": {},
   "outputs": [],
   "source": [
    "disasters['year'] = pd.to_datetime(disasters['year'], format='%Y')"
   ]
  },
  {
   "cell_type": "code",
   "execution_count": 43,
   "metadata": {},
   "outputs": [],
   "source": [
    "disasters['total_affected'] = disasters['total_affected'].astype('int')"
   ]
  },
  {
   "cell_type": "markdown",
   "metadata": {},
   "source": [
    "### Cambios en la columna country"
   ]
  },
  {
   "cell_type": "code",
   "execution_count": 44,
   "metadata": {},
   "outputs": [],
   "source": [
    "disasters.rename(columns = {'country' : 'country_name'}, inplace = True)"
   ]
  },
  {
   "cell_type": "markdown",
   "metadata": {},
   "source": [
    "#### Llevar todos los valores string a mayúsculas"
   ]
  },
  {
   "cell_type": "code",
   "execution_count": 45,
   "metadata": {},
   "outputs": [],
   "source": [
    "for columna in disasters.columns:\n",
    "    if disasters[columna].dtype == 'object':\n",
    "        disasters[columna] = disasters[columna].apply(lambda x: x.upper())"
   ]
  },
  {
   "cell_type": "code",
   "execution_count": 46,
   "metadata": {},
   "outputs": [
    {
     "data": {
      "text/html": [
       "<div>\n",
       "<style scoped>\n",
       "    .dataframe tbody tr th:only-of-type {\n",
       "        vertical-align: middle;\n",
       "    }\n",
       "\n",
       "    .dataframe tbody tr th {\n",
       "        vertical-align: top;\n",
       "    }\n",
       "\n",
       "    .dataframe thead th {\n",
       "        text-align: right;\n",
       "    }\n",
       "</style>\n",
       "<table border=\"1\" class=\"dataframe\">\n",
       "  <thead>\n",
       "    <tr style=\"text-align: right;\">\n",
       "      <th></th>\n",
       "      <th>year</th>\n",
       "      <th>disaster_subgroup</th>\n",
       "      <th>disaster_type</th>\n",
       "      <th>country_name</th>\n",
       "      <th>iso</th>\n",
       "      <th>region</th>\n",
       "      <th>total_affected</th>\n",
       "      <th>end_date</th>\n",
       "    </tr>\n",
       "  </thead>\n",
       "  <tbody>\n",
       "    <tr>\n",
       "      <th>0</th>\n",
       "      <td>1990-01-01</td>\n",
       "      <td>METEOROLOGICAL</td>\n",
       "      <td>STORM</td>\n",
       "      <td>AUSTRIA</td>\n",
       "      <td>AUT</td>\n",
       "      <td>WESTERN EUROPE</td>\n",
       "      <td>130</td>\n",
       "      <td>1990-05-22</td>\n",
       "    </tr>\n",
       "    <tr>\n",
       "      <th>1</th>\n",
       "      <td>1990-01-01</td>\n",
       "      <td>METEOROLOGICAL</td>\n",
       "      <td>STORM</td>\n",
       "      <td>AUSTRIA</td>\n",
       "      <td>AUT</td>\n",
       "      <td>WESTERN EUROPE</td>\n",
       "      <td>130</td>\n",
       "      <td>1990-07-01</td>\n",
       "    </tr>\n",
       "    <tr>\n",
       "      <th>2</th>\n",
       "      <td>1990-01-01</td>\n",
       "      <td>METEOROLOGICAL</td>\n",
       "      <td>STORM</td>\n",
       "      <td>AUSTRIA</td>\n",
       "      <td>AUT</td>\n",
       "      <td>WESTERN EUROPE</td>\n",
       "      <td>130</td>\n",
       "      <td>1990-02-15</td>\n",
       "    </tr>\n",
       "    <tr>\n",
       "      <th>3</th>\n",
       "      <td>1990-01-01</td>\n",
       "      <td>METEOROLOGICAL</td>\n",
       "      <td>STORM</td>\n",
       "      <td>AUSTRIA</td>\n",
       "      <td>AUT</td>\n",
       "      <td>WESTERN EUROPE</td>\n",
       "      <td>130</td>\n",
       "      <td>1990-02-27</td>\n",
       "    </tr>\n",
       "    <tr>\n",
       "      <th>4</th>\n",
       "      <td>1990-01-01</td>\n",
       "      <td>METEOROLOGICAL</td>\n",
       "      <td>STORM</td>\n",
       "      <td>AUSTRIA</td>\n",
       "      <td>AUT</td>\n",
       "      <td>WESTERN EUROPE</td>\n",
       "      <td>130</td>\n",
       "      <td>1990-03-01</td>\n",
       "    </tr>\n",
       "    <tr>\n",
       "      <th>...</th>\n",
       "      <td>...</td>\n",
       "      <td>...</td>\n",
       "      <td>...</td>\n",
       "      <td>...</td>\n",
       "      <td>...</td>\n",
       "      <td>...</td>\n",
       "      <td>...</td>\n",
       "      <td>...</td>\n",
       "    </tr>\n",
       "    <tr>\n",
       "      <th>12820</th>\n",
       "      <td>2020-01-01</td>\n",
       "      <td>HYDROLOGICAL</td>\n",
       "      <td>FLOOD</td>\n",
       "      <td>ZAMBIA</td>\n",
       "      <td>ZMB</td>\n",
       "      <td>EASTERN AFRICA</td>\n",
       "      <td>1500</td>\n",
       "      <td>2020-01-17</td>\n",
       "    </tr>\n",
       "    <tr>\n",
       "      <th>12821</th>\n",
       "      <td>2020-01-01</td>\n",
       "      <td>HYDROLOGICAL</td>\n",
       "      <td>FLOOD</td>\n",
       "      <td>ZAMBIA</td>\n",
       "      <td>ZMB</td>\n",
       "      <td>EASTERN AFRICA</td>\n",
       "      <td>700000</td>\n",
       "      <td>2020-03-26</td>\n",
       "    </tr>\n",
       "    <tr>\n",
       "      <th>12822</th>\n",
       "      <td>2020-01-01</td>\n",
       "      <td>HYDROLOGICAL</td>\n",
       "      <td>FLOOD</td>\n",
       "      <td>SOUTH SUDAN</td>\n",
       "      <td>SSD</td>\n",
       "      <td>NORTHERN AFRICA</td>\n",
       "      <td>1042000</td>\n",
       "      <td>2020-12-17</td>\n",
       "    </tr>\n",
       "    <tr>\n",
       "      <th>12849</th>\n",
       "      <td>2019-01-01</td>\n",
       "      <td>BIOLOGICAL</td>\n",
       "      <td>EPIDEMIC</td>\n",
       "      <td>SUDAN (THE)</td>\n",
       "      <td>SDN</td>\n",
       "      <td>NORTHERN AFRICA</td>\n",
       "      <td>2098</td>\n",
       "      <td>2019-12-11</td>\n",
       "    </tr>\n",
       "    <tr>\n",
       "      <th>12850</th>\n",
       "      <td>2020-01-01</td>\n",
       "      <td>BIOLOGICAL</td>\n",
       "      <td>EPIDEMIC</td>\n",
       "      <td>SUDAN (THE)</td>\n",
       "      <td>SDN</td>\n",
       "      <td>NORTHERN AFRICA</td>\n",
       "      <td>2137</td>\n",
       "      <td>2020-12-11</td>\n",
       "    </tr>\n",
       "  </tbody>\n",
       "</table>\n",
       "<p>12388 rows × 8 columns</p>\n",
       "</div>"
      ],
      "text/plain": [
       "            year disaster_subgroup disaster_type country_name  iso  \\\n",
       "0     1990-01-01    METEOROLOGICAL         STORM      AUSTRIA  AUT   \n",
       "1     1990-01-01    METEOROLOGICAL         STORM      AUSTRIA  AUT   \n",
       "2     1990-01-01    METEOROLOGICAL         STORM      AUSTRIA  AUT   \n",
       "3     1990-01-01    METEOROLOGICAL         STORM      AUSTRIA  AUT   \n",
       "4     1990-01-01    METEOROLOGICAL         STORM      AUSTRIA  AUT   \n",
       "...          ...               ...           ...          ...  ...   \n",
       "12820 2020-01-01      HYDROLOGICAL         FLOOD       ZAMBIA  ZMB   \n",
       "12821 2020-01-01      HYDROLOGICAL         FLOOD       ZAMBIA  ZMB   \n",
       "12822 2020-01-01      HYDROLOGICAL         FLOOD  SOUTH SUDAN  SSD   \n",
       "12849 2019-01-01        BIOLOGICAL      EPIDEMIC  SUDAN (THE)  SDN   \n",
       "12850 2020-01-01        BIOLOGICAL      EPIDEMIC  SUDAN (THE)  SDN   \n",
       "\n",
       "                region  total_affected   end_date  \n",
       "0       WESTERN EUROPE             130 1990-05-22  \n",
       "1       WESTERN EUROPE             130 1990-07-01  \n",
       "2       WESTERN EUROPE             130 1990-02-15  \n",
       "3       WESTERN EUROPE             130 1990-02-27  \n",
       "4       WESTERN EUROPE             130 1990-03-01  \n",
       "...                ...             ...        ...  \n",
       "12820   EASTERN AFRICA            1500 2020-01-17  \n",
       "12821   EASTERN AFRICA          700000 2020-03-26  \n",
       "12822  NORTHERN AFRICA         1042000 2020-12-17  \n",
       "12849  NORTHERN AFRICA            2098 2019-12-11  \n",
       "12850  NORTHERN AFRICA            2137 2020-12-11  \n",
       "\n",
       "[12388 rows x 8 columns]"
      ]
     },
     "execution_count": 46,
     "metadata": {},
     "output_type": "execute_result"
    }
   ],
   "source": [
    "disasters"
   ]
  },
  {
   "cell_type": "code",
   "execution_count": 47,
   "metadata": {},
   "outputs": [
    {
     "data": {
      "text/plain": [
       "0"
      ]
     },
     "execution_count": 47,
     "metadata": {},
     "output_type": "execute_result"
    }
   ],
   "source": [
    "disasters.iso.isna().sum()"
   ]
  },
  {
   "cell_type": "markdown",
   "metadata": {},
   "source": [
    "### Estandarizar los nombres de los países para que sean iguales en todos los datasets"
   ]
  },
  {
   "cell_type": "code",
   "execution_count": 48,
   "metadata": {},
   "outputs": [],
   "source": [
    "est = pd.read_csv('dataSets\\\\estandar_paises_regiones.csv')"
   ]
  },
  {
   "cell_type": "code",
   "execution_count": 49,
   "metadata": {},
   "outputs": [
    {
     "data": {
      "text/html": [
       "<div>\n",
       "<style scoped>\n",
       "    .dataframe tbody tr th:only-of-type {\n",
       "        vertical-align: middle;\n",
       "    }\n",
       "\n",
       "    .dataframe tbody tr th {\n",
       "        vertical-align: top;\n",
       "    }\n",
       "\n",
       "    .dataframe thead th {\n",
       "        text-align: right;\n",
       "    }\n",
       "</style>\n",
       "<table border=\"1\" class=\"dataframe\">\n",
       "  <thead>\n",
       "    <tr style=\"text-align: right;\">\n",
       "      <th></th>\n",
       "      <th>region_name</th>\n",
       "      <th>sub-region_name</th>\n",
       "      <th>country_name</th>\n",
       "      <th>iso</th>\n",
       "    </tr>\n",
       "  </thead>\n",
       "  <tbody>\n",
       "    <tr>\n",
       "      <th>0</th>\n",
       "      <td>AFRICA</td>\n",
       "      <td>NORTHERN AFRICA</td>\n",
       "      <td>ALGERIA</td>\n",
       "      <td>DZA</td>\n",
       "    </tr>\n",
       "    <tr>\n",
       "      <th>1</th>\n",
       "      <td>AFRICA</td>\n",
       "      <td>NORTHERN AFRICA</td>\n",
       "      <td>EGYPT</td>\n",
       "      <td>EGY</td>\n",
       "    </tr>\n",
       "    <tr>\n",
       "      <th>2</th>\n",
       "      <td>AFRICA</td>\n",
       "      <td>NORTHERN AFRICA</td>\n",
       "      <td>LIBYA</td>\n",
       "      <td>LBY</td>\n",
       "    </tr>\n",
       "    <tr>\n",
       "      <th>3</th>\n",
       "      <td>AFRICA</td>\n",
       "      <td>NORTHERN AFRICA</td>\n",
       "      <td>MOROCCO</td>\n",
       "      <td>MAR</td>\n",
       "    </tr>\n",
       "    <tr>\n",
       "      <th>4</th>\n",
       "      <td>AFRICA</td>\n",
       "      <td>NORTHERN AFRICA</td>\n",
       "      <td>SUDAN</td>\n",
       "      <td>SDN</td>\n",
       "    </tr>\n",
       "    <tr>\n",
       "      <th>...</th>\n",
       "      <td>...</td>\n",
       "      <td>...</td>\n",
       "      <td>...</td>\n",
       "      <td>...</td>\n",
       "    </tr>\n",
       "    <tr>\n",
       "      <th>244</th>\n",
       "      <td>OCEANIA</td>\n",
       "      <td>POLYNESIA</td>\n",
       "      <td>TONGA</td>\n",
       "      <td>TON</td>\n",
       "    </tr>\n",
       "    <tr>\n",
       "      <th>245</th>\n",
       "      <td>OCEANIA</td>\n",
       "      <td>POLYNESIA</td>\n",
       "      <td>TUVALU</td>\n",
       "      <td>TUV</td>\n",
       "    </tr>\n",
       "    <tr>\n",
       "      <th>246</th>\n",
       "      <td>OCEANIA</td>\n",
       "      <td>POLYNESIA</td>\n",
       "      <td>WALLIS AND FUTUNA ISLANDS</td>\n",
       "      <td>WLF</td>\n",
       "    </tr>\n",
       "    <tr>\n",
       "      <th>247</th>\n",
       "      <td>EUROPE</td>\n",
       "      <td>SOUTHERN EUROPE</td>\n",
       "      <td>KOSOVO</td>\n",
       "      <td>XXK</td>\n",
       "    </tr>\n",
       "    <tr>\n",
       "      <th>248</th>\n",
       "      <td>ASIA</td>\n",
       "      <td>EASTERN ASIA</td>\n",
       "      <td>CHINA TAIWAN</td>\n",
       "      <td>TWN</td>\n",
       "    </tr>\n",
       "  </tbody>\n",
       "</table>\n",
       "<p>249 rows × 4 columns</p>\n",
       "</div>"
      ],
      "text/plain": [
       "    region_name  sub-region_name               country_name  iso\n",
       "0        AFRICA  NORTHERN AFRICA                    ALGERIA  DZA\n",
       "1        AFRICA  NORTHERN AFRICA                      EGYPT  EGY\n",
       "2        AFRICA  NORTHERN AFRICA                      LIBYA  LBY\n",
       "3        AFRICA  NORTHERN AFRICA                    MOROCCO  MAR\n",
       "4        AFRICA  NORTHERN AFRICA                      SUDAN  SDN\n",
       "..          ...              ...                        ...  ...\n",
       "244     OCEANIA        POLYNESIA                      TONGA  TON\n",
       "245     OCEANIA        POLYNESIA                     TUVALU  TUV\n",
       "246     OCEANIA        POLYNESIA  WALLIS AND FUTUNA ISLANDS  WLF\n",
       "247      EUROPE  SOUTHERN EUROPE                     KOSOVO  XXK\n",
       "248        ASIA     EASTERN ASIA               CHINA TAIWAN  TWN\n",
       "\n",
       "[249 rows x 4 columns]"
      ]
     },
     "execution_count": 49,
     "metadata": {},
     "output_type": "execute_result"
    }
   ],
   "source": [
    "est"
   ]
  },
  {
   "cell_type": "markdown",
   "metadata": {},
   "source": [
    "#### En este punto se puede hacer un merge por la izquierda en la columna iso, siendo el dataframe principal el que ocupe la posición izquierda y el estandar la derecha. Pero se tiene más control del proceso si se trabaja directamente con los nombres."
   ]
  },
  {
   "cell_type": "code",
   "execution_count": 50,
   "metadata": {},
   "outputs": [],
   "source": [
    "# guardamos los valores únicos de los nombres de países de cada data frame\n",
    "paises_disasters = set(disasters['country_name'])\n",
    "paises_est = set(est['country_name'])"
   ]
  },
  {
   "cell_type": "code",
   "execution_count": 51,
   "metadata": {},
   "outputs": [],
   "source": [
    "# Identificamos el dataframe con menos países (debería ser el data frame principal de este notebook)\n",
    "if len(paises_disasters) <= len(paises_est):\n",
    "    df_menos_paises = disasters\n",
    "    df_mas_paises = est\n",
    "else:\n",
    "    df_menos_paises = est\n",
    "    df_mas_paises = disasters"
   ]
  },
  {
   "cell_type": "code",
   "execution_count": 52,
   "metadata": {},
   "outputs": [],
   "source": [
    "#df_mas_paises"
   ]
  },
  {
   "cell_type": "code",
   "execution_count": 53,
   "metadata": {},
   "outputs": [],
   "source": [
    "# Obtenemos los nombres únicos de países en el dataframe con menos nombres\n",
    "paises_menos = set(df_menos_paises['country_name'])"
   ]
  },
  {
   "cell_type": "code",
   "execution_count": 54,
   "metadata": {},
   "outputs": [],
   "source": [
    "# Obtenemos los nombres únicos de países en el dataframe con más nombres\n",
    "paises_mas = set(df_mas_paises['country_name'])"
   ]
  },
  {
   "cell_type": "code",
   "execution_count": 55,
   "metadata": {},
   "outputs": [],
   "source": [
    "# Obtener nombres únicos de países que están en el dataframe con menos nombres y no en el dataframe con más nombres\n",
    "paises_no_comunes = paises_menos.difference(paises_mas)"
   ]
  },
  {
   "cell_type": "markdown",
   "metadata": {},
   "source": [
    "#### Los siguientes nombres tienen que ser reemplazados en el dataframe df "
   ]
  },
  {
   "cell_type": "code",
   "execution_count": 56,
   "metadata": {},
   "outputs": [
    {
     "name": "stdout",
     "output_type": "stream",
     "text": [
      "{'MARSHALL ISLANDS (THE)', 'NIGER (THE)', 'PALESTINE, STATE OF', 'COMOROS (THE)', 'MOLDOVA (THE REPUBLIC OF)', 'BAHAMAS (THE)', 'SINT MAARTEN (DUTCH PART)', 'NETHERLANDS (THE)', 'TURKEY', 'NORTHERN MARIANA ISLANDS (THE)', 'IRAN (ISLAMIC REPUBLIC OF)', 'CANARY IS', 'VENEZUELA (BOLIVARIAN REPUBLIC OF)', \"'LAO PEOPLE''S DEMOCRATIC REPUBLIC (THE)'\", 'CÔTE D\\x92IVOIRE', 'CAYMAN ISLANDS (THE)', 'TANZANIA, UNITED REPUBLIC OF', 'COOK ISLANDS (THE)', 'GERMANY FED REP', 'GAMBIA (THE)', 'YUGOSLAVIA', 'UNITED KINGDOM OF GREAT BRITAIN AND NORTHERN IRELAND (THE)', 'MACEDONIA (THE FORMER YUGOSLAV REPUBLIC OF)', 'NETHERLANDS ANTILLES', 'SUDAN (THE)', 'VIRGIN ISLAND (BRITISH)', 'SAINT HELENA, ASCENSION AND TRISTAN DA CUNHA', 'RUSSIAN FEDERATION (THE)', 'CZECH REPUBLIC (THE)', 'KOREA (THE REPUBLIC OF)', 'CONGO (THE DEMOCRATIC REPUBLIC OF THE)', 'UNITED STATES OF AMERICA (THE)', 'DOMINICAN REPUBLIC (THE)', 'TAIWAN (PROVINCE OF CHINA)', 'MICRONESIA (FEDERATED STATES OF)', 'SERBIA MONTENEGRO', 'WALLIS AND FUTUNA', 'BOLIVIA (PLURINATIONAL STATE OF)', \"'KOREA (THE DEMOCRATIC PEOPLE''S REPUBLIC OF)'\", 'PHILIPPINES (THE)', 'SAINT MARTIN (FRENCH PART)', 'AZORES ISLANDS', 'TURKS AND CAICOS ISLANDS (THE)', 'UNITED ARAB EMIRATES (THE)', 'VIRGIN ISLAND (U.S.)', 'SOVIET UNION', 'CONGO (THE)', 'CZECHOSLOVAKIA'}\n"
     ]
    }
   ],
   "source": [
    "print(paises_no_comunes)"
   ]
  },
  {
   "cell_type": "code",
   "execution_count": 57,
   "metadata": {},
   "outputs": [],
   "source": [
    "reemplazos ={\"'KOREA (THE DEMOCRATIC PEOPLE''S REPUBLIC OF)'\" : 'NORTH KOREA' ,\n",
    " \"'LAO PEOPLE''S DEMOCRATIC REPUBLIC (THE)'\": \"LAOS\",\n",
    " 'AZORES ISLANDS': 'PORTUGAL',\n",
    " 'BAHAMAS (THE)': \"BAHAMAS\",\n",
    " 'BOLIVIA (PLURINATIONAL STATE OF)': \"BOLIVIA\",\n",
    " 'CANARY IS': \"SPAIN\",\n",
    " 'CAYMAN ISLANDS (THE)':\"CAYMAN ISLANDS\",\n",
    " 'COMOROS (THE)': \"COMOROS\",\n",
    " 'CONGO (THE DEMOCRATIC REPUBLIC OF THE)': \"DEMOCRATIC REPUBLIC OF THE CONGO\",\n",
    " 'CONGO (THE)': 'CONGO',\n",
    " 'COOK ISLANDS (THE)': 'COOK ISLANDS',\n",
    " 'CZECH REPUBLIC (THE)': 'CZECHIA',\n",
    " 'CZECHOSLOVAKIA': 'CZECHIA',\n",
    " 'CÔTE D\\x92IVOIRE': 'CÔTE D’IVOIRE',\n",
    " 'DOMINICAN REPUBLIC (THE)': 'DOMINICAN REPUBLIC',\n",
    " 'GAMBIA (THE)': 'GAMBIA',\n",
    " 'GERMANY FED REP': 'GERMANY',\n",
    " 'IRAN (ISLAMIC REPUBLIC OF)': 'IRAN',\n",
    " 'KOREA (THE REPUBLIC OF)': 'SOUTH KOREA',\n",
    " 'MACEDONIA (THE FORMER YUGOSLAV REPUBLIC OF)': 'NORTH MACEDONIA',\n",
    " 'MARSHALL ISLANDS (THE)': 'MARSHALL ISLANDS',\n",
    " 'MICRONESIA (FEDERATED STATES OF)': 'MICRONESIA',\n",
    " 'MOLDOVA (THE REPUBLIC OF)': 'MOLDOVA',\n",
    " 'NETHERLANDS (THE)': 'NETHERLANDS',\n",
    " 'NETHERLANDS ANTILLES': 'CURAÇAO',\n",
    " 'NIGER (THE)': 'NIGER',\n",
    " 'NORTHERN MARIANA ISLANDS (THE)': 'NORTHERN MARIANA ISLANDS',\n",
    " 'PALESTINE, STATE OF': 'STATE OF PALESTINE',\n",
    " 'PHILIPPINES (THE)': 'PHILIPPINES',\n",
    " 'RUSSIAN FEDERATION (THE)': 'RUSSIA',\n",
    " 'SAINT HELENA, ASCENSION AND TRISTAN DA CUNHA': 'SAINT HELENA',\n",
    " 'SAINT MARTIN (FRENCH PART)': 'SAINT MARTIN',\n",
    " 'SERBIA MONTENEGRO': 'SERBIA',\n",
    " 'SINT MAARTEN (DUTCH PART)': 'SINT MAARTEN',\n",
    " 'SOVIET UNION': 'RUSSIA',\n",
    " 'SUDAN (THE)': \"SUDAN\",\n",
    " 'TAIWAN (PROVINCE OF CHINA)': 'CHINA, TAIWAN',\n",
    " 'TANZANIA, UNITED REPUBLIC OF': 'TANZANIA',\n",
    " 'TURKEY': 'TÜRKIYE',\n",
    " 'TURKS AND CAICOS ISLANDS (THE)': 'TURKS AND CAICOS ISLANDS',\n",
    " 'UNITED ARAB EMIRATES (THE)': 'UNITED ARAB EMIRATES',\n",
    " 'UNITED KINGDOM OF GREAT BRITAIN AND NORTHERN IRELAND (THE)': 'UNITED KINGDOM',\n",
    " 'UNITED STATES OF AMERICA (THE)': 'UNITED STATES',\n",
    " 'VENEZUELA (BOLIVARIAN REPUBLIC OF)': 'VENEZUELA',\n",
    " 'VIRGIN ISLAND (BRITISH)': 'BRITISH VIRGIN ISLANDS',\n",
    " 'VIRGIN ISLAND (U.S.)': 'UNITED STATES VIRGIN ISLANDS',\n",
    " 'WALLIS AND FUTUNA': 'WALLIS AND FUTUNA ISLANDS',\n",
    " 'YUGOSLAVIA': 'SERBIA'\n",
    "    \n",
    "}"
   ]
  },
  {
   "cell_type": "markdown",
   "metadata": {},
   "source": [
    "Como criterio de reemplazo de los antigüos países decidimos tomar como actual país al más representivos de aquellos. Así, por ejemplo, Rusia quedó con todos los registros pertenecientes a la Unión Soviética. Algo similar sucedión con Serbia y República Checa, que heredaron los registros de Yugoslavia y Checoslovaquia; Serbia además heredó registrso de Serbia y Montenegro."
   ]
  },
  {
   "cell_type": "code",
   "execution_count": 58,
   "metadata": {},
   "outputs": [
    {
     "data": {
      "text/html": [
       "<div>\n",
       "<style scoped>\n",
       "    .dataframe tbody tr th:only-of-type {\n",
       "        vertical-align: middle;\n",
       "    }\n",
       "\n",
       "    .dataframe tbody tr th {\n",
       "        vertical-align: top;\n",
       "    }\n",
       "\n",
       "    .dataframe thead th {\n",
       "        text-align: right;\n",
       "    }\n",
       "</style>\n",
       "<table border=\"1\" class=\"dataframe\">\n",
       "  <thead>\n",
       "    <tr style=\"text-align: right;\">\n",
       "      <th></th>\n",
       "      <th>year</th>\n",
       "      <th>disaster_subgroup</th>\n",
       "      <th>disaster_type</th>\n",
       "      <th>country_name</th>\n",
       "      <th>iso</th>\n",
       "      <th>region</th>\n",
       "      <th>total_affected</th>\n",
       "      <th>end_date</th>\n",
       "    </tr>\n",
       "  </thead>\n",
       "  <tbody>\n",
       "    <tr>\n",
       "      <th>7123</th>\n",
       "      <td>1993-01-01</td>\n",
       "      <td>GEOPHYSICAL</td>\n",
       "      <td>EARTHQUAKE</td>\n",
       "      <td>WALLIS AND FUTUNA</td>\n",
       "      <td>WLF</td>\n",
       "      <td>POLYNESIA</td>\n",
       "      <td>20</td>\n",
       "      <td>1993-03-13</td>\n",
       "    </tr>\n",
       "    <tr>\n",
       "      <th>7457</th>\n",
       "      <td>2012-01-01</td>\n",
       "      <td>METEOROLOGICAL</td>\n",
       "      <td>STORM</td>\n",
       "      <td>WALLIS AND FUTUNA</td>\n",
       "      <td>WLF</td>\n",
       "      <td>POLYNESIA</td>\n",
       "      <td>1252</td>\n",
       "      <td>2012-12-15</td>\n",
       "    </tr>\n",
       "  </tbody>\n",
       "</table>\n",
       "</div>"
      ],
      "text/plain": [
       "           year disaster_subgroup disaster_type       country_name  iso  \\\n",
       "7123 1993-01-01       GEOPHYSICAL    EARTHQUAKE  WALLIS AND FUTUNA  WLF   \n",
       "7457 2012-01-01    METEOROLOGICAL         STORM  WALLIS AND FUTUNA  WLF   \n",
       "\n",
       "         region  total_affected   end_date  \n",
       "7123  POLYNESIA              20 1993-03-13  \n",
       "7457  POLYNESIA            1252 2012-12-15  "
      ]
     },
     "execution_count": 58,
     "metadata": {},
     "output_type": "execute_result"
    }
   ],
   "source": [
    "disasters[disasters.country_name == 'WALLIS AND FUTUNA']"
   ]
  },
  {
   "cell_type": "code",
   "execution_count": 59,
   "metadata": {},
   "outputs": [
    {
     "data": {
      "text/html": [
       "<div>\n",
       "<style scoped>\n",
       "    .dataframe tbody tr th:only-of-type {\n",
       "        vertical-align: middle;\n",
       "    }\n",
       "\n",
       "    .dataframe tbody tr th {\n",
       "        vertical-align: top;\n",
       "    }\n",
       "\n",
       "    .dataframe thead th {\n",
       "        text-align: right;\n",
       "    }\n",
       "</style>\n",
       "<table border=\"1\" class=\"dataframe\">\n",
       "  <thead>\n",
       "    <tr style=\"text-align: right;\">\n",
       "      <th></th>\n",
       "      <th>region_name</th>\n",
       "      <th>sub-region_name</th>\n",
       "      <th>country_name</th>\n",
       "      <th>iso</th>\n",
       "    </tr>\n",
       "  </thead>\n",
       "  <tbody>\n",
       "    <tr>\n",
       "      <th>246</th>\n",
       "      <td>OCEANIA</td>\n",
       "      <td>POLYNESIA</td>\n",
       "      <td>WALLIS AND FUTUNA ISLANDS</td>\n",
       "      <td>WLF</td>\n",
       "    </tr>\n",
       "  </tbody>\n",
       "</table>\n",
       "</div>"
      ],
      "text/plain": [
       "    region_name sub-region_name               country_name  iso\n",
       "246     OCEANIA       POLYNESIA  WALLIS AND FUTUNA ISLANDS  WLF"
      ]
     },
     "execution_count": 59,
     "metadata": {},
     "output_type": "execute_result"
    }
   ],
   "source": [
    "est[est.iso == \"WLF\"]"
   ]
  },
  {
   "cell_type": "code",
   "execution_count": 60,
   "metadata": {},
   "outputs": [],
   "source": [
    "disasters.country_name = disasters.country_name.replace(reemplazos)"
   ]
  },
  {
   "cell_type": "markdown",
   "metadata": {},
   "source": [
    "### Chequeamos que los nombres hayan sido sustituídos, no debería haber diferencias entre ambos sets, por lo tanto deberíamosobtener un set vacío"
   ]
  },
  {
   "cell_type": "code",
   "execution_count": 61,
   "metadata": {},
   "outputs": [
    {
     "data": {
      "text/plain": [
       "{'CHINA, TAIWAN'}"
      ]
     },
     "execution_count": 61,
     "metadata": {},
     "output_type": "execute_result"
    }
   ],
   "source": [
    "paises_menos = set(df_menos_paises['country_name'])\n",
    "paises_mas = set(df_mas_paises['country_name'])\n",
    "paises_no_comunes = paises_menos.difference(paises_mas)\n",
    "paises_no_comunes"
   ]
  },
  {
   "cell_type": "code",
   "execution_count": 62,
   "metadata": {},
   "outputs": [],
   "source": [
    "disasters.to_csv('dataSets\\\\disasters_final.csv', index = False)"
   ]
  },
  {
   "cell_type": "markdown",
   "metadata": {},
   "source": [
    "### Los gráficos de abajo pueden ser útiles para la etapa del EDA"
   ]
  },
  {
   "cell_type": "code",
   "execution_count": 63,
   "metadata": {},
   "outputs": [],
   "source": [
    "# fig, ax = plt.subplots(figsize=(20, 10))\n",
    "# sns.histplot(data=disasters, x='disaster_subgroup',kde=True)\n",
    "# plt.show()\n"
   ]
  },
  {
   "cell_type": "code",
   "execution_count": 64,
   "metadata": {},
   "outputs": [],
   "source": [
    "# disasters.head(3)"
   ]
  },
  {
   "cell_type": "code",
   "execution_count": 65,
   "metadata": {},
   "outputs": [],
   "source": [
    "# sns.set(rc={'figure.figsize':(25,10)})\n",
    "# sns.set(font_scale=1.5)\n",
    "# ax = sns.lineplot(x=\"region\", y=\"end_date\",\n",
    "#                 hue=\"disaster_subgroup\",\n",
    "#                 linewidth=3,\n",
    "#                 err_style=None,\n",
    "#                 data=disasters)\n",
    "\n",
    "# plt.xticks(rotation = 90)\n",
    "\n",
    "# plt.show()"
   ]
  },
  {
   "cell_type": "code",
   "execution_count": 66,
   "metadata": {},
   "outputs": [],
   "source": [
    "# sns.set(rc={'figure.figsize':(40,20)})\n",
    "# sns.set(font_scale=2)\n",
    "# ax = sns.lineplot(x=\"region\", y=\"end_date\",\n",
    "#                 hue=\"disaster_type\",\n",
    "#                 err_style=None,\n",
    "#                 linewidth=4,\n",
    "#                 style='disaster_type',\n",
    "#                 palette=\"flare\",\n",
    "#                 markers=True,\n",
    "#                 data=disasters)\n",
    "\n",
    "# plt.xticks(rotation = 90)\n",
    "\n",
    "# plt.show()"
   ]
  },
  {
   "cell_type": "code",
   "execution_count": 67,
   "metadata": {},
   "outputs": [],
   "source": [
    "# sns.set(rc={'figure.figsize':(15,8)})\n",
    "# sns.relplot(\n",
    "#     data=disasters, x=\"end_date\", y=\"total_affected\",\n",
    "#     row=\"region\", hue=\"disaster_subgroup\", style=\"disaster_subgroup\",\n",
    "#     kind=\"line\"\n",
    "# )\n",
    "# plt.show()"
   ]
  },
  {
   "cell_type": "code",
   "execution_count": null,
   "metadata": {},
   "outputs": [],
   "source": []
  }
 ],
 "metadata": {
  "kernelspec": {
   "display_name": "Python 3 (ipykernel)",
   "language": "python",
   "name": "python3"
  },
  "language_info": {
   "codemirror_mode": {
    "name": "ipython",
    "version": 3
   },
   "file_extension": ".py",
   "mimetype": "text/x-python",
   "name": "python",
   "nbconvert_exporter": "python",
   "pygments_lexer": "ipython3",
   "version": "3.9.15"
  },
  "vscode": {
   "interpreter": {
    "hash": "17c9ef97fbdc07c71cb342161fdcbff14516699b42eb670357c21cf06912fcbd"
   }
  }
 },
 "nbformat": 4,
 "nbformat_minor": 2
}
