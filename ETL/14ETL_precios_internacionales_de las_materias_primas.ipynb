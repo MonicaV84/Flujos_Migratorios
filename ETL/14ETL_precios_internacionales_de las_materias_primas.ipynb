{
 "cells": [
  {
   "cell_type": "markdown",
   "id": "cfe7694d",
   "metadata": {},
   "source": [
    "# Cambio de base del índice de precios internacionales de las materias primas alimenticeas del FMI:\n",
    "\n",
    "## From 2016 to 2015"
   ]
  },
  {
   "cell_type": "markdown",
   "id": "2dd25df6",
   "metadata": {},
   "source": [
    "Fuente: [FMI](https://www.imf.org/en/Research/commodity-prices)\n",
    "[Datos](https://data.imf.org/?sk=471DDDF8-D8A7-499A-81BA-5B332C01F8B9)"
   ]
  },
  {
   "cell_type": "code",
   "execution_count": 1,
   "id": "bbfa5e14",
   "metadata": {},
   "outputs": [],
   "source": [
    "import pandas as pd\n",
    "import os"
   ]
  },
  {
   "cell_type": "code",
   "execution_count": 2,
   "id": "8eb72890",
   "metadata": {},
   "outputs": [],
   "source": [
    "ind = pd.read_csv('..\\\\DataSets\\\\FMI\\\\OLD_prices.csv')"
   ]
  },
  {
   "cell_type": "code",
   "execution_count": 3,
   "id": "404e450a",
   "metadata": {},
   "outputs": [],
   "source": [
    "ind.insert(2, '2015', 0.0)"
   ]
  },
  {
   "cell_type": "markdown",
   "id": "125ccbba",
   "metadata": {},
   "source": [
    "#### Buscamos el índice del valor  year == 2015"
   ]
  },
  {
   "cell_type": "code",
   "execution_count": 4,
   "id": "ef016fe8",
   "metadata": {},
   "outputs": [
    {
     "data": {
      "text/plain": [
       "23"
      ]
     },
     "execution_count": 4,
     "metadata": {},
     "output_type": "execute_result"
    }
   ],
   "source": [
    "ind_2015 = ind.year.index[ind.year == 2015]\n",
    "ind_2015[0]"
   ]
  },
  {
   "cell_type": "markdown",
   "id": "4fca079f",
   "metadata": {},
   "source": [
    "#### Calculamos la razón de cambio entre años bases"
   ]
  },
  {
   "cell_type": "code",
   "execution_count": 5,
   "id": "d27db9b7",
   "metadata": {},
   "outputs": [
    {
     "data": {
      "text/plain": [
       "1.0148163182463974"
      ]
     },
     "execution_count": 5,
     "metadata": {},
     "output_type": "execute_result"
    }
   ],
   "source": [
    "razon = 100/ind.at[23,'index_value(USD base=2016)']\n",
    "razon"
   ]
  },
  {
   "cell_type": "markdown",
   "id": "8ae31222",
   "metadata": {},
   "source": [
    "#### Multiplicamos todos los valores en la serie original para convertir el año base"
   ]
  },
  {
   "cell_type": "code",
   "execution_count": 6,
   "id": "4e59238d",
   "metadata": {},
   "outputs": [],
   "source": [
    "ind['2015'] = ind['index_value(USD base=2016)'].apply(lambda x: round((x * razon),2))"
   ]
  },
  {
   "cell_type": "code",
   "execution_count": 7,
   "id": "200682bb",
   "metadata": {},
   "outputs": [],
   "source": [
    "ind.rename(columns = {'2015': 'index_value(USD base=2015)'}, inplace=True)"
   ]
  },
  {
   "cell_type": "code",
   "execution_count": 8,
   "id": "36274d73",
   "metadata": {},
   "outputs": [],
   "source": [
    "ind.drop(columns = 'index_value(USD base=2016)', inplace = True)"
   ]
  },
  {
   "cell_type": "code",
   "execution_count": 9,
   "id": "a9e2cbab",
   "metadata": {},
   "outputs": [
    {
     "name": "stdout",
     "output_type": "stream",
     "text": [
      "<class 'pandas.core.frame.DataFrame'>\n",
      "RangeIndex: 31 entries, 0 to 30\n",
      "Data columns (total 2 columns):\n",
      " #   Column                      Non-Null Count  Dtype  \n",
      "---  ------                      --------------  -----  \n",
      " 0   year                        31 non-null     int64  \n",
      " 1   index_value(USD base=2015)  31 non-null     float64\n",
      "dtypes: float64(1), int64(1)\n",
      "memory usage: 624.0 bytes\n"
     ]
    }
   ],
   "source": [
    "ind.info()"
   ]
  },
  {
   "cell_type": "markdown",
   "id": "b59ae604",
   "metadata": {},
   "source": [
    "#### Convertimos el tipo de dato de la columna year"
   ]
  },
  {
   "cell_type": "code",
   "execution_count": 10,
   "id": "edddf8b6",
   "metadata": {},
   "outputs": [],
   "source": [
    "ind['year'] = pd.to_datetime(ind['year'], format='%Y')"
   ]
  },
  {
   "cell_type": "markdown",
   "id": "3677772a",
   "metadata": {},
   "source": [
    "#### Guardamos"
   ]
  },
  {
   "cell_type": "code",
   "execution_count": 15,
   "id": "bbc457e2",
   "metadata": {},
   "outputs": [],
   "source": [
    "ind.to_csv( '..\\\\DataSets\\\\FMI\\\\international_food_prices.csv', index = False)"
   ]
  },
  {
   "cell_type": "code",
   "execution_count": null,
   "id": "98b7a473",
   "metadata": {},
   "outputs": [],
   "source": []
  }
 ],
 "metadata": {
  "kernelspec": {
   "display_name": "Python 3 (ipykernel)",
   "language": "python",
   "name": "python3"
  },
  "language_info": {
   "codemirror_mode": {
    "name": "ipython",
    "version": 3
   },
   "file_extension": ".py",
   "mimetype": "text/x-python",
   "name": "python",
   "nbconvert_exporter": "python",
   "pygments_lexer": "ipython3",
   "version": "3.9.16"
  }
 },
 "nbformat": 4,
 "nbformat_minor": 5
}
