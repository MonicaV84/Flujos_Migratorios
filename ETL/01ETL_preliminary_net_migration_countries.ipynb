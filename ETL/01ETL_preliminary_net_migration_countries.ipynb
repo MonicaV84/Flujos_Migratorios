{
 "cells": [
  {
   "cell_type": "markdown",
   "id": "242ba4cd",
   "metadata": {},
   "source": [
    "# Separate countries from regions"
   ]
  },
  {
   "cell_type": "code",
   "execution_count": 1,
   "id": "115f0816",
   "metadata": {},
   "outputs": [],
   "source": [
    "import pandas as pd\n",
    "import numpy as np\n",
    "import seaborn as sns\n",
    "import os"
   ]
  },
  {
   "cell_type": "code",
   "execution_count": 2,
   "id": "c122a60d",
   "metadata": {},
   "outputs": [],
   "source": [
    "pd.options.display.float_format = '{:,.0f}'.format"
   ]
  },
  {
   "cell_type": "code",
   "execution_count": 3,
   "id": "16f9bf29",
   "metadata": {},
   "outputs": [],
   "source": [
    "df = pd.read_csv('dataSets\\\\net_migration.csv', skiprows=3)"
   ]
  },
  {
   "cell_type": "code",
   "execution_count": 4,
   "id": "783493fd",
   "metadata": {},
   "outputs": [
    {
     "data": {
      "text/plain": [
       "Index(['Country Name', 'Country Code', 'Indicator Name', 'Indicator Code',\n",
       "       '1960', '1961', '1962', '1963', '1964', '1965', '1966', '1967', '1968',\n",
       "       '1969', '1970', '1971', '1972', '1973', '1974', '1975', '1976', '1977',\n",
       "       '1978', '1979', '1980', '1981', '1982', '1983', '1984', '1985', '1986',\n",
       "       '1987', '1988', '1989', '1990', '1991', '1992', '1993', '1994', '1995',\n",
       "       '1996', '1997', '1998', '1999', '2000', '2001', '2002', '2003', '2004',\n",
       "       '2005', '2006', '2007', '2008', '2009', '2010', '2011', '2012', '2013',\n",
       "       '2014', '2015', '2016', '2017', '2018', '2019', '2020', '2021',\n",
       "       'Unnamed: 66'],\n",
       "      dtype='object')"
      ]
     },
     "execution_count": 4,
     "metadata": {},
     "output_type": "execute_result"
    }
   ],
   "source": [
    "df.columns"
   ]
  },
  {
   "cell_type": "markdown",
   "id": "7d797d23",
   "metadata": {},
   "source": [
    "####  Cut down the years we won't use"
   ]
  },
  {
   "cell_type": "code",
   "execution_count": 5,
   "id": "b5e12e0d",
   "metadata": {},
   "outputs": [],
   "source": [
    "df.drop(df.iloc[:, 3:34],axis = 1, inplace= True)"
   ]
  },
  {
   "cell_type": "code",
   "execution_count": 6,
   "id": "13cef814",
   "metadata": {},
   "outputs": [
    {
     "data": {
      "text/plain": [
       "<Axes: >"
      ]
     },
     "execution_count": 6,
     "metadata": {},
     "output_type": "execute_result"
    },
    {
     "data": {
      "image/png": "[encoded data removed]",
      "text/plain": [
       "<Figure size 640x480 with 2 Axes>"
      ]
     },
     "metadata": {},
     "output_type": "display_data"
    }
   ],
   "source": [
    "sns.heatmap(df.isna(),yticklabels=False,cmap = \"magma\")"
   ]
  },
  {
   "cell_type": "code",
   "execution_count": 7,
   "id": "69eb10c5",
   "metadata": {},
   "outputs": [],
   "source": [
    "df.drop(columns = ['Unnamed: 66', '2021'], inplace = True)"
   ]
  },
  {
   "cell_type": "code",
   "execution_count": 8,
   "id": "f81d8663",
   "metadata": {},
   "outputs": [],
   "source": [
    "df = df[df['Country Name'] != 'Not classified'].reset_index(drop = True) "
   ]
  },
  {
   "cell_type": "code",
   "execution_count": 9,
   "id": "ed89c5d0",
   "metadata": {},
   "outputs": [
    {
     "data": {
      "text/plain": [
       "False"
      ]
     },
     "execution_count": 9,
     "metadata": {},
     "output_type": "execute_result"
    }
   ],
   "source": [
    "df.isna().any().any()"
   ]
  },
  {
   "cell_type": "code",
   "execution_count": 10,
   "id": "e25ff613",
   "metadata": {},
   "outputs": [],
   "source": [
    "def normalize_columns_names(data):\n",
    "    \n",
    "    data.columns = [col.strip().lower().replace(' ', '_') for col in df.columns]\n",
    "        \n",
    "    return data"
   ]
  },
  {
   "cell_type": "code",
   "execution_count": 11,
   "id": "161ef13a",
   "metadata": {},
   "outputs": [],
   "source": [
    "df = normalize_columns_names(df)"
   ]
  },
  {
   "cell_type": "code",
   "execution_count": 12,
   "id": "772e8c3f",
   "metadata": {},
   "outputs": [
    {
     "data": {
      "text/html": [
       "<div>\n",
       "<style scoped>\n",
       "    .dataframe tbody tr th:only-of-type {\n",
       "        vertical-align: middle;\n",
       "    }\n",
       "\n",
       "    .dataframe tbody tr th {\n",
       "        vertical-align: top;\n",
       "    }\n",
       "\n",
       "    .dataframe thead th {\n",
       "        text-align: right;\n",
       "    }\n",
       "</style>\n",
       "<table border=\"1\" class=\"dataframe\">\n",
       "  <thead>\n",
       "    <tr style=\"text-align: right;\">\n",
       "      <th></th>\n",
       "      <th>country_name</th>\n",
       "      <th>country_code</th>\n",
       "      <th>indicator_name</th>\n",
       "      <th>1990</th>\n",
       "      <th>1991</th>\n",
       "      <th>1992</th>\n",
       "      <th>1993</th>\n",
       "      <th>1994</th>\n",
       "      <th>1995</th>\n",
       "      <th>1996</th>\n",
       "      <th>...</th>\n",
       "      <th>2011</th>\n",
       "      <th>2012</th>\n",
       "      <th>2013</th>\n",
       "      <th>2014</th>\n",
       "      <th>2015</th>\n",
       "      <th>2016</th>\n",
       "      <th>2017</th>\n",
       "      <th>2018</th>\n",
       "      <th>2019</th>\n",
       "      <th>2020</th>\n",
       "    </tr>\n",
       "  </thead>\n",
       "  <tbody>\n",
       "    <tr>\n",
       "      <th>0</th>\n",
       "      <td>Aruba</td>\n",
       "      <td>ABW</td>\n",
       "      <td>Net migration</td>\n",
       "      <td>879</td>\n",
       "      <td>1,946</td>\n",
       "      <td>1,294</td>\n",
       "      <td>1,662</td>\n",
       "      <td>1,668</td>\n",
       "      <td>1,598</td>\n",
       "      <td>1,636</td>\n",
       "      <td>...</td>\n",
       "      <td>315</td>\n",
       "      <td>229</td>\n",
       "      <td>134</td>\n",
       "      <td>88</td>\n",
       "      <td>177</td>\n",
       "      <td>170</td>\n",
       "      <td>218</td>\n",
       "      <td>367</td>\n",
       "      <td>412</td>\n",
       "      <td>0</td>\n",
       "    </tr>\n",
       "    <tr>\n",
       "      <th>1</th>\n",
       "      <td>Africa Eastern and Southern</td>\n",
       "      <td>AFE</td>\n",
       "      <td>Net migration</td>\n",
       "      <td>22,815</td>\n",
       "      <td>-511,160</td>\n",
       "      <td>-556,663</td>\n",
       "      <td>-156,997</td>\n",
       "      <td>-391,945</td>\n",
       "      <td>-243,945</td>\n",
       "      <td>-427,138</td>\n",
       "      <td>...</td>\n",
       "      <td>-683,611</td>\n",
       "      <td>-285,231</td>\n",
       "      <td>-92,842</td>\n",
       "      <td>-199,608</td>\n",
       "      <td>394,925</td>\n",
       "      <td>-864,708</td>\n",
       "      <td>-343,075</td>\n",
       "      <td>-366,105</td>\n",
       "      <td>-187,410</td>\n",
       "      <td>-48,955</td>\n",
       "    </tr>\n",
       "    <tr>\n",
       "      <th>2</th>\n",
       "      <td>Afghanistan</td>\n",
       "      <td>AFG</td>\n",
       "      <td>Net migration</td>\n",
       "      <td>-666,001</td>\n",
       "      <td>39,926</td>\n",
       "      <td>1,834,556</td>\n",
       "      <td>1,171,818</td>\n",
       "      <td>665,410</td>\n",
       "      <td>71,824</td>\n",
       "      <td>27,194</td>\n",
       "      <td>...</td>\n",
       "      <td>418,796</td>\n",
       "      <td>105,905</td>\n",
       "      <td>48,076</td>\n",
       "      <td>255,611</td>\n",
       "      <td>-281,739</td>\n",
       "      <td>-90,238</td>\n",
       "      <td>-47,090</td>\n",
       "      <td>-47,205</td>\n",
       "      <td>-8,082</td>\n",
       "      <td>166,821</td>\n",
       "    </tr>\n",
       "    <tr>\n",
       "      <th>3</th>\n",
       "      <td>Africa Western and Central</td>\n",
       "      <td>AFW</td>\n",
       "      <td>Net migration</td>\n",
       "      <td>-529,414</td>\n",
       "      <td>-101,888</td>\n",
       "      <td>-72,380</td>\n",
       "      <td>-345,858</td>\n",
       "      <td>-198,790</td>\n",
       "      <td>10,350</td>\n",
       "      <td>-188,064</td>\n",
       "      <td>...</td>\n",
       "      <td>-198,802</td>\n",
       "      <td>-435,876</td>\n",
       "      <td>-377,305</td>\n",
       "      <td>-280,418</td>\n",
       "      <td>-360,393</td>\n",
       "      <td>-167,286</td>\n",
       "      <td>-200,823</td>\n",
       "      <td>-255,888</td>\n",
       "      <td>-328,552</td>\n",
       "      <td>-99,761</td>\n",
       "    </tr>\n",
       "    <tr>\n",
       "      <th>4</th>\n",
       "      <td>Angola</td>\n",
       "      <td>AGO</td>\n",
       "      <td>Net migration</td>\n",
       "      <td>47,663</td>\n",
       "      <td>33,925</td>\n",
       "      <td>39,196</td>\n",
       "      <td>38,883</td>\n",
       "      <td>45,272</td>\n",
       "      <td>40,855</td>\n",
       "      <td>45,356</td>\n",
       "      <td>...</td>\n",
       "      <td>94,709</td>\n",
       "      <td>96,056</td>\n",
       "      <td>91,528</td>\n",
       "      <td>84,532</td>\n",
       "      <td>74,170</td>\n",
       "      <td>91,623</td>\n",
       "      <td>77,733</td>\n",
       "      <td>61,632</td>\n",
       "      <td>58,986</td>\n",
       "      <td>7,557</td>\n",
       "    </tr>\n",
       "  </tbody>\n",
       "</table>\n",
       "<p>5 rows × 34 columns</p>\n",
       "</div>"
      ],
      "text/plain": [
       "                  country_name country_code indicator_name     1990     1991  \\\n",
       "0                        Aruba          ABW  Net migration      879    1,946   \n",
       "1  Africa Eastern and Southern          AFE  Net migration   22,815 -511,160   \n",
       "2                  Afghanistan          AFG  Net migration -666,001   39,926   \n",
       "3   Africa Western and Central          AFW  Net migration -529,414 -101,888   \n",
       "4                       Angola          AGO  Net migration   47,663   33,925   \n",
       "\n",
       "       1992      1993     1994     1995     1996  ...     2011     2012  \\\n",
       "0     1,294     1,662    1,668    1,598    1,636  ...      315      229   \n",
       "1  -556,663  -156,997 -391,945 -243,945 -427,138  ... -683,611 -285,231   \n",
       "2 1,834,556 1,171,818  665,410   71,824   27,194  ...  418,796  105,905   \n",
       "3   -72,380  -345,858 -198,790   10,350 -188,064  ... -198,802 -435,876   \n",
       "4    39,196    38,883   45,272   40,855   45,356  ...   94,709   96,056   \n",
       "\n",
       "      2013     2014     2015     2016     2017     2018     2019    2020  \n",
       "0      134       88      177      170      218      367      412       0  \n",
       "1  -92,842 -199,608  394,925 -864,708 -343,075 -366,105 -187,410 -48,955  \n",
       "2   48,076  255,611 -281,739  -90,238  -47,090  -47,205   -8,082 166,821  \n",
       "3 -377,305 -280,418 -360,393 -167,286 -200,823 -255,888 -328,552 -99,761  \n",
       "4   91,528   84,532   74,170   91,623   77,733   61,632   58,986   7,557  \n",
       "\n",
       "[5 rows x 34 columns]"
      ]
     },
     "execution_count": 12,
     "metadata": {},
     "output_type": "execute_result"
    }
   ],
   "source": [
    "df.head()"
   ]
  },
  {
   "cell_type": "markdown",
   "id": "d6e31ed5",
   "metadata": {},
   "source": [
    "### Normalize data"
   ]
  },
  {
   "cell_type": "markdown",
   "id": "4eb41d6e",
   "metadata": {},
   "source": [
    "#### Change data type in year columns"
   ]
  },
  {
   "cell_type": "code",
   "execution_count": 13,
   "id": "8de24a47",
   "metadata": {},
   "outputs": [],
   "source": [
    "for column in df.iloc[:, 3:34]:\n",
    "    df[column].astype(float)"
   ]
  },
  {
   "cell_type": "code",
   "execution_count": 14,
   "id": "d773a7fc",
   "metadata": {},
   "outputs": [],
   "source": [
    "#df.info()"
   ]
  },
  {
   "cell_type": "code",
   "execution_count": 15,
   "id": "aff3a16b",
   "metadata": {},
   "outputs": [],
   "source": [
    "# Filter the indicator name and normalize it\n",
    "indicator_name = df.indicator_name.mode()[0].lower()\n",
    "indicator_name = indicator_name.replace(' ', '_')"
   ]
  },
  {
   "cell_type": "code",
   "execution_count": 16,
   "id": "0aeb9cc3",
   "metadata": {},
   "outputs": [],
   "source": [
    "# Apply this value over the column\n",
    "df.indicator_name = indicator_name"
   ]
  },
  {
   "cell_type": "code",
   "execution_count": 17,
   "id": "7c83eef1",
   "metadata": {},
   "outputs": [],
   "source": [
    "# replace chars\n",
    "df.indicator_name = df.indicator_name.apply(lambda x: x.replace(' ', '_').strip())"
   ]
  },
  {
   "cell_type": "code",
   "execution_count": 18,
   "id": "11d7017e",
   "metadata": {},
   "outputs": [],
   "source": [
    "# Normalize the first two columns\n",
    "for column in df.iloc[:, :2]:\n",
    "    df[column] = df[column].apply(lambda x: x.upper().strip())"
   ]
  },
  {
   "cell_type": "markdown",
   "id": "7d7ccd95",
   "metadata": {},
   "source": [
    "### Now, let's identify the year columns with the corresponding indicator name"
   ]
  },
  {
   "cell_type": "code",
   "execution_count": 19,
   "id": "75ca9157",
   "metadata": {},
   "outputs": [],
   "source": [
    "for column in df.iloc[:, 3:34]:\n",
    "    df.rename(columns={column: f'{indicator_name}_{column}' }, inplace = True)"
   ]
  },
  {
   "cell_type": "code",
   "execution_count": 20,
   "id": "f336e024",
   "metadata": {},
   "outputs": [],
   "source": [
    "# Now, we can drop this column\n",
    "df.drop(columns = 'indicator_name', inplace = True)"
   ]
  },
  {
   "cell_type": "code",
   "execution_count": 21,
   "id": "666349f0",
   "metadata": {},
   "outputs": [],
   "source": [
    "df.rename(columns = {'country_name\t':'country_name'}, inplace = True)"
   ]
  },
  {
   "cell_type": "markdown",
   "id": "bba8c19c",
   "metadata": {},
   "source": [
    "#### Now we can separate the countries from the regions"
   ]
  },
  {
   "cell_type": "code",
   "execution_count": 22,
   "id": "9630b460",
   "metadata": {},
   "outputs": [],
   "source": [
    "region = ['AFRICA EASTERN AND SOUTHERN', 'AFRICA WESTERN AND CENTRAL', 'EAST ASIA & PACIFIC', 'EUROPE & CENTRAL ASIA',\n",
    "          'LATIN AMERICA & CARIBBEAN', 'MIDDLE EAST & NORTH AFRICA', 'NORTH AMERICA', 'SOUTH ASIA', 'SUB-SAHARAN AFRICA',\n",
    "          'WORLD']"
   ]
  },
  {
   "cell_type": "code",
   "execution_count": 23,
   "id": "dce57a65",
   "metadata": {},
   "outputs": [],
   "source": [
    "income_levels =['HIGH INCOME', 'LOW & MIDDLE INCOME', 'LOW INCOME', 'LOWER MIDDLE INCOME', 'MIDDLE INCOME',\n",
    "                'UPPER MIDDLE INCOME','WORLD']\n"
   ]
  },
  {
   "cell_type": "code",
   "execution_count": 24,
   "id": "74a8857c",
   "metadata": {},
   "outputs": [],
   "source": [
    "dividends = ['POST-DEMOGRAPHIC DIVIDEND', 'PRE-DEMOGRAPHIC DIVIDEND', 'EARLY-DEMOGRAPHIC DIVIDEND','LATE-DEMOGRAPHIC DIVIDEND']"
   ]
  },
  {
   "cell_type": "code",
   "execution_count": 25,
   "id": "5ec732b0",
   "metadata": {},
   "outputs": [],
   "source": [
    "lending_groups =['IBRD ONLY', 'IDA BLEND', 'IDA & IBRD TOTAL', 'IDA ONLY', 'IDA TOTAL',\n",
    "                 'EAST ASIA & PACIFIC (IDA & IBRD COUNTRIES)', 'EUROPE & CENTRAL ASIA (IDA & IBRD COUNTRIES)',\n",
    "                 'LATIN AMERICA & THE CARIBBEAN (IDA & IBRD COUNTRIES)', 'MIDDLE EAST & NORTH AFRICA (IDA & IBRD COUNTRIES)',\n",
    "                 'SOUTH ASIA (IDA & IBRD)', 'SUB-SAHARAN AFRICA (IDA & IBRD COUNTRIES)','WORLD']"
   ]
  },
  {
   "cell_type": "code",
   "execution_count": 26,
   "id": "d1f2d7dc",
   "metadata": {},
   "outputs": [],
   "source": [
    "small_states= ['CARIBBEAN SMALL STATES', 'OTHER SMALL STATES', 'PACIFIC ISLAND SMALL STATES', 'SMALL STATES','WORLD']"
   ]
  },
  {
   "cell_type": "code",
   "execution_count": 27,
   "id": "95cf8915",
   "metadata": {},
   "outputs": [],
   "source": [
    "other_groups=['ARAB WORLD', 'CENTRAL EUROPE AND THE BALTICS', 'EAST ASIA & PACIFIC (EXCLUDING HIGH INCOME)',\n",
    "              'EURO AREA', 'EUROPE & CENTRAL ASIA (EXCLUDING HIGH INCOME)', 'EUROPEAN UNION',\n",
    "              'FRAGILE AND CONFLICT AFFECTED SITUATIONS', 'HEAVILY INDEBTED POOR COUNTRIES (HIPC)',\n",
    "              'LATIN AMERICA & CARIBBEAN (EXCLUDING HIGH INCOME)', 'LEAST DEVELOPED COUNTRIES: UN CLASSIFICATION',\n",
    "              'MIDDLE EAST & NORTH AFRICA (EXCLUDING HIGH INCOME)', 'OECD MEMBERS',\n",
    "              'SUB-SAHARAN AFRICA (EXCLUDING HIGH INCOME)', 'WORLD']"
   ]
  },
  {
   "cell_type": "markdown",
   "id": "756621b4",
   "metadata": {},
   "source": [
    "## Filter the different regions"
   ]
  },
  {
   "cell_type": "code",
   "execution_count": 28,
   "id": "b022929f",
   "metadata": {},
   "outputs": [],
   "source": [
    "df = df[df['country_name'].isin(region) == False]\n",
    "df= df[df['country_name'].isin(income_levels)== False]\n",
    "df= df[df['country_name'].isin(dividends)== False]\n",
    "df = df[df['country_name'].isin(lending_groups)== False]\n",
    "df = df[df['country_name'].isin(small_states)== False]\n",
    "df = df[df['country_name'].isin(other_groups) == False]"
   ]
  },
  {
   "cell_type": "code",
   "execution_count": 29,
   "id": "008db80c",
   "metadata": {},
   "outputs": [],
   "source": [
    "df.to_csv(f'dataSets\\\\countries_{indicator_name}_intermedio.csv', index = False)"
   ]
  },
  {
   "cell_type": "code",
   "execution_count": null,
   "id": "9454f73c",
   "metadata": {},
   "outputs": [],
   "source": []
  }
 ],
 "metadata": {
  "kernelspec": {
   "display_name": "Python 3 (ipykernel)",
   "language": "python",
   "name": "python3"
  },
  "language_info": {
   "codemirror_mode": {
    "name": "ipython",
    "version": 3
   },
   "file_extension": ".py",
   "mimetype": "text/x-python",
   "name": "python",
   "nbconvert_exporter": "python",
   "pygments_lexer": "ipython3",
   "version": "3.9.15"
  }
 },
 "nbformat": 4,
 "nbformat_minor": 5
}
