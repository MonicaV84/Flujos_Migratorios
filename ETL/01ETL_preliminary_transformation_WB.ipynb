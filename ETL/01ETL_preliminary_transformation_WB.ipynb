{
 "cells": [
  {
   "cell_type": "markdown",
   "id": "242ba4cd",
   "metadata": {},
   "source": [
    "# Separate countries from regions"
   ]
  },
  {
   "cell_type": "code",
   "execution_count": 1,
   "id": "115f0816",
   "metadata": {},
   "outputs": [],
   "source": [
    "import pandas as pd\n",
    "import numpy as np"
   ]
  },
  {
   "cell_type": "code",
   "execution_count": 2,
   "id": "6d59a2b2",
   "metadata": {},
   "outputs": [],
   "source": [
    "import seaborn as sns"
   ]
  },
  {
   "cell_type": "code",
   "execution_count": 3,
   "id": "2b2c1562",
   "metadata": {},
   "outputs": [],
   "source": [
    "import os"
   ]
  },
  {
   "cell_type": "code",
   "execution_count": 4,
   "id": "c122a60d",
   "metadata": {},
   "outputs": [],
   "source": [
    "pd.options.display.float_format = '{:,.0f}'.format"
   ]
  },
  {
   "cell_type": "code",
   "execution_count": 5,
   "id": "7c66cb95",
   "metadata": {},
   "outputs": [],
   "source": [
    "def iterate_over_files(root_folder):\n",
    "    my_listf = []\n",
    "    for subdir, dirs, files in os.walk(root_folder):\n",
    "        for file in files:\n",
    "            full_path = os.path.join(subdir, file)\n",
    "            if ('Metadata' in full_path):\n",
    "                pass\n",
    "            elif  (full_path == '..\\\\DataSetsBancoMundial\\\\country_codes\\\\country_codes.csv'):\n",
    "                pass\n",
    "            else:\n",
    "                my_listf.append(full_path)\n",
    "                \n",
    "    return my_listf         "
   ]
  },
  {
   "cell_type": "code",
   "execution_count": 6,
   "id": "56b28949",
   "metadata": {},
   "outputs": [],
   "source": [
    "list_paths = iterate_over_files('..\\\\DataSetsBancoMundial')"
   ]
  },
  {
   "cell_type": "code",
   "execution_count": 7,
   "id": "fb1ce68e",
   "metadata": {},
   "outputs": [
    {
     "data": {
      "text/plain": [
       "['..\\\\DataSetsBancoMundial\\\\demographic\\\\population.csv',\n",
       " '..\\\\DataSetsBancoMundial\\\\net_migration\\\\net_migration.csv']"
      ]
     },
     "execution_count": 7,
     "metadata": {},
     "output_type": "execute_result"
    }
   ],
   "source": [
    "list_paths "
   ]
  },
  {
   "cell_type": "code",
   "execution_count": 8,
   "id": "2a0d6402",
   "metadata": {},
   "outputs": [],
   "source": [
    "path = list_paths[1]"
   ]
  },
  {
   "cell_type": "code",
   "execution_count": 9,
   "id": "6cfd5dc0",
   "metadata": {},
   "outputs": [],
   "source": [
    "def load_data(a_path):\n",
    "    data = pd.read_csv(a_path, skiprows = 3)\n",
    "    return data"
   ]
  },
  {
   "cell_type": "code",
   "execution_count": 10,
   "id": "e07a3600",
   "metadata": {},
   "outputs": [],
   "source": [
    "df = load_data(path)"
   ]
  },
  {
   "cell_type": "code",
   "execution_count": 11,
   "id": "783493fd",
   "metadata": {},
   "outputs": [
    {
     "data": {
      "text/html": [
       "<div>\n",
       "<style scoped>\n",
       "    .dataframe tbody tr th:only-of-type {\n",
       "        vertical-align: middle;\n",
       "    }\n",
       "\n",
       "    .dataframe tbody tr th {\n",
       "        vertical-align: top;\n",
       "    }\n",
       "\n",
       "    .dataframe thead th {\n",
       "        text-align: right;\n",
       "    }\n",
       "</style>\n",
       "<table border=\"1\" class=\"dataframe\">\n",
       "  <thead>\n",
       "    <tr style=\"text-align: right;\">\n",
       "      <th></th>\n",
       "      <th>Country Name</th>\n",
       "      <th>Country Code</th>\n",
       "      <th>Indicator Name</th>\n",
       "      <th>Indicator Code</th>\n",
       "      <th>1960</th>\n",
       "      <th>1961</th>\n",
       "      <th>1962</th>\n",
       "      <th>1963</th>\n",
       "      <th>1964</th>\n",
       "      <th>1965</th>\n",
       "      <th>...</th>\n",
       "      <th>2013</th>\n",
       "      <th>2014</th>\n",
       "      <th>2015</th>\n",
       "      <th>2016</th>\n",
       "      <th>2017</th>\n",
       "      <th>2018</th>\n",
       "      <th>2019</th>\n",
       "      <th>2020</th>\n",
       "      <th>2021</th>\n",
       "      <th>Unnamed: 66</th>\n",
       "    </tr>\n",
       "  </thead>\n",
       "  <tbody>\n",
       "    <tr>\n",
       "      <th>0</th>\n",
       "      <td>Aruba</td>\n",
       "      <td>ABW</td>\n",
       "      <td>Net migration</td>\n",
       "      <td>SM.POP.NETM</td>\n",
       "      <td>0</td>\n",
       "      <td>-569</td>\n",
       "      <td>-609</td>\n",
       "      <td>-646</td>\n",
       "      <td>-684</td>\n",
       "      <td>-726</td>\n",
       "      <td>...</td>\n",
       "      <td>134</td>\n",
       "      <td>88</td>\n",
       "      <td>177</td>\n",
       "      <td>170</td>\n",
       "      <td>218</td>\n",
       "      <td>367</td>\n",
       "      <td>412</td>\n",
       "      <td>0</td>\n",
       "      <td>501</td>\n",
       "      <td>NaN</td>\n",
       "    </tr>\n",
       "    <tr>\n",
       "      <th>1</th>\n",
       "      <td>Africa Eastern and Southern</td>\n",
       "      <td>AFE</td>\n",
       "      <td>Net migration</td>\n",
       "      <td>SM.POP.NETM</td>\n",
       "      <td>-90,849</td>\n",
       "      <td>-1,348</td>\n",
       "      <td>-24,259</td>\n",
       "      <td>-16,266</td>\n",
       "      <td>37,452</td>\n",
       "      <td>11,041</td>\n",
       "      <td>...</td>\n",
       "      <td>-92,842</td>\n",
       "      <td>-199,608</td>\n",
       "      <td>394,925</td>\n",
       "      <td>-864,708</td>\n",
       "      <td>-343,075</td>\n",
       "      <td>-366,105</td>\n",
       "      <td>-187,410</td>\n",
       "      <td>-48,955</td>\n",
       "      <td>-179,444</td>\n",
       "      <td>NaN</td>\n",
       "    </tr>\n",
       "    <tr>\n",
       "      <th>2</th>\n",
       "      <td>Afghanistan</td>\n",
       "      <td>AFG</td>\n",
       "      <td>Net migration</td>\n",
       "      <td>SM.POP.NETM</td>\n",
       "      <td>2,606</td>\n",
       "      <td>6,109</td>\n",
       "      <td>7,016</td>\n",
       "      <td>6,681</td>\n",
       "      <td>7,079</td>\n",
       "      <td>10,695</td>\n",
       "      <td>...</td>\n",
       "      <td>48,076</td>\n",
       "      <td>255,611</td>\n",
       "      <td>-281,739</td>\n",
       "      <td>-90,238</td>\n",
       "      <td>-47,090</td>\n",
       "      <td>-47,205</td>\n",
       "      <td>-8,082</td>\n",
       "      <td>166,821</td>\n",
       "      <td>-183,672</td>\n",
       "      <td>NaN</td>\n",
       "    </tr>\n",
       "    <tr>\n",
       "      <th>3</th>\n",
       "      <td>Africa Western and Central</td>\n",
       "      <td>AFW</td>\n",
       "      <td>Net migration</td>\n",
       "      <td>SM.POP.NETM</td>\n",
       "      <td>-847</td>\n",
       "      <td>-41,547</td>\n",
       "      <td>-36,399</td>\n",
       "      <td>-37,435</td>\n",
       "      <td>-45,534</td>\n",
       "      <td>-15,985</td>\n",
       "      <td>...</td>\n",
       "      <td>-377,305</td>\n",
       "      <td>-280,418</td>\n",
       "      <td>-360,393</td>\n",
       "      <td>-167,286</td>\n",
       "      <td>-200,823</td>\n",
       "      <td>-255,888</td>\n",
       "      <td>-328,552</td>\n",
       "      <td>-99,761</td>\n",
       "      <td>-264,802</td>\n",
       "      <td>NaN</td>\n",
       "    </tr>\n",
       "    <tr>\n",
       "      <th>4</th>\n",
       "      <td>Angola</td>\n",
       "      <td>AGO</td>\n",
       "      <td>Net migration</td>\n",
       "      <td>SM.POP.NETM</td>\n",
       "      <td>-43,749</td>\n",
       "      <td>-49,186</td>\n",
       "      <td>-54,566</td>\n",
       "      <td>-59,777</td>\n",
       "      <td>-71,948</td>\n",
       "      <td>-87,288</td>\n",
       "      <td>...</td>\n",
       "      <td>91,528</td>\n",
       "      <td>84,532</td>\n",
       "      <td>74,170</td>\n",
       "      <td>91,623</td>\n",
       "      <td>77,733</td>\n",
       "      <td>61,632</td>\n",
       "      <td>58,986</td>\n",
       "      <td>7,557</td>\n",
       "      <td>29,089</td>\n",
       "      <td>NaN</td>\n",
       "    </tr>\n",
       "    <tr>\n",
       "      <th>...</th>\n",
       "      <td>...</td>\n",
       "      <td>...</td>\n",
       "      <td>...</td>\n",
       "      <td>...</td>\n",
       "      <td>...</td>\n",
       "      <td>...</td>\n",
       "      <td>...</td>\n",
       "      <td>...</td>\n",
       "      <td>...</td>\n",
       "      <td>...</td>\n",
       "      <td>...</td>\n",
       "      <td>...</td>\n",
       "      <td>...</td>\n",
       "      <td>...</td>\n",
       "      <td>...</td>\n",
       "      <td>...</td>\n",
       "      <td>...</td>\n",
       "      <td>...</td>\n",
       "      <td>...</td>\n",
       "      <td>...</td>\n",
       "      <td>...</td>\n",
       "    </tr>\n",
       "    <tr>\n",
       "      <th>261</th>\n",
       "      <td>Kosovo</td>\n",
       "      <td>XKX</td>\n",
       "      <td>Net migration</td>\n",
       "      <td>SM.POP.NETM</td>\n",
       "      <td>-6,603</td>\n",
       "      <td>-6,713</td>\n",
       "      <td>-7,466</td>\n",
       "      <td>-7,874</td>\n",
       "      <td>-8,266</td>\n",
       "      <td>-8,573</td>\n",
       "      <td>...</td>\n",
       "      <td>-40,468</td>\n",
       "      <td>-56,637</td>\n",
       "      <td>-14,819</td>\n",
       "      <td>-31,383</td>\n",
       "      <td>-33,495</td>\n",
       "      <td>-34,137</td>\n",
       "      <td>-33,469</td>\n",
       "      <td>-15,050</td>\n",
       "      <td>-15,050</td>\n",
       "      <td>NaN</td>\n",
       "    </tr>\n",
       "    <tr>\n",
       "      <th>262</th>\n",
       "      <td>Yemen, Rep.</td>\n",
       "      <td>YEM</td>\n",
       "      <td>Net migration</td>\n",
       "      <td>SM.POP.NETM</td>\n",
       "      <td>-17,145</td>\n",
       "      <td>-17,494</td>\n",
       "      <td>-17,846</td>\n",
       "      <td>-18,217</td>\n",
       "      <td>-18,583</td>\n",
       "      <td>-18,968</td>\n",
       "      <td>...</td>\n",
       "      <td>-23,747</td>\n",
       "      <td>-30,048</td>\n",
       "      <td>-38,355</td>\n",
       "      <td>-39,688</td>\n",
       "      <td>-39,672</td>\n",
       "      <td>-39,699</td>\n",
       "      <td>-39,769</td>\n",
       "      <td>-86,100</td>\n",
       "      <td>-101,468</td>\n",
       "      <td>NaN</td>\n",
       "    </tr>\n",
       "    <tr>\n",
       "      <th>263</th>\n",
       "      <td>South Africa</td>\n",
       "      <td>ZAF</td>\n",
       "      <td>Net migration</td>\n",
       "      <td>SM.POP.NETM</td>\n",
       "      <td>18,909</td>\n",
       "      <td>56,098</td>\n",
       "      <td>68,068</td>\n",
       "      <td>70,976</td>\n",
       "      <td>74,419</td>\n",
       "      <td>80,687</td>\n",
       "      <td>...</td>\n",
       "      <td>63,794</td>\n",
       "      <td>290,874</td>\n",
       "      <td>644,996</td>\n",
       "      <td>-866,101</td>\n",
       "      <td>-10,681</td>\n",
       "      <td>27,265</td>\n",
       "      <td>22,728</td>\n",
       "      <td>30,852</td>\n",
       "      <td>10,934</td>\n",
       "      <td>NaN</td>\n",
       "    </tr>\n",
       "    <tr>\n",
       "      <th>264</th>\n",
       "      <td>Zambia</td>\n",
       "      <td>ZMB</td>\n",
       "      <td>Net migration</td>\n",
       "      <td>SM.POP.NETM</td>\n",
       "      <td>-3,894</td>\n",
       "      <td>-4,357</td>\n",
       "      <td>-4,756</td>\n",
       "      <td>-5,029</td>\n",
       "      <td>-5,214</td>\n",
       "      <td>-5,370</td>\n",
       "      <td>...</td>\n",
       "      <td>15,574</td>\n",
       "      <td>16,580</td>\n",
       "      <td>16,283</td>\n",
       "      <td>17,285</td>\n",
       "      <td>20,268</td>\n",
       "      <td>18,019</td>\n",
       "      <td>18,019</td>\n",
       "      <td>9,015</td>\n",
       "      <td>9,015</td>\n",
       "      <td>NaN</td>\n",
       "    </tr>\n",
       "    <tr>\n",
       "      <th>265</th>\n",
       "      <td>Zimbabwe</td>\n",
       "      <td>ZWE</td>\n",
       "      <td>Net migration</td>\n",
       "      <td>SM.POP.NETM</td>\n",
       "      <td>-8,256</td>\n",
       "      <td>-8,582</td>\n",
       "      <td>-8,931</td>\n",
       "      <td>-9,369</td>\n",
       "      <td>-10,064</td>\n",
       "      <td>-10,889</td>\n",
       "      <td>...</td>\n",
       "      <td>-59,918</td>\n",
       "      <td>-59,918</td>\n",
       "      <td>-59,918</td>\n",
       "      <td>-59,918</td>\n",
       "      <td>-59,918</td>\n",
       "      <td>-59,918</td>\n",
       "      <td>-59,918</td>\n",
       "      <td>-29,955</td>\n",
       "      <td>-25,005</td>\n",
       "      <td>NaN</td>\n",
       "    </tr>\n",
       "  </tbody>\n",
       "</table>\n",
       "<p>266 rows × 67 columns</p>\n",
       "</div>"
      ],
      "text/plain": [
       "                    Country Name Country Code Indicator Name Indicator Code  \\\n",
       "0                          Aruba          ABW  Net migration    SM.POP.NETM   \n",
       "1    Africa Eastern and Southern          AFE  Net migration    SM.POP.NETM   \n",
       "2                    Afghanistan          AFG  Net migration    SM.POP.NETM   \n",
       "3     Africa Western and Central          AFW  Net migration    SM.POP.NETM   \n",
       "4                         Angola          AGO  Net migration    SM.POP.NETM   \n",
       "..                           ...          ...            ...            ...   \n",
       "261                       Kosovo          XKX  Net migration    SM.POP.NETM   \n",
       "262                  Yemen, Rep.          YEM  Net migration    SM.POP.NETM   \n",
       "263                 South Africa          ZAF  Net migration    SM.POP.NETM   \n",
       "264                       Zambia          ZMB  Net migration    SM.POP.NETM   \n",
       "265                     Zimbabwe          ZWE  Net migration    SM.POP.NETM   \n",
       "\n",
       "       1960    1961    1962    1963    1964    1965  ...     2013     2014  \\\n",
       "0         0    -569    -609    -646    -684    -726  ...      134       88   \n",
       "1   -90,849  -1,348 -24,259 -16,266  37,452  11,041  ...  -92,842 -199,608   \n",
       "2     2,606   6,109   7,016   6,681   7,079  10,695  ...   48,076  255,611   \n",
       "3      -847 -41,547 -36,399 -37,435 -45,534 -15,985  ... -377,305 -280,418   \n",
       "4   -43,749 -49,186 -54,566 -59,777 -71,948 -87,288  ...   91,528   84,532   \n",
       "..      ...     ...     ...     ...     ...     ...  ...      ...      ...   \n",
       "261  -6,603  -6,713  -7,466  -7,874  -8,266  -8,573  ...  -40,468  -56,637   \n",
       "262 -17,145 -17,494 -17,846 -18,217 -18,583 -18,968  ...  -23,747  -30,048   \n",
       "263  18,909  56,098  68,068  70,976  74,419  80,687  ...   63,794  290,874   \n",
       "264  -3,894  -4,357  -4,756  -5,029  -5,214  -5,370  ...   15,574   16,580   \n",
       "265  -8,256  -8,582  -8,931  -9,369 -10,064 -10,889  ...  -59,918  -59,918   \n",
       "\n",
       "        2015     2016     2017     2018     2019    2020     2021  Unnamed: 66  \n",
       "0        177      170      218      367      412       0      501          NaN  \n",
       "1    394,925 -864,708 -343,075 -366,105 -187,410 -48,955 -179,444          NaN  \n",
       "2   -281,739  -90,238  -47,090  -47,205   -8,082 166,821 -183,672          NaN  \n",
       "3   -360,393 -167,286 -200,823 -255,888 -328,552 -99,761 -264,802          NaN  \n",
       "4     74,170   91,623   77,733   61,632   58,986   7,557   29,089          NaN  \n",
       "..       ...      ...      ...      ...      ...     ...      ...          ...  \n",
       "261  -14,819  -31,383  -33,495  -34,137  -33,469 -15,050  -15,050          NaN  \n",
       "262  -38,355  -39,688  -39,672  -39,699  -39,769 -86,100 -101,468          NaN  \n",
       "263  644,996 -866,101  -10,681   27,265   22,728  30,852   10,934          NaN  \n",
       "264   16,283   17,285   20,268   18,019   18,019   9,015    9,015          NaN  \n",
       "265  -59,918  -59,918  -59,918  -59,918  -59,918 -29,955  -25,005          NaN  \n",
       "\n",
       "[266 rows x 67 columns]"
      ]
     },
     "execution_count": 11,
     "metadata": {},
     "output_type": "execute_result"
    }
   ],
   "source": [
    "df"
   ]
  },
  {
   "cell_type": "markdown",
   "id": "7d797d23",
   "metadata": {},
   "source": [
    "####  Cut down the years we won't use"
   ]
  },
  {
   "cell_type": "code",
   "execution_count": 12,
   "id": "b5e12e0d",
   "metadata": {},
   "outputs": [],
   "source": [
    "df.drop(df.iloc[:, 3:34],axis = 1, inplace= True)"
   ]
  },
  {
   "cell_type": "code",
   "execution_count": 13,
   "id": "13cef814",
   "metadata": {},
   "outputs": [
    {
     "data": {
      "text/plain": [
       "<AxesSubplot: >"
      ]
     },
     "execution_count": 13,
     "metadata": {},
     "output_type": "execute_result"
    },
    {
     "data": {
      "image/png": "[encoded data removed]",
      "text/plain": [
       "<Figure size 640x480 with 2 Axes>"
      ]
     },
     "metadata": {},
     "output_type": "display_data"
    }
   ],
   "source": [
    "sns.heatmap(df.isna(),yticklabels=False,cmap = \"magma\")"
   ]
  },
  {
   "cell_type": "code",
   "execution_count": 14,
   "id": "a4aa984a",
   "metadata": {},
   "outputs": [],
   "source": [
    "#df"
   ]
  },
  {
   "cell_type": "code",
   "execution_count": 15,
   "id": "69eb10c5",
   "metadata": {},
   "outputs": [],
   "source": [
    "df.drop(columns = ['Unnamed: 66', '2021'], inplace = True)"
   ]
  },
  {
   "cell_type": "code",
   "execution_count": 16,
   "id": "f81d8663",
   "metadata": {},
   "outputs": [],
   "source": [
    "df = df[df['Country Name'] != 'Not classified'].reset_index(drop = True) "
   ]
  },
  {
   "cell_type": "code",
   "execution_count": 17,
   "id": "ed89c5d0",
   "metadata": {},
   "outputs": [
    {
     "data": {
      "text/plain": [
       "False"
      ]
     },
     "execution_count": 17,
     "metadata": {},
     "output_type": "execute_result"
    }
   ],
   "source": [
    "df.isna().any().any()"
   ]
  },
  {
   "cell_type": "code",
   "execution_count": 18,
   "id": "21035c90",
   "metadata": {},
   "outputs": [
    {
     "data": {
      "text/plain": [
       "Country Name     0\n",
       "Country Code     0\n",
       "Indicator Name   0\n",
       "1990             0\n",
       "1991             0\n",
       "1992             0\n",
       "1993             0\n",
       "1994             0\n",
       "1995             0\n",
       "1996             0\n",
       "1997             0\n",
       "1998             0\n",
       "1999             0\n",
       "2000             0\n",
       "2001             0\n",
       "2002             0\n",
       "2003             0\n",
       "2004             0\n",
       "2005             0\n",
       "2006             0\n",
       "2007             0\n",
       "2008             0\n",
       "2009             0\n",
       "2010             0\n",
       "2011             0\n",
       "2012             0\n",
       "2013             0\n",
       "2014             0\n",
       "2015             0\n",
       "2016             0\n",
       "2017             0\n",
       "2018             0\n",
       "2019             0\n",
       "2020             0\n",
       "dtype: float64"
      ]
     },
     "execution_count": 18,
     "metadata": {},
     "output_type": "execute_result"
    }
   ],
   "source": [
    "df.isna().mean()*100"
   ]
  },
  {
   "cell_type": "code",
   "execution_count": 19,
   "id": "e25ff613",
   "metadata": {},
   "outputs": [],
   "source": [
    "def normalize_columns_names(data):\n",
    "    \n",
    "    data.columns = [col.strip().lower().replace(' ', '_') for col in df.columns]\n",
    "        \n",
    "    return data"
   ]
  },
  {
   "cell_type": "code",
   "execution_count": 20,
   "id": "161ef13a",
   "metadata": {},
   "outputs": [],
   "source": [
    "df = normalize_columns_names(df)"
   ]
  },
  {
   "cell_type": "code",
   "execution_count": 21,
   "id": "772e8c3f",
   "metadata": {},
   "outputs": [
    {
     "data": {
      "text/html": [
       "<div>\n",
       "<style scoped>\n",
       "    .dataframe tbody tr th:only-of-type {\n",
       "        vertical-align: middle;\n",
       "    }\n",
       "\n",
       "    .dataframe tbody tr th {\n",
       "        vertical-align: top;\n",
       "    }\n",
       "\n",
       "    .dataframe thead th {\n",
       "        text-align: right;\n",
       "    }\n",
       "</style>\n",
       "<table border=\"1\" class=\"dataframe\">\n",
       "  <thead>\n",
       "    <tr style=\"text-align: right;\">\n",
       "      <th></th>\n",
       "      <th>country_name</th>\n",
       "      <th>country_code</th>\n",
       "      <th>indicator_name</th>\n",
       "      <th>1990</th>\n",
       "      <th>1991</th>\n",
       "      <th>1992</th>\n",
       "      <th>1993</th>\n",
       "      <th>1994</th>\n",
       "      <th>1995</th>\n",
       "      <th>1996</th>\n",
       "      <th>...</th>\n",
       "      <th>2011</th>\n",
       "      <th>2012</th>\n",
       "      <th>2013</th>\n",
       "      <th>2014</th>\n",
       "      <th>2015</th>\n",
       "      <th>2016</th>\n",
       "      <th>2017</th>\n",
       "      <th>2018</th>\n",
       "      <th>2019</th>\n",
       "      <th>2020</th>\n",
       "    </tr>\n",
       "  </thead>\n",
       "  <tbody>\n",
       "    <tr>\n",
       "      <th>0</th>\n",
       "      <td>Aruba</td>\n",
       "      <td>ABW</td>\n",
       "      <td>Net migration</td>\n",
       "      <td>879</td>\n",
       "      <td>1,946</td>\n",
       "      <td>1,294</td>\n",
       "      <td>1,662</td>\n",
       "      <td>1,668</td>\n",
       "      <td>1,598</td>\n",
       "      <td>1,636</td>\n",
       "      <td>...</td>\n",
       "      <td>315</td>\n",
       "      <td>229</td>\n",
       "      <td>134</td>\n",
       "      <td>88</td>\n",
       "      <td>177</td>\n",
       "      <td>170</td>\n",
       "      <td>218</td>\n",
       "      <td>367</td>\n",
       "      <td>412</td>\n",
       "      <td>0</td>\n",
       "    </tr>\n",
       "    <tr>\n",
       "      <th>1</th>\n",
       "      <td>Africa Eastern and Southern</td>\n",
       "      <td>AFE</td>\n",
       "      <td>Net migration</td>\n",
       "      <td>22,815</td>\n",
       "      <td>-511,160</td>\n",
       "      <td>-556,663</td>\n",
       "      <td>-156,997</td>\n",
       "      <td>-391,945</td>\n",
       "      <td>-243,945</td>\n",
       "      <td>-427,138</td>\n",
       "      <td>...</td>\n",
       "      <td>-683,611</td>\n",
       "      <td>-285,231</td>\n",
       "      <td>-92,842</td>\n",
       "      <td>-199,608</td>\n",
       "      <td>394,925</td>\n",
       "      <td>-864,708</td>\n",
       "      <td>-343,075</td>\n",
       "      <td>-366,105</td>\n",
       "      <td>-187,410</td>\n",
       "      <td>-48,955</td>\n",
       "    </tr>\n",
       "    <tr>\n",
       "      <th>2</th>\n",
       "      <td>Afghanistan</td>\n",
       "      <td>AFG</td>\n",
       "      <td>Net migration</td>\n",
       "      <td>-666,001</td>\n",
       "      <td>39,926</td>\n",
       "      <td>1,834,556</td>\n",
       "      <td>1,171,818</td>\n",
       "      <td>665,410</td>\n",
       "      <td>71,824</td>\n",
       "      <td>27,194</td>\n",
       "      <td>...</td>\n",
       "      <td>418,796</td>\n",
       "      <td>105,905</td>\n",
       "      <td>48,076</td>\n",
       "      <td>255,611</td>\n",
       "      <td>-281,739</td>\n",
       "      <td>-90,238</td>\n",
       "      <td>-47,090</td>\n",
       "      <td>-47,205</td>\n",
       "      <td>-8,082</td>\n",
       "      <td>166,821</td>\n",
       "    </tr>\n",
       "    <tr>\n",
       "      <th>3</th>\n",
       "      <td>Africa Western and Central</td>\n",
       "      <td>AFW</td>\n",
       "      <td>Net migration</td>\n",
       "      <td>-529,414</td>\n",
       "      <td>-101,888</td>\n",
       "      <td>-72,380</td>\n",
       "      <td>-345,858</td>\n",
       "      <td>-198,790</td>\n",
       "      <td>10,350</td>\n",
       "      <td>-188,064</td>\n",
       "      <td>...</td>\n",
       "      <td>-198,802</td>\n",
       "      <td>-435,876</td>\n",
       "      <td>-377,305</td>\n",
       "      <td>-280,418</td>\n",
       "      <td>-360,393</td>\n",
       "      <td>-167,286</td>\n",
       "      <td>-200,823</td>\n",
       "      <td>-255,888</td>\n",
       "      <td>-328,552</td>\n",
       "      <td>-99,761</td>\n",
       "    </tr>\n",
       "    <tr>\n",
       "      <th>4</th>\n",
       "      <td>Angola</td>\n",
       "      <td>AGO</td>\n",
       "      <td>Net migration</td>\n",
       "      <td>47,663</td>\n",
       "      <td>33,925</td>\n",
       "      <td>39,196</td>\n",
       "      <td>38,883</td>\n",
       "      <td>45,272</td>\n",
       "      <td>40,855</td>\n",
       "      <td>45,356</td>\n",
       "      <td>...</td>\n",
       "      <td>94,709</td>\n",
       "      <td>96,056</td>\n",
       "      <td>91,528</td>\n",
       "      <td>84,532</td>\n",
       "      <td>74,170</td>\n",
       "      <td>91,623</td>\n",
       "      <td>77,733</td>\n",
       "      <td>61,632</td>\n",
       "      <td>58,986</td>\n",
       "      <td>7,557</td>\n",
       "    </tr>\n",
       "  </tbody>\n",
       "</table>\n",
       "<p>5 rows × 34 columns</p>\n",
       "</div>"
      ],
      "text/plain": [
       "                  country_name country_code indicator_name     1990     1991  \\\n",
       "0                        Aruba          ABW  Net migration      879    1,946   \n",
       "1  Africa Eastern and Southern          AFE  Net migration   22,815 -511,160   \n",
       "2                  Afghanistan          AFG  Net migration -666,001   39,926   \n",
       "3   Africa Western and Central          AFW  Net migration -529,414 -101,888   \n",
       "4                       Angola          AGO  Net migration   47,663   33,925   \n",
       "\n",
       "       1992      1993     1994     1995     1996  ...     2011     2012  \\\n",
       "0     1,294     1,662    1,668    1,598    1,636  ...      315      229   \n",
       "1  -556,663  -156,997 -391,945 -243,945 -427,138  ... -683,611 -285,231   \n",
       "2 1,834,556 1,171,818  665,410   71,824   27,194  ...  418,796  105,905   \n",
       "3   -72,380  -345,858 -198,790   10,350 -188,064  ... -198,802 -435,876   \n",
       "4    39,196    38,883   45,272   40,855   45,356  ...   94,709   96,056   \n",
       "\n",
       "      2013     2014     2015     2016     2017     2018     2019    2020  \n",
       "0      134       88      177      170      218      367      412       0  \n",
       "1  -92,842 -199,608  394,925 -864,708 -343,075 -366,105 -187,410 -48,955  \n",
       "2   48,076  255,611 -281,739  -90,238  -47,090  -47,205   -8,082 166,821  \n",
       "3 -377,305 -280,418 -360,393 -167,286 -200,823 -255,888 -328,552 -99,761  \n",
       "4   91,528   84,532   74,170   91,623   77,733   61,632   58,986   7,557  \n",
       "\n",
       "[5 rows x 34 columns]"
      ]
     },
     "execution_count": 21,
     "metadata": {},
     "output_type": "execute_result"
    }
   ],
   "source": [
    "df.head()"
   ]
  },
  {
   "cell_type": "markdown",
   "id": "d6e31ed5",
   "metadata": {},
   "source": [
    "### Normalize data"
   ]
  },
  {
   "cell_type": "markdown",
   "id": "4eb41d6e",
   "metadata": {},
   "source": [
    "#### Change data type in year columns"
   ]
  },
  {
   "cell_type": "code",
   "execution_count": 22,
   "id": "8de24a47",
   "metadata": {},
   "outputs": [],
   "source": [
    "for column in df.iloc[:, 3:34]:\n",
    "    df[column].astype(float)"
   ]
  },
  {
   "cell_type": "code",
   "execution_count": 24,
   "id": "7c83eef1",
   "metadata": {},
   "outputs": [],
   "source": [
    "df.indicator_name = df.indicator_name.apply(lambda x: x.lower().replace(' ', '_').strip())"
   ]
  },
  {
   "cell_type": "markdown",
   "id": "a37aceed",
   "metadata": {},
   "source": [
    "#### The indicator name below should be changed for each different file processed"
   ]
  },
  {
   "cell_type": "code",
   "execution_count": 25,
   "id": "0aeb9cc3",
   "metadata": {},
   "outputs": [],
   "source": [
    "#df.indicator_name = 'population'"
   ]
  },
  {
   "cell_type": "code",
   "execution_count": 27,
   "id": "11d7017e",
   "metadata": {},
   "outputs": [],
   "source": [
    "for column in df.iloc[:, :2]:\n",
    "    df[column] = df[column].apply(lambda x: x.upper().strip())"
   ]
  },
  {
   "cell_type": "markdown",
   "id": "7d7ccd95",
   "metadata": {},
   "source": [
    "### Now, let's identify the year columns with the corresponding indicator name"
   ]
  },
  {
   "cell_type": "code",
   "execution_count": 28,
   "id": "f564f5bc",
   "metadata": {},
   "outputs": [],
   "source": [
    "indicator_name = df.indicator_name.unique()[0]"
   ]
  },
  {
   "cell_type": "code",
   "execution_count": 29,
   "id": "75ca9157",
   "metadata": {},
   "outputs": [],
   "source": [
    "for column in df.iloc[:, 3:34]:\n",
    "    df.rename(columns={column: f'{indicator_name}_{column}' }, inplace = True)"
   ]
  },
  {
   "cell_type": "code",
   "execution_count": 31,
   "id": "f336e024",
   "metadata": {},
   "outputs": [],
   "source": [
    "df.drop(columns = 'indicator_name', inplace = True)"
   ]
  },
  {
   "cell_type": "code",
   "execution_count": 32,
   "id": "666349f0",
   "metadata": {},
   "outputs": [],
   "source": [
    "df.rename(columns = {'country_name\t':'country_name'}, inplace = True)"
   ]
  },
  {
   "cell_type": "markdown",
   "id": "bba8c19c",
   "metadata": {},
   "source": [
    "#### Now we can separate the countries from the regions"
   ]
  },
  {
   "cell_type": "code",
   "execution_count": 33,
   "id": "9630b460",
   "metadata": {},
   "outputs": [],
   "source": [
    "region = ['AFRICA EASTERN AND SOUTHERN', 'AFRICA WESTERN AND CENTRAL', 'EAST ASIA & PACIFIC', 'EUROPE & CENTRAL ASIA',\n",
    "          'LATIN AMERICA & CARIBBEAN', 'MIDDLE EAST & NORTH AFRICA', 'NORTH AMERICA', 'SOUTH ASIA', 'SUB-SAHARAN AFRICA',\n",
    "          'WORLD']"
   ]
  },
  {
   "cell_type": "code",
   "execution_count": 34,
   "id": "dce57a65",
   "metadata": {},
   "outputs": [],
   "source": [
    "income_levels =['HIGH INCOME', 'LOW & MIDDLE INCOME', 'LOW INCOME', 'LOWER MIDDLE INCOME', 'MIDDLE INCOME',\n",
    "                'UPPER MIDDLE INCOME','WORLD']\n"
   ]
  },
  {
   "cell_type": "code",
   "execution_count": 35,
   "id": "74a8857c",
   "metadata": {},
   "outputs": [],
   "source": [
    "dividends = ['POST-DEMOGRAPHIC DIVIDEND', 'PRE-DEMOGRAPHIC DIVIDEND', 'EARLY-DEMOGRAPHIC DIVIDEND','LATE-DEMOGRAPHIC DIVIDEND']"
   ]
  },
  {
   "cell_type": "code",
   "execution_count": 36,
   "id": "5ec732b0",
   "metadata": {},
   "outputs": [],
   "source": [
    "lending_groups =['IBRD ONLY', 'IDA BLEND', 'IDA & IBRD TOTAL', 'IDA ONLY', 'IDA TOTAL',\n",
    "                 'EAST ASIA & PACIFIC (IDA & IBRD COUNTRIES)', 'EUROPE & CENTRAL ASIA (IDA & IBRD COUNTRIES)',\n",
    "                 'LATIN AMERICA & THE CARIBBEAN (IDA & IBRD COUNTRIES)', 'MIDDLE EAST & NORTH AFRICA (IDA & IBRD COUNTRIES)',\n",
    "                 'SOUTH ASIA (IDA & IBRD)', 'SUB-SAHARAN AFRICA (IDA & IBRD COUNTRIES)','WORLD']"
   ]
  },
  {
   "cell_type": "code",
   "execution_count": 37,
   "id": "d1f2d7dc",
   "metadata": {},
   "outputs": [],
   "source": [
    "small_states= ['CARIBBEAN SMALL STATES', 'OTHER SMALL STATES', 'PACIFIC ISLAND SMALL STATES', 'SMALL STATES','WORLD']"
   ]
  },
  {
   "cell_type": "code",
   "execution_count": 38,
   "id": "95cf8915",
   "metadata": {},
   "outputs": [],
   "source": [
    "other_groups=['ARAB WORLD', 'CENTRAL EUROPE AND THE BALTICS', 'EAST ASIA & PACIFIC (EXCLUDING HIGH INCOME)',\n",
    "              'EURO AREA', 'EUROPE & CENTRAL ASIA (EXCLUDING HIGH INCOME)', 'EUROPEAN UNION',\n",
    "              'FRAGILE AND CONFLICT AFFECTED SITUATIONS', 'HEAVILY INDEBTED POOR COUNTRIES (HIPC)',\n",
    "              'LATIN AMERICA & CARIBBEAN (EXCLUDING HIGH INCOME)', 'LEAST DEVELOPED COUNTRIES: UN CLASSIFICATION',\n",
    "              'MIDDLE EAST & NORTH AFRICA (EXCLUDING HIGH INCOME)', 'OECD MEMBERS',\n",
    "              'SUB-SAHARAN AFRICA (EXCLUDING HIGH INCOME)', 'WORLD']"
   ]
  },
  {
   "cell_type": "code",
   "execution_count": 39,
   "id": "ed216c1f",
   "metadata": {},
   "outputs": [
    {
     "data": {
      "text/plain": [
       "14"
      ]
     },
     "execution_count": 39,
     "metadata": {},
     "output_type": "execute_result"
    }
   ],
   "source": [
    "len(other_groups)"
   ]
  },
  {
   "cell_type": "code",
   "execution_count": 40,
   "id": "c6719eba",
   "metadata": {},
   "outputs": [],
   "source": [
    "# Create the subfolders to store the new datasets\n",
    "regions = ['region', 'income_levels', 'lending_groups', 'small_states', 'other_groups', 'dividends']\n",
    "new_path = '..\\\\DataSets\\\\BM\\\\'\n",
    "\n",
    "for reg in regions:\n",
    "    os.makedirs(new_path + reg, exist_ok=True)\n",
    "    \n",
    "os.makedirs(new_path + 'countries', exist_ok=True)    "
   ]
  },
  {
   "cell_type": "code",
   "execution_count": 41,
   "id": "5b32734e",
   "metadata": {},
   "outputs": [],
   "source": [
    "filtered = df[df['country_name'].isin(region)]\n",
    "filtered.to_csv(f'..\\\\DataSets\\\\BM\\\\region\\\\region_{indicator_name}.csv', index = False)"
   ]
  },
  {
   "cell_type": "code",
   "execution_count": 42,
   "id": "cc2d451b",
   "metadata": {},
   "outputs": [],
   "source": [
    "filtered = df[df['country_name'].isin(income_levels)]\n",
    "filtered.to_csv(f'..\\\\DataSets\\\\BM\\\\income_levels\\\\income_levels_{indicator_name}.csv', index = False)"
   ]
  },
  {
   "cell_type": "code",
   "execution_count": 43,
   "id": "af106e1b",
   "metadata": {},
   "outputs": [],
   "source": [
    "filtered = df[df['country_name'].isin(dividends)]\n",
    "filtered.to_csv(f'..\\\\DataSets\\\\BM\\\\dividends\\\\dividends_{indicator_name}.csv', index = False)"
   ]
  },
  {
   "cell_type": "code",
   "execution_count": 44,
   "id": "567b4691",
   "metadata": {},
   "outputs": [],
   "source": [
    "filtered = df[df['country_name'].isin(lending_groups)]\n",
    "filtered.to_csv(f'..\\\\DataSets\\\\BM\\\\lending_groups\\\\lending_groups_{indicator_name}.csv', index = False)"
   ]
  },
  {
   "cell_type": "code",
   "execution_count": 45,
   "id": "96de9ef3",
   "metadata": {},
   "outputs": [],
   "source": [
    "filtered = df[df['country_name'].isin(small_states)]\n",
    "filtered.to_csv(f'..\\\\DataSets\\\\BM\\\\small_states\\\\small_states_{indicator_name}.csv', index = False)"
   ]
  },
  {
   "cell_type": "code",
   "execution_count": 46,
   "id": "b6c0d6c2",
   "metadata": {},
   "outputs": [],
   "source": [
    "filtered = df[df['country_name'].isin(other_groups)]\n",
    "filtered.to_csv(f'..\\\\DataSets\\\\BM\\\\other_groups\\\\other_groups_{indicator_name}.csv', index = False)"
   ]
  },
  {
   "cell_type": "code",
   "execution_count": 47,
   "id": "b022929f",
   "metadata": {},
   "outputs": [],
   "source": [
    "df = df[df['country_name'].isin(region) == False]\n",
    "df= df[df['country_name'].isin(income_levels)== False]\n",
    "df= df[df['country_name'].isin(dividends)== False]\n",
    "df = df[df['country_name'].isin(lending_groups)== False]\n",
    "df = df[df['country_name'].isin(small_states)== False]\n",
    "df = df[df['country_name'].isin(other_groups) == False]"
   ]
  },
  {
   "cell_type": "code",
   "execution_count": 49,
   "id": "008db80c",
   "metadata": {},
   "outputs": [],
   "source": [
    "df.to_csv(f'..\\\\DataSets\\\\BM\\\\countries\\\\countries_{indicator_name}.csv', index = False)"
   ]
  },
  {
   "cell_type": "code",
   "execution_count": 52,
   "id": "f8f41d80",
   "metadata": {},
   "outputs": [],
   "source": [
    "#pd.read_csv(f'..\\\\DataSets\\\\BM\\\\region\\\\region_{indicator_name}.csv')    "
   ]
  },
  {
   "cell_type": "code",
   "execution_count": 53,
   "id": "78b26c9e",
   "metadata": {},
   "outputs": [],
   "source": [
    "#pd.read_csv(f'..\\\\DataSets\\\\BM\\\\countries\\\\countries_{indicator_name}.csv')  "
   ]
  },
  {
   "cell_type": "code",
   "execution_count": null,
   "id": "32b22ce4",
   "metadata": {},
   "outputs": [],
   "source": []
  }
 ],
 "metadata": {
  "kernelspec": {
   "display_name": "Python 3 (ipykernel)",
   "language": "python",
   "name": "python3"
  },
  "language_info": {
   "codemirror_mode": {
    "name": "ipython",
    "version": 3
   },
   "file_extension": ".py",
   "mimetype": "text/x-python",
   "name": "python",
   "nbconvert_exporter": "python",
   "pygments_lexer": "ipython3",
   "version": "3.9.16"
  }
 },
 "nbformat": 4,
 "nbformat_minor": 5
}
