{
 "cells": [
  {
   "cell_type": "markdown",
   "id": "e388502a",
   "metadata": {},
   "source": [
    "# Pobreza y desigualdad"
   ]
  },
  {
   "cell_type": "markdown",
   "id": "dc0696c0",
   "metadata": {},
   "source": [
    "- [Plataforma de pobreza y desigualdad del Banco Mundial](https://pip.worldbank.org/home)\n",
    "- [Methodology](https://datanalytics.worldbank.org/PIP-Methodology/)\n",
    "- [API](https://pip.worldbank.org/poverty-calculator)"
   ]
  },
  {
   "cell_type": "markdown",
   "id": "538d20ae",
   "metadata": {},
   "source": [
    "La línea de pobreza de este set de datos se calcula tomando la mediana de la parte superior de los países de mediano ingreso. Esta se encuentra situada en los 6.85 dólares estadounidendes (base = 2017)"
   ]
  },
  {
   "cell_type": "code",
   "execution_count": 1,
   "id": "76302285",
   "metadata": {},
   "outputs": [],
   "source": [
    "import pandas as pd\n",
    "import numpy as np\n",
    "import matplotlib.pyplot as plt\n",
    "from matplotlib.ticker import ScalarFormatter"
   ]
  },
  {
   "cell_type": "code",
   "execution_count": 2,
   "id": "54f2cf3c",
   "metadata": {},
   "outputs": [],
   "source": [
    "import seaborn as sns"
   ]
  },
  {
   "cell_type": "code",
   "execution_count": 3,
   "id": "ae54dba1",
   "metadata": {},
   "outputs": [],
   "source": [
    "pd.options.display.float_format = '{:,.2f}'.format"
   ]
  },
  {
   "cell_type": "code",
   "execution_count": 4,
   "id": "05dc3ff8",
   "metadata": {},
   "outputs": [],
   "source": [
    "df = pd.read_csv(\"dataSets\\\\pip2.csv\")"
   ]
  },
  {
   "cell_type": "code",
   "execution_count": 5,
   "id": "be3568ed",
   "metadata": {},
   "outputs": [
    {
     "data": {
      "text/html": [
       "<div>\n",
       "<style scoped>\n",
       "    .dataframe tbody tr th:only-of-type {\n",
       "        vertical-align: middle;\n",
       "    }\n",
       "\n",
       "    .dataframe tbody tr th {\n",
       "        vertical-align: top;\n",
       "    }\n",
       "\n",
       "    .dataframe thead th {\n",
       "        text-align: right;\n",
       "    }\n",
       "</style>\n",
       "<table border=\"1\" class=\"dataframe\">\n",
       "  <thead>\n",
       "    <tr style=\"text-align: right;\">\n",
       "      <th></th>\n",
       "      <th>survey_acronym</th>\n",
       "      <th>survey_coverage</th>\n",
       "      <th>survey_year</th>\n",
       "      <th>welfare_type</th>\n",
       "      <th>survey_comparability</th>\n",
       "      <th>comparable_spell</th>\n",
       "      <th>poverty_line</th>\n",
       "      <th>headcount</th>\n",
       "      <th>poverty_gap</th>\n",
       "      <th>poverty_severity</th>\n",
       "      <th>...</th>\n",
       "      <th>decile9</th>\n",
       "      <th>decile10</th>\n",
       "      <th>cpi</th>\n",
       "      <th>ppp</th>\n",
       "      <th>reporting_pop</th>\n",
       "      <th>reporting_gdp</th>\n",
       "      <th>reporting_pce</th>\n",
       "      <th>is_interpolated</th>\n",
       "      <th>distribution_type</th>\n",
       "      <th>estimation_type</th>\n",
       "    </tr>\n",
       "  </thead>\n",
       "  <tbody>\n",
       "    <tr>\n",
       "      <th>0</th>\n",
       "      <td>HBS</td>\n",
       "      <td>national</td>\n",
       "      <td>2,000.21</td>\n",
       "      <td>consumption</td>\n",
       "      <td>0</td>\n",
       "      <td>2000</td>\n",
       "      <td>6.85</td>\n",
       "      <td>0.67</td>\n",
       "      <td>0.35</td>\n",
       "      <td>0.23</td>\n",
       "      <td>...</td>\n",
       "      <td>0.16</td>\n",
       "      <td>0.40</td>\n",
       "      <td>0.01</td>\n",
       "      <td>107.27</td>\n",
       "      <td>16395477</td>\n",
       "      <td>2,451.51</td>\n",
       "      <td>NaN</td>\n",
       "      <td>False</td>\n",
       "      <td>micro</td>\n",
       "      <td>survey</td>\n",
       "    </tr>\n",
       "    <tr>\n",
       "      <th>1</th>\n",
       "      <td>IBEP-MICS</td>\n",
       "      <td>national</td>\n",
       "      <td>2,008.50</td>\n",
       "      <td>consumption</td>\n",
       "      <td>1</td>\n",
       "      <td>2008</td>\n",
       "      <td>6.85</td>\n",
       "      <td>0.69</td>\n",
       "      <td>0.33</td>\n",
       "      <td>0.19</td>\n",
       "      <td>...</td>\n",
       "      <td>0.16</td>\n",
       "      <td>0.32</td>\n",
       "      <td>0.30</td>\n",
       "      <td>107.27</td>\n",
       "      <td>21695636</td>\n",
       "      <td>4,077.78</td>\n",
       "      <td>1,620.07</td>\n",
       "      <td>False</td>\n",
       "      <td>micro</td>\n",
       "      <td>survey</td>\n",
       "    </tr>\n",
       "    <tr>\n",
       "      <th>2</th>\n",
       "      <td>IDREA</td>\n",
       "      <td>national</td>\n",
       "      <td>2,018.17</td>\n",
       "      <td>consumption</td>\n",
       "      <td>2</td>\n",
       "      <td>2018</td>\n",
       "      <td>6.85</td>\n",
       "      <td>0.78</td>\n",
       "      <td>0.45</td>\n",
       "      <td>0.30</td>\n",
       "      <td>...</td>\n",
       "      <td>0.16</td>\n",
       "      <td>0.40</td>\n",
       "      <td>1.23</td>\n",
       "      <td>107.27</td>\n",
       "      <td>30809787</td>\n",
       "      <td>3,595.11</td>\n",
       "      <td>2,093.50</td>\n",
       "      <td>False</td>\n",
       "      <td>micro</td>\n",
       "      <td>survey</td>\n",
       "    </tr>\n",
       "    <tr>\n",
       "      <th>3</th>\n",
       "      <td>EWS</td>\n",
       "      <td>national</td>\n",
       "      <td>1,996.00</td>\n",
       "      <td>consumption</td>\n",
       "      <td>0</td>\n",
       "      <td>1996</td>\n",
       "      <td>6.85</td>\n",
       "      <td>0.48</td>\n",
       "      <td>0.14</td>\n",
       "      <td>0.06</td>\n",
       "      <td>...</td>\n",
       "      <td>0.15</td>\n",
       "      <td>0.21</td>\n",
       "      <td>0.40</td>\n",
       "      <td>50.36</td>\n",
       "      <td>3168033</td>\n",
       "      <td>1,633.55</td>\n",
       "      <td>1,714.81</td>\n",
       "      <td>False</td>\n",
       "      <td>micro</td>\n",
       "      <td>survey</td>\n",
       "    </tr>\n",
       "    <tr>\n",
       "      <th>4</th>\n",
       "      <td>LSMS</td>\n",
       "      <td>national</td>\n",
       "      <td>2,002.00</td>\n",
       "      <td>consumption</td>\n",
       "      <td>1</td>\n",
       "      <td>2002 - 2012</td>\n",
       "      <td>6.85</td>\n",
       "      <td>0.52</td>\n",
       "      <td>0.16</td>\n",
       "      <td>0.07</td>\n",
       "      <td>...</td>\n",
       "      <td>0.15</td>\n",
       "      <td>0.25</td>\n",
       "      <td>0.70</td>\n",
       "      <td>50.36</td>\n",
       "      <td>3051010</td>\n",
       "      <td>2,247.50</td>\n",
       "      <td>1,685.37</td>\n",
       "      <td>False</td>\n",
       "      <td>micro</td>\n",
       "      <td>survey</td>\n",
       "    </tr>\n",
       "    <tr>\n",
       "      <th>...</th>\n",
       "      <td>...</td>\n",
       "      <td>...</td>\n",
       "      <td>...</td>\n",
       "      <td>...</td>\n",
       "      <td>...</td>\n",
       "      <td>...</td>\n",
       "      <td>...</td>\n",
       "      <td>...</td>\n",
       "      <td>...</td>\n",
       "      <td>...</td>\n",
       "      <td>...</td>\n",
       "      <td>...</td>\n",
       "      <td>...</td>\n",
       "      <td>...</td>\n",
       "      <td>...</td>\n",
       "      <td>...</td>\n",
       "      <td>...</td>\n",
       "      <td>...</td>\n",
       "      <td>...</td>\n",
       "      <td>...</td>\n",
       "      <td>...</td>\n",
       "    </tr>\n",
       "    <tr>\n",
       "      <th>2204</th>\n",
       "      <td>LCMS-VI</td>\n",
       "      <td>national</td>\n",
       "      <td>2,010.00</td>\n",
       "      <td>consumption</td>\n",
       "      <td>4</td>\n",
       "      <td>2010 - 2015</td>\n",
       "      <td>6.85</td>\n",
       "      <td>0.93</td>\n",
       "      <td>0.70</td>\n",
       "      <td>0.56</td>\n",
       "      <td>...</td>\n",
       "      <td>0.16</td>\n",
       "      <td>0.45</td>\n",
       "      <td>0.55</td>\n",
       "      <td>4.22</td>\n",
       "      <td>13605986</td>\n",
       "      <td>1,214.69</td>\n",
       "      <td>NaN</td>\n",
       "      <td>False</td>\n",
       "      <td>micro</td>\n",
       "      <td>survey</td>\n",
       "    </tr>\n",
       "    <tr>\n",
       "      <th>2205</th>\n",
       "      <td>LCMS-VII</td>\n",
       "      <td>national</td>\n",
       "      <td>2,015.00</td>\n",
       "      <td>consumption</td>\n",
       "      <td>4</td>\n",
       "      <td>2010 - 2015</td>\n",
       "      <td>6.85</td>\n",
       "      <td>0.91</td>\n",
       "      <td>0.66</td>\n",
       "      <td>0.52</td>\n",
       "      <td>...</td>\n",
       "      <td>0.17</td>\n",
       "      <td>0.44</td>\n",
       "      <td>0.80</td>\n",
       "      <td>4.22</td>\n",
       "      <td>15879370</td>\n",
       "      <td>1,338.29</td>\n",
       "      <td>677.80</td>\n",
       "      <td>False</td>\n",
       "      <td>micro</td>\n",
       "      <td>survey</td>\n",
       "    </tr>\n",
       "    <tr>\n",
       "      <th>2206</th>\n",
       "      <td>ICES</td>\n",
       "      <td>national</td>\n",
       "      <td>2,011.00</td>\n",
       "      <td>consumption</td>\n",
       "      <td>0</td>\n",
       "      <td>2011 - 2019</td>\n",
       "      <td>6.85</td>\n",
       "      <td>0.78</td>\n",
       "      <td>0.40</td>\n",
       "      <td>0.24</td>\n",
       "      <td>...</td>\n",
       "      <td>0.16</td>\n",
       "      <td>0.34</td>\n",
       "      <td>0.98</td>\n",
       "      <td>0.49</td>\n",
       "      <td>12894323</td>\n",
       "      <td>1,248.73</td>\n",
       "      <td>977.71</td>\n",
       "      <td>False</td>\n",
       "      <td>group</td>\n",
       "      <td>survey</td>\n",
       "    </tr>\n",
       "    <tr>\n",
       "      <th>2207</th>\n",
       "      <td>PICES</td>\n",
       "      <td>national</td>\n",
       "      <td>2,017.00</td>\n",
       "      <td>consumption</td>\n",
       "      <td>0</td>\n",
       "      <td>2011 - 2019</td>\n",
       "      <td>6.85</td>\n",
       "      <td>0.84</td>\n",
       "      <td>0.49</td>\n",
       "      <td>0.32</td>\n",
       "      <td>...</td>\n",
       "      <td>0.16</td>\n",
       "      <td>0.35</td>\n",
       "      <td>1.00</td>\n",
       "      <td>0.49</td>\n",
       "      <td>14236599</td>\n",
       "      <td>1,479.38</td>\n",
       "      <td>1,139.38</td>\n",
       "      <td>False</td>\n",
       "      <td>micro</td>\n",
       "      <td>survey</td>\n",
       "    </tr>\n",
       "    <tr>\n",
       "      <th>2208</th>\n",
       "      <td>PICES</td>\n",
       "      <td>national</td>\n",
       "      <td>2,019.00</td>\n",
       "      <td>consumption</td>\n",
       "      <td>0</td>\n",
       "      <td>2011 - 2019</td>\n",
       "      <td>6.85</td>\n",
       "      <td>0.85</td>\n",
       "      <td>0.52</td>\n",
       "      <td>0.36</td>\n",
       "      <td>...</td>\n",
       "      <td>NaN</td>\n",
       "      <td>NaN</td>\n",
       "      <td>1.00</td>\n",
       "      <td>0.49</td>\n",
       "      <td>14645473</td>\n",
       "      <td>1,414.83</td>\n",
       "      <td>NaN</td>\n",
       "      <td>False</td>\n",
       "      <td>imputed</td>\n",
       "      <td>survey</td>\n",
       "    </tr>\n",
       "  </tbody>\n",
       "</table>\n",
       "<p>2209 rows × 34 columns</p>\n",
       "</div>"
      ],
      "text/plain": [
       "     survey_acronym survey_coverage  survey_year welfare_type  \\\n",
       "0               HBS        national     2,000.21  consumption   \n",
       "1         IBEP-MICS        national     2,008.50  consumption   \n",
       "2             IDREA        national     2,018.17  consumption   \n",
       "3               EWS        national     1,996.00  consumption   \n",
       "4              LSMS        national     2,002.00  consumption   \n",
       "...             ...             ...          ...          ...   \n",
       "2204        LCMS-VI        national     2,010.00  consumption   \n",
       "2205       LCMS-VII        national     2,015.00  consumption   \n",
       "2206           ICES        national     2,011.00  consumption   \n",
       "2207          PICES        national     2,017.00  consumption   \n",
       "2208          PICES        national     2,019.00  consumption   \n",
       "\n",
       "      survey_comparability comparable_spell  poverty_line  headcount  \\\n",
       "0                        0             2000          6.85       0.67   \n",
       "1                        1             2008          6.85       0.69   \n",
       "2                        2             2018          6.85       0.78   \n",
       "3                        0             1996          6.85       0.48   \n",
       "4                        1      2002 - 2012          6.85       0.52   \n",
       "...                    ...              ...           ...        ...   \n",
       "2204                     4      2010 - 2015          6.85       0.93   \n",
       "2205                     4      2010 - 2015          6.85       0.91   \n",
       "2206                     0      2011 - 2019          6.85       0.78   \n",
       "2207                     0      2011 - 2019          6.85       0.84   \n",
       "2208                     0      2011 - 2019          6.85       0.85   \n",
       "\n",
       "      poverty_gap  poverty_severity  ...  decile9  decile10  cpi    ppp  \\\n",
       "0            0.35              0.23  ...     0.16      0.40 0.01 107.27   \n",
       "1            0.33              0.19  ...     0.16      0.32 0.30 107.27   \n",
       "2            0.45              0.30  ...     0.16      0.40 1.23 107.27   \n",
       "3            0.14              0.06  ...     0.15      0.21 0.40  50.36   \n",
       "4            0.16              0.07  ...     0.15      0.25 0.70  50.36   \n",
       "...           ...               ...  ...      ...       ...  ...    ...   \n",
       "2204         0.70              0.56  ...     0.16      0.45 0.55   4.22   \n",
       "2205         0.66              0.52  ...     0.17      0.44 0.80   4.22   \n",
       "2206         0.40              0.24  ...     0.16      0.34 0.98   0.49   \n",
       "2207         0.49              0.32  ...     0.16      0.35 1.00   0.49   \n",
       "2208         0.52              0.36  ...      NaN       NaN 1.00   0.49   \n",
       "\n",
       "      reporting_pop  reporting_gdp  reporting_pce  is_interpolated  \\\n",
       "0          16395477       2,451.51            NaN            False   \n",
       "1          21695636       4,077.78       1,620.07            False   \n",
       "2          30809787       3,595.11       2,093.50            False   \n",
       "3           3168033       1,633.55       1,714.81            False   \n",
       "4           3051010       2,247.50       1,685.37            False   \n",
       "...             ...            ...            ...              ...   \n",
       "2204       13605986       1,214.69            NaN            False   \n",
       "2205       15879370       1,338.29         677.80            False   \n",
       "2206       12894323       1,248.73         977.71            False   \n",
       "2207       14236599       1,479.38       1,139.38            False   \n",
       "2208       14645473       1,414.83            NaN            False   \n",
       "\n",
       "      distribution_type  estimation_type  \n",
       "0                 micro           survey  \n",
       "1                 micro           survey  \n",
       "2                 micro           survey  \n",
       "3                 micro           survey  \n",
       "4                 micro           survey  \n",
       "...                 ...              ...  \n",
       "2204              micro           survey  \n",
       "2205              micro           survey  \n",
       "2206              group           survey  \n",
       "2207              micro           survey  \n",
       "2208            imputed           survey  \n",
       "\n",
       "[2209 rows x 34 columns]"
      ]
     },
     "execution_count": 5,
     "metadata": {},
     "output_type": "execute_result"
    }
   ],
   "source": [
    "df.iloc[:, 6:]"
   ]
  },
  {
   "cell_type": "code",
   "execution_count": 6,
   "id": "9e156981",
   "metadata": {},
   "outputs": [
    {
     "data": {
      "text/html": [
       "<div>\n",
       "<style scoped>\n",
       "    .dataframe tbody tr th:only-of-type {\n",
       "        vertical-align: middle;\n",
       "    }\n",
       "\n",
       "    .dataframe tbody tr th {\n",
       "        vertical-align: top;\n",
       "    }\n",
       "\n",
       "    .dataframe thead th {\n",
       "        text-align: right;\n",
       "    }\n",
       "</style>\n",
       "<table border=\"1\" class=\"dataframe\">\n",
       "  <thead>\n",
       "    <tr style=\"text-align: right;\">\n",
       "      <th></th>\n",
       "      <th>region_name</th>\n",
       "      <th>region_code</th>\n",
       "      <th>country_name</th>\n",
       "      <th>country_code</th>\n",
       "      <th>reporting_year</th>\n",
       "      <th>reporting_level</th>\n",
       "      <th>survey_acronym</th>\n",
       "      <th>survey_coverage</th>\n",
       "      <th>survey_year</th>\n",
       "      <th>welfare_type</th>\n",
       "      <th>...</th>\n",
       "      <th>decile9</th>\n",
       "      <th>decile10</th>\n",
       "      <th>cpi</th>\n",
       "      <th>ppp</th>\n",
       "      <th>reporting_pop</th>\n",
       "      <th>reporting_gdp</th>\n",
       "      <th>reporting_pce</th>\n",
       "      <th>is_interpolated</th>\n",
       "      <th>distribution_type</th>\n",
       "      <th>estimation_type</th>\n",
       "    </tr>\n",
       "  </thead>\n",
       "  <tbody>\n",
       "    <tr>\n",
       "      <th>0</th>\n",
       "      <td>Sub-Saharan Africa</td>\n",
       "      <td>SSA</td>\n",
       "      <td>Angola</td>\n",
       "      <td>AGO</td>\n",
       "      <td>2000</td>\n",
       "      <td>national</td>\n",
       "      <td>HBS</td>\n",
       "      <td>national</td>\n",
       "      <td>2,000.21</td>\n",
       "      <td>consumption</td>\n",
       "      <td>...</td>\n",
       "      <td>0.16</td>\n",
       "      <td>0.40</td>\n",
       "      <td>0.01</td>\n",
       "      <td>107.27</td>\n",
       "      <td>16395477</td>\n",
       "      <td>2,451.51</td>\n",
       "      <td>NaN</td>\n",
       "      <td>False</td>\n",
       "      <td>micro</td>\n",
       "      <td>survey</td>\n",
       "    </tr>\n",
       "    <tr>\n",
       "      <th>1</th>\n",
       "      <td>Sub-Saharan Africa</td>\n",
       "      <td>SSA</td>\n",
       "      <td>Angola</td>\n",
       "      <td>AGO</td>\n",
       "      <td>2008</td>\n",
       "      <td>national</td>\n",
       "      <td>IBEP-MICS</td>\n",
       "      <td>national</td>\n",
       "      <td>2,008.50</td>\n",
       "      <td>consumption</td>\n",
       "      <td>...</td>\n",
       "      <td>0.16</td>\n",
       "      <td>0.32</td>\n",
       "      <td>0.30</td>\n",
       "      <td>107.27</td>\n",
       "      <td>21695636</td>\n",
       "      <td>4,077.78</td>\n",
       "      <td>1,620.07</td>\n",
       "      <td>False</td>\n",
       "      <td>micro</td>\n",
       "      <td>survey</td>\n",
       "    </tr>\n",
       "    <tr>\n",
       "      <th>2</th>\n",
       "      <td>Sub-Saharan Africa</td>\n",
       "      <td>SSA</td>\n",
       "      <td>Angola</td>\n",
       "      <td>AGO</td>\n",
       "      <td>2018</td>\n",
       "      <td>national</td>\n",
       "      <td>IDREA</td>\n",
       "      <td>national</td>\n",
       "      <td>2,018.17</td>\n",
       "      <td>consumption</td>\n",
       "      <td>...</td>\n",
       "      <td>0.16</td>\n",
       "      <td>0.40</td>\n",
       "      <td>1.23</td>\n",
       "      <td>107.27</td>\n",
       "      <td>30809787</td>\n",
       "      <td>3,595.11</td>\n",
       "      <td>2,093.50</td>\n",
       "      <td>False</td>\n",
       "      <td>micro</td>\n",
       "      <td>survey</td>\n",
       "    </tr>\n",
       "    <tr>\n",
       "      <th>3</th>\n",
       "      <td>Europe &amp; Central Asia</td>\n",
       "      <td>ECA</td>\n",
       "      <td>Albania</td>\n",
       "      <td>ALB</td>\n",
       "      <td>1996</td>\n",
       "      <td>national</td>\n",
       "      <td>EWS</td>\n",
       "      <td>national</td>\n",
       "      <td>1,996.00</td>\n",
       "      <td>consumption</td>\n",
       "      <td>...</td>\n",
       "      <td>0.15</td>\n",
       "      <td>0.21</td>\n",
       "      <td>0.40</td>\n",
       "      <td>50.36</td>\n",
       "      <td>3168033</td>\n",
       "      <td>1,633.55</td>\n",
       "      <td>1,714.81</td>\n",
       "      <td>False</td>\n",
       "      <td>micro</td>\n",
       "      <td>survey</td>\n",
       "    </tr>\n",
       "    <tr>\n",
       "      <th>4</th>\n",
       "      <td>Europe &amp; Central Asia</td>\n",
       "      <td>ECA</td>\n",
       "      <td>Albania</td>\n",
       "      <td>ALB</td>\n",
       "      <td>2002</td>\n",
       "      <td>national</td>\n",
       "      <td>LSMS</td>\n",
       "      <td>national</td>\n",
       "      <td>2,002.00</td>\n",
       "      <td>consumption</td>\n",
       "      <td>...</td>\n",
       "      <td>0.15</td>\n",
       "      <td>0.25</td>\n",
       "      <td>0.70</td>\n",
       "      <td>50.36</td>\n",
       "      <td>3051010</td>\n",
       "      <td>2,247.50</td>\n",
       "      <td>1,685.37</td>\n",
       "      <td>False</td>\n",
       "      <td>micro</td>\n",
       "      <td>survey</td>\n",
       "    </tr>\n",
       "    <tr>\n",
       "      <th>...</th>\n",
       "      <td>...</td>\n",
       "      <td>...</td>\n",
       "      <td>...</td>\n",
       "      <td>...</td>\n",
       "      <td>...</td>\n",
       "      <td>...</td>\n",
       "      <td>...</td>\n",
       "      <td>...</td>\n",
       "      <td>...</td>\n",
       "      <td>...</td>\n",
       "      <td>...</td>\n",
       "      <td>...</td>\n",
       "      <td>...</td>\n",
       "      <td>...</td>\n",
       "      <td>...</td>\n",
       "      <td>...</td>\n",
       "      <td>...</td>\n",
       "      <td>...</td>\n",
       "      <td>...</td>\n",
       "      <td>...</td>\n",
       "      <td>...</td>\n",
       "    </tr>\n",
       "    <tr>\n",
       "      <th>2204</th>\n",
       "      <td>Sub-Saharan Africa</td>\n",
       "      <td>SSA</td>\n",
       "      <td>Zambia</td>\n",
       "      <td>ZMB</td>\n",
       "      <td>2010</td>\n",
       "      <td>national</td>\n",
       "      <td>LCMS-VI</td>\n",
       "      <td>national</td>\n",
       "      <td>2,010.00</td>\n",
       "      <td>consumption</td>\n",
       "      <td>...</td>\n",
       "      <td>0.16</td>\n",
       "      <td>0.45</td>\n",
       "      <td>0.55</td>\n",
       "      <td>4.22</td>\n",
       "      <td>13605986</td>\n",
       "      <td>1,214.69</td>\n",
       "      <td>NaN</td>\n",
       "      <td>False</td>\n",
       "      <td>micro</td>\n",
       "      <td>survey</td>\n",
       "    </tr>\n",
       "    <tr>\n",
       "      <th>2205</th>\n",
       "      <td>Sub-Saharan Africa</td>\n",
       "      <td>SSA</td>\n",
       "      <td>Zambia</td>\n",
       "      <td>ZMB</td>\n",
       "      <td>2015</td>\n",
       "      <td>national</td>\n",
       "      <td>LCMS-VII</td>\n",
       "      <td>national</td>\n",
       "      <td>2,015.00</td>\n",
       "      <td>consumption</td>\n",
       "      <td>...</td>\n",
       "      <td>0.17</td>\n",
       "      <td>0.44</td>\n",
       "      <td>0.80</td>\n",
       "      <td>4.22</td>\n",
       "      <td>15879370</td>\n",
       "      <td>1,338.29</td>\n",
       "      <td>677.80</td>\n",
       "      <td>False</td>\n",
       "      <td>micro</td>\n",
       "      <td>survey</td>\n",
       "    </tr>\n",
       "    <tr>\n",
       "      <th>2206</th>\n",
       "      <td>Sub-Saharan Africa</td>\n",
       "      <td>SSA</td>\n",
       "      <td>Zimbabwe</td>\n",
       "      <td>ZWE</td>\n",
       "      <td>2011</td>\n",
       "      <td>national</td>\n",
       "      <td>ICES</td>\n",
       "      <td>national</td>\n",
       "      <td>2,011.00</td>\n",
       "      <td>consumption</td>\n",
       "      <td>...</td>\n",
       "      <td>0.16</td>\n",
       "      <td>0.34</td>\n",
       "      <td>0.98</td>\n",
       "      <td>0.49</td>\n",
       "      <td>12894323</td>\n",
       "      <td>1,248.73</td>\n",
       "      <td>977.71</td>\n",
       "      <td>False</td>\n",
       "      <td>group</td>\n",
       "      <td>survey</td>\n",
       "    </tr>\n",
       "    <tr>\n",
       "      <th>2207</th>\n",
       "      <td>Sub-Saharan Africa</td>\n",
       "      <td>SSA</td>\n",
       "      <td>Zimbabwe</td>\n",
       "      <td>ZWE</td>\n",
       "      <td>2017</td>\n",
       "      <td>national</td>\n",
       "      <td>PICES</td>\n",
       "      <td>national</td>\n",
       "      <td>2,017.00</td>\n",
       "      <td>consumption</td>\n",
       "      <td>...</td>\n",
       "      <td>0.16</td>\n",
       "      <td>0.35</td>\n",
       "      <td>1.00</td>\n",
       "      <td>0.49</td>\n",
       "      <td>14236599</td>\n",
       "      <td>1,479.38</td>\n",
       "      <td>1,139.38</td>\n",
       "      <td>False</td>\n",
       "      <td>micro</td>\n",
       "      <td>survey</td>\n",
       "    </tr>\n",
       "    <tr>\n",
       "      <th>2208</th>\n",
       "      <td>Sub-Saharan Africa</td>\n",
       "      <td>SSA</td>\n",
       "      <td>Zimbabwe</td>\n",
       "      <td>ZWE</td>\n",
       "      <td>2019</td>\n",
       "      <td>national</td>\n",
       "      <td>PICES</td>\n",
       "      <td>national</td>\n",
       "      <td>2,019.00</td>\n",
       "      <td>consumption</td>\n",
       "      <td>...</td>\n",
       "      <td>NaN</td>\n",
       "      <td>NaN</td>\n",
       "      <td>1.00</td>\n",
       "      <td>0.49</td>\n",
       "      <td>14645473</td>\n",
       "      <td>1,414.83</td>\n",
       "      <td>NaN</td>\n",
       "      <td>False</td>\n",
       "      <td>imputed</td>\n",
       "      <td>survey</td>\n",
       "    </tr>\n",
       "  </tbody>\n",
       "</table>\n",
       "<p>2209 rows × 40 columns</p>\n",
       "</div>"
      ],
      "text/plain": [
       "                region_name region_code country_name country_code  \\\n",
       "0        Sub-Saharan Africa         SSA       Angola          AGO   \n",
       "1        Sub-Saharan Africa         SSA       Angola          AGO   \n",
       "2        Sub-Saharan Africa         SSA       Angola          AGO   \n",
       "3     Europe & Central Asia         ECA      Albania          ALB   \n",
       "4     Europe & Central Asia         ECA      Albania          ALB   \n",
       "...                     ...         ...          ...          ...   \n",
       "2204     Sub-Saharan Africa         SSA       Zambia          ZMB   \n",
       "2205     Sub-Saharan Africa         SSA       Zambia          ZMB   \n",
       "2206     Sub-Saharan Africa         SSA     Zimbabwe          ZWE   \n",
       "2207     Sub-Saharan Africa         SSA     Zimbabwe          ZWE   \n",
       "2208     Sub-Saharan Africa         SSA     Zimbabwe          ZWE   \n",
       "\n",
       "      reporting_year reporting_level survey_acronym survey_coverage  \\\n",
       "0               2000        national            HBS        national   \n",
       "1               2008        national      IBEP-MICS        national   \n",
       "2               2018        national          IDREA        national   \n",
       "3               1996        national            EWS        national   \n",
       "4               2002        national           LSMS        national   \n",
       "...              ...             ...            ...             ...   \n",
       "2204            2010        national        LCMS-VI        national   \n",
       "2205            2015        national       LCMS-VII        national   \n",
       "2206            2011        national           ICES        national   \n",
       "2207            2017        national          PICES        national   \n",
       "2208            2019        national          PICES        national   \n",
       "\n",
       "      survey_year welfare_type  ...  decile9 decile10  cpi    ppp  \\\n",
       "0        2,000.21  consumption  ...     0.16     0.40 0.01 107.27   \n",
       "1        2,008.50  consumption  ...     0.16     0.32 0.30 107.27   \n",
       "2        2,018.17  consumption  ...     0.16     0.40 1.23 107.27   \n",
       "3        1,996.00  consumption  ...     0.15     0.21 0.40  50.36   \n",
       "4        2,002.00  consumption  ...     0.15     0.25 0.70  50.36   \n",
       "...           ...          ...  ...      ...      ...  ...    ...   \n",
       "2204     2,010.00  consumption  ...     0.16     0.45 0.55   4.22   \n",
       "2205     2,015.00  consumption  ...     0.17     0.44 0.80   4.22   \n",
       "2206     2,011.00  consumption  ...     0.16     0.34 0.98   0.49   \n",
       "2207     2,017.00  consumption  ...     0.16     0.35 1.00   0.49   \n",
       "2208     2,019.00  consumption  ...      NaN      NaN 1.00   0.49   \n",
       "\n",
       "      reporting_pop  reporting_gdp  reporting_pce  is_interpolated  \\\n",
       "0          16395477       2,451.51            NaN            False   \n",
       "1          21695636       4,077.78       1,620.07            False   \n",
       "2          30809787       3,595.11       2,093.50            False   \n",
       "3           3168033       1,633.55       1,714.81            False   \n",
       "4           3051010       2,247.50       1,685.37            False   \n",
       "...             ...            ...            ...              ...   \n",
       "2204       13605986       1,214.69            NaN            False   \n",
       "2205       15879370       1,338.29         677.80            False   \n",
       "2206       12894323       1,248.73         977.71            False   \n",
       "2207       14236599       1,479.38       1,139.38            False   \n",
       "2208       14645473       1,414.83            NaN            False   \n",
       "\n",
       "      distribution_type  estimation_type  \n",
       "0                 micro           survey  \n",
       "1                 micro           survey  \n",
       "2                 micro           survey  \n",
       "3                 micro           survey  \n",
       "4                 micro           survey  \n",
       "...                 ...              ...  \n",
       "2204              micro           survey  \n",
       "2205              micro           survey  \n",
       "2206              group           survey  \n",
       "2207              micro           survey  \n",
       "2208            imputed           survey  \n",
       "\n",
       "[2209 rows x 40 columns]"
      ]
     },
     "execution_count": 6,
     "metadata": {},
     "output_type": "execute_result"
    }
   ],
   "source": [
    "df"
   ]
  },
  {
   "cell_type": "markdown",
   "id": "dd373169",
   "metadata": {},
   "source": [
    "#### Dejamos por fuera las columnas con metadata. También las mediciones por deciles, debido a que ya contamos con índices para medir pobreza y desigualdad"
   ]
  },
  {
   "cell_type": "code",
   "execution_count": 8,
   "id": "bf90f9e6",
   "metadata": {},
   "outputs": [],
   "source": [
    "df = pd.read_csv(\"dataSets\\\\pip2.csv\", \n",
    "                 usecols= ['region_name', 'country_name','reporting_year', 'poverty_line',\n",
    "                           'headcount','poverty_gap', 'poverty_severity','watts', 'mld', 'gini','polarization','cpi', 'ppp', \n",
    "                            'reporting_pop', 'reporting_gdp'])"
   ]
  },
  {
   "cell_type": "markdown",
   "id": "df4c9ca9",
   "metadata": {},
   "source": [
    "## Antes que nada vamos a filtrar los años que nos interesan"
   ]
  },
  {
   "cell_type": "code",
   "execution_count": 9,
   "id": "005f21c5",
   "metadata": {},
   "outputs": [
    {
     "data": {
      "text/plain": [
       "1967"
      ]
     },
     "execution_count": 9,
     "metadata": {},
     "output_type": "execute_result"
    }
   ],
   "source": [
    "df.reporting_year.min()"
   ]
  },
  {
   "cell_type": "code",
   "execution_count": 10,
   "id": "c665c36e",
   "metadata": {},
   "outputs": [
    {
     "data": {
      "text/plain": [
       "2021"
      ]
     },
     "execution_count": 10,
     "metadata": {},
     "output_type": "execute_result"
    }
   ],
   "source": [
    "df.reporting_year.max()"
   ]
  },
  {
   "cell_type": "markdown",
   "id": "5778f7aa",
   "metadata": {},
   "source": [
    "### debido a falta de datos acotaremos este set en el año 2019."
   ]
  },
  {
   "cell_type": "code",
   "execution_count": 11,
   "id": "b85ec5d3",
   "metadata": {},
   "outputs": [],
   "source": [
    "df = df[df.reporting_year >= 1990 ]\n",
    "df = df[df.reporting_year < 2020 ]"
   ]
  },
  {
   "cell_type": "code",
   "execution_count": 12,
   "id": "c6f1905a",
   "metadata": {},
   "outputs": [
    {
     "data": {
      "text/html": [
       "<div>\n",
       "<style scoped>\n",
       "    .dataframe tbody tr th:only-of-type {\n",
       "        vertical-align: middle;\n",
       "    }\n",
       "\n",
       "    .dataframe tbody tr th {\n",
       "        vertical-align: top;\n",
       "    }\n",
       "\n",
       "    .dataframe thead th {\n",
       "        text-align: right;\n",
       "    }\n",
       "</style>\n",
       "<table border=\"1\" class=\"dataframe\">\n",
       "  <thead>\n",
       "    <tr style=\"text-align: right;\">\n",
       "      <th></th>\n",
       "      <th>region_name</th>\n",
       "      <th>country_name</th>\n",
       "      <th>reporting_year</th>\n",
       "      <th>poverty_line</th>\n",
       "      <th>headcount</th>\n",
       "      <th>poverty_gap</th>\n",
       "      <th>poverty_severity</th>\n",
       "      <th>watts</th>\n",
       "      <th>mld</th>\n",
       "      <th>gini</th>\n",
       "      <th>polarization</th>\n",
       "      <th>cpi</th>\n",
       "      <th>ppp</th>\n",
       "      <th>reporting_pop</th>\n",
       "      <th>reporting_gdp</th>\n",
       "    </tr>\n",
       "  </thead>\n",
       "  <tbody>\n",
       "    <tr>\n",
       "      <th>0</th>\n",
       "      <td>Sub-Saharan Africa</td>\n",
       "      <td>Angola</td>\n",
       "      <td>2000</td>\n",
       "      <td>6.85</td>\n",
       "      <td>0.67</td>\n",
       "      <td>0.35</td>\n",
       "      <td>0.23</td>\n",
       "      <td>0.64</td>\n",
       "      <td>0.51</td>\n",
       "      <td>0.52</td>\n",
       "      <td>0.46</td>\n",
       "      <td>0.01</td>\n",
       "      <td>107.27</td>\n",
       "      <td>16395477</td>\n",
       "      <td>2,451.51</td>\n",
       "    </tr>\n",
       "    <tr>\n",
       "      <th>1</th>\n",
       "      <td>Sub-Saharan Africa</td>\n",
       "      <td>Angola</td>\n",
       "      <td>2008</td>\n",
       "      <td>6.85</td>\n",
       "      <td>0.69</td>\n",
       "      <td>0.33</td>\n",
       "      <td>0.19</td>\n",
       "      <td>0.52</td>\n",
       "      <td>0.31</td>\n",
       "      <td>0.43</td>\n",
       "      <td>0.39</td>\n",
       "      <td>0.30</td>\n",
       "      <td>107.27</td>\n",
       "      <td>21695636</td>\n",
       "      <td>4,077.78</td>\n",
       "    </tr>\n",
       "    <tr>\n",
       "      <th>2</th>\n",
       "      <td>Sub-Saharan Africa</td>\n",
       "      <td>Angola</td>\n",
       "      <td>2018</td>\n",
       "      <td>6.85</td>\n",
       "      <td>0.78</td>\n",
       "      <td>0.45</td>\n",
       "      <td>0.30</td>\n",
       "      <td>0.82</td>\n",
       "      <td>0.48</td>\n",
       "      <td>0.51</td>\n",
       "      <td>0.47</td>\n",
       "      <td>1.23</td>\n",
       "      <td>107.27</td>\n",
       "      <td>30809787</td>\n",
       "      <td>3,595.11</td>\n",
       "    </tr>\n",
       "    <tr>\n",
       "      <th>3</th>\n",
       "      <td>Europe &amp; Central Asia</td>\n",
       "      <td>Albania</td>\n",
       "      <td>1996</td>\n",
       "      <td>6.85</td>\n",
       "      <td>0.48</td>\n",
       "      <td>0.14</td>\n",
       "      <td>0.06</td>\n",
       "      <td>0.18</td>\n",
       "      <td>0.12</td>\n",
       "      <td>0.27</td>\n",
       "      <td>0.24</td>\n",
       "      <td>0.40</td>\n",
       "      <td>50.36</td>\n",
       "      <td>3168033</td>\n",
       "      <td>1,633.55</td>\n",
       "    </tr>\n",
       "    <tr>\n",
       "      <th>4</th>\n",
       "      <td>Europe &amp; Central Asia</td>\n",
       "      <td>Albania</td>\n",
       "      <td>2002</td>\n",
       "      <td>6.85</td>\n",
       "      <td>0.52</td>\n",
       "      <td>0.16</td>\n",
       "      <td>0.07</td>\n",
       "      <td>0.22</td>\n",
       "      <td>0.16</td>\n",
       "      <td>0.32</td>\n",
       "      <td>0.27</td>\n",
       "      <td>0.70</td>\n",
       "      <td>50.36</td>\n",
       "      <td>3051010</td>\n",
       "      <td>2,247.50</td>\n",
       "    </tr>\n",
       "  </tbody>\n",
       "</table>\n",
       "</div>"
      ],
      "text/plain": [
       "             region_name country_name  reporting_year  poverty_line  \\\n",
       "0     Sub-Saharan Africa       Angola            2000          6.85   \n",
       "1     Sub-Saharan Africa       Angola            2008          6.85   \n",
       "2     Sub-Saharan Africa       Angola            2018          6.85   \n",
       "3  Europe & Central Asia      Albania            1996          6.85   \n",
       "4  Europe & Central Asia      Albania            2002          6.85   \n",
       "\n",
       "   headcount  poverty_gap  poverty_severity  watts  mld  gini  polarization  \\\n",
       "0       0.67         0.35              0.23   0.64 0.51  0.52          0.46   \n",
       "1       0.69         0.33              0.19   0.52 0.31  0.43          0.39   \n",
       "2       0.78         0.45              0.30   0.82 0.48  0.51          0.47   \n",
       "3       0.48         0.14              0.06   0.18 0.12  0.27          0.24   \n",
       "4       0.52         0.16              0.07   0.22 0.16  0.32          0.27   \n",
       "\n",
       "   cpi    ppp  reporting_pop  reporting_gdp  \n",
       "0 0.01 107.27       16395477       2,451.51  \n",
       "1 0.30 107.27       21695636       4,077.78  \n",
       "2 1.23 107.27       30809787       3,595.11  \n",
       "3 0.40  50.36        3168033       1,633.55  \n",
       "4 0.70  50.36        3051010       2,247.50  "
      ]
     },
     "execution_count": 12,
     "metadata": {},
     "output_type": "execute_result"
    }
   ],
   "source": [
    "df.head()"
   ]
  },
  {
   "cell_type": "code",
   "execution_count": 13,
   "id": "4040f949",
   "metadata": {},
   "outputs": [
    {
     "data": {
      "text/html": [
       "<div>\n",
       "<style scoped>\n",
       "    .dataframe tbody tr th:only-of-type {\n",
       "        vertical-align: middle;\n",
       "    }\n",
       "\n",
       "    .dataframe tbody tr th {\n",
       "        vertical-align: top;\n",
       "    }\n",
       "\n",
       "    .dataframe thead th {\n",
       "        text-align: right;\n",
       "    }\n",
       "</style>\n",
       "<table border=\"1\" class=\"dataframe\">\n",
       "  <thead>\n",
       "    <tr style=\"text-align: right;\">\n",
       "      <th></th>\n",
       "      <th>region_name</th>\n",
       "      <th>country_name</th>\n",
       "      <th>reporting_year</th>\n",
       "      <th>poverty_line</th>\n",
       "      <th>headcount</th>\n",
       "      <th>poverty_gap</th>\n",
       "      <th>poverty_severity</th>\n",
       "      <th>watts</th>\n",
       "      <th>mld</th>\n",
       "      <th>gini</th>\n",
       "      <th>polarization</th>\n",
       "      <th>cpi</th>\n",
       "      <th>ppp</th>\n",
       "      <th>reporting_pop</th>\n",
       "      <th>reporting_gdp</th>\n",
       "    </tr>\n",
       "  </thead>\n",
       "  <tbody>\n",
       "    <tr>\n",
       "      <th>2204</th>\n",
       "      <td>Sub-Saharan Africa</td>\n",
       "      <td>Zambia</td>\n",
       "      <td>2010</td>\n",
       "      <td>6.85</td>\n",
       "      <td>0.93</td>\n",
       "      <td>0.70</td>\n",
       "      <td>0.56</td>\n",
       "      <td>1.54</td>\n",
       "      <td>0.54</td>\n",
       "      <td>0.56</td>\n",
       "      <td>0.54</td>\n",
       "      <td>0.55</td>\n",
       "      <td>4.22</td>\n",
       "      <td>13605986</td>\n",
       "      <td>1,214.69</td>\n",
       "    </tr>\n",
       "    <tr>\n",
       "      <th>2205</th>\n",
       "      <td>Sub-Saharan Africa</td>\n",
       "      <td>Zambia</td>\n",
       "      <td>2015</td>\n",
       "      <td>6.85</td>\n",
       "      <td>0.91</td>\n",
       "      <td>0.66</td>\n",
       "      <td>0.52</td>\n",
       "      <td>1.48</td>\n",
       "      <td>0.60</td>\n",
       "      <td>0.57</td>\n",
       "      <td>0.61</td>\n",
       "      <td>0.80</td>\n",
       "      <td>4.22</td>\n",
       "      <td>15879370</td>\n",
       "      <td>1,338.29</td>\n",
       "    </tr>\n",
       "    <tr>\n",
       "      <th>2206</th>\n",
       "      <td>Sub-Saharan Africa</td>\n",
       "      <td>Zimbabwe</td>\n",
       "      <td>2011</td>\n",
       "      <td>6.85</td>\n",
       "      <td>0.78</td>\n",
       "      <td>0.40</td>\n",
       "      <td>0.24</td>\n",
       "      <td>0.66</td>\n",
       "      <td>0.31</td>\n",
       "      <td>0.43</td>\n",
       "      <td>0.39</td>\n",
       "      <td>0.98</td>\n",
       "      <td>0.49</td>\n",
       "      <td>12894323</td>\n",
       "      <td>1,248.73</td>\n",
       "    </tr>\n",
       "    <tr>\n",
       "      <th>2207</th>\n",
       "      <td>Sub-Saharan Africa</td>\n",
       "      <td>Zimbabwe</td>\n",
       "      <td>2017</td>\n",
       "      <td>6.85</td>\n",
       "      <td>0.84</td>\n",
       "      <td>0.49</td>\n",
       "      <td>0.32</td>\n",
       "      <td>0.84</td>\n",
       "      <td>0.32</td>\n",
       "      <td>0.44</td>\n",
       "      <td>0.42</td>\n",
       "      <td>1.00</td>\n",
       "      <td>0.49</td>\n",
       "      <td>14236599</td>\n",
       "      <td>1,479.38</td>\n",
       "    </tr>\n",
       "    <tr>\n",
       "      <th>2208</th>\n",
       "      <td>Sub-Saharan Africa</td>\n",
       "      <td>Zimbabwe</td>\n",
       "      <td>2019</td>\n",
       "      <td>6.85</td>\n",
       "      <td>0.85</td>\n",
       "      <td>0.52</td>\n",
       "      <td>0.36</td>\n",
       "      <td>0.94</td>\n",
       "      <td>0.43</td>\n",
       "      <td>0.50</td>\n",
       "      <td>0.46</td>\n",
       "      <td>1.00</td>\n",
       "      <td>0.49</td>\n",
       "      <td>14645473</td>\n",
       "      <td>1,414.83</td>\n",
       "    </tr>\n",
       "  </tbody>\n",
       "</table>\n",
       "</div>"
      ],
      "text/plain": [
       "             region_name country_name  reporting_year  poverty_line  \\\n",
       "2204  Sub-Saharan Africa       Zambia            2010          6.85   \n",
       "2205  Sub-Saharan Africa       Zambia            2015          6.85   \n",
       "2206  Sub-Saharan Africa     Zimbabwe            2011          6.85   \n",
       "2207  Sub-Saharan Africa     Zimbabwe            2017          6.85   \n",
       "2208  Sub-Saharan Africa     Zimbabwe            2019          6.85   \n",
       "\n",
       "      headcount  poverty_gap  poverty_severity  watts  mld  gini  \\\n",
       "2204       0.93         0.70              0.56   1.54 0.54  0.56   \n",
       "2205       0.91         0.66              0.52   1.48 0.60  0.57   \n",
       "2206       0.78         0.40              0.24   0.66 0.31  0.43   \n",
       "2207       0.84         0.49              0.32   0.84 0.32  0.44   \n",
       "2208       0.85         0.52              0.36   0.94 0.43  0.50   \n",
       "\n",
       "      polarization  cpi  ppp  reporting_pop  reporting_gdp  \n",
       "2204          0.54 0.55 4.22       13605986       1,214.69  \n",
       "2205          0.61 0.80 4.22       15879370       1,338.29  \n",
       "2206          0.39 0.98 0.49       12894323       1,248.73  \n",
       "2207          0.42 1.00 0.49       14236599       1,479.38  \n",
       "2208          0.46 1.00 0.49       14645473       1,414.83  "
      ]
     },
     "execution_count": 13,
     "metadata": {},
     "output_type": "execute_result"
    }
   ],
   "source": [
    "df.tail()"
   ]
  },
  {
   "cell_type": "code",
   "execution_count": 14,
   "id": "b8f0d34a",
   "metadata": {},
   "outputs": [
    {
     "data": {
      "text/plain": [
       "(2035, 15)"
      ]
     },
     "execution_count": 14,
     "metadata": {},
     "output_type": "execute_result"
    }
   ],
   "source": [
    "df.shape"
   ]
  },
  {
   "cell_type": "markdown",
   "id": "6fa0381e",
   "metadata": {},
   "source": [
    "#### Ya contamos con un dataset que contiene la población de los países, eliminaremos la columna 'reporting_population'"
   ]
  },
  {
   "cell_type": "code",
   "execution_count": 15,
   "id": "7ca1a9eb",
   "metadata": {},
   "outputs": [],
   "source": [
    "df.drop(columns = 'reporting_pop', inplace = True)"
   ]
  },
  {
   "cell_type": "markdown",
   "id": "17ff54de",
   "metadata": {},
   "source": [
    "#### Lo mismo sucede con la categoría reporting_gdp que mide el ingreso por habitante de un país"
   ]
  },
  {
   "cell_type": "code",
   "execution_count": 16,
   "id": "c85cf994",
   "metadata": {},
   "outputs": [],
   "source": [
    "df.drop(columns = 'reporting_gdp', inplace = True)"
   ]
  },
  {
   "cell_type": "code",
   "execution_count": 17,
   "id": "b4b186f6",
   "metadata": {},
   "outputs": [
    {
     "name": "stdout",
     "output_type": "stream",
     "text": [
      "<class 'pandas.core.frame.DataFrame'>\n",
      "Int64Index: 2035 entries, 0 to 2208\n",
      "Data columns (total 13 columns):\n",
      " #   Column            Non-Null Count  Dtype  \n",
      "---  ------            --------------  -----  \n",
      " 0   region_name       2035 non-null   object \n",
      " 1   country_name      2035 non-null   object \n",
      " 2   reporting_year    2035 non-null   int64  \n",
      " 3   poverty_line      2035 non-null   float64\n",
      " 4   headcount         2034 non-null   float64\n",
      " 5   poverty_gap       2034 non-null   float64\n",
      " 6   poverty_severity  2034 non-null   float64\n",
      " 7   watts             2034 non-null   float64\n",
      " 8   mld               2031 non-null   float64\n",
      " 9   gini              2031 non-null   float64\n",
      " 10  polarization      2031 non-null   float64\n",
      " 11  cpi               2035 non-null   float64\n",
      " 12  ppp               1984 non-null   float64\n",
      "dtypes: float64(10), int64(1), object(2)\n",
      "memory usage: 222.6+ KB\n"
     ]
    }
   ],
   "source": [
    "df.info()"
   ]
  },
  {
   "cell_type": "markdown",
   "id": "d2cb3555",
   "metadata": {},
   "source": [
    "### Chequeo de valores nulos"
   ]
  },
  {
   "cell_type": "code",
   "execution_count": 18,
   "id": "1a6d4585",
   "metadata": {},
   "outputs": [
    {
     "data": {
      "text/plain": [
       "True"
      ]
     },
     "execution_count": 18,
     "metadata": {},
     "output_type": "execute_result"
    }
   ],
   "source": [
    "df.isna().any().any()"
   ]
  },
  {
   "cell_type": "code",
   "execution_count": 19,
   "id": "2eb4b628",
   "metadata": {},
   "outputs": [
    {
     "data": {
      "text/plain": [
       "region_name        0.00\n",
       "country_name       0.00\n",
       "reporting_year     0.00\n",
       "poverty_line       0.00\n",
       "headcount          0.05\n",
       "poverty_gap        0.05\n",
       "poverty_severity   0.05\n",
       "watts              0.05\n",
       "mld                0.20\n",
       "gini               0.20\n",
       "polarization       0.20\n",
       "cpi                0.00\n",
       "ppp                2.51\n",
       "dtype: float64"
      ]
     },
     "execution_count": 19,
     "metadata": {},
     "output_type": "execute_result"
    }
   ],
   "source": [
    "df.isna().mean() * 100"
   ]
  },
  {
   "cell_type": "markdown",
   "id": "a3553703",
   "metadata": {},
   "source": [
    "#### Como tenemos varios índices, algunos para medir la pobreza y otros para medir la desigualdad, queremos asegurarnos de no analizar variables que tengan una alta correlación."
   ]
  },
  {
   "cell_type": "code",
   "execution_count": 20,
   "id": "76c02a80",
   "metadata": {},
   "outputs": [],
   "source": [
    "df = df[df.gini.isna() == False]"
   ]
  },
  {
   "cell_type": "markdown",
   "id": "4bd048b9",
   "metadata": {},
   "source": [
    "La paridad de poder adquisitivo (columna ppp), tiene un valor único para cada país; solo muestra cual es el poder de compra de los ciudadanos de ese país en base 2017, no está ajustado por año. En consecuencia, no es un dato que vayamos a utilizar, así que en lugar de eliminar o tratar sus valores nulos; eliminaremos esta columna."
   ]
  },
  {
   "cell_type": "code",
   "execution_count": 21,
   "id": "a9d0f0ae",
   "metadata": {},
   "outputs": [],
   "source": [
    "df.drop(columns = 'ppp', inplace= True ) "
   ]
  },
  {
   "cell_type": "markdown",
   "id": "3f24a5e8",
   "metadata": {},
   "source": [
    "Volvemos a chequear los registros nulos"
   ]
  },
  {
   "cell_type": "code",
   "execution_count": 22,
   "id": "26f3c5fa",
   "metadata": {},
   "outputs": [
    {
     "data": {
      "text/plain": [
       "region_name        0.00\n",
       "country_name       0.00\n",
       "reporting_year     0.00\n",
       "poverty_line       0.00\n",
       "headcount          0.00\n",
       "poverty_gap        0.00\n",
       "poverty_severity   0.00\n",
       "watts              0.00\n",
       "mld                0.00\n",
       "gini               0.00\n",
       "polarization       0.00\n",
       "cpi                0.00\n",
       "dtype: float64"
      ]
     },
     "execution_count": 22,
     "metadata": {},
     "output_type": "execute_result"
    }
   ],
   "source": [
    "df.isna().mean() * 100"
   ]
  },
  {
   "cell_type": "markdown",
   "id": "05ce6b36",
   "metadata": {},
   "source": [
    "#### Vamos a filtrar los índices de pobreza y desigualdad para medir su correlatividad"
   ]
  },
  {
   "cell_type": "code",
   "execution_count": 23,
   "id": "d4e90b0b",
   "metadata": {},
   "outputs": [],
   "source": [
    "dfc = df[['poverty_line','headcount','poverty_gap','poverty_severity','watts','mld','gini','polarization','cpi']]"
   ]
  },
  {
   "cell_type": "code",
   "execution_count": 24,
   "id": "fbe59f10",
   "metadata": {},
   "outputs": [
    {
     "data": {
      "image/png": "[encoded data removed]",
      "text/plain": [
       "<Figure size 1400x1400 with 2 Axes>"
      ]
     },
     "metadata": {},
     "output_type": "display_data"
    }
   ],
   "source": [
    "corr = dfc.corr()\n",
    "plt.figure(figsize=(14,14))\n",
    "sns.heatmap(corr, cbar = True,  square = True, annot=True, fmt= '.2f',annot_kws={'size': 10},\n",
    "           xticklabels= dfc.columns, \n",
    "           yticklabels= dfc.columns,\n",
    "           cmap= 'coolwarm')\n",
    "plt.show()"
   ]
  },
  {
   "cell_type": "markdown",
   "id": "24043c6f",
   "metadata": {},
   "source": [
    "La columna \"poverty_line\" tiene un solo valor único, por lo tanto al carecer de variabilidad no hay una correlación que pueda ser cuantificada. Esto se expresa en el gráfico como celdas faltantes."
   ]
  },
  {
   "cell_type": "markdown",
   "id": "d42bde59",
   "metadata": {},
   "source": [
    "#### Vemos que los indicadores de pobreza, en el cuadrante superior izquierdo, tienen alta correlatividad entre sí. Lo mismo ocurre con los indicadores de desigualdad (cuadrado rojo en el medio del gráfico). Vamos a eliminar algunas de estas columnas. "
   ]
  },
  {
   "cell_type": "markdown",
   "id": "fa5d63f8",
   "metadata": {},
   "source": [
    "Los métodos poverty severity y headcount sirven para medir la pobreza, el primero es más elaborado y tiene en cuenta\n",
    "cuestiones de desigualdad, mientras que el primero es una simple proporción poblacional. Sin embargo en este trabajo \n",
    "no vamos a tener en cuenta estas cuestiones técnicas, priorizaremos no incluir campos con alta correlatividad y que \n",
    "pertenezcan a una misma categoría."
   ]
  },
  {
   "cell_type": "code",
   "execution_count": 25,
   "id": "1eefdd61",
   "metadata": {},
   "outputs": [],
   "source": [
    "df.drop(columns = ['poverty_gap', 'poverty_severity', 'watts'], inplace = True ) "
   ]
  },
  {
   "cell_type": "code",
   "execution_count": 26,
   "id": "a5a99b6d",
   "metadata": {},
   "outputs": [],
   "source": [
    "df.drop(columns = ['mld','polarization'], inplace = True)"
   ]
  },
  {
   "cell_type": "code",
   "execution_count": 27,
   "id": "117dbd1a",
   "metadata": {},
   "outputs": [
    {
     "data": {
      "text/html": [
       "<div>\n",
       "<style scoped>\n",
       "    .dataframe tbody tr th:only-of-type {\n",
       "        vertical-align: middle;\n",
       "    }\n",
       "\n",
       "    .dataframe tbody tr th {\n",
       "        vertical-align: top;\n",
       "    }\n",
       "\n",
       "    .dataframe thead th {\n",
       "        text-align: right;\n",
       "    }\n",
       "</style>\n",
       "<table border=\"1\" class=\"dataframe\">\n",
       "  <thead>\n",
       "    <tr style=\"text-align: right;\">\n",
       "      <th></th>\n",
       "      <th>region_name</th>\n",
       "      <th>country_name</th>\n",
       "      <th>reporting_year</th>\n",
       "      <th>poverty_line</th>\n",
       "      <th>headcount</th>\n",
       "      <th>gini</th>\n",
       "      <th>cpi</th>\n",
       "    </tr>\n",
       "  </thead>\n",
       "  <tbody>\n",
       "    <tr>\n",
       "      <th>0</th>\n",
       "      <td>Sub-Saharan Africa</td>\n",
       "      <td>Angola</td>\n",
       "      <td>2000</td>\n",
       "      <td>6.85</td>\n",
       "      <td>0.67</td>\n",
       "      <td>0.52</td>\n",
       "      <td>0.01</td>\n",
       "    </tr>\n",
       "    <tr>\n",
       "      <th>1</th>\n",
       "      <td>Sub-Saharan Africa</td>\n",
       "      <td>Angola</td>\n",
       "      <td>2008</td>\n",
       "      <td>6.85</td>\n",
       "      <td>0.69</td>\n",
       "      <td>0.43</td>\n",
       "      <td>0.30</td>\n",
       "    </tr>\n",
       "    <tr>\n",
       "      <th>2</th>\n",
       "      <td>Sub-Saharan Africa</td>\n",
       "      <td>Angola</td>\n",
       "      <td>2018</td>\n",
       "      <td>6.85</td>\n",
       "      <td>0.78</td>\n",
       "      <td>0.51</td>\n",
       "      <td>1.23</td>\n",
       "    </tr>\n",
       "    <tr>\n",
       "      <th>3</th>\n",
       "      <td>Europe &amp; Central Asia</td>\n",
       "      <td>Albania</td>\n",
       "      <td>1996</td>\n",
       "      <td>6.85</td>\n",
       "      <td>0.48</td>\n",
       "      <td>0.27</td>\n",
       "      <td>0.40</td>\n",
       "    </tr>\n",
       "    <tr>\n",
       "      <th>4</th>\n",
       "      <td>Europe &amp; Central Asia</td>\n",
       "      <td>Albania</td>\n",
       "      <td>2002</td>\n",
       "      <td>6.85</td>\n",
       "      <td>0.52</td>\n",
       "      <td>0.32</td>\n",
       "      <td>0.70</td>\n",
       "    </tr>\n",
       "    <tr>\n",
       "      <th>...</th>\n",
       "      <td>...</td>\n",
       "      <td>...</td>\n",
       "      <td>...</td>\n",
       "      <td>...</td>\n",
       "      <td>...</td>\n",
       "      <td>...</td>\n",
       "      <td>...</td>\n",
       "    </tr>\n",
       "    <tr>\n",
       "      <th>2204</th>\n",
       "      <td>Sub-Saharan Africa</td>\n",
       "      <td>Zambia</td>\n",
       "      <td>2010</td>\n",
       "      <td>6.85</td>\n",
       "      <td>0.93</td>\n",
       "      <td>0.56</td>\n",
       "      <td>0.55</td>\n",
       "    </tr>\n",
       "    <tr>\n",
       "      <th>2205</th>\n",
       "      <td>Sub-Saharan Africa</td>\n",
       "      <td>Zambia</td>\n",
       "      <td>2015</td>\n",
       "      <td>6.85</td>\n",
       "      <td>0.91</td>\n",
       "      <td>0.57</td>\n",
       "      <td>0.80</td>\n",
       "    </tr>\n",
       "    <tr>\n",
       "      <th>2206</th>\n",
       "      <td>Sub-Saharan Africa</td>\n",
       "      <td>Zimbabwe</td>\n",
       "      <td>2011</td>\n",
       "      <td>6.85</td>\n",
       "      <td>0.78</td>\n",
       "      <td>0.43</td>\n",
       "      <td>0.98</td>\n",
       "    </tr>\n",
       "    <tr>\n",
       "      <th>2207</th>\n",
       "      <td>Sub-Saharan Africa</td>\n",
       "      <td>Zimbabwe</td>\n",
       "      <td>2017</td>\n",
       "      <td>6.85</td>\n",
       "      <td>0.84</td>\n",
       "      <td>0.44</td>\n",
       "      <td>1.00</td>\n",
       "    </tr>\n",
       "    <tr>\n",
       "      <th>2208</th>\n",
       "      <td>Sub-Saharan Africa</td>\n",
       "      <td>Zimbabwe</td>\n",
       "      <td>2019</td>\n",
       "      <td>6.85</td>\n",
       "      <td>0.85</td>\n",
       "      <td>0.50</td>\n",
       "      <td>1.00</td>\n",
       "    </tr>\n",
       "  </tbody>\n",
       "</table>\n",
       "<p>2031 rows × 7 columns</p>\n",
       "</div>"
      ],
      "text/plain": [
       "                region_name country_name  reporting_year  poverty_line  \\\n",
       "0        Sub-Saharan Africa       Angola            2000          6.85   \n",
       "1        Sub-Saharan Africa       Angola            2008          6.85   \n",
       "2        Sub-Saharan Africa       Angola            2018          6.85   \n",
       "3     Europe & Central Asia      Albania            1996          6.85   \n",
       "4     Europe & Central Asia      Albania            2002          6.85   \n",
       "...                     ...          ...             ...           ...   \n",
       "2204     Sub-Saharan Africa       Zambia            2010          6.85   \n",
       "2205     Sub-Saharan Africa       Zambia            2015          6.85   \n",
       "2206     Sub-Saharan Africa     Zimbabwe            2011          6.85   \n",
       "2207     Sub-Saharan Africa     Zimbabwe            2017          6.85   \n",
       "2208     Sub-Saharan Africa     Zimbabwe            2019          6.85   \n",
       "\n",
       "      headcount  gini  cpi  \n",
       "0          0.67  0.52 0.01  \n",
       "1          0.69  0.43 0.30  \n",
       "2          0.78  0.51 1.23  \n",
       "3          0.48  0.27 0.40  \n",
       "4          0.52  0.32 0.70  \n",
       "...         ...   ...  ...  \n",
       "2204       0.93  0.56 0.55  \n",
       "2205       0.91  0.57 0.80  \n",
       "2206       0.78  0.43 0.98  \n",
       "2207       0.84  0.44 1.00  \n",
       "2208       0.85  0.50 1.00  \n",
       "\n",
       "[2031 rows x 7 columns]"
      ]
     },
     "execution_count": 27,
     "metadata": {},
     "output_type": "execute_result"
    }
   ],
   "source": [
    "df"
   ]
  },
  {
   "cell_type": "markdown",
   "id": "de63c654",
   "metadata": {},
   "source": [
    "### Renombraremos a la columna country_year y normalizaremos los valores de los campos de texto"
   ]
  },
  {
   "cell_type": "code",
   "execution_count": 28,
   "id": "6929fc85",
   "metadata": {},
   "outputs": [],
   "source": [
    "df.rename(columns = {'reporting_year' : 'year'}, inplace = True)"
   ]
  },
  {
   "cell_type": "markdown",
   "id": "fe36afbe",
   "metadata": {},
   "source": [
    "### Veamos que información preeliminar podemos obtener de estos campos"
   ]
  },
  {
   "cell_type": "code",
   "execution_count": 29,
   "id": "4fa4c71e",
   "metadata": {},
   "outputs": [
    {
     "data": {
      "text/plain": [
       "array(['Sub-Saharan Africa', 'Europe & Central Asia',\n",
       "       'Other High Income Countries', 'Latin America & Caribbean',\n",
       "       'South Asia', 'East Asia & Pacific', 'Middle East & North Africa'],\n",
       "      dtype=object)"
      ]
     },
     "execution_count": 29,
     "metadata": {},
     "output_type": "execute_result"
    }
   ],
   "source": [
    "df.region_name.unique()"
   ]
  },
  {
   "cell_type": "code",
   "execution_count": 30,
   "id": "478a7aa1",
   "metadata": {},
   "outputs": [
    {
     "data": {
      "text/plain": [
       "0"
      ]
     },
     "execution_count": 30,
     "metadata": {},
     "output_type": "execute_result"
    }
   ],
   "source": [
    "df.duplicated().sum()"
   ]
  },
  {
   "cell_type": "code",
   "execution_count": 31,
   "id": "a56a64b1",
   "metadata": {},
   "outputs": [
    {
     "data": {
      "text/plain": [
       "169"
      ]
     },
     "execution_count": 31,
     "metadata": {},
     "output_type": "execute_result"
    }
   ],
   "source": [
    "len(df.country_name.unique())"
   ]
  },
  {
   "cell_type": "code",
   "execution_count": 32,
   "id": "8d5a0229",
   "metadata": {},
   "outputs": [
    {
     "data": {
      "text/html": [
       "<div>\n",
       "<style scoped>\n",
       "    .dataframe tbody tr th:only-of-type {\n",
       "        vertical-align: middle;\n",
       "    }\n",
       "\n",
       "    .dataframe tbody tr th {\n",
       "        vertical-align: top;\n",
       "    }\n",
       "\n",
       "    .dataframe thead th {\n",
       "        text-align: right;\n",
       "    }\n",
       "</style>\n",
       "<table border=\"1\" class=\"dataframe\">\n",
       "  <thead>\n",
       "    <tr style=\"text-align: right;\">\n",
       "      <th></th>\n",
       "      <th>headcount</th>\n",
       "      <th>gini</th>\n",
       "      <th>cpi</th>\n",
       "    </tr>\n",
       "  </thead>\n",
       "  <tbody>\n",
       "    <tr>\n",
       "      <th>count</th>\n",
       "      <td>2,031.00</td>\n",
       "      <td>2,031.00</td>\n",
       "      <td>2,031.00</td>\n",
       "    </tr>\n",
       "    <tr>\n",
       "      <th>mean</th>\n",
       "      <td>0.36</td>\n",
       "      <td>0.38</td>\n",
       "      <td>17.57</td>\n",
       "    </tr>\n",
       "    <tr>\n",
       "      <th>std</th>\n",
       "      <td>0.34</td>\n",
       "      <td>0.09</td>\n",
       "      <td>173.69</td>\n",
       "    </tr>\n",
       "    <tr>\n",
       "      <th>min</th>\n",
       "      <td>0.00</td>\n",
       "      <td>0.20</td>\n",
       "      <td>0.00</td>\n",
       "    </tr>\n",
       "    <tr>\n",
       "      <th>25%</th>\n",
       "      <td>0.03</td>\n",
       "      <td>0.31</td>\n",
       "      <td>0.55</td>\n",
       "    </tr>\n",
       "    <tr>\n",
       "      <th>50%</th>\n",
       "      <td>0.27</td>\n",
       "      <td>0.36</td>\n",
       "      <td>0.83</td>\n",
       "    </tr>\n",
       "    <tr>\n",
       "      <th>75%</th>\n",
       "      <td>0.65</td>\n",
       "      <td>0.43</td>\n",
       "      <td>0.98</td>\n",
       "    </tr>\n",
       "    <tr>\n",
       "      <th>max</th>\n",
       "      <td>1.00</td>\n",
       "      <td>0.66</td>\n",
       "      <td>4,225.82</td>\n",
       "    </tr>\n",
       "  </tbody>\n",
       "</table>\n",
       "</div>"
      ],
      "text/plain": [
       "       headcount     gini      cpi\n",
       "count   2,031.00 2,031.00 2,031.00\n",
       "mean        0.36     0.38    17.57\n",
       "std         0.34     0.09   173.69\n",
       "min         0.00     0.20     0.00\n",
       "25%         0.03     0.31     0.55\n",
       "50%         0.27     0.36     0.83\n",
       "75%         0.65     0.43     0.98\n",
       "max         1.00     0.66 4,225.82"
      ]
     },
     "execution_count": 32,
     "metadata": {},
     "output_type": "execute_result"
    }
   ],
   "source": [
    "df.iloc[:, 4:].describe()"
   ]
  },
  {
   "cell_type": "markdown",
   "id": "cdf747bd",
   "metadata": {},
   "source": [
    "## Proporción de pobreza poblacional ('headcount')"
   ]
  },
  {
   "cell_type": "code",
   "execution_count": 33,
   "id": "bc9b03e5",
   "metadata": {},
   "outputs": [
    {
     "data": {
      "text/plain": [
       "count   2,031.00\n",
       "mean        0.36\n",
       "std         0.34\n",
       "min         0.00\n",
       "25%         0.03\n",
       "50%         0.27\n",
       "75%         0.65\n",
       "max         1.00\n",
       "Name: headcount, dtype: float64"
      ]
     },
     "execution_count": 33,
     "metadata": {},
     "output_type": "execute_result"
    }
   ],
   "source": [
    "df.headcount.describe()"
   ]
  },
  {
   "cell_type": "code",
   "execution_count": 34,
   "id": "22c1f908",
   "metadata": {},
   "outputs": [
    {
     "data": {
      "text/plain": [
       "Text(0, 0.5, 'Registros')"
      ]
     },
     "execution_count": 34,
     "metadata": {},
     "output_type": "execute_result"
    },
    {
     "data": {
      "image/png": "[encoded data removed]",
      "text/plain": [
       "<Figure size 1600x600 with 4 Axes>"
      ]
     },
     "metadata": {},
     "output_type": "display_data"
    }
   ],
   "source": [
    "df_1990 = df[df['year'] == 1990]\n",
    "df_1995 = df[df['year'] == 1995]\n",
    "\n",
    "fig, axs = plt.subplots(2, 2,  figsize=(16, 6))\n",
    "sns.boxplot(x='headcount', data=df_1990, ax=axs[0,0], hue='year')\n",
    "sns.histplot(x='headcount', data=df_1990, bins=20, kde=False, ax=axs[0,1], hue='year')\n",
    "sns.boxplot(x='headcount', data=df_1995, ax=axs[1,0], hue='year')\n",
    "sns.histplot(x='headcount', data=df_1995, bins=20, kde=False, ax=axs[1,1], hue='year')\n",
    "axs[0,0].set_ylabel('Año: 1990')\n",
    "axs[1,0].set_ylabel('Año: 1995')\n",
    "axs[0,1].set_ylabel('Registros')\n",
    "axs[1,1].set_ylabel('Registros')"
   ]
  },
  {
   "cell_type": "code",
   "execution_count": 35,
   "id": "0e475723",
   "metadata": {},
   "outputs": [
    {
     "data": {
      "text/plain": [
       "Text(0, 0.5, 'Registros')"
      ]
     },
     "execution_count": 35,
     "metadata": {},
     "output_type": "execute_result"
    },
    {
     "data": {
      "image/png": "[encoded data removed]",
      "text/plain": [
       "<Figure size 1800x600 with 4 Axes>"
      ]
     },
     "metadata": {},
     "output_type": "display_data"
    }
   ],
   "source": [
    "df_2020 = df[df['year'] == 2020]\n",
    "df_2015 = df[df['year'] == 2015]\n",
    "\n",
    "fig, axs = plt.subplots(2, 2,  figsize=(18, 6))\n",
    "sns.boxplot(x='headcount', data=df_2015, ax=axs[0,0], hue='year')\n",
    "sns.histplot(x='headcount', data=df_2015, bins=20, kde=False, ax=axs[0,1], hue='year')\n",
    "sns.boxplot(x='headcount', data=df_2020, ax=axs[1,0], hue='year')\n",
    "sns.histplot(x='headcount', data=df_2020, bins=20, kde=False, ax=axs[1,1], hue='year')\n",
    "\n",
    "axs[0,0].set_ylabel('Año: 2015')\n",
    "axs[1,0].set_ylabel('Año: 2020')\n",
    "axs[0,1].set_ylabel('Registros')\n",
    "axs[1,1].set_ylabel('Registros')"
   ]
  },
  {
   "cell_type": "markdown",
   "id": "5e153095",
   "metadata": {},
   "source": [
    "Las distribuciones suelen variar mucho, por lo que no podemos ser concluyentes. De todas maneras, se puede apreciar un desplazamiento hacia la derecha de la distribución, lo que sugiere una caída en la pobreza calculada con una línea de 6.85 dólares diarios."
   ]
  },
  {
   "cell_type": "markdown",
   "id": "fbdf4c57",
   "metadata": {},
   "source": [
    "### A lo largo del tiempo"
   ]
  },
  {
   "cell_type": "code",
   "execution_count": 36,
   "id": "d7eb4e0a",
   "metadata": {},
   "outputs": [],
   "source": [
    "grouped = df.groupby('year')\n",
    "result = grouped['headcount'].median()\n",
    "#print(result)"
   ]
  },
  {
   "cell_type": "code",
   "execution_count": 37,
   "id": "bf616532",
   "metadata": {},
   "outputs": [
    {
     "data": {
      "image/png": "[encoded data removed]",
      "text/plain": [
       "<Figure size 1000x600 with 1 Axes>"
      ]
     },
     "metadata": {},
     "output_type": "display_data"
    }
   ],
   "source": [
    "# Agrupar por año y calcular la mediana, el mínimo y el máximo de headcount\n",
    "grouped = df.groupby('year')['headcount']\n",
    "result = grouped.agg(['median', 'min', 'max'])\n",
    "\n",
    "# Crear un gráfico de líneas\n",
    "fig, ax = plt.subplots(figsize=(10, 6))\n",
    "ax.plot(result.index, result['max'], label='Máximo')\n",
    "ax.plot(result.index, result['median'], label='Mediana')\n",
    "ax.plot(result.index, result['min'], label='Mínimo')\n",
    "ax.plot(result.index, grouped.mean(), label='Media')\n",
    "\n",
    "# Configurar el gráfico\n",
    "ax.set_xlabel('Año')\n",
    "ax.set_ylabel('Proporción de pobreza (en tanto por uno)')\n",
    "ax.set_title('Máximo, mediana, mínimo y media de proporción de pobreza por año')\n",
    "ax.legend()\n",
    "plt.show()"
   ]
  },
  {
   "cell_type": "markdown",
   "id": "addbd950",
   "metadata": {},
   "source": [
    "Lo que podemos notar es que hasta el año 2019, el máximo de la proporción de pobreza se mantiene casi inalterado, cercano al 1, lo que nos habla de que existen Estados o territorios, en los que la pobreza no ha podido ser erradicada. El resultado del año 2020 nos llama la atención pero tendemos a pensar que se debe a una distorsión en los datos y no a una distorsión y no a una caída real de ese núcleo de poblaciones pobres. Por otro lado la mediana y la media muestras una clara tendencia a la caída por lo que se puede hablar de una caída de la proporción de la pobreza en términos generales. En el otro extremo del gráfico los valores cercanos o iguales a cero nos hablan de un núcleo de riqueza que ha permanecido inalterada a lo largo de los años. "
   ]
  },
  {
   "cell_type": "code",
   "execution_count": 38,
   "id": "77581a03",
   "metadata": {},
   "outputs": [
    {
     "data": {
      "text/html": [
       "<div>\n",
       "<style scoped>\n",
       "    .dataframe tbody tr th:only-of-type {\n",
       "        vertical-align: middle;\n",
       "    }\n",
       "\n",
       "    .dataframe tbody tr th {\n",
       "        vertical-align: top;\n",
       "    }\n",
       "\n",
       "    .dataframe thead th {\n",
       "        text-align: right;\n",
       "    }\n",
       "</style>\n",
       "<table border=\"1\" class=\"dataframe\">\n",
       "  <thead>\n",
       "    <tr style=\"text-align: right;\">\n",
       "      <th></th>\n",
       "      <th>region_name</th>\n",
       "      <th>country_name</th>\n",
       "      <th>year</th>\n",
       "      <th>poverty_line</th>\n",
       "      <th>headcount</th>\n",
       "      <th>gini</th>\n",
       "      <th>cpi</th>\n",
       "    </tr>\n",
       "  </thead>\n",
       "  <tbody>\n",
       "    <tr>\n",
       "      <th>0</th>\n",
       "      <td>Sub-Saharan Africa</td>\n",
       "      <td>Angola</td>\n",
       "      <td>2000</td>\n",
       "      <td>6.85</td>\n",
       "      <td>0.67</td>\n",
       "      <td>0.52</td>\n",
       "      <td>0.01</td>\n",
       "    </tr>\n",
       "    <tr>\n",
       "      <th>1</th>\n",
       "      <td>Sub-Saharan Africa</td>\n",
       "      <td>Angola</td>\n",
       "      <td>2008</td>\n",
       "      <td>6.85</td>\n",
       "      <td>0.69</td>\n",
       "      <td>0.43</td>\n",
       "      <td>0.30</td>\n",
       "    </tr>\n",
       "    <tr>\n",
       "      <th>2</th>\n",
       "      <td>Sub-Saharan Africa</td>\n",
       "      <td>Angola</td>\n",
       "      <td>2018</td>\n",
       "      <td>6.85</td>\n",
       "      <td>0.78</td>\n",
       "      <td>0.51</td>\n",
       "      <td>1.23</td>\n",
       "    </tr>\n",
       "    <tr>\n",
       "      <th>3</th>\n",
       "      <td>Europe &amp; Central Asia</td>\n",
       "      <td>Albania</td>\n",
       "      <td>1996</td>\n",
       "      <td>6.85</td>\n",
       "      <td>0.48</td>\n",
       "      <td>0.27</td>\n",
       "      <td>0.40</td>\n",
       "    </tr>\n",
       "    <tr>\n",
       "      <th>4</th>\n",
       "      <td>Europe &amp; Central Asia</td>\n",
       "      <td>Albania</td>\n",
       "      <td>2002</td>\n",
       "      <td>6.85</td>\n",
       "      <td>0.52</td>\n",
       "      <td>0.32</td>\n",
       "      <td>0.70</td>\n",
       "    </tr>\n",
       "  </tbody>\n",
       "</table>\n",
       "</div>"
      ],
      "text/plain": [
       "             region_name country_name  year  poverty_line  headcount  gini  \\\n",
       "0     Sub-Saharan Africa       Angola  2000          6.85       0.67  0.52   \n",
       "1     Sub-Saharan Africa       Angola  2008          6.85       0.69  0.43   \n",
       "2     Sub-Saharan Africa       Angola  2018          6.85       0.78  0.51   \n",
       "3  Europe & Central Asia      Albania  1996          6.85       0.48  0.27   \n",
       "4  Europe & Central Asia      Albania  2002          6.85       0.52  0.32   \n",
       "\n",
       "   cpi  \n",
       "0 0.01  \n",
       "1 0.30  \n",
       "2 1.23  \n",
       "3 0.40  \n",
       "4 0.70  "
      ]
     },
     "execution_count": 38,
     "metadata": {},
     "output_type": "execute_result"
    }
   ],
   "source": [
    "df.head()"
   ]
  },
  {
   "cell_type": "markdown",
   "id": "412b15b5",
   "metadata": {},
   "source": [
    "## Desigualdad"
   ]
  },
  {
   "cell_type": "markdown",
   "id": "cd36c650",
   "metadata": {},
   "source": [
    "Este dataset utiliza el índice de Gini como medida de desigualdad de los ingresos de la población, un índice cercano a cero habla de una mejor distribución de los ingresos, mientras que un número cercano a uno habla de una distribución desigual."
   ]
  },
  {
   "cell_type": "code",
   "execution_count": 39,
   "id": "5fbe298e",
   "metadata": {},
   "outputs": [
    {
     "data": {
      "text/html": [
       "<div>\n",
       "<style scoped>\n",
       "    .dataframe tbody tr th:only-of-type {\n",
       "        vertical-align: middle;\n",
       "    }\n",
       "\n",
       "    .dataframe tbody tr th {\n",
       "        vertical-align: top;\n",
       "    }\n",
       "\n",
       "    .dataframe thead th {\n",
       "        text-align: right;\n",
       "    }\n",
       "</style>\n",
       "<table border=\"1\" class=\"dataframe\">\n",
       "  <thead>\n",
       "    <tr style=\"text-align: right;\">\n",
       "      <th></th>\n",
       "      <th>region_name</th>\n",
       "      <th>country_name</th>\n",
       "      <th>year</th>\n",
       "      <th>poverty_line</th>\n",
       "      <th>headcount</th>\n",
       "      <th>gini</th>\n",
       "      <th>cpi</th>\n",
       "    </tr>\n",
       "  </thead>\n",
       "  <tbody>\n",
       "    <tr>\n",
       "      <th>0</th>\n",
       "      <td>Sub-Saharan Africa</td>\n",
       "      <td>Angola</td>\n",
       "      <td>2000</td>\n",
       "      <td>6.85</td>\n",
       "      <td>0.67</td>\n",
       "      <td>0.52</td>\n",
       "      <td>0.01</td>\n",
       "    </tr>\n",
       "    <tr>\n",
       "      <th>1</th>\n",
       "      <td>Sub-Saharan Africa</td>\n",
       "      <td>Angola</td>\n",
       "      <td>2008</td>\n",
       "      <td>6.85</td>\n",
       "      <td>0.69</td>\n",
       "      <td>0.43</td>\n",
       "      <td>0.30</td>\n",
       "    </tr>\n",
       "    <tr>\n",
       "      <th>2</th>\n",
       "      <td>Sub-Saharan Africa</td>\n",
       "      <td>Angola</td>\n",
       "      <td>2018</td>\n",
       "      <td>6.85</td>\n",
       "      <td>0.78</td>\n",
       "      <td>0.51</td>\n",
       "      <td>1.23</td>\n",
       "    </tr>\n",
       "    <tr>\n",
       "      <th>3</th>\n",
       "      <td>Europe &amp; Central Asia</td>\n",
       "      <td>Albania</td>\n",
       "      <td>1996</td>\n",
       "      <td>6.85</td>\n",
       "      <td>0.48</td>\n",
       "      <td>0.27</td>\n",
       "      <td>0.40</td>\n",
       "    </tr>\n",
       "    <tr>\n",
       "      <th>4</th>\n",
       "      <td>Europe &amp; Central Asia</td>\n",
       "      <td>Albania</td>\n",
       "      <td>2002</td>\n",
       "      <td>6.85</td>\n",
       "      <td>0.52</td>\n",
       "      <td>0.32</td>\n",
       "      <td>0.70</td>\n",
       "    </tr>\n",
       "    <tr>\n",
       "      <th>...</th>\n",
       "      <td>...</td>\n",
       "      <td>...</td>\n",
       "      <td>...</td>\n",
       "      <td>...</td>\n",
       "      <td>...</td>\n",
       "      <td>...</td>\n",
       "      <td>...</td>\n",
       "    </tr>\n",
       "    <tr>\n",
       "      <th>2204</th>\n",
       "      <td>Sub-Saharan Africa</td>\n",
       "      <td>Zambia</td>\n",
       "      <td>2010</td>\n",
       "      <td>6.85</td>\n",
       "      <td>0.93</td>\n",
       "      <td>0.56</td>\n",
       "      <td>0.55</td>\n",
       "    </tr>\n",
       "    <tr>\n",
       "      <th>2205</th>\n",
       "      <td>Sub-Saharan Africa</td>\n",
       "      <td>Zambia</td>\n",
       "      <td>2015</td>\n",
       "      <td>6.85</td>\n",
       "      <td>0.91</td>\n",
       "      <td>0.57</td>\n",
       "      <td>0.80</td>\n",
       "    </tr>\n",
       "    <tr>\n",
       "      <th>2206</th>\n",
       "      <td>Sub-Saharan Africa</td>\n",
       "      <td>Zimbabwe</td>\n",
       "      <td>2011</td>\n",
       "      <td>6.85</td>\n",
       "      <td>0.78</td>\n",
       "      <td>0.43</td>\n",
       "      <td>0.98</td>\n",
       "    </tr>\n",
       "    <tr>\n",
       "      <th>2207</th>\n",
       "      <td>Sub-Saharan Africa</td>\n",
       "      <td>Zimbabwe</td>\n",
       "      <td>2017</td>\n",
       "      <td>6.85</td>\n",
       "      <td>0.84</td>\n",
       "      <td>0.44</td>\n",
       "      <td>1.00</td>\n",
       "    </tr>\n",
       "    <tr>\n",
       "      <th>2208</th>\n",
       "      <td>Sub-Saharan Africa</td>\n",
       "      <td>Zimbabwe</td>\n",
       "      <td>2019</td>\n",
       "      <td>6.85</td>\n",
       "      <td>0.85</td>\n",
       "      <td>0.50</td>\n",
       "      <td>1.00</td>\n",
       "    </tr>\n",
       "  </tbody>\n",
       "</table>\n",
       "<p>2031 rows × 7 columns</p>\n",
       "</div>"
      ],
      "text/plain": [
       "                region_name country_name  year  poverty_line  headcount  gini  \\\n",
       "0        Sub-Saharan Africa       Angola  2000          6.85       0.67  0.52   \n",
       "1        Sub-Saharan Africa       Angola  2008          6.85       0.69  0.43   \n",
       "2        Sub-Saharan Africa       Angola  2018          6.85       0.78  0.51   \n",
       "3     Europe & Central Asia      Albania  1996          6.85       0.48  0.27   \n",
       "4     Europe & Central Asia      Albania  2002          6.85       0.52  0.32   \n",
       "...                     ...          ...   ...           ...        ...   ...   \n",
       "2204     Sub-Saharan Africa       Zambia  2010          6.85       0.93  0.56   \n",
       "2205     Sub-Saharan Africa       Zambia  2015          6.85       0.91  0.57   \n",
       "2206     Sub-Saharan Africa     Zimbabwe  2011          6.85       0.78  0.43   \n",
       "2207     Sub-Saharan Africa     Zimbabwe  2017          6.85       0.84  0.44   \n",
       "2208     Sub-Saharan Africa     Zimbabwe  2019          6.85       0.85  0.50   \n",
       "\n",
       "      cpi  \n",
       "0    0.01  \n",
       "1    0.30  \n",
       "2    1.23  \n",
       "3    0.40  \n",
       "4    0.70  \n",
       "...   ...  \n",
       "2204 0.55  \n",
       "2205 0.80  \n",
       "2206 0.98  \n",
       "2207 1.00  \n",
       "2208 1.00  \n",
       "\n",
       "[2031 rows x 7 columns]"
      ]
     },
     "execution_count": 39,
     "metadata": {},
     "output_type": "execute_result"
    }
   ],
   "source": [
    "df"
   ]
  },
  {
   "cell_type": "code",
   "execution_count": 40,
   "id": "3aa72233",
   "metadata": {},
   "outputs": [
    {
     "data": {
      "text/plain": [
       "Text(0, 0.5, 'Registros')"
      ]
     },
     "execution_count": 40,
     "metadata": {},
     "output_type": "execute_result"
    },
    {
     "data": {
      "image/png": "[encoded data removed]",
      "text/plain": [
       "<Figure size 1600x600 with 4 Axes>"
      ]
     },
     "metadata": {},
     "output_type": "display_data"
    }
   ],
   "source": [
    "df_1990 = df[df['year'] == 1990]\n",
    "df_1995 = df[df['year'] == 1995]\n",
    "\n",
    "fig, axs = plt.subplots(2, 2,  figsize=(16, 6))\n",
    "sns.boxplot(x='gini', data=df_1990, ax=axs[0,0], hue='year')\n",
    "sns.histplot(x='gini', data=df_1990, bins=20, kde=False, ax=axs[0,1], hue='year')\n",
    "sns.boxplot(x='gini', data=df_1995, ax=axs[1,0], hue='year')\n",
    "sns.histplot(x='gini', data=df_1995, bins=20, kde=False, ax=axs[1,1], hue='year')\n",
    "axs[0,0].set_ylabel('Año: 1990')\n",
    "axs[1,0].set_ylabel('Año: 1995')\n",
    "axs[0,1].set_ylabel('Registros')\n",
    "axs[1,1].set_ylabel('Registros')"
   ]
  },
  {
   "cell_type": "code",
   "execution_count": 41,
   "id": "e3d19e5f",
   "metadata": {},
   "outputs": [
    {
     "data": {
      "text/plain": [
       "Text(0, 0.5, 'Registros')"
      ]
     },
     "execution_count": 41,
     "metadata": {},
     "output_type": "execute_result"
    },
    {
     "data": {
      "image/png": "[encoded data removed]",
      "text/plain": [
       "<Figure size 1800x600 with 4 Axes>"
      ]
     },
     "metadata": {},
     "output_type": "display_data"
    }
   ],
   "source": [
    "df_2019 = df[df['year'] == 2019]\n",
    "df_2015 = df[df['year'] == 2015]\n",
    "\n",
    "fig, axs = plt.subplots(2, 2,  figsize=(18, 6))\n",
    "sns.boxplot(x='gini', data=df_2015, ax=axs[0,0], hue='year')\n",
    "sns.histplot(x='gini', data=df_2015, bins=20, kde=False, ax=axs[0,1], hue='year')\n",
    "sns.boxplot(x='gini', data=df_2019, ax=axs[1,0], hue='year')\n",
    "sns.histplot(x='gini', data=df_2019, bins=20, kde=False, ax=axs[1,1], hue='year')\n",
    "\n",
    "axs[0,0].set_ylabel('Año: 2015')\n",
    "axs[1,0].set_ylabel('Año: 2019')\n",
    "axs[0,1].set_ylabel('Registros')\n",
    "axs[1,1].set_ylabel('Registros')"
   ]
  },
  {
   "cell_type": "markdown",
   "id": "3758ebc5",
   "metadata": {},
   "source": [
    "A excepción del año 2015 la tendencia general observada es un desplazamiento de los gráficos hacia la derecha, lo que implicaría un aumento en la desigualdad de los países."
   ]
  },
  {
   "cell_type": "markdown",
   "id": "a46ebe43",
   "metadata": {},
   "source": [
    "### Gini a lo largo del tiempo"
   ]
  },
  {
   "cell_type": "code",
   "execution_count": 42,
   "id": "4a640968",
   "metadata": {},
   "outputs": [
    {
     "data": {
      "image/png": "[encoded data removed]",
      "text/plain": [
       "<Figure size 1000x600 with 1 Axes>"
      ]
     },
     "metadata": {},
     "output_type": "display_data"
    }
   ],
   "source": [
    "# Agrupar por año y calcular la mediana, el mínimo y el máximo de headcount\n",
    "grouped = df.groupby('year')['gini']\n",
    "result = grouped.agg(['median', 'min', 'max'])\n",
    "\n",
    "# Crear un gráfico de líneas\n",
    "fig, ax = plt.subplots(figsize=(10, 6))\n",
    "ax.plot(result.index, result['max'], label='Máximo')\n",
    "ax.plot(result.index, result['median'], label='Mediana')\n",
    "ax.plot(result.index, result['min'], label='Mínimo')\n",
    "ax.plot(result.index, grouped.mean(), label='Media')\n",
    "\n",
    "# Configurar el gráfico\n",
    "ax.set_xlabel('Año')\n",
    "ax.set_ylabel('Índice de Gini')\n",
    "ax.set_title('Máximo, mediana, mínimo y media del gini a lo largo de los años')\n",
    "ax.legend()\n",
    "plt.show()"
   ]
  },
  {
   "cell_type": "markdown",
   "id": "d198588f",
   "metadata": {},
   "source": [
    "Los datos sugieren una mejora moderada de la desigualdad en la zona de mayor desigualdad mientras la media, la mediana y el \n",
    "registro mínimo de cada año no muestran demasiados cambios. Esto contradice en cierta manera lo observado mas arriba, por lo que debería ser investigado más a fondo."
   ]
  },
  {
   "cell_type": "markdown",
   "id": "f564f410",
   "metadata": {},
   "source": [
    "## Inflación -- Bloque interrumpido, se eliminó la columna por inconsistencias--"
   ]
  },
  {
   "cell_type": "markdown",
   "id": "33b998e2",
   "metadata": {},
   "source": [
    "En este dataset se utiliza el índice de precios al consumidor (cpi en inglés) para medir la evolución general de los precios a lo largo del tiempo."
   ]
  },
  {
   "cell_type": "code",
   "execution_count": 43,
   "id": "01098627",
   "metadata": {},
   "outputs": [
    {
     "data": {
      "text/plain": [
       "Text(0, 0.5, 'Registros')"
      ]
     },
     "execution_count": 43,
     "metadata": {},
     "output_type": "execute_result"
    },
    {
     "data": {
      "image/png": "[encoded data removed]",
      "text/plain": [
       "<Figure size 1600x600 with 4 Axes>"
      ]
     },
     "metadata": {},
     "output_type": "display_data"
    }
   ],
   "source": [
    "df_1990 = df[df['year'] == 1990]\n",
    "df_1995 = df[df['year'] == 1995]\n",
    "\n",
    "fig, axs = plt.subplots(2, 2,  figsize=(16, 6))\n",
    "sns.boxplot(x='cpi', data=df_1990, ax=axs[0,0], hue='year')\n",
    "sns.histplot(x='cpi', data=df_1990, bins=20, kde=False, ax=axs[0,1], hue='year')\n",
    "sns.boxplot(x='cpi', data=df_1995, ax=axs[1,0], hue='year')\n",
    "sns.histplot(x='cpi', data=df_1995, bins=20, kde=False, ax=axs[1,1], hue='year')\n",
    "axs[0,0].set_ylabel('Año: 1990')\n",
    "axs[1,0].set_ylabel('Año: 1995')\n",
    "axs[0,1].set_ylabel('Registros')\n",
    "axs[1,1].set_ylabel('Registros')"
   ]
  },
  {
   "cell_type": "markdown",
   "id": "aa88212a",
   "metadata": {},
   "source": [
    "Los datos de Italia no son correctos, vamos a corregirlos. Hemos notado que estos datos presentas dos errores, uno tienen una coma que convierte a alguno de los valores en miles. El otro que tiene una inflación que supera en más de diez veces su inflación real. Por esta razón dividiremos por diez el valor actual. En cuanto a los valores con coma vamos a restarle mil y luego a dividir por 10."
   ]
  },
  {
   "cell_type": "code",
   "execution_count": 44,
   "id": "9db1c1ce",
   "metadata": {},
   "outputs": [],
   "source": [
    "for i in range(1126, 1147):\n",
    "    df.at[i,'cpi'] = 0.02\n",
    "    "
   ]
  },
  {
   "cell_type": "markdown",
   "id": "e3321f94",
   "metadata": {},
   "source": [
    "Al investigar más a fondo la columna 'cpi' notamos que no solo Italia tiene datos incorrectos, parece como si la columna hubiese sido rellanada por distintas personas y con distintas metodologías, algunos datos son correctos, otros muy errados. Algunos datos están en tanto por cien, mientras que otros en tanto por uno. Desecharemos esta columna."
   ]
  },
  {
   "cell_type": "code",
   "execution_count": 45,
   "id": "ca7d999b",
   "metadata": {},
   "outputs": [],
   "source": [
    "df.drop(columns = 'cpi', inplace = True)"
   ]
  },
  {
   "cell_type": "markdown",
   "id": "092a2d37",
   "metadata": {},
   "source": [
    "## ETL "
   ]
  },
  {
   "cell_type": "markdown",
   "id": "f7472135",
   "metadata": {},
   "source": [
    "Comenzaremos esta etapa del ETL con los registros que son duplicados parciales. En lugar de eliminarlos vamos a agruparlos, obtener los valores medios para cada campo y cada subgrupo de duplicados parciales, para luego imputar esa media sobre los valores originales. De esta manera crearemos registros duplicados y podremos quedarnos con uno solo de cada subgrupo. "
   ]
  },
  {
   "cell_type": "code",
   "execution_count": 46,
   "id": "324b87f1",
   "metadata": {},
   "outputs": [],
   "source": [
    "# Filtramos el DataFrame para que solo contenga registros duplicados parciales\n",
    "duplicates = df.duplicated(subset=['year', 'country_name'], keep=False)\n",
    "dfd = df[duplicates]"
   ]
  },
  {
   "cell_type": "markdown",
   "id": "93e006fa",
   "metadata": {},
   "source": [
    "#### Iniciamos con la columna 'gini'"
   ]
  },
  {
   "cell_type": "code",
   "execution_count": 47,
   "id": "969285e9",
   "metadata": {},
   "outputs": [],
   "source": [
    "# Agrupamos las filas por 'year' y 'country_name'. Luego calculamos el valor medio de 'gini' \n",
    "# de los duplicados parciales. Hacemos lo mismo para los otros dos campos. \n",
    "gini_mean = dfd.groupby(['year', 'country_name'])['gini'].mean().reset_index()"
   ]
  },
  {
   "cell_type": "code",
   "execution_count": 48,
   "id": "311a500c",
   "metadata": {},
   "outputs": [],
   "source": [
    "# hacemos un merge para incorporar la columna 'gini_mean' a nuestro dataframe original, lo guardamos en otra variable.\n",
    "dfg = df.merge(gini_mean, on=['year', 'country_name'], how = 'left', suffixes=('', '_mean'))"
   ]
  },
  {
   "cell_type": "code",
   "execution_count": 49,
   "id": "c46da628",
   "metadata": {},
   "outputs": [],
   "source": [
    "# ahora, para todos los valores en que 'gini_mean' != null asignamos ese valor en 'gini'\n",
    "dfg.loc[~dfg['gini_mean'].isnull(), 'gini'] = dfg.loc[~dfg['gini_mean'].isnull(), 'gini_mean']"
   ]
  },
  {
   "cell_type": "code",
   "execution_count": 50,
   "id": "1c956274",
   "metadata": {},
   "outputs": [],
   "source": [
    "# dropeamos la columna auxiliar\n",
    "dfg.drop(columns = 'gini_mean', inplace = True)"
   ]
  },
  {
   "cell_type": "markdown",
   "id": "a73d6eb1",
   "metadata": {},
   "source": [
    "#### repetimos el procedimiento para la columna 'headcount'"
   ]
  },
  {
   "cell_type": "code",
   "execution_count": 51,
   "id": "5dbc2e52",
   "metadata": {},
   "outputs": [],
   "source": [
    "headcount_mean = dfd.groupby(['year', 'country_name'])['headcount'].mean().reset_index()\n",
    "dfg = dfg.merge(headcount_mean, on=['year', 'country_name'], how = 'left', suffixes=('', '_mean'))\n",
    "dfg.loc[~dfg['headcount_mean'].isnull(), 'headcount'] = dfg.loc[~dfg['headcount_mean'].isnull(), 'headcount_mean']\n",
    "dfg.drop(columns = 'headcount_mean', inplace = True)"
   ]
  },
  {
   "cell_type": "markdown",
   "id": "e7f22321",
   "metadata": {},
   "source": [
    "#### Dropeamos los registros duplicados"
   ]
  },
  {
   "cell_type": "code",
   "execution_count": 52,
   "id": "cd41490e",
   "metadata": {},
   "outputs": [],
   "source": [
    "df = dfg.drop_duplicates()"
   ]
  },
  {
   "cell_type": "code",
   "execution_count": 53,
   "id": "210c8c9f",
   "metadata": {},
   "outputs": [
    {
     "data": {
      "text/plain": [
       "0"
      ]
     },
     "execution_count": 53,
     "metadata": {},
     "output_type": "execute_result"
    }
   ],
   "source": [
    "df.duplicated().sum()"
   ]
  },
  {
   "cell_type": "code",
   "execution_count": 54,
   "id": "5aff955d",
   "metadata": {},
   "outputs": [
    {
     "data": {
      "text/plain": [
       "169"
      ]
     },
     "execution_count": 54,
     "metadata": {},
     "output_type": "execute_result"
    }
   ],
   "source": [
    "len(df.country_name.unique())"
   ]
  },
  {
   "cell_type": "code",
   "execution_count": 55,
   "id": "fb82da5b",
   "metadata": {},
   "outputs": [],
   "source": [
    "df= df.copy()"
   ]
  },
  {
   "cell_type": "markdown",
   "id": "842fad7e",
   "metadata": {},
   "source": [
    "#### Normalizaremos el tipo de dato de la columna year"
   ]
  },
  {
   "cell_type": "code",
   "execution_count": 56,
   "id": "4c959667",
   "metadata": {},
   "outputs": [],
   "source": [
    "df['year'] = pd.to_datetime(df['year'], format='%Y')"
   ]
  },
  {
   "cell_type": "markdown",
   "id": "3c04adc1",
   "metadata": {},
   "source": [
    "#### Convertimos nuestros valores de texto a mayúsculas"
   ]
  },
  {
   "cell_type": "code",
   "execution_count": 57,
   "id": "2a8f88cc",
   "metadata": {},
   "outputs": [],
   "source": [
    "df.region_name = df.region_name.apply(lambda x: x.upper())\n",
    "df.country_name = df.country_name.apply(lambda x: x.upper())"
   ]
  },
  {
   "cell_type": "code",
   "execution_count": 58,
   "id": "294474f4",
   "metadata": {},
   "outputs": [],
   "source": [
    "df.reset_index(drop=True, inplace = True)"
   ]
  },
  {
   "cell_type": "markdown",
   "id": "6a637938",
   "metadata": {},
   "source": [
    "## Por último normalizamos los nombres de países"
   ]
  },
  {
   "cell_type": "code",
   "execution_count": 59,
   "id": "538cd005",
   "metadata": {},
   "outputs": [],
   "source": [
    "est = pd.read_csv('dataSets\\\\estandar_paises_regiones.csv')"
   ]
  },
  {
   "cell_type": "code",
   "execution_count": 60,
   "id": "b0a0872b",
   "metadata": {},
   "outputs": [
    {
     "data": {
      "text/html": [
       "<div>\n",
       "<style scoped>\n",
       "    .dataframe tbody tr th:only-of-type {\n",
       "        vertical-align: middle;\n",
       "    }\n",
       "\n",
       "    .dataframe tbody tr th {\n",
       "        vertical-align: top;\n",
       "    }\n",
       "\n",
       "    .dataframe thead th {\n",
       "        text-align: right;\n",
       "    }\n",
       "</style>\n",
       "<table border=\"1\" class=\"dataframe\">\n",
       "  <thead>\n",
       "    <tr style=\"text-align: right;\">\n",
       "      <th></th>\n",
       "      <th>region_name</th>\n",
       "      <th>sub-region_name</th>\n",
       "      <th>country_name</th>\n",
       "      <th>iso</th>\n",
       "    </tr>\n",
       "  </thead>\n",
       "  <tbody>\n",
       "    <tr>\n",
       "      <th>0</th>\n",
       "      <td>AFRICA</td>\n",
       "      <td>NORTHERN AFRICA</td>\n",
       "      <td>ALGERIA</td>\n",
       "      <td>DZA</td>\n",
       "    </tr>\n",
       "    <tr>\n",
       "      <th>1</th>\n",
       "      <td>AFRICA</td>\n",
       "      <td>NORTHERN AFRICA</td>\n",
       "      <td>EGYPT</td>\n",
       "      <td>EGY</td>\n",
       "    </tr>\n",
       "    <tr>\n",
       "      <th>2</th>\n",
       "      <td>AFRICA</td>\n",
       "      <td>NORTHERN AFRICA</td>\n",
       "      <td>LIBYA</td>\n",
       "      <td>LBY</td>\n",
       "    </tr>\n",
       "    <tr>\n",
       "      <th>3</th>\n",
       "      <td>AFRICA</td>\n",
       "      <td>NORTHERN AFRICA</td>\n",
       "      <td>MOROCCO</td>\n",
       "      <td>MAR</td>\n",
       "    </tr>\n",
       "    <tr>\n",
       "      <th>4</th>\n",
       "      <td>AFRICA</td>\n",
       "      <td>NORTHERN AFRICA</td>\n",
       "      <td>SUDAN</td>\n",
       "      <td>SDN</td>\n",
       "    </tr>\n",
       "    <tr>\n",
       "      <th>...</th>\n",
       "      <td>...</td>\n",
       "      <td>...</td>\n",
       "      <td>...</td>\n",
       "      <td>...</td>\n",
       "    </tr>\n",
       "    <tr>\n",
       "      <th>244</th>\n",
       "      <td>OCEANIA</td>\n",
       "      <td>POLYNESIA</td>\n",
       "      <td>TONGA</td>\n",
       "      <td>TON</td>\n",
       "    </tr>\n",
       "    <tr>\n",
       "      <th>245</th>\n",
       "      <td>OCEANIA</td>\n",
       "      <td>POLYNESIA</td>\n",
       "      <td>TUVALU</td>\n",
       "      <td>TUV</td>\n",
       "    </tr>\n",
       "    <tr>\n",
       "      <th>246</th>\n",
       "      <td>OCEANIA</td>\n",
       "      <td>POLYNESIA</td>\n",
       "      <td>WALLIS AND FUTUNA ISLANDS</td>\n",
       "      <td>WLF</td>\n",
       "    </tr>\n",
       "    <tr>\n",
       "      <th>247</th>\n",
       "      <td>EUROPE</td>\n",
       "      <td>SOUTHERN EUROPE</td>\n",
       "      <td>KOSOVO</td>\n",
       "      <td>XXK</td>\n",
       "    </tr>\n",
       "    <tr>\n",
       "      <th>248</th>\n",
       "      <td>ASIA</td>\n",
       "      <td>EASTERN ASIA</td>\n",
       "      <td>CHINA TAIWAN</td>\n",
       "      <td>TWN</td>\n",
       "    </tr>\n",
       "  </tbody>\n",
       "</table>\n",
       "<p>249 rows × 4 columns</p>\n",
       "</div>"
      ],
      "text/plain": [
       "    region_name  sub-region_name               country_name  iso\n",
       "0        AFRICA  NORTHERN AFRICA                    ALGERIA  DZA\n",
       "1        AFRICA  NORTHERN AFRICA                      EGYPT  EGY\n",
       "2        AFRICA  NORTHERN AFRICA                      LIBYA  LBY\n",
       "3        AFRICA  NORTHERN AFRICA                    MOROCCO  MAR\n",
       "4        AFRICA  NORTHERN AFRICA                      SUDAN  SDN\n",
       "..          ...              ...                        ...  ...\n",
       "244     OCEANIA        POLYNESIA                      TONGA  TON\n",
       "245     OCEANIA        POLYNESIA                     TUVALU  TUV\n",
       "246     OCEANIA        POLYNESIA  WALLIS AND FUTUNA ISLANDS  WLF\n",
       "247      EUROPE  SOUTHERN EUROPE                     KOSOVO  XXK\n",
       "248        ASIA     EASTERN ASIA               CHINA TAIWAN  TWN\n",
       "\n",
       "[249 rows x 4 columns]"
      ]
     },
     "execution_count": 60,
     "metadata": {},
     "output_type": "execute_result"
    }
   ],
   "source": [
    "est"
   ]
  },
  {
   "cell_type": "markdown",
   "id": "b71c75ef",
   "metadata": {},
   "source": [
    "#### En este punto se puede hacer un merge por la izquierda en la columna iso, siendo el dataframe principal el que ocupe la posición izquierda y el estandar la derecha. Pero se tiene más control del proceso si se trabaja directamente con los nombres."
   ]
  },
  {
   "cell_type": "code",
   "execution_count": 61,
   "id": "7f1cdfe9",
   "metadata": {},
   "outputs": [],
   "source": [
    "# guardamos los valores únicos de los nombres de países de cada data frame\n",
    "paises_df = set(df['country_name'])\n",
    "paises_est = set(est['country_name'])"
   ]
  },
  {
   "cell_type": "code",
   "execution_count": 62,
   "id": "f72daad4",
   "metadata": {},
   "outputs": [],
   "source": [
    "# Identificamos el dataframe con menos países (debería ser el data frame principal de este notebook)\n",
    "if len(paises_df) <= len(paises_est):\n",
    "    df_menos_paises = df\n",
    "    df_mas_paises = est\n",
    "else:\n",
    "    df_menos_paises = est\n",
    "    df_menos_paises = df"
   ]
  },
  {
   "cell_type": "code",
   "execution_count": 63,
   "id": "4d02a408",
   "metadata": {},
   "outputs": [],
   "source": [
    "# Obtenemos los nombres únicos de países en el dataframe con menos nombres\n",
    "paises_menos = set(df_menos_paises['country_name'])"
   ]
  },
  {
   "cell_type": "code",
   "execution_count": 64,
   "id": "3329baed",
   "metadata": {},
   "outputs": [],
   "source": [
    "# Obtenemos los nombres únicos de países en el dataframe con más nombres\n",
    "paises_mas = set(df_mas_paises['country_name'])"
   ]
  },
  {
   "cell_type": "code",
   "execution_count": 65,
   "id": "30130e44",
   "metadata": {},
   "outputs": [],
   "source": [
    "# Obtener nombres únicos de países que están en el dataframe con menos nombres y no en el dataframe con más nombres\n",
    "paises_no_comunes = paises_menos.difference(paises_mas)"
   ]
  },
  {
   "cell_type": "markdown",
   "id": "fdaf1443",
   "metadata": {},
   "source": [
    "#### Los siguientes nombres tienen que ser reemplazados en el dataframe df "
   ]
  },
  {
   "cell_type": "code",
   "execution_count": 66,
   "id": "dc2bce4e",
   "metadata": {},
   "outputs": [
    {
     "data": {
      "text/plain": [
       "{'CONGO, DEM. REP.',\n",
       " 'CONGO, REP.',\n",
       " \"COTE D'IVOIRE\",\n",
       " 'CZECH REPUBLIC',\n",
       " 'EGYPT, ARAB REP.',\n",
       " 'GAMBIA, THE',\n",
       " 'IRAN, ISLAMIC REP.',\n",
       " 'KOREA, REP.',\n",
       " 'KYRGYZ REPUBLIC',\n",
       " 'LAO PDR',\n",
       " 'MICRONESIA, FED. STS.',\n",
       " 'RUSSIAN FEDERATION',\n",
       " 'SLOVAK REPUBLIC',\n",
       " 'ST. LUCIA',\n",
       " 'TAIWAN, CHINA',\n",
       " 'TURKIYE',\n",
       " 'VENEZUELA, RB',\n",
       " 'VIETNAM',\n",
       " 'WEST BANK AND GAZA',\n",
       " 'YEMEN, REP.'}"
      ]
     },
     "execution_count": 66,
     "metadata": {},
     "output_type": "execute_result"
    }
   ],
   "source": [
    "paises_no_comunes"
   ]
  },
  {
   "cell_type": "code",
   "execution_count": 67,
   "id": "9346879c",
   "metadata": {},
   "outputs": [],
   "source": [
    "reemplazos ={\n",
    " 'LAO PDR': \"LAOS\",\n",
    " 'CONGO, DEM. REP.': \"DEMOCRATIC REPUBLIC OF THE CONGO\",\n",
    " 'CONGO, REP.': 'CONGO',\n",
    " 'CZECH REPUBLIC': 'CZECHIA',\n",
    " \"COTE D'IVOIRE\": 'CÔTE D’IVOIRE',\n",
    " 'EGYPT, ARAB REP.': 'EGYPT',\n",
    " 'GAMBIA, THE': 'GAMBIA',\n",
    " 'IRAN, ISLAMIC REP.': 'IRAN',\n",
    " 'KOREA, REP.': 'SOUTH KOREA',\n",
    " 'KYRGYZ REPUBLIC' : 'KYRGYZSTAN',\n",
    " 'MICRONESIA, FED. STS.': 'MICRONESIA',\n",
    " 'RUSSIAN FEDERATION': 'RUSSIA',\n",
    " 'SLOVAK REPUBLIC': 'SLOVAKIA' ,\n",
    " 'ST. LUCIA': 'SAINT LUCIA',   \n",
    " 'TAIWAN, CHINA': 'CHINA, TAIWAN',\n",
    " 'TURKIYE': 'TÜRKIYE',\n",
    " 'VENEZUELA, RB': 'VENEZUELA',\n",
    " 'VIETNAM' : 'VIET NAM',\n",
    " 'WEST BANK AND GAZA' : 'STATE OF PALESTINE',\n",
    " 'YEMEN, REP.' :'YEMEN'\n",
    "    \n",
    "}"
   ]
  },
  {
   "cell_type": "code",
   "execution_count": 68,
   "id": "bad3cec4",
   "metadata": {},
   "outputs": [],
   "source": [
    "df.country_name = df.country_name.replace(reemplazos)"
   ]
  },
  {
   "cell_type": "markdown",
   "id": "e995d2cb",
   "metadata": {},
   "source": [
    "### Chequeamos que los nombres hayan sido sustituídos, no debería haber diferencias entre ambos sets, por lo tanto deberíamosobtener un set vacío"
   ]
  },
  {
   "cell_type": "code",
   "execution_count": 69,
   "id": "7528d1be",
   "metadata": {},
   "outputs": [
    {
     "data": {
      "text/plain": [
       "{'CHINA, TAIWAN'}"
      ]
     },
     "execution_count": 69,
     "metadata": {},
     "output_type": "execute_result"
    }
   ],
   "source": [
    "paises_menos = set(df_menos_paises['country_name'])\n",
    "paises_mas = set(df_mas_paises['country_name'])\n",
    "paises_no_comunes = paises_menos.difference(paises_mas)\n",
    "paises_no_comunes"
   ]
  },
  {
   "cell_type": "code",
   "execution_count": 71,
   "id": "c04b51ae",
   "metadata": {},
   "outputs": [],
   "source": [
    "df.to_csv(\"dataSets\\\\pip_final.csv\", index = False)"
   ]
  },
  {
   "cell_type": "code",
   "execution_count": null,
   "id": "0ebe5eb7",
   "metadata": {},
   "outputs": [],
   "source": []
  }
 ],
 "metadata": {
  "kernelspec": {
   "display_name": "Python 3 (ipykernel)",
   "language": "python",
   "name": "python3"
  },
  "language_info": {
   "codemirror_mode": {
    "name": "ipython",
    "version": 3
   },
   "file_extension": ".py",
   "mimetype": "text/x-python",
   "name": "python",
   "nbconvert_exporter": "python",
   "pygments_lexer": "ipython3",
   "version": "3.9.15"
  }
 },
 "nbformat": 4,
 "nbformat_minor": 5
}
