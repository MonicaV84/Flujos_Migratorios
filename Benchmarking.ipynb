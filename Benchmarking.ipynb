{
 "cells": [
  {
   "attachments": {},
   "cell_type": "markdown",
   "metadata": {},
   "source": [
    "# <center>***Research - Benchmarking*** </center>\n",
    "### Possible solutions on the project path\n",
    "\n",
    "### There is a wide variety of platforms that address the issue of migration and provide different services. Some of these are:\n",
    "\n",
    "### **1.Information and advice platforms:** These platforms provide information and advice on the migration process to people interested in moving to another country.\n",
    "\n",
    "### **2. Immigration processing platforms:** These services help people meet the requirements and perform the necessary procedures to move to another country, such as applying for visas or residence permits.\n",
    "\n",
    "### **3.Social integration platforms:** These services provide support and resources to migrants to help them integrate into their new home, such as information on labor rights, medical and educational services.\n",
    "\n",
    "### **4.Migration Monitoring Platforms:** These platforms collect and analyze migration data to identify trends and patterns, and can be used by humanitarian organizations, governments and others to make informed decisions.\n",
    "\n",
    "### **5.Financial support platforms:** These services provide safe and accessible remittance solutions for migrants to send money to their families in their countries of origin.\n",
    "\n",
    "### These are just a few examples, and there are many other platforms and services that address different aspects of migration and help migrants and organizations."
   ]
  },
  {
   "attachments": {},
   "cell_type": "markdown",
   "metadata": {},
   "source": [
    "\n",
    "### Here are 5 link options for each type of platform :\n",
    "\n",
    "### **1. Organizations related to the rights of migrants:**\n",
    "\n",
    "#### Amnesty International: https://www.amnesty.org/\n",
    "#### Human Rights Watch: https://www.hrw.org/\n",
    "#### Defenders of Human Rights Center: https://www.iranhumanrights.org/\n",
    "#### International Commission of Jurists: https://www.icj.org/\n",
    "#### International Service for Human Rights: https://www.ishr.ch/\n",
    "\n"
   ]
  },
  {
   "attachments": {},
   "cell_type": "markdown",
   "metadata": {},
   "source": [
    "<p align=\"center\">\n",
    "<img src=\"https://github.com/aylinv94/Flujos_Migratorios/blob/main/imagen/amnesty%20international.png?raw=true"  height=300>\n",
    "</p>\n",
    "<p align=\"center\">\n",
    "<img src=\"https://github.com/aylinv94/Flujos_Migratorios/blob/main/imagen/amnesty2.png?raw=true"  height=300>\n",
    "</p>\n",
    "<p align=\"center\">\n",
    "<img src=\"https://github.com/aylinv94/Flujos_Migratorios/blob/main/imagen/amnesty3.png?raw=true"  height=300>\n",
    "</p>\n",
    "<p align=\"center\">\n",
    "<img src=\"https://github.com/aylinv94/Flujos_Migratorios/blob/main/imagen/amnesty4.png?raw=true"  height=300>\n",
    "</p>\n",
    "<p align=\"center\">\n",
    "<img src=\"https://github.com/aylinv94/Flujos_Migratorios/blob/main/imagen/amnesty5.png?raw=true"  height=300>\n",
    "</p>"
   ]
  },
  {
   "attachments": {},
   "cell_type": "markdown",
   "metadata": {},
   "source": [
    "<div style=\"display: flex; justify-content: center; align-items: center;\">\n",
    "  <img src=\"https://github.com/aylinv94/Flujos_Migratorios/blob/main/imagen/centerforhumans.png?raw=true"  height=300>\n",
    "  \n",
    "</div>\n"
   ]
  },
  {
   "attachments": {},
   "cell_type": "markdown",
   "metadata": {},
   "source": [
    "<div style=\"display: flex; justify-content: center; align-items: center;\">\n",
    "  <img src=\"https://github.com/aylinv94/Flujos_Migratorios/blob/main/imagen/human0.png?raw=true"  height=300>\n",
    "  <img src=\"https://github.com/aylinv94/Flujos_Migratorios/blob/main/imagen/human1.png?raw=true"  height=300>\n",
    "  \n",
    "</div>\n"
   ]
  },
  {
   "attachments": {},
   "cell_type": "markdown",
   "metadata": {},
   "source": [
    "<div style=\"display: flex; justify-content: center; align-items: center;\">\n",
    "  <img src=\"https://github.com/aylinv94/Flujos_Migratorios/blob/main/imagen/human2.png?raw=true"  height=300>\n",
    "  <img src=\"https://github.com/aylinv94/Flujos_Migratorios/blob/main/imagen/human3.png?raw=true"  height=300>\n",
    "  \n",
    "</div>"
   ]
  },
  {
   "attachments": {},
   "cell_type": "markdown",
   "metadata": {},
   "source": [
    "<div style=\"display: flex; justify-content: center; align-items: center;\">\n",
    "  <img src=\"https://github.com/aylinv94/Flujos_Migratorios/blob/main/imagen/human4.png?raw=true"  height=300>\n",
    "  <img src=\"https://github.com/aylinv94/Flujos_Migratorios/blob/main/imagen/human5.png?raw=true"  height=300>\n",
    "  \n",
    "</div>"
   ]
  },
  {
   "attachments": {},
   "cell_type": "markdown",
   "metadata": {},
   "source": [
    "<p align=\"center\">\n",
    "<img src=\"https://github.com/aylinv94/Flujos_Migratorios/blob/main/imagen/international1.png?raw=true"  height=300>\n",
    "</p>\n",
    "<p align=\"center\">\n",
    "<img src=\"https://github.com/aylinv94/Flujos_Migratorios/blob/main/imagen/international2.png?raw=true"  height=300>\n",
    "</p>"
   ]
  },
  {
   "attachments": {},
   "cell_type": "markdown",
   "metadata": {},
   "source": [
    "<div style=\"display: flex; justify-content: center; align-items: center;\">\n",
    "  <img src=\"https://github.com/aylinv94/Flujos_Migratorios/blob/main/imagen/strategic.png?raw=true"  height=300>\n",
    "  <img src=\"https://github.com/aylinv94/Flujos_Migratorios/blob/main/imagen/strategic2.png?raw=true"  height=300>\n",
    "  <img src=\"https://github.com/aylinv94/Flujos_Migratorios/blob/main/imagen/strategic3.png?raw=true"  height=300>\n",
    "</div>"
   ]
  },
  {
   "attachments": {},
   "cell_type": "markdown",
   "metadata": {},
   "source": [
    "<div style=\"display: flex; justify-content: center; align-items: center;\">\n",
    "  <img src=\"https://github.com/aylinv94/Flujos_Migratorios/blob/main/imagen/strategic4.png?raw=true"  height=300>\n",
    "  <img src=\"https://github.com/aylinv94/Flujos_Migratorios/blob/main/imagen/strategic5.png?raw=true"  height=300>\n",
    "  <img src=\"https://github.com/aylinv94/Flujos_Migratorios/blob/main/imagen/strategic6.png?raw=true"  height=300>\n",
    "</div>"
   ]
  },
  {
   "attachments": {},
   "cell_type": "markdown",
   "metadata": {},
   "source": [
    "### **2.Organizations of the ONU related to migration:**\n",
    "\n",
    "#### United Nations Development Programme (UNDP): https://www.undp.org/\n",
    "#### United Nations Children's Fund (UNICEF): https://www.unicef.org/\n",
    "#### United Nations High Commissioner for Refugees (UNHCR): https://www.unhcr.org/\n",
    "#### International Organization for Migration (IOM): https://www.iom.int/\n",
    "#### United Nations Population Fund (UNFPA): https://www.unfpa.org/\n",
    "\n"
   ]
  },
  {
   "cell_type": "markdown",
   "metadata": {},
   "source": [
    "<div style=\"display: flex; justify-content: center; align-items: center;\">\n",
    "  <img src=\"https://github.com/aylinv94/Flujos_Migratorios/blob/main/imagen/undp.png?raw=true"  height=300>\n",
    "  <img src=\"https://github.com/aylinv94/Flujos_Migratorios/blob/main/imagen/undp2.png?raw=true"  height=300>\n",
    "  <img src=\"https://github.com/aylinv94/Flujos_Migratorios/blob/main/imagen/undp3.png?raw=true"  height=300>\n",
    "</div>"
   ]
  },
  {
   "cell_type": "markdown",
   "metadata": {},
   "source": [
    "<div style=\"display: flex; justify-content: center; align-items: center;\">\n",
    "  <img src=\"https://github.com/aylinv94/Flujos_Migratorios/blob/main/imagen/undp4.png?raw=true"  height=300>\n",
    "  <img src=\"https://github.com/aylinv94/Flujos_Migratorios/blob/main/imagen/undp5.png?raw=true"  height=300>\n",
    "  <img src=\"https://github.com/aylinv94/Flujos_Migratorios/blob/main/imagen/undp6_impact.png?raw=true"  height=300>\n",
    "</div>"
   ]
  },
  {
   "cell_type": "markdown",
   "metadata": {},
   "source": [
    "<div style=\"display: flex; justify-content: center; align-items: center;\">\n",
    "  <img src=\"https://github.com/aylinv94/Flujos_Migratorios/blob/main/imagen/undp7.png?raw=true"  height=300>\n",
    "  \n",
    "</div>"
   ]
  },
  {
   "cell_type": "markdown",
   "metadata": {},
   "source": [
    "<div style=\"display: flex; justify-content: center; align-items: center;\">\n",
    "  <img src=\"https://github.com/aylinv94/Flujos_Migratorios/blob/main/imagen/undp8.png?raw=true"  height=300>\n",
    "  <img src=\"https://github.com/aylinv94/Flujos_Migratorios/blob/main/imagen/undp9.png?raw=true"  height=300>\n",
    "</div>"
   ]
  },
  {
   "attachments": {},
   "cell_type": "markdown",
   "metadata": {},
   "source": [
    "<div style=\"display: flex; justify-content: center; align-items: center;\">\n",
    "  <img src=\"https://github.com/aylinv94/Flujos_Migratorios/blob/main/imagen/unicef1.png?raw=true"  height=300>\n",
    "\n",
    "</div>"
   ]
  },
  {
   "attachments": {},
   "cell_type": "markdown",
   "metadata": {},
   "source": [
    "<div style=\"display: flex; justify-content: center; align-items: center;\">\n",
    "  <img src=\"https://github.com/aylinv94/Flujos_Migratorios/blob/main/imagen/unicef2.png?raw=true"  height=300>\n",
    " \n",
    "</div>"
   ]
  },
  {
   "attachments": {},
   "cell_type": "markdown",
   "metadata": {},
   "source": [
    "<div style=\"display: flex; justify-content: center; align-items: center;\">\n",
    "  <img src=\"https://github.com/aylinv94/Flujos_Migratorios/blob/main/imagen/unicef4.png?raw=true"  height=300>\n",
    "</div>\n",
    "<div style=\"display: flex; justify-content: center; align-items: center;\">\n",
    "  <img src=\"https://github.com/aylinv94/Flujos_Migratorios/blob/main/imagen/unicef5.png?raw=true"  height=300>\n",
    "</div>\n",
    "<div style=\"display: flex; justify-content: center; align-items: center;\">\n",
    "  <img src=\"https://github.com/aylinv94/Flujos_Migratorios/blob/main/imagen/unicef6.png?raw=true"  height=300>\n",
    "</div>\n",
    "<div style=\"display: flex; justify-content: center; align-items: center;\">\n",
    "  <img src=\"https://github.com/aylinv94/Flujos_Migratorios/blob/main/imagen/unicef7.png?raw=true"  height=300>\n",
    "</div>"
   ]
  },
  {
   "attachments": {},
   "cell_type": "markdown",
   "metadata": {},
   "source": [
    "<p align=\"center\">\n",
    "<img src=\"https://github.com/aylinv94/Flujos_Migratorios/blob/main/imagen/ctdc.png?raw=true"  height=300>\n",
    "</p>\n",
    "<p align=\"center\">\n",
    "<img src=\"https://github.com/aylinv94/Flujos_Migratorios/blob/main/imagen/ctdc2.png?raw=true"  height=300>\n",
    "</p>\n",
    "<p align=\"center\">\n",
    "<img src=\"https://github.com/aylinv94/Flujos_Migratorios/blob/main/imagen/ctdc3.png?raw=true"  height=300>\n",
    "</p>\n",
    "<p align=\"center\">\n",
    "<img src=\"https://github.com/aylinv94/Flujos_Migratorios/blob/main/imagen/ctdc4.png?raw=true"  height=300>\n",
    "</p>\n",
    "<p align=\"center\">\n",
    "<img src=\"https://github.com/aylinv94/Flujos_Migratorios/blob/main/imagen/ctdc5.png?raw=true"  height=300>\n",
    "</p>\n",
    "<p align=\"center\">\n",
    "<img src=\"https://github.com/aylinv94/Flujos_Migratorios/blob/main/imagen/ctdc6.png?raw=true"  height=300>\n",
    "</p>\n",
    "<p align=\"center\">\n",
    "<img src=\"https://github.com/aylinv94/Flujos_Migratorios/blob/main/imagen/ctdc7.png?raw=true"  height=300>\n",
    "</p>"
   ]
  },
  {
   "attachments": {},
   "cell_type": "markdown",
   "metadata": {},
   "source": [
    "### **3. Migration research institutes:**\n",
    "\n",
    "#### Migration Policy Institute: https://www.migrationpolicy.org/\n",
    "#### Center for Global Development: https://www.cgdev.org/\n",
    "#### Brookings Institution: https://www.brookings.edu/\n",
    "#### Carnegie Endowment for International Peace: https://carnegieendowment.org/\n",
    "#### Migration Observatory: https://migrationobservatory.ox.ac.uk/\n",
    "\n"
   ]
  },
  {
   "attachments": {},
   "cell_type": "markdown",
   "metadata": {},
   "source": [
    "<div style=\"display: flex; justify-content: center; align-items: center;\">\n",
    "  <img src=\"https://github.com/aylinv94/Flujos_Migratorios/blob/main/imagen/migra.png?raw=true"  height=300>\n",
    "  <img src=\"https://github.com/aylinv94/Flujos_Migratorios/blob/main/imagen/migra2.png?raw=true"  height=300>\n",
    "  <img src=\"https://github.com/aylinv94/Flujos_Migratorios/blob/main/imagen/migra3.png?raw=true"  height=300>\n",
    "</div>"
   ]
  },
  {
   "attachments": {},
   "cell_type": "markdown",
   "metadata": {},
   "source": [
    "<div style=\"display: flex; justify-content: center; align-items: center;\">\n",
    "  <img src=\"https://github.com/aylinv94/Flujos_Migratorios/blob/main/imagen/migra4.png?raw=true"  height=300>\n",
    "  <img src=\"https://github.com/aylinv94/Flujos_Migratorios/blob/main/imagen/migra5.png?raw=true"  height=300>\n",
    "  <img src=\"https://github.com/aylinv94/Flujos_Migratorios/blob/main/imagen/migra6.png?raw=true"  height=300>\n",
    "</div>"
   ]
  },
  {
   "attachments": {},
   "cell_type": "markdown",
   "metadata": {},
   "source": [
    "<div style=\"display: flex; justify-content: center; align-items: center;\">\n",
    "  <img src=\"https://github.com/aylinv94/Flujos_Migratorios/blob/main/imagen/migra7.png?raw=true"  height=300>\n",
    "  <img src=\"https://github.com/aylinv94/Flujos_Migratorios/blob/main/imagen/migra8.png?raw=true"  height=300>\n",
    "</div>"
   ]
  },
  {
   "attachments": {},
   "cell_type": "markdown",
   "metadata": {},
   "source": [
    "### **4. Migration monitoring platforms:**\n",
    "\n",
    "Internal Displacement Monitoring Centre (IDMC): https://www.internal-displacement.org/\n",
    "\n",
    "United Nations High Commissioner for Refugees (UNHCR): https://www.unhcr.org/\n",
    "\n",
    "World Bank Migration and Remittances Unit: https://data.worldbank.org/topic/migration-and-remittances\n",
    "\n",
    "IOM Displacement Tracking Matrix (DTM): https://dtm.iom.int/"
   ]
  },
  {
   "attachments": {},
   "cell_type": "markdown",
   "metadata": {},
   "source": [
    "<p align=\"center\">\n",
    "<img src=\"https://github.com/aylinv94/Flujos_Migratorios/blob/main/imagen/gloobal.png?raw=true"  height=300>\n",
    "</p>\n",
    "<p align=\"center\">\n",
    "<img src=\"https://github.com/aylinv94/Flujos_Migratorios/blob/main/imagen/global2.png?raw=true"  height=300>\n",
    "</p>\n",
    "<p align=\"center\">\n",
    "<img src=\"https://github.com/aylinv94/Flujos_Migratorios/blob/main/imagen/global3.png?raw=true"  height=300>\n",
    "</p>\n"
   ]
  },
  {
   "attachments": {},
   "cell_type": "markdown",
   "metadata": {},
   "source": [
    "<p align=\"center\">\n",
    "<img src=\"https://github.com/aylinv94/Flujos_Migratorios/blob/main/imagen/global4.png?raw=true"  height=300>\n",
    "</p>\n"
   ]
  },
  {
   "attachments": {},
   "cell_type": "markdown",
   "metadata": {},
   "source": [
    "<div style=\"display: flex; justify-content: center; align-items: center;\">\n",
    "  <img src=\"https://github.com/aylinv94/Flujos_Migratorios/blob/main/imagen/iom.png?raw=true"  height=300>\n",
    "  <img src=\"https://github.com/aylinv94/Flujos_Migratorios/blob/main/imagen/iom2.png?raw=true"  height=300>\n",
    "</div>"
   ]
  },
  {
   "attachments": {},
   "cell_type": "markdown",
   "metadata": {},
   "source": [
    "### **5. Technological platforms for migration:**\n",
    "\n",
    "#### Habitat for Humanity International: https://www.habitat.org/\n",
    "#### Better Shelter: https://bettershelter.org/\n"
   ]
  },
  {
   "attachments": {},
   "cell_type": "markdown",
   "metadata": {},
   "source": [
    "<div style=\"display: flex; justify-content: center; align-items: center;\">\n",
    "  <img src=\"https://github.com/aylinv94/Flujos_Migratorios/blob/main/imagen/habitat.png?raw=true"  height=300>\n",
    "</div>"
   ]
  },
  {
   "attachments": {},
   "cell_type": "markdown",
   "metadata": {},
   "source": [
    "<div style=\"display: flex; justify-content: center; align-items: center;\">\n",
    "  <img src=\"https://github.com/aylinv94/Flujos_Migratorios/blob/main/imagen/better.png?raw=true"  height=300>\n",
    "  <img src=\"https://github.com/aylinv94/Flujos_Migratorios/blob/main/imagen/better2.png?raw=true"  height=300>\n",
    "</div>"
   ]
  },
  {
   "attachments": {},
   "cell_type": "markdown",
   "metadata": {},
   "source": [
    "# ***Conclusions***\n",
    "\n",
    "### We can see these organizations use powerful images to show the services they provide.\n",
    "### They detail their graphs interactively and rely mostly on two highlighting colors .\n",
    "### Figures + photographs are a very powerful factor in attracting the user's attention.\n",
    "### The importance of drop-down menus that take up the entire screen, are concise alternatives and the search factor is comfortable.\n",
    "### Concise Filters.\n",
    "### Concise sections that explain the data flow as they detail the data like a dictionary.\n",
    "### Visual support plus short but informative texts to determine the type of product they offer is a factor that is present on all these platforms."
   ]
  }
 ],
 "metadata": {
  "kernelspec": {
   "display_name": "myenv",
   "language": "python",
   "name": "python3"
  },
  "language_info": {
   "name": "python",
   "version": "3.10.9"
  },
  "orig_nbformat": 4,
  "vscode": {
   "interpreter": {
    "hash": "d2c1f3c6b849a2df3f5fab06d7587020e5b75c04848f4e406af61de6dfdd9003"
   }
  }
 },
 "nbformat": 4,
 "nbformat_minor": 2
}
