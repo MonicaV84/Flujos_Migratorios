{
 "cells": [
  {
   "cell_type": "markdown",
   "id": "73492467",
   "metadata": {},
   "source": [
    "## Dataset net_migration (regiones)\n",
    "---\n",
    "#### **Archivos provistos** \n",
    "- **countries_net_migration.csv**: Este dataset contiene 10 registros × 33 dimensiones, se refiere a La migración neta por region, al cambio en la población de un área geográfica determinada, como un país o una región, debido al movimiento de personas que entran o salen de ese lugar. La migración neta se calcula restando el número total de emigrantes del número total de inmigrantes durante un período determinado. Si hay más personas entrando que saliendo, la migración neta es positiva, mientras que si hay más personas saliendo que entrando, la migración neta es negativa.\n",
    "\n",
    "#### **Descripción de las dimensiones**\n",
    "\n",
    "- **country_name**: Indica las 9 regiones en el que ha ocurrido las migraciones.<br>\n",
    "Tipo de dato:Object. Sin Datos Vacios\n",
    "- **country_code**: Son los códigos cortos alfabéticos que representa a cada país.<br>\n",
    " Tipo de dato: Object. Sin Datos Vacios\n",
    "- **net_migration (desde _1990 hasta _2020)**: Abarca la recopilacion de datos desde el año 1990 hasta 2020.<br>\n",
    "Tipo de dato: Float. Sin Datos Vacios"
   ]
  }
 ],
 "metadata": {
  "kernelspec": {
   "display_name": "Python 3 (ipykernel)",
   "language": "python",
   "name": "python3"
  },
  "language_info": {
   "codemirror_mode": {
    "name": "ipython",
    "version": 3
   },
   "file_extension": ".py",
   "mimetype": "text/x-python",
   "name": "python",
   "nbconvert_exporter": "python",
   "pygments_lexer": "ipython3",
   "version": "3.9.12"
  }
 },
 "nbformat": 4,
 "nbformat_minor": 5
}
