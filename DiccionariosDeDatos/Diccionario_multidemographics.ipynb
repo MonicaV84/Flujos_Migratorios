{
 "cells": [
  {
   "cell_type": "markdown",
   "id": "79a6a356",
   "metadata": {},
   "source": [
    "## Diccionario dataset Multi_demographics\n",
    "---\n",
    "#### **Archivos provistos** \n",
    "- **WPP2022_GEN_F01_DEMOGRAPHIC_INDICATORS_COMPACT_REV1.csv**: Contiene 6665 registros × 8 dimensiones, sobre  las estimaciones y proyecciones oficiales de la población de las Naciones Unidas,respaldadas por análisis de tendencias demográficas históricas.\n",
    "- **countries_net_migration.csv**: Este dataset contiene 217 registros × 2 dimensiones, solo se utiliza para hacer el match de los 217 paises con el cual se estan trabajando junto con su codigo ISO.\n",
    "\n",
    "#### **Descripción de las dimensiones**\n",
    "\n",
    "- **country_name**: Indica los 215 paises en el que ha ocurrido o ha tenido impacto el desastre.<br>\n",
    "Tipo de dato:Object. Sin Datos Vacios\n",
    "- **date**: Abarca la recopilacion de datos desde la fecha 07/01/1990 hasta 07/01/2020.<br>\n",
    "Tipo de dato: Datatime. Sin Datos Vacios\n",
    "- **population_density**: Población por kilómetro cuadrado.<br>\n",
    "Tipo de dato:Float. Sin Datos Vacios\n",
    "- **median_age**: La mediana de edad es una medida estadística que indica el valor que separa a una población en dos grupos iguales en términos de edad.<br>\n",
    "Tipo de dato:Float. Sin Datos Vacios\n",
    "- **pop_growth_rate**: Esta es una medida estadística que indica la tasa promedio de crecimiento de la población durante un período determinado, utilizando una fórmula matemática que compara las poblaciones de dos años consecutivos.<br>\n",
    "Tipo de dato:Float. Sin Datos Vacios\n",
    "- **mean_age_childbearing**: Es una medida estadística que refleja la edad promedio de las madres al dar a luz a sus hijos, si todas las mujeres experimentaran las mismas tasas de fertilidad por edad observadas en un año en particular.<br>\n",
    "Tipo de dato:Float. Sin Datos Vacios\n",
    "- **crude_death_rate**: Es una medida de la mortalidad de una población que refleja la cantidad de defunciones ocurridas durante un período específico en relación con el tamaño de la población. Se expresa como el número de defunciones por cada 1,000 habitantes. <br>\n",
    "Tipo de dato:Float. Sin Datos Vacios\n",
    "- **life_expectancy**: Se trata de una medida de la esperanza de vida de una población que refleja la cantidad promedio de años que se espera que vivan las personas bajo las tasas de mortalidad de un período específico.<br>\n",
    "Tipo de dato:Float. Sin Datos Vacios"
   ]
  }
 ],
 "metadata": {
  "kernelspec": {
   "display_name": "Python 3 (ipykernel)",
   "language": "python",
   "name": "python3"
  },
  "language_info": {
   "codemirror_mode": {
    "name": "ipython",
    "version": 3
   },
   "file_extension": ".py",
   "mimetype": "text/x-python",
   "name": "python",
   "nbconvert_exporter": "python",
   "pygments_lexer": "ipython3",
   "version": "3.9.12"
  }
 },
 "nbformat": 4,
 "nbformat_minor": 5
}
