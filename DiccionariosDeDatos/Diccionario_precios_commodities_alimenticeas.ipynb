{
 "cells": [
  {
   "cell_type": "markdown",
   "id": "ce8106bd",
   "metadata": {},
   "source": [
    "## Diccionario del dataset international_food_prices\n"
   ]
  },
  {
   "cell_type": "markdown",
   "id": "a1478ca0",
   "metadata": {},
   "source": [
    "Este dataset cuenta solo con dos campos; es de elaboración propia en base al índice de los precios internacionales de las materias primas alimenticias del FMI. Difiere de la serie de tiempo original en el año base(2015 en el original, 2016 en nuestro trabajo). El período que abarca va de 1990 a 2020.\n",
    "\n",
    "El marco de datos luce de la siguiente forma:\n",
    "    \n",
    "|year|index_value(USD base=2016)|\n",
    "|----|--------------------------|\n",
    "|1990|215.5|"
   ]
  },
  {
   "cell_type": "markdown",
   "id": "15bd7c5f",
   "metadata": {},
   "source": [
    "**Debajo definimos los campos mencionados:**\n",
    "\n",
    "- **\"year\":** &nbsp;&nbsp;&nbsp;&nbsp;&nbsp;&nbsp;&nbsp;&nbsp;&nbsp;&nbsp;&nbsp;&nbsp;&nbsp;&nbsp;&nbsp;&nbsp;&nbsp;&nbsp;&nbsp;&nbsp;&nbsp;&nbsp;&nbsp;&nbsp;&nbsp;&nbsp;&nbsp;&nbsp;&nbsp;&nbsp;&nbsp;&nbsp;&nbsp;&nbsp;&nbsp;&nbsp;&nbsp;&nbsp;&nbsp;&nbsp;&nbsp;&nbsp;&nbsp;&nbsp;&nbsp; Año de relevamiento de los datos. (tipo de dato: datetime64)\n",
    "- **\"index_value(USD base=2016)\":** &nbsp;&nbsp; Índice internacional de precios de las materias primas elaborado por el FMI. (tipo de dato: float64)"
   ]
  }
 ],
 "metadata": {
  "kernelspec": {
   "display_name": "Python 3 (ipykernel)",
   "language": "python",
   "name": "python3"
  },
  "language_info": {
   "codemirror_mode": {
    "name": "ipython",
    "version": 3
   },
   "file_extension": ".py",
   "mimetype": "text/x-python",
   "name": "python",
   "nbconvert_exporter": "python",
   "pygments_lexer": "ipython3",
   "version": "3.9.12"
  }
 },
 "nbformat": 4,
 "nbformat_minor": 5
}
