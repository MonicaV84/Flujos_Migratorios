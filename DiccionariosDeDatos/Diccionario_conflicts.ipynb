{
 "cells": [
  {
   "cell_type": "markdown",
   "id": "e320d40e",
   "metadata": {},
   "source": [
    "## Dataset Conflicts\n",
    "---\n",
    "#### **Archivos provistos**\n",
    "- **GEDEvent.csv**: Contiene 293634 registros × 8 dimensiones, la cual incluye la informacion del Programa de Datos de Conflicto de Uppsala (UCDP), principal proveedor mundial de datos sobre violencia organizada \n",
    "\n",
    "#### **Descripción de las dimensiones**\n",
    "\n",
    "- **year**:  Abarca la recopilacion de datos desde el año 1989 hasta 2021. `Se tomaron los años 1990-2020`. (tipo de dato: Int32)\n",
    "- **type_of_violence**: Tipo de conficto UCDP: (tipo de dato: Int32) <br> \n",
    "    1. *Conflicto basado en Estado*. Hay involucrado al menos un gobierno Estatal<br>\n",
    "    2. *Conflicto en el que No hay Estados involucrados*<br>\n",
    "    3. *Abuso de poder Estatal contra civiles*.<br>\n",
    "- **latitude**:Coordenadas Norte-Sur  (tipo de dato: float64)\n",
    "- **longitude**:Coordenadas este-oeste; (tipo de dato: float64)\n",
    "- **geom_wkt**: El partido que controla la capital del estado . (tipo de dato: object)\n",
    "- **country**: Indica los 120 paises analizados.  (tipo de dato: object)\n",
    "- **best**:La mejor estimación (relativa a los tipos de violencia), se compone del número de muertes más fiable y agregado. (tipo de dato: int32)\n",
    "- **high**:La estimación alta de fallecimientos (relativa a los tipos de violencia); consiste en la agregación de estimaciones altas de fallecimientos para todos los incidentes de violencia organizada durante un año. (tipo de dato: int32)\n"
   ]
  },
  {
   "cell_type": "code",
   "execution_count": null,
   "id": "190b063e",
   "metadata": {},
   "outputs": [],
   "source": []
  }
 ],
 "metadata": {
  "kernelspec": {
   "display_name": "Python 3 (ipykernel)",
   "language": "python",
   "name": "python3"
  },
  "language_info": {
   "codemirror_mode": {
    "name": "ipython",
    "version": 3
   },
   "file_extension": ".py",
   "mimetype": "text/x-python",
   "name": "python",
   "nbconvert_exporter": "python",
   "pygments_lexer": "ipython3",
   "version": "3.9.12"
  }
 },
 "nbformat": 4,
 "nbformat_minor": 5
}
