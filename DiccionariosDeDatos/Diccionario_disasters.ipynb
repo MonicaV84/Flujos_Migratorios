{
 "cells": [
  {
   "cell_type": "markdown",
   "metadata": {},
   "source": [
    "# Diccionario y Validación de Dataset disasters"
   ]
  },
  {
   "cell_type": "markdown",
   "metadata": {},
   "source": [
    "En 1988, el Centro de Investigación sobre la Epidemiología de los Desastres (CRED) lanzó la Base de Datos de Eventos de Emergencia (EM-DAT). EM-DAT se creó con el apoyo inicial de la Organización Mundial de la Salud (OMS) y el Gobierno de Bélgica.\n",
    "El objetivo principal de la base de datos es servir a los propósitos de la acción humanitaria a nivel nacional e internacional. La iniciativa tiene como objetivo racionalizar la toma de decisiones para la preparación ante desastres, así como proporcionar una base objetiva para la evaluación de la vulnerabilidad y el establecimiento de prioridades.\n",
    "\n",
    "EM-DAT contiene datos básicos esenciales sobre la ocurrencia y los efectos de más de 22 000 desastres masivos en el mundo desde 1900 hasta la actualidad. La base de datos se compila a partir de varias fuentes, incluidas agencias de la ONU, organizaciones no gubernamentales, compañías de seguros, institutos de investigación y agencias de prensa.\n",
    "\n",
    "Data extraida de: https://www.emdat.be"
   ]
  },
  {
   "cell_type": "markdown",
   "metadata": {},
   "source": [
    "Columnas encontradas inicialmente:\n",
    "\n",
    " - **'Dis No':** Número de desastre.\n",
    " - **'Year':** Año.\n",
    " - **'Seq':** Secuencia.\n",
    " - **'Glide':** Deslizamiento.\n",
    " - **'Disaster Group':** Grupo de desastres.\n",
    " - **'Disaster Subgroup':** Subgrupo de desastres.\n",
    " - **'Disaster Type':** Tipo de desastre.\n",
    " - **'Disaster Subtype':** Subtipo de desastre.\n",
    " - **'Disaster Subsubtype':** Subsubtipo de desastre.\n",
    " - **'Event Name':** Nombre del suceso.\n",
    " - **'Country':** País.\n",
    " - **'ISO':** se refiere a códigos estandarizados para los nombres de los paises\n",
    " - **'Region':** Región.\n",
    " - **'Continent':** Continente.\n",
    " - **'Location' :** Ubicación.\n",
    " - **'Origin':** Origen.\n",
    " - **'Associated Dis':** Desastre asociado\n",
    " - **'Associated Dis2':** Desastre asociado2\n",
    " - **'OFDA Response':** Respuesta de la Oficina de asistencia para desastres extranjeros\n",
    " - **'Appeal':** Recurso\n",
    " - **'Declaration':** Declaración\n",
    " - **''AID Contribution (''000 US$)'':** Contribución de ayuda.\n",
    " - **'Dis Mag Value':** El valor de la magnitud del desastre\n",
    " - **'Dis Mag Scale':** La escala de la magnitud del desastre\n",
    " - **'Latitude':** Latitud.\n",
    " - **'Longitude':** Longitud.\n",
    " - **'Local Time':** Hora local.\n",
    " - **'River Basin':** Cuenca fluvial.\n",
    " - **'Start Year':** Año de inicio.\n",
    " - **'Start Month':** Mes de inicio.\n",
    " - **'Start Day':** Día de inicio\n",
    " - **'End Year':** Fin de año.\n",
    " - **'End Month':**Fin de mes.\n",
    " - **'End Day':** Fin de día.\n",
    " - **'Total Deaths':** Total Fallecidos.\n",
    " - **'No Injured':** Número de Heridos.\n",
    " - **'No Affected':** Número de Afectados.\n",
    " - **'No Homeless':** Número de sin hogar.\n",
    " - **'Total Affected':** Total de afectados.\n",
    " - **''Reconstruction Costs (''000 US$)'':** Costes de reconstrucción.\n",
    " - **''Reconstruction Costs, Adjusted (''000 US$)'':** Costes de reconstrucción, ajustados.\n",
    " - **''Insured Damages (''000 US$)'' :** Daños asegurados.\n",
    " - **''Insured Damages, Adjusted (''000 US$)'':** Daños asegurados.\n",
    " - **''Total Damages (''000 US$)'':** Daños totales.\n",
    " - **''Total Damages, Adjusted (''000 US$)'':** Daños totales, ajustados.\n",
    " - **'CPI':**\n",
    " - **'Adm Level':** Nivel de Administración\n",
    " - **'Admin1 Code':** Código administrativo 1.\n",
    " - **'Admin2 Code':** Código administrativo 2.\n",
    " - **'Geo Locations':** Geolocalización."
   ]
  },
  {
   "cell_type": "markdown",
   "metadata": {},
   "source": [
    "### **Procesamiento de la data**\n",
    "\n",
    "1. Revisamos el dataset y detallamos la nomenclatura de las regiones.\n",
    "2. Al chequear los nulos vamos haciendo una eliminación de columnas gradual:\n",
    "    Realizamos estos procedimientos en cada dataset (Asia, América, Oceaníay África)\n",
    "    - Eliminamos las columnas con un alto contenido de valores nulos.\n",
    "    - Eliminamos metadata y columnas que no vamos a utilizar por ser de un nivel de especificidad mayor al que necesitamos, o por que al haber eliminados otras columnas estas ahora carecen de sentido por si solas.\n",
    "    - Igualamos columnas.\n",
    "    - Ahora tenemos todos los datasets con las mismas forma.\n",
    "3. Concatenamos los datasets.\n",
    "4. ELiminamos espacios en blanco de los nombres de las columnas y las pasamos a minúscula.\n",
    "5. Rellenamos progesivamente los valores nulos de las columnas 'end_day', 'start_day', 'end_month' y 'start_month'\n",
    "    - **Para 'end_day', primero filtramos por region, subgrupo de desaste y mes de finalización y le aplicamos el promedio de los datos existentes de 'end_day' que responden a esos filtros.**\n",
    "    - **Hacemos lo mismo para la columna 'start_day'**\n",
    "    - **Ahora, para los nulos restantes en la columna 'end_year', imputamos la media de los valores existentes en esa columna filtrados por año y subgrupo de desastre.**\n",
    "    - **Lo mismo hacemos para los valores faltantes de la columna 'end_month'.**\n",
    "    - **Y ahora con la columna 'start_day'.**\n",
    "    - **Para completar los nulos de la columna de total de afectados, filtramos por región y por subgrupo de desastre e imputamos la mediana del total de afectados existente.** \n",
    "    - **Para terminar de eliminarlos, imputamos la mediana del subgrupo de desastre correspondiente.**\n",
    "6. Creamos las columnas 'start_date' y 'end_date' en formato datetime a partir de las columnas 'start_day', 'start_month', 'end_day', 'end_month', 'start_year', 'end_year'. Previamente, convetimos en integer las que eran de tipo float."
   ]
  },
  {
   "cell_type": "markdown",
   "metadata": {},
   "source": [
    "Gracias a todas estas modificaciones obetenemos el dataset:\n",
    "\n",
    "disasters_final.csv que cuenta con estas columnas:\n",
    "\n",
    "    - `year`\n",
    "    - `disaster_subgroup`\n",
    "    - `disaster_type`\n",
    "    - `country`\n",
    "    - `iso`\n",
    "    - `region`\n",
    "    - `start_year`\n",
    "    - `start_month`\n",
    "    - `start_day`\n",
    "    - `end_year`\n",
    "    - `end_month`\n",
    "    - `end_day`\n",
    "    - `Total_affected`\n",
    "    - `start_date`\n",
    "    - `end_date`\n",
    "\n"
   ]
  }
 ],
 "metadata": {
  "kernelspec": {
   "display_name": "Python 3 (ipykernel)",
   "language": "python",
   "name": "python3"
  },
  "language_info": {
   "codemirror_mode": {
    "name": "ipython",
    "version": 3
   },
   "file_extension": ".py",
   "mimetype": "text/x-python",
   "name": "python",
   "nbconvert_exporter": "python",
   "pygments_lexer": "ipython3",
   "version": "3.9.12"
  },
  "vscode": {
   "interpreter": {
    "hash": "6351f0de287c121fd47b6c16e3e491b61963ef08798aec7663ead6d589c24708"
   }
  }
 },
 "nbformat": 4,
 "nbformat_minor": 2
}
