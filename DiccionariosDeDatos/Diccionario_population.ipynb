{
 "cells": [
  {
   "cell_type": "markdown",
   "id": "89f30e5c",
   "metadata": {},
   "source": [
    "#  Diccionario y validación del dataset  Total population\n",
    "### Diccionario"
   ]
  },
  {
   "cell_type": "markdown",
   "id": "6ba46ae0",
   "metadata": {},
   "source": [
    "[Fuente](https://data.worldbank.org/indicator/SP.POP.TOTL)\n",
    "\n",
    "\n",
    "Datos Generales: \n",
    "\n",
    "|||\n",
    "|------|------------|\n",
    "|Codigo| SP.POP.TOTL|\n",
    "|Nombre del indicador| Total Population <<Total de población (en números de personas)>>\n",
    "|Periodicidad| Anual\n",
    "|Período comprendido|1960-2021\n",
    "\n",
    "\n",
    "\n",
    "Este dataset del Banco Mundial cuenta con datos concernientes a la población total del mundo. Los datos cuetan con registros para los países pero también para grupos de países según regiones geográficas y económicas.\n",
    "\n",
    "\n",
    "\n",
    "**El conjunto de datos original cuenta con los siguientes campos:**\n",
    "\n",
    "- **\"Country Name\"** &nbsp;&nbsp;&nbsp;&nbsp;&nbsp; Campo con el nombre del país (tipo de dato: object)\n",
    "- **\"Country Code\"** &nbsp;&nbsp;&nbsp;&nbsp;&nbsp;&nbsp; Campo con el código ISO-3 asociado a un determinado país que lo identifica internacionalmente.  (tipo de dato: object)\n",
    "- **\"Indicator Name\"** &nbsp;&nbsp;&nbsp;&nbsp;&nbsp;Campo con el nombre que identifica al indicador utilizado por el Banco Mundial (Population, total).  (tipo de dato: object)\n",
    "- **\"Indicator Code\"** &nbsp;&nbsp;&nbsp;&nbsp;&nbsp; Campo con el código del indicador, según la nomenclatura del Banco Mundial.\n",
    "- El resto de campos representan a los años desde 1960 hasta el final de la serie. En este caso hasta 2021.  (tipo de dato: object)\n",
    "\n",
    "\n",
    "\n"
   ]
  },
  {
   "cell_type": "markdown",
   "id": "2e15b502",
   "metadata": {},
   "source": [
    "### Validación de datos"
   ]
  },
  {
   "cell_type": "markdown",
   "id": "22e2c12c",
   "metadata": {},
   "source": [
    "\n",
    "De los primeros cuatro campos solo nos quedamos con el que contiene el nombre del país. A \"Country Code\" y a \n",
    "\"Indicator Code\" los eliminamos por tener información redundante de los campos que codifican. Por otra parte, al campo \"Indicator Name\" lo incorporamos a cada uno de los campos que guardan los años. Así, por ejemplo, el campo \"1990\" se conrvirtió en population_1990. Luego, eliminamos esa columna. De esta manera, no perdimos la información del indicador.\n",
    "En cuanto a los campos que marcaban los años, removimos todos aquellos que quedaban por fuera del período 1990-2020, que es nuestro rango temporal de estudio. "
   ]
  }
 ],
 "metadata": {
  "kernelspec": {
   "display_name": "Python 3 (ipykernel)",
   "language": "python",
   "name": "python3"
  },
  "language_info": {
   "codemirror_mode": {
    "name": "ipython",
    "version": 3
   },
   "file_extension": ".py",
   "mimetype": "text/x-python",
   "name": "python",
   "nbconvert_exporter": "python",
   "pygments_lexer": "ipython3",
   "version": "3.9.12"
  }
 },
 "nbformat": 4,
 "nbformat_minor": 5
}
