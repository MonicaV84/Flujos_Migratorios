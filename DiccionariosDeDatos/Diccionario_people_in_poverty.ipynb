{
 "cells": [
  {
   "cell_type": "markdown",
   "metadata": {},
   "source": [
    "# Diccionario y validación del dataset pip2.csv"
   ]
  },
  {
   "cell_type": "markdown",
   "metadata": {},
   "source": [
    "Este dataset trata sobre los índices de pobreza y desigualdad. Para obtener los datos se siguen 5 pasos. En primer lugar se colecta la información sobre las encuestas de hogares provenientes de fuentes relevantes. Con esos datos se realiza una estimación de los ingresos o consumos de los hogares. En tercer lugar, esas estimaciones se ajustan según las diferencias en los niveles precios en un país y a lo largo del tiempo para generar compatibilidad internacional. Cuarto, se calcula la pobreza y la desigualdad para un país en un año determinado. "
   ]
  },
  {
   "cell_type": "markdown",
   "metadata": {},
   "source": [
    "Los datos se extrajeron de la siguiente página: [Plataforma de pobreza y desigualdad de Banco Munidal](https://pip.worldbank.org/home)"
   ]
  },
  {
   "cell_type": "markdown",
   "metadata": {},
   "source": [
    "Originalmente, el dataset estaba compuesto por las columnas que se mencionan a continuación:\n",
    "- **'region_name':** nombre de región (tipo de dato: object), \n",
    "- **'region_code':** código de región (tipo de dato: object),\n",
    "- **'country_name':** nombre de código (tipo de dato: object), \n",
    "- **'country_code':** código de país (tipo de dato: object),\n",
    "- **'reporting_year':** año reportado(tipo de dato: int64), \n",
    "- **'reporting_level':** nivel reportado (tipo de dato: object), \n",
    "- **'survey_acronym':** acrónimo de la encuesta (tipo de dato: object),\n",
    "- **'survey_coverage':** cobertura de la encuesta (tipo de dato: object), \n",
    "- **'survey_year':** año de la encuesta (tipo de dato: float64), \n",
    "- **'welfare_type':** tipo de asistencia (tipo de dato: object),\n",
    "- **'survey_comparability':** comparabilidad de la encuesta (tipo de dato: int64), \n",
    "- **'comparable_spell':** período en el que se utiliza la misma metodología en las encuestas (tipo de dato: object), \n",
    "- **'poverty_line':** línea de pobreza (tipo de dato: object),\n",
    "- **'headcount':** proporción de pobreza poblacional (tipo de dato: float64),\n",
    "- **'poverty_gap':** brecha de pobreza (tipo de dato: float64), \n",
    "- **'poverty_severity':** severidad de pobreza (tipo de dato: float64), \n",
    "- **'watts':** watts (tipo de dato: float64), \n",
    "- **'mean':** promedio (tipo de dato: float64),\n",
    "- **'median':** mediana (tipo de dato: float64), \n",
    "- **'mld':** desviación logarítmica media (tipo de dato: float64),\n",
    "- **'gini':** gini (tipo de dato: float64),\n",
    "- **'polarization':** polarización (tipo de dato: float64), \n",
    "- **'decile1', 'decile2', 'decile3', 'decile4','decile5', 'decile6', 'decile7', 'decile8', 'decile9', 'decile10':** cada una de las decimas partes en las que se separa una muestra estadística. Utilizadas en este ámbito para medir desigualdad y pobreza(tipo de dato: float64),\n",
    "- **'cpi'**: indice de precios del consumidor (tipo de dato: float64), \n",
    "- **'ppp'**: paridad de poder adquisitivo (tipo de dato: float64), \n",
    "- **'reporting_pop':** población reportada (tipo de dato: int64), \n",
    "- **'reporting_gdp':** ingreso bruto interno reportado (tipo de dato: float64), \n",
    "- **'reporting_pce':** gasto de consumo personal reportado (tipo de dato: float64),\n",
    "- **'is_interpolated':** es interpolado (tipo de dato: bool), \n",
    "- **'distribution_type':** tipo de distribución (tipo de dato: object), \n",
    "- **'estimation_type':** tipo de estimación (tipo de dato: object).\n",
    "- *dtypes: bool(1), float64(25), int64(3), object(11)*"
   ]
  },
  {
   "cell_type": "markdown",
   "metadata": {},
   "source": [
    "## Procesamiento de la data:"
   ]
  },
  {
   "cell_type": "markdown",
   "metadata": {},
   "source": [
    "1. Dejamos por fuera las columnas con metadata\n",
    "2. Filtramos los años que nos interesan\n",
    "3. Debido a falta de datos acotaremos este set en el año 2019\n",
    "4. eliminaremos la columna 'reporting_population'\n",
    "5. Lo mismo hacemos con la categoría reporting_gdp que mide el ingreso por habitante de un país\n",
    "6. Chequeamos valores nulos\n",
    "7. Como tenemos varios índices, algunos para medir la pobreza y otros para medir la desigualdad, queremos asegurarnos de no analizar variables que tengan una alta correlación\n",
    "8. La paridad de poder adquisitivo (columna ppp), tiene un valor único para cada país; solo muestra cual es el poder de compra de los ciudadanos de ese país en base 2017, no está ajustado por año. En consecuencia, no es un dato que vayamos a utilizar, así que en lugar de eliminar o tratar sus valores nulos; eliminaremos esta columna\n",
    "9. Filtramos los índices de pobreza y desigualdad para medir su correlatividad\n",
    "10. Vemos que los indicadores de pobreza, en el cuadrante superior izquierdo, tienen alta correlatividad entre sí. Lo mismo ocurre con los indicadores de desigualdad (cuadrado rojo en el medio del gráfico). Vamos a eliminar algunas de estas columnas\n",
    "11. Los métodos poverty severity y headcount sirven para medir la pobreza, el primero es más elaborado y tiene en cuenta cuestiones de desigualdad, mientras que el primero es una simple proporción poblacional. Sin embargo en este trabajo no vamos a tener en cuenta estas cuestiones técnicas, priorizaremos no incluir campos con alta correlatividad y que pertenezcan a una misma categoría\n",
    "12. Renombraremos a la columna country_year y normalizaremos los valores de los campos de texto\n",
    "13. Este dataset utiliza el índice de Gini como medida de desigualdad de los ingresos de la población, un índice cercano a cero habla de una mejor distribución de los ingresos, mientras que un número cercano a uno habla de una distribución desigual\n",
    "14. En este dataset se utiliza el índice de precios al consumidor (cpi en inglés) para medir la evolución general de los precios a lo largo del tiempo\n",
    "15. Los datos de Italia no son correctos, vamos a corregirlos. Hemos notado que estos datos presentan dos errores, uno tienen una coma que convierte a alguno de los valores en miles. El otro que tiene una inflación que supera en más de diez veces su inflación real. Por esta razón dividiremos por diez el valor actual. En cuanto a los valores con coma vamos a restarle mil y luego a dividir por 10\n",
    "16. Al investigar más a fondo la columna 'cpi' notamos que no solo Italia tiene datos incorrectos, parece como si la columna hubiese sido rellanada por distintas personas y con distintas metodologías, algunos datos son correctos, otros muy errados. Algunos datos están en tanto por cien, mientras que otros en tanto por uno. Desecharemos esta columna\n",
    "17. Comenzaremos esta etapa con los registros que son duplicados parciales. En lugar de eliminarlos vamos a agruparlos, obtener los valores medios para cada campo y cada subgrupo de duplicados parciales, para luego imputar esa media sobre los valores originales. De esta manera crearemos registros duplicados y podremos quedarnos con uno solo de cada subgrupo\n",
    "18. Iniciamos con la columna 'gini'\n",
    "19. repetimos el procedimiento para la columna 'headcount'\n",
    "20. Dropeamos los registros duplicados\n",
    "21. Normalizaremos el tipo de dato de la columna year\n",
    "22. Por último convertiremos nuestros valores de texto a mayúsculas\n"
   ]
  }
 ],
 "metadata": {
  "kernelspec": {
   "display_name": "Python 3 (ipykernel)",
   "language": "python",
   "name": "python3"
  },
  "language_info": {
   "codemirror_mode": {
    "name": "ipython",
    "version": 3
   },
   "file_extension": ".py",
   "mimetype": "text/x-python",
   "name": "python",
   "nbconvert_exporter": "python",
   "pygments_lexer": "ipython3",
   "version": "3.9.12"
  },
  "vscode": {
   "interpreter": {
    "hash": "17c9ef97fbdc07c71cb342161fdcbff14516699b42eb670357c21cf06912fcbd"
   }
  }
 },
 "nbformat": 4,
 "nbformat_minor": 2
}
