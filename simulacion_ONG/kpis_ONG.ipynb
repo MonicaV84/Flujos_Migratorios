{
 "cells": [
  {
   "cell_type": "code",
   "execution_count": 1,
   "metadata": {},
   "outputs": [],
   "source": [
    "import pandas as pd\n",
    "import numpy as np\n",
    "import seaborn as sns\n",
    "import matplotlib.pyplot as plt"
   ]
  },
  {
   "cell_type": "code",
   "execution_count": 2,
   "metadata": {
    "scrolled": true
   },
   "outputs": [
    {
     "data": {
      "text/html": [
       "<div>\n",
       "<style scoped>\n",
       "    .dataframe tbody tr th:only-of-type {\n",
       "        vertical-align: middle;\n",
       "    }\n",
       "\n",
       "    .dataframe tbody tr th {\n",
       "        vertical-align: top;\n",
       "    }\n",
       "\n",
       "    .dataframe thead th {\n",
       "        text-align: right;\n",
       "    }\n",
       "</style>\n",
       "<table border=\"1\" class=\"dataframe\">\n",
       "  <thead>\n",
       "    <tr style=\"text-align: right;\">\n",
       "      <th></th>\n",
       "      <th>nombre</th>\n",
       "      <th>apellido</th>\n",
       "      <th>edad</th>\n",
       "      <th>correo electrónico</th>\n",
       "      <th>id_nacional</th>\n",
       "      <th>nacionalidad</th>\n",
       "      <th>tipo_de_challenge</th>\n",
       "      <th>categoría_persona</th>\n",
       "    </tr>\n",
       "  </thead>\n",
       "  <tbody>\n",
       "    <tr>\n",
       "      <th>0</th>\n",
       "      <td>Christopher</td>\n",
       "      <td>Young</td>\n",
       "      <td>23</td>\n",
       "      <td>parkerrachel@example.com</td>\n",
       "      <td>E07913891</td>\n",
       "      <td>Romania</td>\n",
       "      <td>Donacion</td>\n",
       "      <td>Seguidor</td>\n",
       "    </tr>\n",
       "    <tr>\n",
       "      <th>1</th>\n",
       "      <td>Mary</td>\n",
       "      <td>Clark</td>\n",
       "      <td>32</td>\n",
       "      <td>conwaymarissa@example.org</td>\n",
       "      <td>V40024269</td>\n",
       "      <td>Zimbabwe</td>\n",
       "      <td>NaN</td>\n",
       "      <td>Persona</td>\n",
       "    </tr>\n",
       "    <tr>\n",
       "      <th>2</th>\n",
       "      <td>Ashley</td>\n",
       "      <td>Thompson</td>\n",
       "      <td>35</td>\n",
       "      <td>tammy56@example.com</td>\n",
       "      <td>R15958823</td>\n",
       "      <td>El Salvador</td>\n",
       "      <td>Presencial</td>\n",
       "      <td>Seguidor</td>\n",
       "    </tr>\n",
       "    <tr>\n",
       "      <th>3</th>\n",
       "      <td>Beth</td>\n",
       "      <td>Stein</td>\n",
       "      <td>18</td>\n",
       "      <td>kelleymitchell@example.org</td>\n",
       "      <td>K47461495</td>\n",
       "      <td>Germany</td>\n",
       "      <td>NaN</td>\n",
       "      <td>Persona</td>\n",
       "    </tr>\n",
       "    <tr>\n",
       "      <th>4</th>\n",
       "      <td>Pamela</td>\n",
       "      <td>Cook</td>\n",
       "      <td>59</td>\n",
       "      <td>brittany55@example.org</td>\n",
       "      <td>Q88915654</td>\n",
       "      <td>Netherlands Antilles</td>\n",
       "      <td>Donacion</td>\n",
       "      <td>Seguidor</td>\n",
       "    </tr>\n",
       "  </tbody>\n",
       "</table>\n",
       "</div>"
      ],
      "text/plain": [
       "        nombre  apellido  edad          correo electrónico id_nacional  \\\n",
       "0  Christopher     Young    23    parkerrachel@example.com   E07913891   \n",
       "1         Mary     Clark    32   conwaymarissa@example.org   V40024269   \n",
       "2       Ashley  Thompson    35         tammy56@example.com   R15958823   \n",
       "3         Beth     Stein    18  kelleymitchell@example.org   K47461495   \n",
       "4       Pamela      Cook    59      brittany55@example.org   Q88915654   \n",
       "\n",
       "           nacionalidad tipo_de_challenge categoría_persona  \n",
       "0               Romania          Donacion          Seguidor  \n",
       "1              Zimbabwe               NaN           Persona  \n",
       "2           El Salvador        Presencial          Seguidor  \n",
       "3               Germany               NaN           Persona  \n",
       "4  Netherlands Antilles          Donacion          Seguidor  "
      ]
     },
     "execution_count": 2,
     "metadata": {},
     "output_type": "execute_result"
    }
   ],
   "source": [
    "instancias = pd.read_csv('dataSets\\\\2021_instancias.csv', encoding='latin-1')\n",
    "instancias.head()"
   ]
  },
  {
   "cell_type": "code",
   "execution_count": 3,
   "metadata": {},
   "outputs": [
    {
     "data": {
      "text/plain": [
       "(5972, 8)"
      ]
     },
     "execution_count": 3,
     "metadata": {},
     "output_type": "execute_result"
    }
   ],
   "source": [
    "instancias.shape"
   ]
  },
  {
   "cell_type": "code",
   "execution_count": 4,
   "metadata": {
    "scrolled": true
   },
   "outputs": [
    {
     "data": {
      "text/html": [
       "<div>\n",
       "<style scoped>\n",
       "    .dataframe tbody tr th:only-of-type {\n",
       "        vertical-align: middle;\n",
       "    }\n",
       "\n",
       "    .dataframe tbody tr th {\n",
       "        vertical-align: top;\n",
       "    }\n",
       "\n",
       "    .dataframe thead th {\n",
       "        text-align: right;\n",
       "    }\n",
       "</style>\n",
       "<table border=\"1\" class=\"dataframe\">\n",
       "  <thead>\n",
       "    <tr style=\"text-align: right;\">\n",
       "      <th></th>\n",
       "      <th>id_challenge</th>\n",
       "      <th>tipo_de_challenge</th>\n",
       "      <th>resultado</th>\n",
       "      <th>fecha_inicio</th>\n",
       "      <th>fecha_fin</th>\n",
       "      <th>pais_destinatario</th>\n",
       "    </tr>\n",
       "  </thead>\n",
       "  <tbody>\n",
       "    <tr>\n",
       "      <th>0</th>\n",
       "      <td>2021-92</td>\n",
       "      <td>Donacion</td>\n",
       "      <td>discontinuado</td>\n",
       "      <td>2021-01-03 10:30:00</td>\n",
       "      <td>2021-01-19 10:30:00</td>\n",
       "      <td>CANADA</td>\n",
       "    </tr>\n",
       "    <tr>\n",
       "      <th>1</th>\n",
       "      <td>2021-84</td>\n",
       "      <td>Donacion</td>\n",
       "      <td>discontinuado</td>\n",
       "      <td>2021-01-01 10:30:00</td>\n",
       "      <td>2021-01-22 10:30:00</td>\n",
       "      <td>BELARUS</td>\n",
       "    </tr>\n",
       "    <tr>\n",
       "      <th>2</th>\n",
       "      <td>2021-86</td>\n",
       "      <td>Presencial</td>\n",
       "      <td>discontinuado</td>\n",
       "      <td>2021-01-01 10:30:00</td>\n",
       "      <td>2021-01-23 10:30:00</td>\n",
       "      <td>IRELAND</td>\n",
       "    </tr>\n",
       "    <tr>\n",
       "      <th>3</th>\n",
       "      <td>2021-90</td>\n",
       "      <td>Presencial</td>\n",
       "      <td>discontinuado</td>\n",
       "      <td>2021-01-01 10:30:00</td>\n",
       "      <td>2021-01-23 10:30:00</td>\n",
       "      <td>UNITED STATES</td>\n",
       "    </tr>\n",
       "    <tr>\n",
       "      <th>4</th>\n",
       "      <td>2021-89</td>\n",
       "      <td>Presencial</td>\n",
       "      <td>discontinuado</td>\n",
       "      <td>2021-01-01 10:30:00</td>\n",
       "      <td>2021-01-24 10:30:00</td>\n",
       "      <td>ECUADOR</td>\n",
       "    </tr>\n",
       "    <tr>\n",
       "      <th>...</th>\n",
       "      <td>...</td>\n",
       "      <td>...</td>\n",
       "      <td>...</td>\n",
       "      <td>...</td>\n",
       "      <td>...</td>\n",
       "      <td>...</td>\n",
       "    </tr>\n",
       "    <tr>\n",
       "      <th>398</th>\n",
       "      <td>2022-480</td>\n",
       "      <td>Donacion</td>\n",
       "      <td>en curso</td>\n",
       "      <td>2022-01-16 10:30:00</td>\n",
       "      <td>NaN</td>\n",
       "      <td>ETHIOPIA</td>\n",
       "    </tr>\n",
       "    <tr>\n",
       "      <th>399</th>\n",
       "      <td>2022-482</td>\n",
       "      <td>Donacion</td>\n",
       "      <td>en curso</td>\n",
       "      <td>2022-01-24 10:30:00</td>\n",
       "      <td>NaN</td>\n",
       "      <td>SYRIAN ARAB REPUBLIC</td>\n",
       "    </tr>\n",
       "    <tr>\n",
       "      <th>400</th>\n",
       "      <td>2022-483</td>\n",
       "      <td>Presencial</td>\n",
       "      <td>en curso</td>\n",
       "      <td>2022-01-24 10:30:00</td>\n",
       "      <td>NaN</td>\n",
       "      <td>SYRIAN ARAB REPUBLIC</td>\n",
       "    </tr>\n",
       "    <tr>\n",
       "      <th>401</th>\n",
       "      <td>2022-485</td>\n",
       "      <td>Donacion</td>\n",
       "      <td>en curso</td>\n",
       "      <td>2022-01-27 10:30:00</td>\n",
       "      <td>NaN</td>\n",
       "      <td>UGANDA</td>\n",
       "    </tr>\n",
       "    <tr>\n",
       "      <th>402</th>\n",
       "      <td>2022-486</td>\n",
       "      <td>Donacion</td>\n",
       "      <td>en curso</td>\n",
       "      <td>2022-01-30 10:30:00</td>\n",
       "      <td>NaN</td>\n",
       "      <td>GERMANY</td>\n",
       "    </tr>\n",
       "  </tbody>\n",
       "</table>\n",
       "<p>403 rows × 6 columns</p>\n",
       "</div>"
      ],
      "text/plain": [
       "    id_challenge tipo_de_challenge      resultado         fecha_inicio  \\\n",
       "0        2021-92          Donacion  discontinuado  2021-01-03 10:30:00   \n",
       "1        2021-84          Donacion  discontinuado  2021-01-01 10:30:00   \n",
       "2        2021-86        Presencial  discontinuado  2021-01-01 10:30:00   \n",
       "3        2021-90        Presencial  discontinuado  2021-01-01 10:30:00   \n",
       "4        2021-89        Presencial  discontinuado  2021-01-01 10:30:00   \n",
       "..           ...               ...            ...                  ...   \n",
       "398     2022-480          Donacion       en curso  2022-01-16 10:30:00   \n",
       "399     2022-482          Donacion       en curso  2022-01-24 10:30:00   \n",
       "400     2022-483        Presencial       en curso  2022-01-24 10:30:00   \n",
       "401     2022-485          Donacion       en curso  2022-01-27 10:30:00   \n",
       "402     2022-486          Donacion       en curso  2022-01-30 10:30:00   \n",
       "\n",
       "               fecha_fin     pais_destinatario  \n",
       "0    2021-01-19 10:30:00                CANADA  \n",
       "1    2021-01-22 10:30:00               BELARUS  \n",
       "2    2021-01-23 10:30:00               IRELAND  \n",
       "3    2021-01-23 10:30:00         UNITED STATES  \n",
       "4    2021-01-24 10:30:00               ECUADOR  \n",
       "..                   ...                   ...  \n",
       "398                  NaN              ETHIOPIA  \n",
       "399                  NaN  SYRIAN ARAB REPUBLIC  \n",
       "400                  NaN  SYRIAN ARAB REPUBLIC  \n",
       "401                  NaN                UGANDA  \n",
       "402                  NaN               GERMANY  \n",
       "\n",
       "[403 rows x 6 columns]"
      ]
     },
     "execution_count": 4,
     "metadata": {},
     "output_type": "execute_result"
    }
   ],
   "source": [
    "resultados = pd.read_csv('dataSets\\\\anio2021_resultados.csv')\n",
    "resultados"
   ]
  },
  {
   "cell_type": "code",
   "execution_count": 5,
   "metadata": {},
   "outputs": [],
   "source": [
    "resultados[\"fecha_inicio\"] = pd.to_datetime(resultados[\"fecha_inicio\"])\n",
    "resultados[\"fecha_fin\"] = pd.to_datetime(resultados[\"fecha_fin\"])"
   ]
  },
  {
   "cell_type": "code",
   "execution_count": 6,
   "metadata": {},
   "outputs": [
    {
     "data": {
      "text/plain": [
       "Timestamp('2021-01-01 10:30:00')"
      ]
     },
     "execution_count": 6,
     "metadata": {},
     "output_type": "execute_result"
    }
   ],
   "source": [
    "resultados.fecha_inicio.min()"
   ]
  },
  {
   "cell_type": "code",
   "execution_count": 7,
   "metadata": {},
   "outputs": [
    {
     "data": {
      "text/plain": [
       "Timestamp('2022-01-30 10:30:00')"
      ]
     },
     "execution_count": 7,
     "metadata": {},
     "output_type": "execute_result"
    }
   ],
   "source": [
    "resultados.fecha_inicio.max()"
   ]
  },
  {
   "cell_type": "markdown",
   "metadata": {},
   "source": [
    "##### Vamos a filtrar todos los registros que no pertenezcan al año 2021"
   ]
  },
  {
   "cell_type": "code",
   "execution_count": 8,
   "metadata": {},
   "outputs": [
    {
     "name": "stdout",
     "output_type": "stream",
     "text": [
      "<class 'pandas.core.frame.DataFrame'>\n",
      "RangeIndex: 403 entries, 0 to 402\n",
      "Data columns (total 6 columns):\n",
      " #   Column             Non-Null Count  Dtype         \n",
      "---  ------             --------------  -----         \n",
      " 0   id_challenge       403 non-null    object        \n",
      " 1   tipo_de_challenge  403 non-null    object        \n",
      " 2   resultado          403 non-null    object        \n",
      " 3   fecha_inicio       403 non-null    datetime64[ns]\n",
      " 4   fecha_fin          274 non-null    datetime64[ns]\n",
      " 5   pais_destinatario  403 non-null    object        \n",
      "dtypes: datetime64[ns](2), object(4)\n",
      "memory usage: 19.0+ KB\n"
     ]
    }
   ],
   "source": [
    "resultados.info()"
   ]
  },
  {
   "cell_type": "code",
   "execution_count": 9,
   "metadata": {},
   "outputs": [],
   "source": [
    "resultados2021 = resultados[resultados.fecha_inicio.dt.year == 2021].copy()"
   ]
  },
  {
   "cell_type": "code",
   "execution_count": 10,
   "metadata": {},
   "outputs": [
    {
     "data": {
      "text/plain": [
       "(373, 6)"
      ]
     },
     "execution_count": 10,
     "metadata": {},
     "output_type": "execute_result"
    }
   ],
   "source": [
    "resultados2021.shape"
   ]
  },
  {
   "cell_type": "markdown",
   "metadata": {},
   "source": [
    "# KPI: Paises en los que operó la ONG "
   ]
  },
  {
   "cell_type": "code",
   "execution_count": 11,
   "metadata": {},
   "outputs": [
    {
     "data": {
      "text/plain": [
       "<Axes: ylabel='suma_challenges'>"
      ]
     },
     "execution_count": 11,
     "metadata": {},
     "output_type": "execute_result"
    },
    {
     "data": {
      "image/png": "[encoded data removed]",
      "text/plain": [
       "<Figure size 640x480 with 1 Axes>"
      ]
     },
     "metadata": {},
     "output_type": "display_data"
    }
   ],
   "source": [
    "suma_challenges = len(resultados2021['id_challenge'].unique())\n",
    "df_suma = pd.DataFrame({'suma_challenges': [suma_challenges]})\n",
    "sns.barplot(data=df_suma, x=df_suma.index, y='suma_challenges', width = 0.12)"
   ]
  },
  {
   "cell_type": "code",
   "execution_count": 12,
   "metadata": {},
   "outputs": [
    {
     "data": {
      "text/html": [
       "<div>\n",
       "<style scoped>\n",
       "    .dataframe tbody tr th:only-of-type {\n",
       "        vertical-align: middle;\n",
       "    }\n",
       "\n",
       "    .dataframe tbody tr th {\n",
       "        vertical-align: top;\n",
       "    }\n",
       "\n",
       "    .dataframe thead th {\n",
       "        text-align: right;\n",
       "    }\n",
       "</style>\n",
       "<table border=\"1\" class=\"dataframe\">\n",
       "  <thead>\n",
       "    <tr style=\"text-align: right;\">\n",
       "      <th></th>\n",
       "      <th>suma_challenges</th>\n",
       "    </tr>\n",
       "  </thead>\n",
       "  <tbody>\n",
       "    <tr>\n",
       "      <th>0</th>\n",
       "      <td>373</td>\n",
       "    </tr>\n",
       "  </tbody>\n",
       "</table>\n",
       "</div>"
      ],
      "text/plain": [
       "   suma_challenges\n",
       "0              373"
      ]
     },
     "execution_count": 12,
     "metadata": {},
     "output_type": "execute_result"
    }
   ],
   "source": [
    "df_suma"
   ]
  },
  {
   "cell_type": "code",
   "execution_count": 13,
   "metadata": {},
   "outputs": [
    {
     "data": {
      "text/plain": [
       "373"
      ]
     },
     "execution_count": 13,
     "metadata": {},
     "output_type": "execute_result"
    }
   ],
   "source": [
    "resultados2021['id_challenge'].value_counts().sum()"
   ]
  },
  {
   "cell_type": "markdown",
   "metadata": {},
   "source": [
    "#### Esa es la cantidad de challenges creados en 2021, 373 challenges."
   ]
  },
  {
   "cell_type": "code",
   "execution_count": 14,
   "metadata": {},
   "outputs": [
    {
     "data": {
      "text/html": [
       "<div>\n",
       "<style scoped>\n",
       "    .dataframe tbody tr th:only-of-type {\n",
       "        vertical-align: middle;\n",
       "    }\n",
       "\n",
       "    .dataframe tbody tr th {\n",
       "        vertical-align: top;\n",
       "    }\n",
       "\n",
       "    .dataframe thead th {\n",
       "        text-align: right;\n",
       "    }\n",
       "</style>\n",
       "<table border=\"1\" class=\"dataframe\">\n",
       "  <thead>\n",
       "    <tr style=\"text-align: right;\">\n",
       "      <th></th>\n",
       "      <th>id_challenge</th>\n",
       "      <th>tipo_de_challenge</th>\n",
       "      <th>resultado</th>\n",
       "      <th>fecha_inicio</th>\n",
       "      <th>fecha_fin</th>\n",
       "      <th>pais_destinatario</th>\n",
       "    </tr>\n",
       "  </thead>\n",
       "  <tbody>\n",
       "    <tr>\n",
       "      <th>219</th>\n",
       "      <td>2021-91</td>\n",
       "      <td>Traductor</td>\n",
       "      <td>exitoso</td>\n",
       "      <td>2021-01-03 10:30:00</td>\n",
       "      <td>NaT</td>\n",
       "      <td>CHAD</td>\n",
       "    </tr>\n",
       "    <tr>\n",
       "      <th>220</th>\n",
       "      <td>2021-87</td>\n",
       "      <td>Donacion</td>\n",
       "      <td>exitoso</td>\n",
       "      <td>2021-01-01 10:30:00</td>\n",
       "      <td>NaT</td>\n",
       "      <td>PAPUA NEW GUINEA</td>\n",
       "    </tr>\n",
       "    <tr>\n",
       "      <th>221</th>\n",
       "      <td>2021-85</td>\n",
       "      <td>Donacion</td>\n",
       "      <td>exitoso</td>\n",
       "      <td>2021-01-01 10:30:00</td>\n",
       "      <td>NaT</td>\n",
       "      <td>HUNGARY</td>\n",
       "    </tr>\n",
       "    <tr>\n",
       "      <th>222</th>\n",
       "      <td>2021-93</td>\n",
       "      <td>Traductor</td>\n",
       "      <td>exitoso</td>\n",
       "      <td>2021-01-06 10:30:00</td>\n",
       "      <td>NaT</td>\n",
       "      <td>BELGIUM</td>\n",
       "    </tr>\n",
       "    <tr>\n",
       "      <th>223</th>\n",
       "      <td>2021-88</td>\n",
       "      <td>Donacion</td>\n",
       "      <td>exitoso</td>\n",
       "      <td>2021-01-01 10:30:00</td>\n",
       "      <td>NaT</td>\n",
       "      <td>PORTUGAL</td>\n",
       "    </tr>\n",
       "    <tr>\n",
       "      <th>...</th>\n",
       "      <td>...</td>\n",
       "      <td>...</td>\n",
       "      <td>...</td>\n",
       "      <td>...</td>\n",
       "      <td>...</td>\n",
       "      <td>...</td>\n",
       "    </tr>\n",
       "    <tr>\n",
       "      <th>375</th>\n",
       "      <td>2021-449</td>\n",
       "      <td>Simulacro</td>\n",
       "      <td>exitoso</td>\n",
       "      <td>2021-12-26 10:30:00</td>\n",
       "      <td>NaT</td>\n",
       "      <td>ITALY</td>\n",
       "    </tr>\n",
       "    <tr>\n",
       "      <th>376</th>\n",
       "      <td>2021-448</td>\n",
       "      <td>Presencial</td>\n",
       "      <td>exitoso</td>\n",
       "      <td>2021-12-25 10:30:00</td>\n",
       "      <td>NaT</td>\n",
       "      <td>ZAMBIA</td>\n",
       "    </tr>\n",
       "    <tr>\n",
       "      <th>380</th>\n",
       "      <td>2021-451</td>\n",
       "      <td>Donacion</td>\n",
       "      <td>exitoso</td>\n",
       "      <td>2021-12-27 10:30:00</td>\n",
       "      <td>NaT</td>\n",
       "      <td>HUNGARY</td>\n",
       "    </tr>\n",
       "    <tr>\n",
       "      <th>381</th>\n",
       "      <td>2021-452</td>\n",
       "      <td>Presencial</td>\n",
       "      <td>exitoso</td>\n",
       "      <td>2021-12-28 10:30:00</td>\n",
       "      <td>NaT</td>\n",
       "      <td>SLOVENIA</td>\n",
       "    </tr>\n",
       "    <tr>\n",
       "      <th>387</th>\n",
       "      <td>2021-456</td>\n",
       "      <td>Donacion</td>\n",
       "      <td>exitoso</td>\n",
       "      <td>2021-12-30 10:30:00</td>\n",
       "      <td>NaT</td>\n",
       "      <td>BELGIUM</td>\n",
       "    </tr>\n",
       "  </tbody>\n",
       "</table>\n",
       "<p>110 rows × 6 columns</p>\n",
       "</div>"
      ],
      "text/plain": [
       "    id_challenge tipo_de_challenge resultado        fecha_inicio fecha_fin  \\\n",
       "219      2021-91         Traductor   exitoso 2021-01-03 10:30:00       NaT   \n",
       "220      2021-87          Donacion   exitoso 2021-01-01 10:30:00       NaT   \n",
       "221      2021-85          Donacion   exitoso 2021-01-01 10:30:00       NaT   \n",
       "222      2021-93         Traductor   exitoso 2021-01-06 10:30:00       NaT   \n",
       "223      2021-88          Donacion   exitoso 2021-01-01 10:30:00       NaT   \n",
       "..           ...               ...       ...                 ...       ...   \n",
       "375     2021-449         Simulacro   exitoso 2021-12-26 10:30:00       NaT   \n",
       "376     2021-448        Presencial   exitoso 2021-12-25 10:30:00       NaT   \n",
       "380     2021-451          Donacion   exitoso 2021-12-27 10:30:00       NaT   \n",
       "381     2021-452        Presencial   exitoso 2021-12-28 10:30:00       NaT   \n",
       "387     2021-456          Donacion   exitoso 2021-12-30 10:30:00       NaT   \n",
       "\n",
       "    pais_destinatario  \n",
       "219              CHAD  \n",
       "220  PAPUA NEW GUINEA  \n",
       "221           HUNGARY  \n",
       "222           BELGIUM  \n",
       "223          PORTUGAL  \n",
       "..                ...  \n",
       "375             ITALY  \n",
       "376            ZAMBIA  \n",
       "380           HUNGARY  \n",
       "381          SLOVENIA  \n",
       "387           BELGIUM  \n",
       "\n",
       "[110 rows x 6 columns]"
      ]
     },
     "execution_count": 14,
     "metadata": {},
     "output_type": "execute_result"
    }
   ],
   "source": [
    "fecha_fin = resultados2021.loc[resultados['fecha_fin'].isna()]\n",
    "fecha_fin"
   ]
  },
  {
   "cell_type": "code",
   "execution_count": 15,
   "metadata": {},
   "outputs": [
    {
     "data": {
      "text/html": [
       "<div>\n",
       "<style scoped>\n",
       "    .dataframe tbody tr th:only-of-type {\n",
       "        vertical-align: middle;\n",
       "    }\n",
       "\n",
       "    .dataframe tbody tr th {\n",
       "        vertical-align: top;\n",
       "    }\n",
       "\n",
       "    .dataframe thead th {\n",
       "        text-align: right;\n",
       "    }\n",
       "</style>\n",
       "<table border=\"1\" class=\"dataframe\">\n",
       "  <thead>\n",
       "    <tr style=\"text-align: right;\">\n",
       "      <th></th>\n",
       "      <th>id_challenge</th>\n",
       "      <th>tipo_de_challenge</th>\n",
       "      <th>resultado</th>\n",
       "      <th>fecha_inicio</th>\n",
       "      <th>fecha_fin</th>\n",
       "      <th>pais_destinatario</th>\n",
       "    </tr>\n",
       "  </thead>\n",
       "  <tbody>\n",
       "    <tr>\n",
       "      <th>0</th>\n",
       "      <td>2021-84</td>\n",
       "      <td>Donacion</td>\n",
       "      <td>discontinuado</td>\n",
       "      <td>2021-01-01 10:30:00</td>\n",
       "      <td>2021-01-22 10:30:00</td>\n",
       "      <td>BELARUS</td>\n",
       "    </tr>\n",
       "    <tr>\n",
       "      <th>1</th>\n",
       "      <td>2021-86</td>\n",
       "      <td>Presencial</td>\n",
       "      <td>discontinuado</td>\n",
       "      <td>2021-01-01 10:30:00</td>\n",
       "      <td>2021-01-23 10:30:00</td>\n",
       "      <td>IRELAND</td>\n",
       "    </tr>\n",
       "    <tr>\n",
       "      <th>2</th>\n",
       "      <td>2021-90</td>\n",
       "      <td>Presencial</td>\n",
       "      <td>discontinuado</td>\n",
       "      <td>2021-01-01 10:30:00</td>\n",
       "      <td>2021-01-23 10:30:00</td>\n",
       "      <td>UNITED STATES</td>\n",
       "    </tr>\n",
       "    <tr>\n",
       "      <th>3</th>\n",
       "      <td>2021-89</td>\n",
       "      <td>Presencial</td>\n",
       "      <td>discontinuado</td>\n",
       "      <td>2021-01-01 10:30:00</td>\n",
       "      <td>2021-01-24 10:30:00</td>\n",
       "      <td>ECUADOR</td>\n",
       "    </tr>\n",
       "    <tr>\n",
       "      <th>4</th>\n",
       "      <td>2021-85</td>\n",
       "      <td>Donacion</td>\n",
       "      <td>exitoso</td>\n",
       "      <td>2021-01-01 10:30:00</td>\n",
       "      <td>NaT</td>\n",
       "      <td>HUNGARY</td>\n",
       "    </tr>\n",
       "  </tbody>\n",
       "</table>\n",
       "</div>"
      ],
      "text/plain": [
       "  id_challenge tipo_de_challenge      resultado        fecha_inicio  \\\n",
       "0      2021-84          Donacion  discontinuado 2021-01-01 10:30:00   \n",
       "1      2021-86        Presencial  discontinuado 2021-01-01 10:30:00   \n",
       "2      2021-90        Presencial  discontinuado 2021-01-01 10:30:00   \n",
       "3      2021-89        Presencial  discontinuado 2021-01-01 10:30:00   \n",
       "4      2021-85          Donacion        exitoso 2021-01-01 10:30:00   \n",
       "\n",
       "            fecha_fin pais_destinatario  \n",
       "0 2021-01-22 10:30:00           BELARUS  \n",
       "1 2021-01-23 10:30:00           IRELAND  \n",
       "2 2021-01-23 10:30:00     UNITED STATES  \n",
       "3 2021-01-24 10:30:00           ECUADOR  \n",
       "4                 NaT           HUNGARY  "
      ]
     },
     "execution_count": 15,
     "metadata": {},
     "output_type": "execute_result"
    }
   ],
   "source": [
    "resultados2021 = resultados2021.sort_values(by='fecha_inicio', ascending=True)\n",
    "resultados2021 = resultados2021.reset_index(drop=True)\n",
    "resultados2021.head()"
   ]
  },
  {
   "cell_type": "code",
   "execution_count": 16,
   "metadata": {},
   "outputs": [],
   "source": [
    "resultados2021['fecha_inicio'] = pd.to_datetime(resultados2021['fecha_inicio'])"
   ]
  },
  {
   "cell_type": "code",
   "execution_count": 17,
   "metadata": {},
   "outputs": [
    {
     "data": {
      "text/html": [
       "<div>\n",
       "<style scoped>\n",
       "    .dataframe tbody tr th:only-of-type {\n",
       "        vertical-align: middle;\n",
       "    }\n",
       "\n",
       "    .dataframe tbody tr th {\n",
       "        vertical-align: top;\n",
       "    }\n",
       "\n",
       "    .dataframe thead th {\n",
       "        text-align: right;\n",
       "    }\n",
       "</style>\n",
       "<table border=\"1\" class=\"dataframe\">\n",
       "  <thead>\n",
       "    <tr style=\"text-align: right;\">\n",
       "      <th></th>\n",
       "      <th>id_challenge</th>\n",
       "      <th>tipo_de_challenge</th>\n",
       "      <th>resultado</th>\n",
       "      <th>fecha_inicio</th>\n",
       "      <th>fecha_fin</th>\n",
       "      <th>pais_destinatario</th>\n",
       "    </tr>\n",
       "  </thead>\n",
       "  <tbody>\n",
       "    <tr>\n",
       "      <th>0</th>\n",
       "      <td>2021-84</td>\n",
       "      <td>Donacion</td>\n",
       "      <td>discontinuado</td>\n",
       "      <td>2021-01-01 10:30:00</td>\n",
       "      <td>2021-01-22 10:30:00</td>\n",
       "      <td>BELARUS</td>\n",
       "    </tr>\n",
       "    <tr>\n",
       "      <th>1</th>\n",
       "      <td>2021-86</td>\n",
       "      <td>Presencial</td>\n",
       "      <td>discontinuado</td>\n",
       "      <td>2021-01-01 10:30:00</td>\n",
       "      <td>2021-01-23 10:30:00</td>\n",
       "      <td>IRELAND</td>\n",
       "    </tr>\n",
       "    <tr>\n",
       "      <th>2</th>\n",
       "      <td>2021-90</td>\n",
       "      <td>Presencial</td>\n",
       "      <td>discontinuado</td>\n",
       "      <td>2021-01-01 10:30:00</td>\n",
       "      <td>2021-01-23 10:30:00</td>\n",
       "      <td>UNITED STATES</td>\n",
       "    </tr>\n",
       "    <tr>\n",
       "      <th>3</th>\n",
       "      <td>2021-89</td>\n",
       "      <td>Presencial</td>\n",
       "      <td>discontinuado</td>\n",
       "      <td>2021-01-01 10:30:00</td>\n",
       "      <td>2021-01-24 10:30:00</td>\n",
       "      <td>ECUADOR</td>\n",
       "    </tr>\n",
       "    <tr>\n",
       "      <th>4</th>\n",
       "      <td>2021-85</td>\n",
       "      <td>Donacion</td>\n",
       "      <td>exitoso</td>\n",
       "      <td>2021-01-01 10:30:00</td>\n",
       "      <td>NaT</td>\n",
       "      <td>HUNGARY</td>\n",
       "    </tr>\n",
       "    <tr>\n",
       "      <th>...</th>\n",
       "      <td>...</td>\n",
       "      <td>...</td>\n",
       "      <td>...</td>\n",
       "      <td>...</td>\n",
       "      <td>...</td>\n",
       "      <td>...</td>\n",
       "    </tr>\n",
       "    <tr>\n",
       "      <th>368</th>\n",
       "      <td>2021-452</td>\n",
       "      <td>Presencial</td>\n",
       "      <td>exitoso</td>\n",
       "      <td>2021-12-28 10:30:00</td>\n",
       "      <td>NaT</td>\n",
       "      <td>SLOVENIA</td>\n",
       "    </tr>\n",
       "    <tr>\n",
       "      <th>369</th>\n",
       "      <td>2021-453</td>\n",
       "      <td>Donacion</td>\n",
       "      <td>discontinuado</td>\n",
       "      <td>2021-12-29 10:30:00</td>\n",
       "      <td>2022-01-14 10:30:00</td>\n",
       "      <td>BELARUS</td>\n",
       "    </tr>\n",
       "    <tr>\n",
       "      <th>370</th>\n",
       "      <td>2021-455</td>\n",
       "      <td>Donacion</td>\n",
       "      <td>discontinuado</td>\n",
       "      <td>2021-12-30 10:30:00</td>\n",
       "      <td>2022-01-25 10:30:00</td>\n",
       "      <td>SPAIN</td>\n",
       "    </tr>\n",
       "    <tr>\n",
       "      <th>371</th>\n",
       "      <td>2021-454</td>\n",
       "      <td>Traductor</td>\n",
       "      <td>exitoso</td>\n",
       "      <td>2021-12-30 10:30:00</td>\n",
       "      <td>2022-01-13 10:30:00</td>\n",
       "      <td>BRAZIL</td>\n",
       "    </tr>\n",
       "    <tr>\n",
       "      <th>372</th>\n",
       "      <td>2021-456</td>\n",
       "      <td>Donacion</td>\n",
       "      <td>exitoso</td>\n",
       "      <td>2021-12-30 10:30:00</td>\n",
       "      <td>NaT</td>\n",
       "      <td>BELGIUM</td>\n",
       "    </tr>\n",
       "  </tbody>\n",
       "</table>\n",
       "<p>373 rows × 6 columns</p>\n",
       "</div>"
      ],
      "text/plain": [
       "    id_challenge tipo_de_challenge      resultado        fecha_inicio  \\\n",
       "0        2021-84          Donacion  discontinuado 2021-01-01 10:30:00   \n",
       "1        2021-86        Presencial  discontinuado 2021-01-01 10:30:00   \n",
       "2        2021-90        Presencial  discontinuado 2021-01-01 10:30:00   \n",
       "3        2021-89        Presencial  discontinuado 2021-01-01 10:30:00   \n",
       "4        2021-85          Donacion        exitoso 2021-01-01 10:30:00   \n",
       "..           ...               ...            ...                 ...   \n",
       "368     2021-452        Presencial        exitoso 2021-12-28 10:30:00   \n",
       "369     2021-453          Donacion  discontinuado 2021-12-29 10:30:00   \n",
       "370     2021-455          Donacion  discontinuado 2021-12-30 10:30:00   \n",
       "371     2021-454         Traductor        exitoso 2021-12-30 10:30:00   \n",
       "372     2021-456          Donacion        exitoso 2021-12-30 10:30:00   \n",
       "\n",
       "              fecha_fin pais_destinatario  \n",
       "0   2021-01-22 10:30:00           BELARUS  \n",
       "1   2021-01-23 10:30:00           IRELAND  \n",
       "2   2021-01-23 10:30:00     UNITED STATES  \n",
       "3   2021-01-24 10:30:00           ECUADOR  \n",
       "4                   NaT           HUNGARY  \n",
       "..                  ...               ...  \n",
       "368                 NaT          SLOVENIA  \n",
       "369 2022-01-14 10:30:00           BELARUS  \n",
       "370 2022-01-25 10:30:00             SPAIN  \n",
       "371 2022-01-13 10:30:00            BRAZIL  \n",
       "372                 NaT           BELGIUM  \n",
       "\n",
       "[373 rows x 6 columns]"
      ]
     },
     "execution_count": 17,
     "metadata": {},
     "output_type": "execute_result"
    }
   ],
   "source": [
    "resultados2021"
   ]
  },
  {
   "cell_type": "code",
   "execution_count": 18,
   "metadata": {},
   "outputs": [],
   "source": [
    "terminados = resultados2021.loc[(resultados2021['resultado']!='en curso')]"
   ]
  },
  {
   "cell_type": "code",
   "execution_count": 19,
   "metadata": {},
   "outputs": [
    {
     "data": {
      "text/html": [
       "<div>\n",
       "<style scoped>\n",
       "    .dataframe tbody tr th:only-of-type {\n",
       "        vertical-align: middle;\n",
       "    }\n",
       "\n",
       "    .dataframe tbody tr th {\n",
       "        vertical-align: top;\n",
       "    }\n",
       "\n",
       "    .dataframe thead th {\n",
       "        text-align: right;\n",
       "    }\n",
       "</style>\n",
       "<table border=\"1\" class=\"dataframe\">\n",
       "  <thead>\n",
       "    <tr style=\"text-align: right;\">\n",
       "      <th></th>\n",
       "      <th>id_challenge</th>\n",
       "      <th>tipo_de_challenge</th>\n",
       "      <th>resultado</th>\n",
       "      <th>fecha_inicio</th>\n",
       "      <th>fecha_fin</th>\n",
       "      <th>pais_destinatario</th>\n",
       "    </tr>\n",
       "  </thead>\n",
       "  <tbody>\n",
       "    <tr>\n",
       "      <th>0</th>\n",
       "      <td>2021-84</td>\n",
       "      <td>Donacion</td>\n",
       "      <td>discontinuado</td>\n",
       "      <td>2021-01-01 10:30:00</td>\n",
       "      <td>2021-01-22 10:30:00</td>\n",
       "      <td>BELARUS</td>\n",
       "    </tr>\n",
       "    <tr>\n",
       "      <th>1</th>\n",
       "      <td>2021-86</td>\n",
       "      <td>Presencial</td>\n",
       "      <td>discontinuado</td>\n",
       "      <td>2021-01-01 10:30:00</td>\n",
       "      <td>2021-01-23 10:30:00</td>\n",
       "      <td>IRELAND</td>\n",
       "    </tr>\n",
       "    <tr>\n",
       "      <th>2</th>\n",
       "      <td>2021-90</td>\n",
       "      <td>Presencial</td>\n",
       "      <td>discontinuado</td>\n",
       "      <td>2021-01-01 10:30:00</td>\n",
       "      <td>2021-01-23 10:30:00</td>\n",
       "      <td>UNITED STATES</td>\n",
       "    </tr>\n",
       "    <tr>\n",
       "      <th>3</th>\n",
       "      <td>2021-89</td>\n",
       "      <td>Presencial</td>\n",
       "      <td>discontinuado</td>\n",
       "      <td>2021-01-01 10:30:00</td>\n",
       "      <td>2021-01-24 10:30:00</td>\n",
       "      <td>ECUADOR</td>\n",
       "    </tr>\n",
       "    <tr>\n",
       "      <th>4</th>\n",
       "      <td>2021-85</td>\n",
       "      <td>Donacion</td>\n",
       "      <td>exitoso</td>\n",
       "      <td>2021-01-01 10:30:00</td>\n",
       "      <td>NaT</td>\n",
       "      <td>HUNGARY</td>\n",
       "    </tr>\n",
       "  </tbody>\n",
       "</table>\n",
       "</div>"
      ],
      "text/plain": [
       "  id_challenge tipo_de_challenge      resultado        fecha_inicio  \\\n",
       "0      2021-84          Donacion  discontinuado 2021-01-01 10:30:00   \n",
       "1      2021-86        Presencial  discontinuado 2021-01-01 10:30:00   \n",
       "2      2021-90        Presencial  discontinuado 2021-01-01 10:30:00   \n",
       "3      2021-89        Presencial  discontinuado 2021-01-01 10:30:00   \n",
       "4      2021-85          Donacion        exitoso 2021-01-01 10:30:00   \n",
       "\n",
       "            fecha_fin pais_destinatario  \n",
       "0 2021-01-22 10:30:00           BELARUS  \n",
       "1 2021-01-23 10:30:00           IRELAND  \n",
       "2 2021-01-23 10:30:00     UNITED STATES  \n",
       "3 2021-01-24 10:30:00           ECUADOR  \n",
       "4                 NaT           HUNGARY  "
      ]
     },
     "execution_count": 19,
     "metadata": {},
     "output_type": "execute_result"
    }
   ],
   "source": [
    "terminados.head(5)"
   ]
  },
  {
   "cell_type": "code",
   "execution_count": 20,
   "metadata": {},
   "outputs": [
    {
     "data": {
      "text/html": [
       "<div>\n",
       "<style scoped>\n",
       "    .dataframe tbody tr th:only-of-type {\n",
       "        vertical-align: middle;\n",
       "    }\n",
       "\n",
       "    .dataframe tbody tr th {\n",
       "        vertical-align: top;\n",
       "    }\n",
       "\n",
       "    .dataframe thead th {\n",
       "        text-align: right;\n",
       "    }\n",
       "</style>\n",
       "<table border=\"1\" class=\"dataframe\">\n",
       "  <thead>\n",
       "    <tr style=\"text-align: right;\">\n",
       "      <th></th>\n",
       "      <th>id_challenge</th>\n",
       "      <th>tipo_de_challenge</th>\n",
       "      <th>resultado</th>\n",
       "      <th>fecha_inicio</th>\n",
       "      <th>fecha_fin</th>\n",
       "      <th>pais_destinatario</th>\n",
       "    </tr>\n",
       "  </thead>\n",
       "  <tbody>\n",
       "    <tr>\n",
       "      <th>0</th>\n",
       "      <td>2021-84</td>\n",
       "      <td>Donacion</td>\n",
       "      <td>discontinuado</td>\n",
       "      <td>2021-01-01 10:30:00</td>\n",
       "      <td>2021-01-22 10:30:00</td>\n",
       "      <td>BELARUS</td>\n",
       "    </tr>\n",
       "    <tr>\n",
       "      <th>1</th>\n",
       "      <td>2021-86</td>\n",
       "      <td>Presencial</td>\n",
       "      <td>discontinuado</td>\n",
       "      <td>2021-01-01 10:30:00</td>\n",
       "      <td>2021-01-23 10:30:00</td>\n",
       "      <td>IRELAND</td>\n",
       "    </tr>\n",
       "    <tr>\n",
       "      <th>2</th>\n",
       "      <td>2021-90</td>\n",
       "      <td>Presencial</td>\n",
       "      <td>discontinuado</td>\n",
       "      <td>2021-01-01 10:30:00</td>\n",
       "      <td>2021-01-23 10:30:00</td>\n",
       "      <td>UNITED STATES</td>\n",
       "    </tr>\n",
       "    <tr>\n",
       "      <th>3</th>\n",
       "      <td>2021-89</td>\n",
       "      <td>Presencial</td>\n",
       "      <td>discontinuado</td>\n",
       "      <td>2021-01-01 10:30:00</td>\n",
       "      <td>2021-01-24 10:30:00</td>\n",
       "      <td>ECUADOR</td>\n",
       "    </tr>\n",
       "    <tr>\n",
       "      <th>4</th>\n",
       "      <td>2021-85</td>\n",
       "      <td>Donacion</td>\n",
       "      <td>exitoso</td>\n",
       "      <td>2021-01-01 10:30:00</td>\n",
       "      <td>NaT</td>\n",
       "      <td>HUNGARY</td>\n",
       "    </tr>\n",
       "    <tr>\n",
       "      <th>...</th>\n",
       "      <td>...</td>\n",
       "      <td>...</td>\n",
       "      <td>...</td>\n",
       "      <td>...</td>\n",
       "      <td>...</td>\n",
       "      <td>...</td>\n",
       "    </tr>\n",
       "    <tr>\n",
       "      <th>368</th>\n",
       "      <td>2021-452</td>\n",
       "      <td>Presencial</td>\n",
       "      <td>exitoso</td>\n",
       "      <td>2021-12-28 10:30:00</td>\n",
       "      <td>NaT</td>\n",
       "      <td>SLOVENIA</td>\n",
       "    </tr>\n",
       "    <tr>\n",
       "      <th>369</th>\n",
       "      <td>2021-453</td>\n",
       "      <td>Donacion</td>\n",
       "      <td>discontinuado</td>\n",
       "      <td>2021-12-29 10:30:00</td>\n",
       "      <td>2022-01-14 10:30:00</td>\n",
       "      <td>BELARUS</td>\n",
       "    </tr>\n",
       "    <tr>\n",
       "      <th>370</th>\n",
       "      <td>2021-455</td>\n",
       "      <td>Donacion</td>\n",
       "      <td>discontinuado</td>\n",
       "      <td>2021-12-30 10:30:00</td>\n",
       "      <td>2022-01-25 10:30:00</td>\n",
       "      <td>SPAIN</td>\n",
       "    </tr>\n",
       "    <tr>\n",
       "      <th>371</th>\n",
       "      <td>2021-454</td>\n",
       "      <td>Traductor</td>\n",
       "      <td>exitoso</td>\n",
       "      <td>2021-12-30 10:30:00</td>\n",
       "      <td>2022-01-13 10:30:00</td>\n",
       "      <td>BRAZIL</td>\n",
       "    </tr>\n",
       "    <tr>\n",
       "      <th>372</th>\n",
       "      <td>2021-456</td>\n",
       "      <td>Donacion</td>\n",
       "      <td>exitoso</td>\n",
       "      <td>2021-12-30 10:30:00</td>\n",
       "      <td>NaT</td>\n",
       "      <td>BELGIUM</td>\n",
       "    </tr>\n",
       "  </tbody>\n",
       "</table>\n",
       "<p>373 rows × 6 columns</p>\n",
       "</div>"
      ],
      "text/plain": [
       "    id_challenge tipo_de_challenge      resultado        fecha_inicio  \\\n",
       "0        2021-84          Donacion  discontinuado 2021-01-01 10:30:00   \n",
       "1        2021-86        Presencial  discontinuado 2021-01-01 10:30:00   \n",
       "2        2021-90        Presencial  discontinuado 2021-01-01 10:30:00   \n",
       "3        2021-89        Presencial  discontinuado 2021-01-01 10:30:00   \n",
       "4        2021-85          Donacion        exitoso 2021-01-01 10:30:00   \n",
       "..           ...               ...            ...                 ...   \n",
       "368     2021-452        Presencial        exitoso 2021-12-28 10:30:00   \n",
       "369     2021-453          Donacion  discontinuado 2021-12-29 10:30:00   \n",
       "370     2021-455          Donacion  discontinuado 2021-12-30 10:30:00   \n",
       "371     2021-454         Traductor        exitoso 2021-12-30 10:30:00   \n",
       "372     2021-456          Donacion        exitoso 2021-12-30 10:30:00   \n",
       "\n",
       "              fecha_fin pais_destinatario  \n",
       "0   2021-01-22 10:30:00           BELARUS  \n",
       "1   2021-01-23 10:30:00           IRELAND  \n",
       "2   2021-01-23 10:30:00     UNITED STATES  \n",
       "3   2021-01-24 10:30:00           ECUADOR  \n",
       "4                   NaT           HUNGARY  \n",
       "..                  ...               ...  \n",
       "368                 NaT          SLOVENIA  \n",
       "369 2022-01-14 10:30:00           BELARUS  \n",
       "370 2022-01-25 10:30:00             SPAIN  \n",
       "371 2022-01-13 10:30:00            BRAZIL  \n",
       "372                 NaT           BELGIUM  \n",
       "\n",
       "[373 rows x 6 columns]"
      ]
     },
     "execution_count": 20,
     "metadata": {},
     "output_type": "execute_result"
    }
   ],
   "source": [
    "terminados = terminados.reset_index(drop=True)\n",
    "terminados"
   ]
  },
  {
   "cell_type": "code",
   "execution_count": 21,
   "metadata": {},
   "outputs": [
    {
     "name": "stdout",
     "output_type": "stream",
     "text": [
      "<class 'pandas.core.frame.DataFrame'>\n",
      "RangeIndex: 373 entries, 0 to 372\n",
      "Data columns (total 6 columns):\n",
      " #   Column             Non-Null Count  Dtype         \n",
      "---  ------             --------------  -----         \n",
      " 0   id_challenge       373 non-null    object        \n",
      " 1   tipo_de_challenge  373 non-null    object        \n",
      " 2   resultado          373 non-null    object        \n",
      " 3   fecha_inicio       373 non-null    datetime64[ns]\n",
      " 4   fecha_fin          263 non-null    datetime64[ns]\n",
      " 5   pais_destinatario  373 non-null    object        \n",
      "dtypes: datetime64[ns](2), object(4)\n",
      "memory usage: 17.6+ KB\n"
     ]
    }
   ],
   "source": [
    "terminados.info()"
   ]
  },
  {
   "cell_type": "code",
   "execution_count": 22,
   "metadata": {},
   "outputs": [],
   "source": [
    "df_terminados = terminados.groupby(pd.Grouper(key='fecha_inicio', freq='M'))['resultado'].value_counts()"
   ]
  },
  {
   "cell_type": "code",
   "execution_count": 23,
   "metadata": {},
   "outputs": [
    {
     "data": {
      "text/plain": [
       "fecha_inicio  resultado    \n",
       "2021-01-31    discontinuado    12\n",
       "              exitoso          12\n",
       "2021-02-28    discontinuado    24\n",
       "              exitoso           5\n",
       "2021-03-31    discontinuado    13\n",
       "              exitoso           9\n",
       "2021-04-30    discontinuado    22\n",
       "              exitoso           6\n",
       "2021-05-31    discontinuado    11\n",
       "              exitoso          11\n",
       "2021-06-30    discontinuado    22\n",
       "              exitoso           9\n",
       "2021-07-31    discontinuado    25\n",
       "              exitoso           9\n",
       "2021-08-31    exitoso          21\n",
       "              discontinuado    16\n",
       "2021-09-30    discontinuado    22\n",
       "              exitoso          18\n",
       "2021-10-31    discontinuado    21\n",
       "              exitoso          14\n",
       "2021-11-30    exitoso          25\n",
       "              discontinuado     7\n",
       "2021-12-31    exitoso          22\n",
       "              discontinuado    17\n",
       "Name: resultado, dtype: int64"
      ]
     },
     "execution_count": 23,
     "metadata": {},
     "output_type": "execute_result"
    }
   ],
   "source": [
    "df_terminados "
   ]
  },
  {
   "cell_type": "code",
   "execution_count": 24,
   "metadata": {},
   "outputs": [],
   "source": [
    "por_mes = df_terminados.to_frame().rename(columns={'resultado' : 'conteo'}).reset_index()"
   ]
  },
  {
   "cell_type": "code",
   "execution_count": 25,
   "metadata": {},
   "outputs": [],
   "source": [
    "exitosos_por_mes = por_mes[por_mes['resultado'] == 'exitoso'].reset_index(drop = True).copy()\n",
    "discontinuados_por_mes = por_mes[por_mes['resultado'] == 'discontinuado'].reset_index(drop = True).copy()"
   ]
  },
  {
   "cell_type": "code",
   "execution_count": 26,
   "metadata": {},
   "outputs": [
    {
     "data": {
      "text/html": [
       "<div>\n",
       "<style scoped>\n",
       "    .dataframe tbody tr th:only-of-type {\n",
       "        vertical-align: middle;\n",
       "    }\n",
       "\n",
       "    .dataframe tbody tr th {\n",
       "        vertical-align: top;\n",
       "    }\n",
       "\n",
       "    .dataframe thead th {\n",
       "        text-align: right;\n",
       "    }\n",
       "</style>\n",
       "<table border=\"1\" class=\"dataframe\">\n",
       "  <thead>\n",
       "    <tr style=\"text-align: right;\">\n",
       "      <th></th>\n",
       "      <th>fecha_inicio</th>\n",
       "      <th>resultado</th>\n",
       "      <th>conteo</th>\n",
       "    </tr>\n",
       "  </thead>\n",
       "  <tbody>\n",
       "    <tr>\n",
       "      <th>0</th>\n",
       "      <td>2021-01-31</td>\n",
       "      <td>exitoso</td>\n",
       "      <td>12</td>\n",
       "    </tr>\n",
       "    <tr>\n",
       "      <th>1</th>\n",
       "      <td>2021-02-28</td>\n",
       "      <td>exitoso</td>\n",
       "      <td>5</td>\n",
       "    </tr>\n",
       "    <tr>\n",
       "      <th>2</th>\n",
       "      <td>2021-03-31</td>\n",
       "      <td>exitoso</td>\n",
       "      <td>9</td>\n",
       "    </tr>\n",
       "    <tr>\n",
       "      <th>3</th>\n",
       "      <td>2021-04-30</td>\n",
       "      <td>exitoso</td>\n",
       "      <td>6</td>\n",
       "    </tr>\n",
       "    <tr>\n",
       "      <th>4</th>\n",
       "      <td>2021-05-31</td>\n",
       "      <td>exitoso</td>\n",
       "      <td>11</td>\n",
       "    </tr>\n",
       "    <tr>\n",
       "      <th>5</th>\n",
       "      <td>2021-06-30</td>\n",
       "      <td>exitoso</td>\n",
       "      <td>9</td>\n",
       "    </tr>\n",
       "    <tr>\n",
       "      <th>6</th>\n",
       "      <td>2021-07-31</td>\n",
       "      <td>exitoso</td>\n",
       "      <td>9</td>\n",
       "    </tr>\n",
       "    <tr>\n",
       "      <th>7</th>\n",
       "      <td>2021-08-31</td>\n",
       "      <td>exitoso</td>\n",
       "      <td>21</td>\n",
       "    </tr>\n",
       "    <tr>\n",
       "      <th>8</th>\n",
       "      <td>2021-09-30</td>\n",
       "      <td>exitoso</td>\n",
       "      <td>18</td>\n",
       "    </tr>\n",
       "    <tr>\n",
       "      <th>9</th>\n",
       "      <td>2021-10-31</td>\n",
       "      <td>exitoso</td>\n",
       "      <td>14</td>\n",
       "    </tr>\n",
       "    <tr>\n",
       "      <th>10</th>\n",
       "      <td>2021-11-30</td>\n",
       "      <td>exitoso</td>\n",
       "      <td>25</td>\n",
       "    </tr>\n",
       "    <tr>\n",
       "      <th>11</th>\n",
       "      <td>2021-12-31</td>\n",
       "      <td>exitoso</td>\n",
       "      <td>22</td>\n",
       "    </tr>\n",
       "  </tbody>\n",
       "</table>\n",
       "</div>"
      ],
      "text/plain": [
       "   fecha_inicio resultado  conteo\n",
       "0    2021-01-31   exitoso      12\n",
       "1    2021-02-28   exitoso       5\n",
       "2    2021-03-31   exitoso       9\n",
       "3    2021-04-30   exitoso       6\n",
       "4    2021-05-31   exitoso      11\n",
       "5    2021-06-30   exitoso       9\n",
       "6    2021-07-31   exitoso       9\n",
       "7    2021-08-31   exitoso      21\n",
       "8    2021-09-30   exitoso      18\n",
       "9    2021-10-31   exitoso      14\n",
       "10   2021-11-30   exitoso      25\n",
       "11   2021-12-31   exitoso      22"
      ]
     },
     "execution_count": 26,
     "metadata": {},
     "output_type": "execute_result"
    }
   ],
   "source": [
    "exitosos_por_mes"
   ]
  },
  {
   "cell_type": "code",
   "execution_count": 27,
   "metadata": {},
   "outputs": [],
   "source": [
    "exitosos_por_mes['cambio_porcentual'] = exitosos_por_mes['conteo'].pct_change()"
   ]
  },
  {
   "cell_type": "code",
   "execution_count": 28,
   "metadata": {},
   "outputs": [
    {
     "data": {
      "text/plain": [
       "216.8816738816739"
      ]
     },
     "execution_count": 28,
     "metadata": {},
     "output_type": "execute_result"
    }
   ],
   "source": [
    "exitosos_prct_acum = exitosos_por_mes['cambio_porcentual'].sum()\n",
    "exitosos_prct_acum *100"
   ]
  },
  {
   "cell_type": "code",
   "execution_count": 29,
   "metadata": {},
   "outputs": [],
   "source": [
    "#exitosos_por_mes = exitosos_por_mes.fillna(0.0)"
   ]
  },
  {
   "cell_type": "code",
   "execution_count": 30,
   "metadata": {},
   "outputs": [],
   "source": [
    "#discontinuados_por_mes = discontinuados_por_mes.fillna(0.0)"
   ]
  },
  {
   "cell_type": "code",
   "execution_count": 31,
   "metadata": {},
   "outputs": [],
   "source": [
    "porcentaje = (resultados2021['resultado'].value_counts() / len(resultados2021) * 100).round(1)"
   ]
  },
  {
   "cell_type": "code",
   "execution_count": 32,
   "metadata": {},
   "outputs": [
    {
     "data": {
      "text/plain": [
       "discontinuado    56.8\n",
       "exitoso          43.2\n",
       "Name: resultado, dtype: float64"
      ]
     },
     "execution_count": 32,
     "metadata": {},
     "output_type": "execute_result"
    }
   ],
   "source": [
    "porcentaje"
   ]
  },
  {
   "cell_type": "code",
   "execution_count": 33,
   "metadata": {},
   "outputs": [],
   "source": [
    "labels = ['discontinuado', 'exitoso']\n",
    "colors = sns.color_palette('pastel')[0:2]"
   ]
  },
  {
   "cell_type": "markdown",
   "metadata": {},
   "source": [
    "## Porcentaje de challenges cumplidos por año"
   ]
  },
  {
   "cell_type": "code",
   "execution_count": 34,
   "metadata": {},
   "outputs": [
    {
     "data": {
      "image/png": "[encoded data removed]",
      "text/plain": [
       "<Figure size 640x480 with 1 Axes>"
      ]
     },
     "metadata": {},
     "output_type": "display_data"
    }
   ],
   "source": [
    "plt.pie(porcentaje, labels = labels, colors = colors, autopct='%.0f%%')\n",
    "plt.title('Porcentaje de cumplimiento de challenges en 2021')\n",
    "plt.show()"
   ]
  },
  {
   "cell_type": "code",
   "execution_count": 35,
   "metadata": {},
   "outputs": [
    {
     "data": {
      "text/html": [
       "<div>\n",
       "<style scoped>\n",
       "    .dataframe tbody tr th:only-of-type {\n",
       "        vertical-align: middle;\n",
       "    }\n",
       "\n",
       "    .dataframe tbody tr th {\n",
       "        vertical-align: top;\n",
       "    }\n",
       "\n",
       "    .dataframe thead th {\n",
       "        text-align: right;\n",
       "    }\n",
       "</style>\n",
       "<table border=\"1\" class=\"dataframe\">\n",
       "  <thead>\n",
       "    <tr style=\"text-align: right;\">\n",
       "      <th></th>\n",
       "      <th>fecha_inicio</th>\n",
       "      <th>resultado</th>\n",
       "      <th>conteo</th>\n",
       "      <th>cambio_porcentual</th>\n",
       "    </tr>\n",
       "  </thead>\n",
       "  <tbody>\n",
       "    <tr>\n",
       "      <th>0</th>\n",
       "      <td>2021-01-31</td>\n",
       "      <td>exitoso</td>\n",
       "      <td>12</td>\n",
       "      <td>NaN</td>\n",
       "    </tr>\n",
       "    <tr>\n",
       "      <th>1</th>\n",
       "      <td>2021-02-28</td>\n",
       "      <td>exitoso</td>\n",
       "      <td>5</td>\n",
       "      <td>-0.583333</td>\n",
       "    </tr>\n",
       "    <tr>\n",
       "      <th>2</th>\n",
       "      <td>2021-03-31</td>\n",
       "      <td>exitoso</td>\n",
       "      <td>9</td>\n",
       "      <td>0.800000</td>\n",
       "    </tr>\n",
       "    <tr>\n",
       "      <th>3</th>\n",
       "      <td>2021-04-30</td>\n",
       "      <td>exitoso</td>\n",
       "      <td>6</td>\n",
       "      <td>-0.333333</td>\n",
       "    </tr>\n",
       "    <tr>\n",
       "      <th>4</th>\n",
       "      <td>2021-05-31</td>\n",
       "      <td>exitoso</td>\n",
       "      <td>11</td>\n",
       "      <td>0.833333</td>\n",
       "    </tr>\n",
       "    <tr>\n",
       "      <th>5</th>\n",
       "      <td>2021-06-30</td>\n",
       "      <td>exitoso</td>\n",
       "      <td>9</td>\n",
       "      <td>-0.181818</td>\n",
       "    </tr>\n",
       "    <tr>\n",
       "      <th>6</th>\n",
       "      <td>2021-07-31</td>\n",
       "      <td>exitoso</td>\n",
       "      <td>9</td>\n",
       "      <td>0.000000</td>\n",
       "    </tr>\n",
       "    <tr>\n",
       "      <th>7</th>\n",
       "      <td>2021-08-31</td>\n",
       "      <td>exitoso</td>\n",
       "      <td>21</td>\n",
       "      <td>1.333333</td>\n",
       "    </tr>\n",
       "    <tr>\n",
       "      <th>8</th>\n",
       "      <td>2021-09-30</td>\n",
       "      <td>exitoso</td>\n",
       "      <td>18</td>\n",
       "      <td>-0.142857</td>\n",
       "    </tr>\n",
       "    <tr>\n",
       "      <th>9</th>\n",
       "      <td>2021-10-31</td>\n",
       "      <td>exitoso</td>\n",
       "      <td>14</td>\n",
       "      <td>-0.222222</td>\n",
       "    </tr>\n",
       "    <tr>\n",
       "      <th>10</th>\n",
       "      <td>2021-11-30</td>\n",
       "      <td>exitoso</td>\n",
       "      <td>25</td>\n",
       "      <td>0.785714</td>\n",
       "    </tr>\n",
       "    <tr>\n",
       "      <th>11</th>\n",
       "      <td>2021-12-31</td>\n",
       "      <td>exitoso</td>\n",
       "      <td>22</td>\n",
       "      <td>-0.120000</td>\n",
       "    </tr>\n",
       "  </tbody>\n",
       "</table>\n",
       "</div>"
      ],
      "text/plain": [
       "   fecha_inicio resultado  conteo  cambio_porcentual\n",
       "0    2021-01-31   exitoso      12                NaN\n",
       "1    2021-02-28   exitoso       5          -0.583333\n",
       "2    2021-03-31   exitoso       9           0.800000\n",
       "3    2021-04-30   exitoso       6          -0.333333\n",
       "4    2021-05-31   exitoso      11           0.833333\n",
       "5    2021-06-30   exitoso       9          -0.181818\n",
       "6    2021-07-31   exitoso       9           0.000000\n",
       "7    2021-08-31   exitoso      21           1.333333\n",
       "8    2021-09-30   exitoso      18          -0.142857\n",
       "9    2021-10-31   exitoso      14          -0.222222\n",
       "10   2021-11-30   exitoso      25           0.785714\n",
       "11   2021-12-31   exitoso      22          -0.120000"
      ]
     },
     "execution_count": 35,
     "metadata": {},
     "output_type": "execute_result"
    }
   ],
   "source": [
    "exitosos_por_mes"
   ]
  },
  {
   "cell_type": "code",
   "execution_count": 36,
   "metadata": {},
   "outputs": [],
   "source": [
    "discontinuados_por_mes['cambio_porcentual'] = discontinuados_por_mes['conteo'].pct_change()"
   ]
  },
  {
   "cell_type": "code",
   "execution_count": 37,
   "metadata": {},
   "outputs": [],
   "source": [
    "cambio_prct = [ discontinuados_por_mes.fecha_inicio.dt.to_period('M').tolist(),\n",
    "                discontinuados_por_mes.cambio_porcentual.tolist(),\n",
    "               exitosos_por_mes.cambio_porcentual.tolist()]"
   ]
  },
  {
   "cell_type": "code",
   "execution_count": 38,
   "metadata": {},
   "outputs": [],
   "source": [
    "prct = pd.DataFrame({'periodo': cambio_prct[0],\n",
    "                     'cambio_prct_discontinuados':cambio_prct[1],\n",
    "                     'cambio_prct_exitosos' : cambio_prct[2]})"
   ]
  },
  {
   "cell_type": "code",
   "execution_count": 39,
   "metadata": {},
   "outputs": [],
   "source": [
    "prct2021 = prct[prct.periodo != '2022-01']"
   ]
  },
  {
   "cell_type": "code",
   "execution_count": 40,
   "metadata": {},
   "outputs": [
    {
     "data": {
      "text/html": [
       "<div>\n",
       "<style scoped>\n",
       "    .dataframe tbody tr th:only-of-type {\n",
       "        vertical-align: middle;\n",
       "    }\n",
       "\n",
       "    .dataframe tbody tr th {\n",
       "        vertical-align: top;\n",
       "    }\n",
       "\n",
       "    .dataframe thead th {\n",
       "        text-align: right;\n",
       "    }\n",
       "</style>\n",
       "<table border=\"1\" class=\"dataframe\">\n",
       "  <thead>\n",
       "    <tr style=\"text-align: right;\">\n",
       "      <th></th>\n",
       "      <th>periodo</th>\n",
       "      <th>cambio_prct_discontinuados</th>\n",
       "      <th>cambio_prct_exitosos</th>\n",
       "    </tr>\n",
       "  </thead>\n",
       "  <tbody>\n",
       "    <tr>\n",
       "      <th>0</th>\n",
       "      <td>2021-01</td>\n",
       "      <td>NaN</td>\n",
       "      <td>NaN</td>\n",
       "    </tr>\n",
       "    <tr>\n",
       "      <th>1</th>\n",
       "      <td>2021-02</td>\n",
       "      <td>1.000000</td>\n",
       "      <td>-0.583333</td>\n",
       "    </tr>\n",
       "    <tr>\n",
       "      <th>2</th>\n",
       "      <td>2021-03</td>\n",
       "      <td>-0.458333</td>\n",
       "      <td>0.800000</td>\n",
       "    </tr>\n",
       "    <tr>\n",
       "      <th>3</th>\n",
       "      <td>2021-04</td>\n",
       "      <td>0.692308</td>\n",
       "      <td>-0.333333</td>\n",
       "    </tr>\n",
       "    <tr>\n",
       "      <th>4</th>\n",
       "      <td>2021-05</td>\n",
       "      <td>-0.500000</td>\n",
       "      <td>0.833333</td>\n",
       "    </tr>\n",
       "    <tr>\n",
       "      <th>5</th>\n",
       "      <td>2021-06</td>\n",
       "      <td>1.000000</td>\n",
       "      <td>-0.181818</td>\n",
       "    </tr>\n",
       "    <tr>\n",
       "      <th>6</th>\n",
       "      <td>2021-07</td>\n",
       "      <td>0.136364</td>\n",
       "      <td>0.000000</td>\n",
       "    </tr>\n",
       "    <tr>\n",
       "      <th>7</th>\n",
       "      <td>2021-08</td>\n",
       "      <td>-0.360000</td>\n",
       "      <td>1.333333</td>\n",
       "    </tr>\n",
       "    <tr>\n",
       "      <th>8</th>\n",
       "      <td>2021-09</td>\n",
       "      <td>0.375000</td>\n",
       "      <td>-0.142857</td>\n",
       "    </tr>\n",
       "    <tr>\n",
       "      <th>9</th>\n",
       "      <td>2021-10</td>\n",
       "      <td>-0.045455</td>\n",
       "      <td>-0.222222</td>\n",
       "    </tr>\n",
       "    <tr>\n",
       "      <th>10</th>\n",
       "      <td>2021-11</td>\n",
       "      <td>-0.666667</td>\n",
       "      <td>0.785714</td>\n",
       "    </tr>\n",
       "    <tr>\n",
       "      <th>11</th>\n",
       "      <td>2021-12</td>\n",
       "      <td>1.428571</td>\n",
       "      <td>-0.120000</td>\n",
       "    </tr>\n",
       "  </tbody>\n",
       "</table>\n",
       "</div>"
      ],
      "text/plain": [
       "    periodo  cambio_prct_discontinuados  cambio_prct_exitosos\n",
       "0   2021-01                         NaN                   NaN\n",
       "1   2021-02                    1.000000             -0.583333\n",
       "2   2021-03                   -0.458333              0.800000\n",
       "3   2021-04                    0.692308             -0.333333\n",
       "4   2021-05                   -0.500000              0.833333\n",
       "5   2021-06                    1.000000             -0.181818\n",
       "6   2021-07                    0.136364              0.000000\n",
       "7   2021-08                   -0.360000              1.333333\n",
       "8   2021-09                    0.375000             -0.142857\n",
       "9   2021-10                   -0.045455             -0.222222\n",
       "10  2021-11                   -0.666667              0.785714\n",
       "11  2021-12                    1.428571             -0.120000"
      ]
     },
     "execution_count": 40,
     "metadata": {},
     "output_type": "execute_result"
    }
   ],
   "source": [
    "prct2021"
   ]
  },
  {
   "cell_type": "code",
   "execution_count": null,
   "metadata": {},
   "outputs": [],
   "source": []
  },
  {
   "cell_type": "code",
   "execution_count": 41,
   "metadata": {},
   "outputs": [
    {
     "data": {
      "image/png": "[encoded data removed]",
      "text/plain": [
       "<Figure size 640x480 with 1 Axes>"
      ]
     },
     "metadata": {},
     "output_type": "display_data"
    }
   ],
   "source": [
    "sns.lineplot(data=prct2021, palette=sns.color_palette('pastel', 2))\n",
    "plt.xlabel('Fecha de inicio')\n",
    "plt.ylabel('Variación de porcentaje')\n",
    "plt.title('Variación de porcentaje de cumplimiento de challenges 2021')\n",
    "plt.show()"
   ]
  },
  {
   "cell_type": "code",
   "execution_count": 42,
   "metadata": {},
   "outputs": [],
   "source": [
    "filtered_prct =prct2021[1:].copy()"
   ]
  },
  {
   "cell_type": "code",
   "execution_count": 43,
   "metadata": {},
   "outputs": [
    {
     "data": {
      "text/plain": [
       "Text(0.5, 1.0, 'Tasa de Cambio Porcentual 2021')"
      ]
     },
     "execution_count": 43,
     "metadata": {},
     "output_type": "execute_result"
    },
    {
     "data": {
      "image/png": "[encoded data removed]",
      "text/plain": [
       "<Figure size 640x480 with 1 Axes>"
      ]
     },
     "metadata": {},
     "output_type": "display_data"
    }
   ],
   "source": [
    "filtered_prct['acumulado_discontinuados'] = filtered_prct['cambio_prct_discontinuados'].cumsum().copy()\n",
    "filtered_prct['acumulado_exitosos'] = filtered_prct['cambio_prct_exitosos'].cumsum().copy()\n",
    "\n",
    "# Plotear gráfico de líneas\n",
    "sns.set_style(\"darkgrid\")\n",
    "sns.lineplot(data=filtered_prct[['acumulado_discontinuados', 'acumulado_exitosos']])\n",
    "plt.title('Tasa de Cambio Porcentual 2021')"
   ]
  },
  {
   "cell_type": "code",
   "execution_count": 44,
   "metadata": {},
   "outputs": [
    {
     "data": {
      "text/plain": [
       "UNITED STATES    13\n",
       "AUSTRIA          13\n",
       "ECUADOR          11\n",
       "IRAQ             11\n",
       "IRELAND          11\n",
       "SPAIN            11\n",
       "MACAO            11\n",
       "BELARUS          10\n",
       "BRAZIL           10\n",
       "CANADA           10\n",
       "Name: pais_destinatario, dtype: int64"
      ]
     },
     "execution_count": 44,
     "metadata": {},
     "output_type": "execute_result"
    }
   ],
   "source": [
    "top_ten_countries = resultados2021['pais_destinatario'].value_counts().head(10)\n",
    "top_ten_countries"
   ]
  },
  {
   "cell_type": "code",
   "execution_count": 45,
   "metadata": {},
   "outputs": [],
   "source": [
    "ten_countries = ['UNITED STATES', 'AUSTRIA', 'IRAQ', 'IRELAND', 'MACAO', 'SPAIN', 'ECUADOR', 'CHAD', 'CANADA', 'BRAZIL']"
   ]
  },
  {
   "cell_type": "code",
   "execution_count": 46,
   "metadata": {},
   "outputs": [
    {
     "data": {
      "image/png": "[encoded data removed]",
      "text/plain": [
       "<Figure size 640x480 with 1 Axes>"
      ]
     },
     "metadata": {},
     "output_type": "display_data"
    }
   ],
   "source": [
    "sns.barplot(\n",
    "    x=ten_countries,\n",
    "    y=top_ten_countries,\n",
    "    palette = sns.color_palette('pastel', 10)\n",
    ")\n",
    "plt.xticks(rotation = 40)\n",
    "plt.ylabel('País destinatario')\n",
    "plt.title('Top ten países destinatarios de challenges 2021')\n",
    "plt.show()"
   ]
  },
  {
   "cell_type": "code",
   "execution_count": 47,
   "metadata": {},
   "outputs": [],
   "source": [
    "tipoChallenge_resultado = resultados2021.groupby('tipo_de_challenge')['resultado'].value_counts().reset_index(name='total')"
   ]
  },
  {
   "cell_type": "code",
   "execution_count": 48,
   "metadata": {},
   "outputs": [
    {
     "data": {
      "text/html": [
       "<div>\n",
       "<style scoped>\n",
       "    .dataframe tbody tr th:only-of-type {\n",
       "        vertical-align: middle;\n",
       "    }\n",
       "\n",
       "    .dataframe tbody tr th {\n",
       "        vertical-align: top;\n",
       "    }\n",
       "\n",
       "    .dataframe thead th {\n",
       "        text-align: right;\n",
       "    }\n",
       "</style>\n",
       "<table border=\"1\" class=\"dataframe\">\n",
       "  <thead>\n",
       "    <tr style=\"text-align: right;\">\n",
       "      <th></th>\n",
       "      <th>tipo_de_challenge</th>\n",
       "      <th>resultado</th>\n",
       "      <th>total</th>\n",
       "    </tr>\n",
       "  </thead>\n",
       "  <tbody>\n",
       "    <tr>\n",
       "      <th>0</th>\n",
       "      <td>Abogado</td>\n",
       "      <td>exitoso</td>\n",
       "      <td>12</td>\n",
       "    </tr>\n",
       "    <tr>\n",
       "      <th>1</th>\n",
       "      <td>Donacion</td>\n",
       "      <td>discontinuado</td>\n",
       "      <td>141</td>\n",
       "    </tr>\n",
       "    <tr>\n",
       "      <th>2</th>\n",
       "      <td>Donacion</td>\n",
       "      <td>exitoso</td>\n",
       "      <td>94</td>\n",
       "    </tr>\n",
       "    <tr>\n",
       "      <th>3</th>\n",
       "      <td>Presencial</td>\n",
       "      <td>discontinuado</td>\n",
       "      <td>62</td>\n",
       "    </tr>\n",
       "    <tr>\n",
       "      <th>4</th>\n",
       "      <td>Presencial</td>\n",
       "      <td>exitoso</td>\n",
       "      <td>25</td>\n",
       "    </tr>\n",
       "    <tr>\n",
       "      <th>5</th>\n",
       "      <td>Simulacro</td>\n",
       "      <td>discontinuado</td>\n",
       "      <td>4</td>\n",
       "    </tr>\n",
       "    <tr>\n",
       "      <th>6</th>\n",
       "      <td>Simulacro</td>\n",
       "      <td>exitoso</td>\n",
       "      <td>2</td>\n",
       "    </tr>\n",
       "    <tr>\n",
       "      <th>7</th>\n",
       "      <td>Traductor</td>\n",
       "      <td>exitoso</td>\n",
       "      <td>28</td>\n",
       "    </tr>\n",
       "    <tr>\n",
       "      <th>8</th>\n",
       "      <td>Traductor</td>\n",
       "      <td>discontinuado</td>\n",
       "      <td>5</td>\n",
       "    </tr>\n",
       "  </tbody>\n",
       "</table>\n",
       "</div>"
      ],
      "text/plain": [
       "  tipo_de_challenge      resultado  total\n",
       "0           Abogado        exitoso     12\n",
       "1          Donacion  discontinuado    141\n",
       "2          Donacion        exitoso     94\n",
       "3        Presencial  discontinuado     62\n",
       "4        Presencial        exitoso     25\n",
       "5         Simulacro  discontinuado      4\n",
       "6         Simulacro        exitoso      2\n",
       "7         Traductor        exitoso     28\n",
       "8         Traductor  discontinuado      5"
      ]
     },
     "execution_count": 48,
     "metadata": {},
     "output_type": "execute_result"
    }
   ],
   "source": [
    "tipoChallenge_resultado"
   ]
  },
  {
   "cell_type": "code",
   "execution_count": 49,
   "metadata": {
    "scrolled": true
   },
   "outputs": [
    {
     "data": {
      "image/png": "[encoded data removed]",
      "text/plain": [
       "<Figure size 640x480 with 1 Axes>"
      ]
     },
     "metadata": {},
     "output_type": "display_data"
    }
   ],
   "source": [
    "sns.barplot(\n",
    "    x='tipo_de_challenge',\n",
    "    y='total',\n",
    "    hue='resultado',\n",
    "    data=tipoChallenge_resultado,\n",
    "    palette = sns.color_palette('pastel', 3)\n",
    ")\n",
    "plt.xticks(rotation = 50)\n",
    "plt.ylabel('Total')\n",
    "plt.xlabel('Tipo de challenge')\n",
    "plt.title('Resultado por tipo de challenge 2021')\n",
    "plt.show()"
   ]
  },
  {
   "cell_type": "code",
   "execution_count": 50,
   "metadata": {},
   "outputs": [
    {
     "data": {
      "text/html": [
       "<div>\n",
       "<style scoped>\n",
       "    .dataframe tbody tr th:only-of-type {\n",
       "        vertical-align: middle;\n",
       "    }\n",
       "\n",
       "    .dataframe tbody tr th {\n",
       "        vertical-align: top;\n",
       "    }\n",
       "\n",
       "    .dataframe thead th {\n",
       "        text-align: right;\n",
       "    }\n",
       "</style>\n",
       "<table border=\"1\" class=\"dataframe\">\n",
       "  <thead>\n",
       "    <tr style=\"text-align: right;\">\n",
       "      <th></th>\n",
       "      <th>paises_colab</th>\n",
       "    </tr>\n",
       "  </thead>\n",
       "  <tbody>\n",
       "    <tr>\n",
       "      <th>0</th>\n",
       "      <td>CHAD</td>\n",
       "    </tr>\n",
       "    <tr>\n",
       "      <th>1</th>\n",
       "      <td>PAPUA NEW GUINEA</td>\n",
       "    </tr>\n",
       "    <tr>\n",
       "      <th>2</th>\n",
       "      <td>HUNGARY</td>\n",
       "    </tr>\n",
       "    <tr>\n",
       "      <th>3</th>\n",
       "      <td>BELGIUM</td>\n",
       "    </tr>\n",
       "    <tr>\n",
       "      <th>4</th>\n",
       "      <td>PORTUGAL</td>\n",
       "    </tr>\n",
       "  </tbody>\n",
       "</table>\n",
       "</div>"
      ],
      "text/plain": [
       "       paises_colab\n",
       "0              CHAD\n",
       "1  PAPUA NEW GUINEA\n",
       "2           HUNGARY\n",
       "3           BELGIUM\n",
       "4          PORTUGAL"
      ]
     },
     "execution_count": 50,
     "metadata": {},
     "output_type": "execute_result"
    }
   ],
   "source": [
    "paises_colab = pd.read_csv('dataSets\\\\paises_colab.csv')\n",
    "paises_colab.head()"
   ]
  },
  {
   "cell_type": "code",
   "execution_count": 51,
   "metadata": {},
   "outputs": [
    {
     "name": "stdout",
     "output_type": "stream",
     "text": [
      "<class 'pandas.core.frame.DataFrame'>\n",
      "RangeIndex: 120 entries, 0 to 119\n",
      "Data columns (total 1 columns):\n",
      " #   Column        Non-Null Count  Dtype \n",
      "---  ------        --------------  ----- \n",
      " 0   paises_colab  120 non-null    object\n",
      "dtypes: object(1)\n",
      "memory usage: 1.1+ KB\n"
     ]
    }
   ],
   "source": [
    "paises_colab.info()"
   ]
  },
  {
   "cell_type": "code",
   "execution_count": 52,
   "metadata": {},
   "outputs": [
    {
     "data": {
      "text/plain": [
       "paises_colab        \n",
       "HUNGARY                 6\n",
       "BRAZIL                  6\n",
       "ZAMBIA                  5\n",
       "UNITED STATES           5\n",
       "SWITZERLAND             5\n",
       "SPAIN                   5\n",
       "BELGIUM                 5\n",
       "NORWAY                  4\n",
       "IRELAND                 4\n",
       "IRAQ                    4\n",
       "AFGHANISTAN             4\n",
       "COLOMBIA                4\n",
       "CHAD                    4\n",
       "ECUADOR                 3\n",
       "MALTA                   3\n",
       "AUSTRIA                 3\n",
       "CHILE                   3\n",
       "BELARUS                 3\n",
       "SLOVENIA                3\n",
       "CANADA                  3\n",
       "NEW ZEALAND             3\n",
       "NEPAL                   3\n",
       "UNITED KINGDOM          2\n",
       "SYRIAN ARAB REPUBLIC    2\n",
       "SWEDEN                  2\n",
       "JORDAN                  2\n",
       "MALAYSIA                2\n",
       "FINLAND                 2\n",
       "FRANCE                  2\n",
       "GERMANY                 2\n",
       "MACAO                   2\n",
       "SINGAPORE               1\n",
       "AUSTRALIA               1\n",
       "ISRAEL                  1\n",
       "ITALY                   1\n",
       "JAPAN                   1\n",
       "RUSSIA                  1\n",
       "PORTUGAL                1\n",
       "PERU                    1\n",
       "PAPUA NEW GUINEA        1\n",
       "PANAMA                  1\n",
       "ANGOLA                  1\n",
       "LUXEMBOURG              1\n",
       "ETHIOPIA                1\n",
       "NETHERLANDS             1\n",
       "dtype: int64"
      ]
     },
     "execution_count": 52,
     "metadata": {},
     "output_type": "execute_result"
    }
   ],
   "source": [
    "paises_colab.value_counts()"
   ]
  },
  {
   "cell_type": "code",
   "execution_count": 53,
   "metadata": {},
   "outputs": [
    {
     "data": {
      "text/plain": [
       "45"
      ]
     },
     "execution_count": 53,
     "metadata": {},
     "output_type": "execute_result"
    }
   ],
   "source": [
    "paises_colab.drop_duplicates().value_counts().sum()"
   ]
  },
  {
   "cell_type": "code",
   "execution_count": null,
   "metadata": {},
   "outputs": [],
   "source": []
  },
  {
   "cell_type": "code",
   "execution_count": null,
   "metadata": {},
   "outputs": [],
   "source": []
  },
  {
   "cell_type": "markdown",
   "metadata": {},
   "source": [
    "## Análisis trimestral de los challenges cumplidos"
   ]
  },
  {
   "cell_type": "code",
   "execution_count": 54,
   "metadata": {},
   "outputs": [
    {
     "data": {
      "text/html": [
       "<div>\n",
       "<style scoped>\n",
       "    .dataframe tbody tr th:only-of-type {\n",
       "        vertical-align: middle;\n",
       "    }\n",
       "\n",
       "    .dataframe tbody tr th {\n",
       "        vertical-align: top;\n",
       "    }\n",
       "\n",
       "    .dataframe thead th {\n",
       "        text-align: right;\n",
       "    }\n",
       "</style>\n",
       "<table border=\"1\" class=\"dataframe\">\n",
       "  <thead>\n",
       "    <tr style=\"text-align: right;\">\n",
       "      <th></th>\n",
       "      <th>id_challenge</th>\n",
       "      <th>tipo_de_challenge</th>\n",
       "      <th>resultado</th>\n",
       "      <th>fecha_inicio</th>\n",
       "      <th>fecha_fin</th>\n",
       "      <th>pais_destinatario</th>\n",
       "    </tr>\n",
       "  </thead>\n",
       "  <tbody>\n",
       "    <tr>\n",
       "      <th>0</th>\n",
       "      <td>2021-84</td>\n",
       "      <td>Donacion</td>\n",
       "      <td>discontinuado</td>\n",
       "      <td>2021-01-01 10:30:00</td>\n",
       "      <td>2021-01-22 10:30:00</td>\n",
       "      <td>BELARUS</td>\n",
       "    </tr>\n",
       "    <tr>\n",
       "      <th>1</th>\n",
       "      <td>2021-86</td>\n",
       "      <td>Presencial</td>\n",
       "      <td>discontinuado</td>\n",
       "      <td>2021-01-01 10:30:00</td>\n",
       "      <td>2021-01-23 10:30:00</td>\n",
       "      <td>IRELAND</td>\n",
       "    </tr>\n",
       "    <tr>\n",
       "      <th>2</th>\n",
       "      <td>2021-90</td>\n",
       "      <td>Presencial</td>\n",
       "      <td>discontinuado</td>\n",
       "      <td>2021-01-01 10:30:00</td>\n",
       "      <td>2021-01-23 10:30:00</td>\n",
       "      <td>UNITED STATES</td>\n",
       "    </tr>\n",
       "    <tr>\n",
       "      <th>3</th>\n",
       "      <td>2021-89</td>\n",
       "      <td>Presencial</td>\n",
       "      <td>discontinuado</td>\n",
       "      <td>2021-01-01 10:30:00</td>\n",
       "      <td>2021-01-24 10:30:00</td>\n",
       "      <td>ECUADOR</td>\n",
       "    </tr>\n",
       "    <tr>\n",
       "      <th>4</th>\n",
       "      <td>2021-85</td>\n",
       "      <td>Donacion</td>\n",
       "      <td>exitoso</td>\n",
       "      <td>2021-01-01 10:30:00</td>\n",
       "      <td>NaT</td>\n",
       "      <td>HUNGARY</td>\n",
       "    </tr>\n",
       "  </tbody>\n",
       "</table>\n",
       "</div>"
      ],
      "text/plain": [
       "  id_challenge tipo_de_challenge      resultado        fecha_inicio  \\\n",
       "0      2021-84          Donacion  discontinuado 2021-01-01 10:30:00   \n",
       "1      2021-86        Presencial  discontinuado 2021-01-01 10:30:00   \n",
       "2      2021-90        Presencial  discontinuado 2021-01-01 10:30:00   \n",
       "3      2021-89        Presencial  discontinuado 2021-01-01 10:30:00   \n",
       "4      2021-85          Donacion        exitoso 2021-01-01 10:30:00   \n",
       "\n",
       "            fecha_fin pais_destinatario  \n",
       "0 2021-01-22 10:30:00           BELARUS  \n",
       "1 2021-01-23 10:30:00           IRELAND  \n",
       "2 2021-01-23 10:30:00     UNITED STATES  \n",
       "3 2021-01-24 10:30:00           ECUADOR  \n",
       "4                 NaT           HUNGARY  "
      ]
     },
     "execution_count": 54,
     "metadata": {},
     "output_type": "execute_result"
    }
   ],
   "source": [
    "resultados2021.head()"
   ]
  },
  {
   "cell_type": "code",
   "execution_count": 55,
   "metadata": {},
   "outputs": [
    {
     "data": {
      "text/html": [
       "<div>\n",
       "<style scoped>\n",
       "    .dataframe tbody tr th:only-of-type {\n",
       "        vertical-align: middle;\n",
       "    }\n",
       "\n",
       "    .dataframe tbody tr th {\n",
       "        vertical-align: top;\n",
       "    }\n",
       "\n",
       "    .dataframe thead th {\n",
       "        text-align: right;\n",
       "    }\n",
       "</style>\n",
       "<table border=\"1\" class=\"dataframe\">\n",
       "  <thead>\n",
       "    <tr style=\"text-align: right;\">\n",
       "      <th></th>\n",
       "      <th>id_challenge</th>\n",
       "      <th>tipo_de_challenge</th>\n",
       "      <th>resultado</th>\n",
       "      <th>fecha_inicio</th>\n",
       "      <th>fecha_fin</th>\n",
       "      <th>pais_destinatario</th>\n",
       "    </tr>\n",
       "  </thead>\n",
       "  <tbody>\n",
       "    <tr>\n",
       "      <th>368</th>\n",
       "      <td>2021-452</td>\n",
       "      <td>Presencial</td>\n",
       "      <td>exitoso</td>\n",
       "      <td>2021-12-28 10:30:00</td>\n",
       "      <td>NaT</td>\n",
       "      <td>SLOVENIA</td>\n",
       "    </tr>\n",
       "    <tr>\n",
       "      <th>369</th>\n",
       "      <td>2021-453</td>\n",
       "      <td>Donacion</td>\n",
       "      <td>discontinuado</td>\n",
       "      <td>2021-12-29 10:30:00</td>\n",
       "      <td>2022-01-14 10:30:00</td>\n",
       "      <td>BELARUS</td>\n",
       "    </tr>\n",
       "    <tr>\n",
       "      <th>370</th>\n",
       "      <td>2021-455</td>\n",
       "      <td>Donacion</td>\n",
       "      <td>discontinuado</td>\n",
       "      <td>2021-12-30 10:30:00</td>\n",
       "      <td>2022-01-25 10:30:00</td>\n",
       "      <td>SPAIN</td>\n",
       "    </tr>\n",
       "    <tr>\n",
       "      <th>371</th>\n",
       "      <td>2021-454</td>\n",
       "      <td>Traductor</td>\n",
       "      <td>exitoso</td>\n",
       "      <td>2021-12-30 10:30:00</td>\n",
       "      <td>2022-01-13 10:30:00</td>\n",
       "      <td>BRAZIL</td>\n",
       "    </tr>\n",
       "    <tr>\n",
       "      <th>372</th>\n",
       "      <td>2021-456</td>\n",
       "      <td>Donacion</td>\n",
       "      <td>exitoso</td>\n",
       "      <td>2021-12-30 10:30:00</td>\n",
       "      <td>NaT</td>\n",
       "      <td>BELGIUM</td>\n",
       "    </tr>\n",
       "  </tbody>\n",
       "</table>\n",
       "</div>"
      ],
      "text/plain": [
       "    id_challenge tipo_de_challenge      resultado        fecha_inicio  \\\n",
       "368     2021-452        Presencial        exitoso 2021-12-28 10:30:00   \n",
       "369     2021-453          Donacion  discontinuado 2021-12-29 10:30:00   \n",
       "370     2021-455          Donacion  discontinuado 2021-12-30 10:30:00   \n",
       "371     2021-454         Traductor        exitoso 2021-12-30 10:30:00   \n",
       "372     2021-456          Donacion        exitoso 2021-12-30 10:30:00   \n",
       "\n",
       "              fecha_fin pais_destinatario  \n",
       "368                 NaT          SLOVENIA  \n",
       "369 2022-01-14 10:30:00           BELARUS  \n",
       "370 2022-01-25 10:30:00             SPAIN  \n",
       "371 2022-01-13 10:30:00            BRAZIL  \n",
       "372                 NaT           BELGIUM  "
      ]
     },
     "execution_count": 55,
     "metadata": {},
     "output_type": "execute_result"
    }
   ],
   "source": [
    "resultados2021.tail()"
   ]
  },
  {
   "cell_type": "markdown",
   "metadata": {},
   "source": [
    "### Veamos el porcentaje de challenges cumplidos en cada trimestre (KPI)"
   ]
  },
  {
   "cell_type": "code",
   "execution_count": 56,
   "metadata": {},
   "outputs": [],
   "source": [
    "trim1_2021 = resultados2021[resultados2021['fecha_inicio'].dt.month <= 3].copy()"
   ]
  },
  {
   "cell_type": "code",
   "execution_count": 57,
   "metadata": {},
   "outputs": [],
   "source": [
    "trim_dos2021 = resultados2021[(resultados2021['fecha_inicio'].dt.month >= 4) & (resultados2021['\\\n",
    "fecha_inicio'].dt.month <= 6)].copy()"
   ]
  },
  {
   "cell_type": "code",
   "execution_count": 58,
   "metadata": {},
   "outputs": [],
   "source": [
    "trim3_2021 = resultados2021[(resultados2021['fecha_inicio'].dt.month >= 7) & (resultados2021['\\\n",
    "fecha_inicio'].dt.month <= 9)].copy()"
   ]
  },
  {
   "cell_type": "code",
   "execution_count": 59,
   "metadata": {},
   "outputs": [],
   "source": [
    "cuarto_t2021 = resultados2021[(resultados2021['fecha_inicio'].dt.month >= 10) & (resultados2021['\\\n",
    "fecha_inicio'].dt.month <= 12)].copy()"
   ]
  },
  {
   "cell_type": "code",
   "execution_count": 60,
   "metadata": {},
   "outputs": [],
   "source": [
    "porcentaje = (trim1_2021['resultado'].value_counts() / len(trim1_2021) * 100).round(1)"
   ]
  },
  {
   "cell_type": "code",
   "execution_count": 61,
   "metadata": {},
   "outputs": [
    {
     "data": {
      "image/png": "[encoded data removed]",
      "text/plain": [
       "<Figure size 640x480 with 1 Axes>"
      ]
     },
     "metadata": {},
     "output_type": "display_data"
    }
   ],
   "source": [
    "plt.pie(porcentaje, labels = labels, colors = colors, autopct='%.1f%%')\n",
    "plt.title('Porcentaje de cumplimiento de challenges en 2021')\n",
    "plt.show()"
   ]
  },
  {
   "cell_type": "code",
   "execution_count": 62,
   "metadata": {},
   "outputs": [],
   "source": [
    "porcentaje = (trim_dos2021['resultado'].value_counts() / len(trim_dos2021) * 100).round(1)"
   ]
  },
  {
   "cell_type": "code",
   "execution_count": 63,
   "metadata": {},
   "outputs": [
    {
     "data": {
      "image/png": "[encoded data removed]",
      "text/plain": [
       "<Figure size 640x480 with 1 Axes>"
      ]
     },
     "metadata": {},
     "output_type": "display_data"
    }
   ],
   "source": [
    "plt.pie(porcentaje, labels = labels, colors = colors, autopct='%.1f%%')\n",
    "plt.title('Porcentaje de cumplimiento de challenges en 2021')\n",
    "plt.show()"
   ]
  },
  {
   "cell_type": "code",
   "execution_count": 64,
   "metadata": {},
   "outputs": [],
   "source": [
    "porcentaje = (trim3_2021['resultado'].value_counts() / len(trim3_2021) * 100).round(1)"
   ]
  },
  {
   "cell_type": "code",
   "execution_count": 65,
   "metadata": {},
   "outputs": [
    {
     "data": {
      "text/plain": [
       "discontinuado    56.756757\n",
       "exitoso          43.243243\n",
       "Name: resultado, dtype: float64"
      ]
     },
     "execution_count": 65,
     "metadata": {},
     "output_type": "execute_result"
    }
   ],
   "source": [
    "trim3_2021['resultado'].value_counts() / len(trim3_2021) * 100"
   ]
  },
  {
   "cell_type": "code",
   "execution_count": 66,
   "metadata": {},
   "outputs": [
    {
     "data": {
      "image/png": "[encoded data removed]",
      "text/plain": [
       "<Figure size 640x480 with 1 Axes>"
      ]
     },
     "metadata": {},
     "output_type": "display_data"
    }
   ],
   "source": [
    "plt.pie(porcentaje, labels = labels, colors = colors, autopct='%.1f%%')\n",
    "plt.title('Porcentaje de cumplimiento de challenges en 2021')\n",
    "plt.show()"
   ]
  },
  {
   "cell_type": "code",
   "execution_count": 67,
   "metadata": {},
   "outputs": [
    {
     "data": {
      "text/html": [
       "<div>\n",
       "<style scoped>\n",
       "    .dataframe tbody tr th:only-of-type {\n",
       "        vertical-align: middle;\n",
       "    }\n",
       "\n",
       "    .dataframe tbody tr th {\n",
       "        vertical-align: top;\n",
       "    }\n",
       "\n",
       "    .dataframe thead th {\n",
       "        text-align: right;\n",
       "    }\n",
       "</style>\n",
       "<table border=\"1\" class=\"dataframe\">\n",
       "  <thead>\n",
       "    <tr style=\"text-align: right;\">\n",
       "      <th></th>\n",
       "      <th>id_challenge</th>\n",
       "      <th>tipo_de_challenge</th>\n",
       "      <th>resultado</th>\n",
       "      <th>fecha_inicio</th>\n",
       "      <th>fecha_fin</th>\n",
       "      <th>pais_destinatario</th>\n",
       "    </tr>\n",
       "  </thead>\n",
       "  <tbody>\n",
       "    <tr>\n",
       "      <th>156</th>\n",
       "      <td>2021-241</td>\n",
       "      <td>Donacion</td>\n",
       "      <td>exitoso</td>\n",
       "      <td>2021-07-01 10:30:00</td>\n",
       "      <td>NaT</td>\n",
       "      <td>MALTA</td>\n",
       "    </tr>\n",
       "    <tr>\n",
       "      <th>157</th>\n",
       "      <td>2021-240</td>\n",
       "      <td>Donacion</td>\n",
       "      <td>discontinuado</td>\n",
       "      <td>2021-07-01 10:30:00</td>\n",
       "      <td>2021-07-12 10:30:00</td>\n",
       "      <td>FRANCE</td>\n",
       "    </tr>\n",
       "    <tr>\n",
       "      <th>158</th>\n",
       "      <td>2021-243</td>\n",
       "      <td>Presencial</td>\n",
       "      <td>discontinuado</td>\n",
       "      <td>2021-07-01 10:30:00</td>\n",
       "      <td>2021-07-23 10:30:00</td>\n",
       "      <td>BELARUS</td>\n",
       "    </tr>\n",
       "    <tr>\n",
       "      <th>159</th>\n",
       "      <td>2021-245</td>\n",
       "      <td>Donacion</td>\n",
       "      <td>discontinuado</td>\n",
       "      <td>2021-07-01 10:30:00</td>\n",
       "      <td>2021-07-12 10:30:00</td>\n",
       "      <td>SWEDEN</td>\n",
       "    </tr>\n",
       "    <tr>\n",
       "      <th>160</th>\n",
       "      <td>2021-244</td>\n",
       "      <td>Donacion</td>\n",
       "      <td>discontinuado</td>\n",
       "      <td>2021-07-01 10:30:00</td>\n",
       "      <td>2021-07-22 10:30:00</td>\n",
       "      <td>AUSTRALIA</td>\n",
       "    </tr>\n",
       "    <tr>\n",
       "      <th>...</th>\n",
       "      <td>...</td>\n",
       "      <td>...</td>\n",
       "      <td>...</td>\n",
       "      <td>...</td>\n",
       "      <td>...</td>\n",
       "      <td>...</td>\n",
       "    </tr>\n",
       "    <tr>\n",
       "      <th>262</th>\n",
       "      <td>2021-346</td>\n",
       "      <td>Simulacro</td>\n",
       "      <td>discontinuado</td>\n",
       "      <td>2021-09-23 10:30:00</td>\n",
       "      <td>2021-10-15 10:30:00</td>\n",
       "      <td>GERMANY</td>\n",
       "    </tr>\n",
       "    <tr>\n",
       "      <th>263</th>\n",
       "      <td>2021-347</td>\n",
       "      <td>Donacion</td>\n",
       "      <td>discontinuado</td>\n",
       "      <td>2021-09-24 10:30:00</td>\n",
       "      <td>2021-10-16 10:30:00</td>\n",
       "      <td>GERMANY</td>\n",
       "    </tr>\n",
       "    <tr>\n",
       "      <th>264</th>\n",
       "      <td>2021-348</td>\n",
       "      <td>Presencial</td>\n",
       "      <td>discontinuado</td>\n",
       "      <td>2021-09-26 10:30:00</td>\n",
       "      <td>2021-10-18 10:30:00</td>\n",
       "      <td>MACAO</td>\n",
       "    </tr>\n",
       "    <tr>\n",
       "      <th>265</th>\n",
       "      <td>2021-349</td>\n",
       "      <td>Donacion</td>\n",
       "      <td>discontinuado</td>\n",
       "      <td>2021-09-27 10:30:00</td>\n",
       "      <td>2021-10-19 10:30:00</td>\n",
       "      <td>NEPAL</td>\n",
       "    </tr>\n",
       "    <tr>\n",
       "      <th>266</th>\n",
       "      <td>2021-350</td>\n",
       "      <td>Donacion</td>\n",
       "      <td>exitoso</td>\n",
       "      <td>2021-09-28 10:30:00</td>\n",
       "      <td>NaT</td>\n",
       "      <td>COLOMBIA</td>\n",
       "    </tr>\n",
       "  </tbody>\n",
       "</table>\n",
       "<p>111 rows × 6 columns</p>\n",
       "</div>"
      ],
      "text/plain": [
       "    id_challenge tipo_de_challenge      resultado        fecha_inicio  \\\n",
       "156     2021-241          Donacion        exitoso 2021-07-01 10:30:00   \n",
       "157     2021-240          Donacion  discontinuado 2021-07-01 10:30:00   \n",
       "158     2021-243        Presencial  discontinuado 2021-07-01 10:30:00   \n",
       "159     2021-245          Donacion  discontinuado 2021-07-01 10:30:00   \n",
       "160     2021-244          Donacion  discontinuado 2021-07-01 10:30:00   \n",
       "..           ...               ...            ...                 ...   \n",
       "262     2021-346         Simulacro  discontinuado 2021-09-23 10:30:00   \n",
       "263     2021-347          Donacion  discontinuado 2021-09-24 10:30:00   \n",
       "264     2021-348        Presencial  discontinuado 2021-09-26 10:30:00   \n",
       "265     2021-349          Donacion  discontinuado 2021-09-27 10:30:00   \n",
       "266     2021-350          Donacion        exitoso 2021-09-28 10:30:00   \n",
       "\n",
       "              fecha_fin pais_destinatario  \n",
       "156                 NaT             MALTA  \n",
       "157 2021-07-12 10:30:00            FRANCE  \n",
       "158 2021-07-23 10:30:00           BELARUS  \n",
       "159 2021-07-12 10:30:00            SWEDEN  \n",
       "160 2021-07-22 10:30:00         AUSTRALIA  \n",
       "..                  ...               ...  \n",
       "262 2021-10-15 10:30:00           GERMANY  \n",
       "263 2021-10-16 10:30:00           GERMANY  \n",
       "264 2021-10-18 10:30:00             MACAO  \n",
       "265 2021-10-19 10:30:00             NEPAL  \n",
       "266                 NaT          COLOMBIA  \n",
       "\n",
       "[111 rows x 6 columns]"
      ]
     },
     "execution_count": 67,
     "metadata": {},
     "output_type": "execute_result"
    }
   ],
   "source": [
    "trim3_2021"
   ]
  },
  {
   "cell_type": "code",
   "execution_count": null,
   "metadata": {},
   "outputs": [],
   "source": []
  },
  {
   "cell_type": "code",
   "execution_count": 68,
   "metadata": {},
   "outputs": [],
   "source": [
    "porcentaje = (cuarto_t2021['resultado'].value_counts() / len(cuarto_t2021) * 100).round(1)"
   ]
  },
  {
   "cell_type": "code",
   "execution_count": 69,
   "metadata": {},
   "outputs": [
    {
     "data": {
      "image/png": "[encoded data removed]",
      "text/plain": [
       "<Figure size 640x480 with 1 Axes>"
      ]
     },
     "metadata": {},
     "output_type": "display_data"
    }
   ],
   "source": [
    "plt.pie(porcentaje, labels = labels, colors = colors, autopct='%.1f%%')\n",
    "plt.title('Porcentaje de cumplimiento de challenges en 2021')\n",
    "plt.show()"
   ]
  },
  {
   "cell_type": "markdown",
   "metadata": {},
   "source": [
    "# KPI: Cantidad de países en los que operó la ONG (Año 2021)"
   ]
  },
  {
   "cell_type": "code",
   "execution_count": 70,
   "metadata": {},
   "outputs": [
    {
     "data": {
      "text/plain": [
       "<Axes: ylabel='suma_pais_destinatario'>"
      ]
     },
     "execution_count": 70,
     "metadata": {},
     "output_type": "execute_result"
    },
    {
     "data": {
      "image/png": "[encoded data removed]",
      "text/plain": [
       "<Figure size 640x480 with 1 Axes>"
      ]
     },
     "metadata": {},
     "output_type": "display_data"
    }
   ],
   "source": [
    "suma_paises_destinatarios = len(resultados2021['pais_destinatario'].unique())\n",
    "df_suma = pd.DataFrame({'suma_pais_destinatario': [suma_paises_destinatarios]})\n",
    "sns.barplot(data=df_suma, x=df_suma.index, y='suma_pais_destinatario', width = 0.12)"
   ]
  },
  {
   "cell_type": "code",
   "execution_count": 71,
   "metadata": {},
   "outputs": [
    {
     "data": {
      "text/html": [
       "<div>\n",
       "<style scoped>\n",
       "    .dataframe tbody tr th:only-of-type {\n",
       "        vertical-align: middle;\n",
       "    }\n",
       "\n",
       "    .dataframe tbody tr th {\n",
       "        vertical-align: top;\n",
       "    }\n",
       "\n",
       "    .dataframe thead th {\n",
       "        text-align: right;\n",
       "    }\n",
       "</style>\n",
       "<table border=\"1\" class=\"dataframe\">\n",
       "  <thead>\n",
       "    <tr style=\"text-align: right;\">\n",
       "      <th></th>\n",
       "      <th>suma_pais_destinatario</th>\n",
       "    </tr>\n",
       "  </thead>\n",
       "  <tbody>\n",
       "    <tr>\n",
       "      <th>0</th>\n",
       "      <td>50</td>\n",
       "    </tr>\n",
       "  </tbody>\n",
       "</table>\n",
       "</div>"
      ],
      "text/plain": [
       "   suma_pais_destinatario\n",
       "0                      50"
      ]
     },
     "execution_count": 71,
     "metadata": {},
     "output_type": "execute_result"
    }
   ],
   "source": [
    "df_suma"
   ]
  },
  {
   "cell_type": "markdown",
   "metadata": {},
   "source": [
    "## KPI:  Promedio de Países A los que ayudamos por trimestre "
   ]
  },
  {
   "cell_type": "code",
   "execution_count": 72,
   "metadata": {},
   "outputs": [
    {
     "data": {
      "image/png": "[encoded data removed]",
      "text/plain": [
       "<Figure size 640x480 with 1 Axes>"
      ]
     },
     "metadata": {},
     "output_type": "display_data"
    }
   ],
   "source": [
    "# Creamos una columna de trimestres\n",
    "resultados2021['trimestre'] = pd.PeriodIndex(resultados2021['fecha_inicio'], freq='Q')\n",
    "\n",
    "# Agrupamos por trimestre y contamos valores únicos de países\n",
    "counts = resultados2021.groupby('trimestre')['pais_destinatario'].nunique()\n",
    "\n",
    "# Reseteamos el índice y renombrar la columna de conteos\n",
    "counts = counts.reset_index(name='conteo')\n",
    "# Promediamoslos primeros cuatro valores de 'conteo'\n",
    "promedio = counts.iloc[:4, 1].mean() \n",
    "counts.loc[len(counts)] = ['Promedio Trimestral', promedio]\n",
    "\n",
    "# Hacemos el gráfico de barras con Seaborn\n",
    "sns.barplot(x='trimestre', y='conteo', data=counts)\n",
    "\n",
    "plt.title('Cantidad de países beneficiados por trimestre en 2021')\n",
    "plt.show()\n"
   ]
  },
  {
   "cell_type": "code",
   "execution_count": 73,
   "metadata": {},
   "outputs": [
    {
     "data": {
      "text/plain": [
       "31.0"
      ]
     },
     "execution_count": 73,
     "metadata": {},
     "output_type": "execute_result"
    }
   ],
   "source": [
    "counts.conteo.min()    # Trimestre con menor cantidad de países a los que asistimos. Trimestre 1"
   ]
  },
  {
   "cell_type": "code",
   "execution_count": 74,
   "metadata": {},
   "outputs": [
    {
     "data": {
      "text/plain": [
       "46.0"
      ]
     },
     "execution_count": 74,
     "metadata": {},
     "output_type": "execute_result"
    }
   ],
   "source": [
    "counts.conteo.max()  # Trimestre con mayor cantidad de países a los que asistimos. Trimestre 3"
   ]
  },
  {
   "cell_type": "code",
   "execution_count": 75,
   "metadata": {},
   "outputs": [
    {
     "data": {
      "text/plain": [
       "40.0"
      ]
     },
     "execution_count": 75,
     "metadata": {},
     "output_type": "execute_result"
    }
   ],
   "source": [
    "promedio"
   ]
  },
  {
   "cell_type": "markdown",
   "metadata": {},
   "source": [
    "# KPI: ONGs que colaboran con la ONG clienta "
   ]
  },
  {
   "cell_type": "code",
   "execution_count": 76,
   "metadata": {},
   "outputs": [
    {
     "data": {
      "text/html": [
       "<div>\n",
       "<style scoped>\n",
       "    .dataframe tbody tr th:only-of-type {\n",
       "        vertical-align: middle;\n",
       "    }\n",
       "\n",
       "    .dataframe tbody tr th {\n",
       "        vertical-align: top;\n",
       "    }\n",
       "\n",
       "    .dataframe thead th {\n",
       "        text-align: right;\n",
       "    }\n",
       "</style>\n",
       "<table border=\"1\" class=\"dataframe\">\n",
       "  <thead>\n",
       "    <tr style=\"text-align: right;\">\n",
       "      <th></th>\n",
       "      <th>ongs_colab</th>\n",
       "    </tr>\n",
       "  </thead>\n",
       "  <tbody>\n",
       "    <tr>\n",
       "      <th>0</th>\n",
       "      <td>Geração Solidária</td>\n",
       "    </tr>\n",
       "    <tr>\n",
       "      <th>1</th>\n",
       "      <td>Yuwa Foundation</td>\n",
       "    </tr>\n",
       "    <tr>\n",
       "      <th>2</th>\n",
       "      <td>Esperanza para Todos</td>\n",
       "    </tr>\n",
       "    <tr>\n",
       "      <th>3</th>\n",
       "      <td>Hope for All</td>\n",
       "    </tr>\n",
       "    <tr>\n",
       "      <th>4</th>\n",
       "      <td>Ação Voluntária</td>\n",
       "    </tr>\n",
       "  </tbody>\n",
       "</table>\n",
       "</div>"
      ],
      "text/plain": [
       "             ongs_colab\n",
       "0     Geração Solidária\n",
       "1       Yuwa Foundation\n",
       "2  Esperanza para Todos\n",
       "3          Hope for All\n",
       "4       Ação Voluntária"
      ]
     },
     "execution_count": 76,
     "metadata": {},
     "output_type": "execute_result"
    }
   ],
   "source": [
    "ong_colab = pd.read_csv('dataSets\\\\ongs_colab_ultimo.csv')\n",
    "ong_colab.head()"
   ]
  },
  {
   "cell_type": "code",
   "execution_count": 77,
   "metadata": {
    "scrolled": true
   },
   "outputs": [
    {
     "data": {
      "text/plain": [
       "<Axes: ylabel='suma_ongs'>"
      ]
     },
     "execution_count": 77,
     "metadata": {},
     "output_type": "execute_result"
    },
    {
     "data": {
      "image/png": "[encoded data removed]",
      "text/plain": [
       "<Figure size 640x480 with 1 Axes>"
      ]
     },
     "metadata": {},
     "output_type": "display_data"
    }
   ],
   "source": [
    "suma_ongs = len(ong_colab['ongs_colab'].unique())\n",
    "df_suma = pd.DataFrame({'suma_ongs': [suma_ongs]})\n",
    "sns.barplot(data=df_suma, x=df_suma.index, y='suma_ongs', width = 0.12)"
   ]
  },
  {
   "cell_type": "code",
   "execution_count": 78,
   "metadata": {},
   "outputs": [
    {
     "data": {
      "text/plain": [
       "17"
      ]
     },
     "execution_count": 78,
     "metadata": {},
     "output_type": "execute_result"
    }
   ],
   "source": [
    "len(ong_colab.ongs_colab.unique())"
   ]
  },
  {
   "cell_type": "code",
   "execution_count": 79,
   "metadata": {},
   "outputs": [
    {
     "data": {
      "text/plain": [
       "ongs_colab               \n",
       "Horizontes Abiertos          4\n",
       "Ação Voluntária              3\n",
       "Esperanza para Todos         3\n",
       "Acción Humanitaria           3\n",
       "Hope for All                 2\n",
       "Aiuto per il Futuro          2\n",
       "Oikonomikí Drási             2\n",
       "Yuwa Foundation              2\n",
       "Cambio Positivo              1\n",
       "Ayuda Comunitaria            1\n",
       "Geração Solidária            1\n",
       "KinderAid                    1\n",
       "Migrant Hope Foundation      1\n",
       "Nuevo horizonte              1\n",
       "Solidaridad Internacional    1\n",
       "Sostegno Vita                1\n",
       "The Bamboo Project           1\n",
       "dtype: int64"
      ]
     },
     "execution_count": 79,
     "metadata": {},
     "output_type": "execute_result"
    }
   ],
   "source": [
    "ong_colab.value_counts()"
   ]
  },
  {
   "cell_type": "code",
   "execution_count": 80,
   "metadata": {},
   "outputs": [
    {
     "data": {
      "text/plain": [
       "17"
      ]
     },
     "execution_count": 80,
     "metadata": {},
     "output_type": "execute_result"
    }
   ],
   "source": [
    "ong_colab.drop_duplicates().value_counts().sum()"
   ]
  }
 ],
 "metadata": {
  "kernelspec": {
   "display_name": "Python 3 (ipykernel)",
   "language": "python",
   "name": "python3"
  },
  "language_info": {
   "codemirror_mode": {
    "name": "ipython",
    "version": 3
   },
   "file_extension": ".py",
   "mimetype": "text/x-python",
   "name": "python",
   "nbconvert_exporter": "python",
   "pygments_lexer": "ipython3",
   "version": "3.9.15"
  },
  "vscode": {
   "interpreter": {
    "hash": "17c9ef97fbdc07c71cb342161fdcbff14516699b42eb670357c21cf06912fcbd"
   }
  }
 },
 "nbformat": 4,
 "nbformat_minor": 2
}
